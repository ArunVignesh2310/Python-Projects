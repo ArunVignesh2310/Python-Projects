{
 "cells": [
  {
   "cell_type": "code",
   "execution_count": 4,
   "metadata": {},
   "outputs": [],
   "source": [
    "#SparkSession is the main entry point for DataFrame and SQL functionality.\n",
    "from pyspark.sql import SparkSession"
   ]
  },
  {
   "cell_type": "code",
   "execution_count": 6,
   "metadata": {},
   "outputs": [],
   "source": [
    "#DataFrame is a distributed collection of data organized into named columns.\n",
    "from pyspark.sql import DataFrame"
   ]
  },
  {
   "cell_type": "code",
   "execution_count": 8,
   "metadata": {},
   "outputs": [],
   "source": [
    "from pyspark.sql import Column\n",
    "from pyspark.sql import Row"
   ]
  },
  {
   "cell_type": "code",
   "execution_count": 9,
   "metadata": {},
   "outputs": [],
   "source": [
    "from pyspark.sql import GroupedData"
   ]
  },
  {
   "cell_type": "code",
   "execution_count": 10,
   "metadata": {},
   "outputs": [],
   "source": [
    "from pyspark.sql import DataFrameNaFunctions"
   ]
  },
  {
   "cell_type": "code",
   "execution_count": 11,
   "metadata": {},
   "outputs": [],
   "source": [
    "from pyspark.sql import DataFrameStatFunctions"
   ]
  },
  {
   "cell_type": "code",
   "execution_count": 12,
   "metadata": {},
   "outputs": [],
   "source": [
    "from pyspark.sql import functions"
   ]
  },
  {
   "cell_type": "code",
   "execution_count": 13,
   "metadata": {},
   "outputs": [],
   "source": [
    "from pyspark.sql import types"
   ]
  },
  {
   "cell_type": "code",
   "execution_count": 14,
   "metadata": {},
   "outputs": [],
   "source": [
    "from pyspark.sql import Window"
   ]
  },
  {
   "cell_type": "code",
   "execution_count": 53,
   "metadata": {},
   "outputs": [],
   "source": [
    "spark = SparkSession.builder.appName(\"Saprk SQL practice\").getOrCreate()"
   ]
  },
  {
   "cell_type": "code",
   "execution_count": 52,
   "metadata": {},
   "outputs": [],
   "source": [
    "spark_sql.stop()"
   ]
  },
  {
   "cell_type": "code",
   "execution_count": 54,
   "metadata": {},
   "outputs": [
    {
     "data": {
      "text/html": [
       "\n",
       "            <div>\n",
       "                <p><b>SparkSession - in-memory</b></p>\n",
       "                \n",
       "        <div>\n",
       "            <p><b>SparkContext</b></p>\n",
       "\n",
       "            <p><a href=\"http://LTIN363809.cts.com:4040\">Spark UI</a></p>\n",
       "\n",
       "            <dl>\n",
       "              <dt>Version</dt>\n",
       "                <dd><code>v3.2.0</code></dd>\n",
       "              <dt>Master</dt>\n",
       "                <dd><code>local[*]</code></dd>\n",
       "              <dt>AppName</dt>\n",
       "                <dd><code>Saprk SQL practice</code></dd>\n",
       "            </dl>\n",
       "        </div>\n",
       "        \n",
       "            </div>\n",
       "        "
      ],
      "text/plain": [
       "<pyspark.sql.session.SparkSession at 0x1faa2c13610>"
      ]
     },
     "execution_count": 54,
     "metadata": {},
     "output_type": "execute_result"
    }
   ],
   "source": [
    "spark"
   ]
  },
  {
   "cell_type": "code",
   "execution_count": 55,
   "metadata": {},
   "outputs": [],
   "source": [
    "from pyspark.sql.types import StructType, StructField, IntegerType, StringType, DateType"
   ]
  },
  {
   "cell_type": "code",
   "execution_count": 56,
   "metadata": {},
   "outputs": [],
   "source": [
    "schema = StructType().add(\"circuitId\",IntegerType(), True)\\\n",
    "        .add(\"circuitRef\",StringType(), True)\\\n",
    "        .add(\"name\",StringType(), True)\\\n",
    "        .add(\"location\",StringType(), True)\\\n",
    "        .add(\"country\",StringType(), True)\\\n",
    "        .add(\"lat\",IntegerType(), True)\\\n",
    "        .add(\"lng\",IntegerType(), True)\\\n",
    "        .add(\"alt\",IntegerType(), True)\\\n",
    "        .add(\"url\",StringType(), True)\\\n",
    "        .add(\"date\",DateType(), True)"
   ]
  },
  {
   "cell_type": "code",
   "execution_count": 74,
   "metadata": {},
   "outputs": [],
   "source": [
    "df = spark.read.option(\"header\", True).schema(schema).csv(r\"C:\\Users\\2079342\\Downloads\\circuits.csv\")\n",
    "ssql = spark.read.option(\"header\", True).schema(schema).csv(r\"C:\\Users\\2079342\\Downloads\\circuits.csv\").createOrReplaceTempView(\"circuits\")"
   ]
  },
  {
   "cell_type": "code",
   "execution_count": 77,
   "metadata": {},
   "outputs": [
    {
     "name": "stdout",
     "output_type": "stream",
     "text": [
      "+---------+--------------+--------------------+------------+---------+----+----+---+--------------------+----------+\n",
      "|circuitId|    circuitRef|                name|    location|  country| lat| lng|alt|                 url|      date|\n",
      "+---------+--------------+--------------------+------------+---------+----+----+---+--------------------+----------+\n",
      "|        1|   albert_park|Albert Park Grand...|   Melbourne|Australia|null|null| 10|http://en.wikiped...|2024-01-01|\n",
      "|        2|        sepang|Sepang Internatio...|Kuala Lumpur| Malaysia|null|null| 18|http://en.wikiped...|2024-01-02|\n",
      "|        3|       bahrain|Bahrain Internati...|      Sakhir|  Bahrain|null|null|  7|http://en.wikiped...|2024-01-03|\n",
      "|        4|     catalunya|Circuit de Barcel...|    Montmeló|    Spain|null|null|109|http://en.wikiped...|2024-01-04|\n",
      "|        5|      istanbul|       Istanbul Park|    Istanbul|   Turkey|null|null|130|http://en.wikiped...|2024-01-05|\n",
      "|        6|        monaco|   Circuit de Monaco| Monte-Carlo|   Monaco|null|null|  7|http://en.wikiped...|2024-01-06|\n",
      "|        7|    villeneuve|Circuit Gilles Vi...|    Montreal|   Canada|null|null| 13|http://en.wikiped...|2024-01-07|\n",
      "|        8|   magny_cours|Circuit de Nevers...| Magny Cours|   France|null|null|228|http://en.wikiped...|2024-01-08|\n",
      "|        9|   silverstone| Silverstone Circuit| Silverstone|       UK|null|null|153|http://en.wikiped...|2024-01-09|\n",
      "|       10|hockenheimring|      Hockenheimring|  Hockenheim|  Germany|null|null|103|http://en.wikiped...|2024-01-10|\n",
      "|       11|   hungaroring|         Hungaroring|    Budapest|  Hungary|null|null|264|http://en.wikiped...|2024-01-11|\n",
      "|       12|      valencia|Valencia Street C...|    Valencia|    Spain|null|null|  4|http://en.wikiped...|2024-01-12|\n",
      "|       13|           spa|Circuit de Spa-Fr...|         Spa|  Belgium|null|null|401|http://en.wikiped...|2024-01-13|\n",
      "|       14|         monza|Autodromo Naziona...|       Monza|    Italy|null|null|162|http://en.wikiped...|2024-01-14|\n",
      "|       15|    marina_bay|Marina Bay Street...|  Marina Bay|Singapore|null|null| 18|http://en.wikiped...|2024-01-15|\n",
      "|       16|          fuji|       Fuji Speedway|       Oyama|    Japan|null|null|583|http://en.wikiped...|2024-01-16|\n",
      "|       17|      shanghai|Shanghai Internat...|    Shanghai|    China|null|null|  5|http://en.wikiped...|2024-01-17|\n",
      "|       18|    interlagos|Autódromo José Ca...|   São Paulo|   Brazil|null|null|785|http://en.wikiped...|2024-01-18|\n",
      "|       19|  indianapolis|Indianapolis Moto...|Indianapolis|      USA|null|null|223|http://en.wikiped...|2024-01-19|\n",
      "|       20|   nurburgring|         Nürburgring|     Nürburg|  Germany|null|null|578|http://en.wikiped...|2024-01-20|\n",
      "+---------+--------------+--------------------+------------+---------+----+----+---+--------------------+----------+\n",
      "only showing top 20 rows\n",
      "\n"
     ]
    }
   ],
   "source": [
    "spark.sql(\"\"\"select * from circuits\"\"\").show()"
   ]
  },
  {
   "cell_type": "code",
   "execution_count": 78,
   "metadata": {},
   "outputs": [
    {
     "name": "stdout",
     "output_type": "stream",
     "text": [
      "+---------+--------------+--------------------+------------+---------+----+----+---+--------------------+----------+\n",
      "|circuitId|    circuitRef|                name|    location|  country| lat| lng|alt|                 url|      date|\n",
      "+---------+--------------+--------------------+------------+---------+----+----+---+--------------------+----------+\n",
      "|        1|   albert_park|Albert Park Grand...|   Melbourne|Australia|null|null| 10|http://en.wikiped...|2024-01-01|\n",
      "|        2|        sepang|Sepang Internatio...|Kuala Lumpur| Malaysia|null|null| 18|http://en.wikiped...|2024-01-02|\n",
      "|        3|       bahrain|Bahrain Internati...|      Sakhir|  Bahrain|null|null|  7|http://en.wikiped...|2024-01-03|\n",
      "|        4|     catalunya|Circuit de Barcel...|    Montmeló|    Spain|null|null|109|http://en.wikiped...|2024-01-04|\n",
      "|        5|      istanbul|       Istanbul Park|    Istanbul|   Turkey|null|null|130|http://en.wikiped...|2024-01-05|\n",
      "|        6|        monaco|   Circuit de Monaco| Monte-Carlo|   Monaco|null|null|  7|http://en.wikiped...|2024-01-06|\n",
      "|        7|    villeneuve|Circuit Gilles Vi...|    Montreal|   Canada|null|null| 13|http://en.wikiped...|2024-01-07|\n",
      "|        8|   magny_cours|Circuit de Nevers...| Magny Cours|   France|null|null|228|http://en.wikiped...|2024-01-08|\n",
      "|        9|   silverstone| Silverstone Circuit| Silverstone|       UK|null|null|153|http://en.wikiped...|2024-01-09|\n",
      "|       10|hockenheimring|      Hockenheimring|  Hockenheim|  Germany|null|null|103|http://en.wikiped...|2024-01-10|\n",
      "|       11|   hungaroring|         Hungaroring|    Budapest|  Hungary|null|null|264|http://en.wikiped...|2024-01-11|\n",
      "|       12|      valencia|Valencia Street C...|    Valencia|    Spain|null|null|  4|http://en.wikiped...|2024-01-12|\n",
      "|       13|           spa|Circuit de Spa-Fr...|         Spa|  Belgium|null|null|401|http://en.wikiped...|2024-01-13|\n",
      "|       14|         monza|Autodromo Naziona...|       Monza|    Italy|null|null|162|http://en.wikiped...|2024-01-14|\n",
      "|       15|    marina_bay|Marina Bay Street...|  Marina Bay|Singapore|null|null| 18|http://en.wikiped...|2024-01-15|\n",
      "|       16|          fuji|       Fuji Speedway|       Oyama|    Japan|null|null|583|http://en.wikiped...|2024-01-16|\n",
      "|       17|      shanghai|Shanghai Internat...|    Shanghai|    China|null|null|  5|http://en.wikiped...|2024-01-17|\n",
      "|       18|    interlagos|Autódromo José Ca...|   São Paulo|   Brazil|null|null|785|http://en.wikiped...|2024-01-18|\n",
      "|       19|  indianapolis|Indianapolis Moto...|Indianapolis|      USA|null|null|223|http://en.wikiped...|2024-01-19|\n",
      "|       20|   nurburgring|         Nürburgring|     Nürburg|  Germany|null|null|578|http://en.wikiped...|2024-01-20|\n",
      "+---------+--------------+--------------------+------------+---------+----+----+---+--------------------+----------+\n",
      "only showing top 20 rows\n",
      "\n"
     ]
    }
   ],
   "source": [
    "df.show()"
   ]
  },
  {
   "cell_type": "code",
   "execution_count": 34,
   "metadata": {},
   "outputs": [],
   "source": [
    "from pyspark.sql.functions import col\n",
    "df1 = df.select(col(\"lat\").cast(\"int\"))"
   ]
  },
  {
   "cell_type": "code",
   "execution_count": 29,
   "metadata": {},
   "outputs": [
    {
     "name": "stdout",
     "output_type": "stream",
     "text": [
      "root\n",
      " |-- lat: integer (nullable = true)\n",
      "\n"
     ]
    }
   ],
   "source": [
    "df1.printSchema()"
   ]
  },
  {
   "cell_type": "code",
   "execution_count": 80,
   "metadata": {},
   "outputs": [
    {
     "name": "stdout",
     "output_type": "stream",
     "text": [
      "+---------+-------------+--------------------+--------------+-------+----+----+---+--------------------+----------+\n",
      "|circuitId|   circuitRef|                name|      location|country| lat| lng|alt|                 url|      date|\n",
      "+---------+-------------+--------------------+--------------+-------+----+----+---+--------------------+----------+\n",
      "|       19| indianapolis|Indianapolis Moto...|  Indianapolis|    USA|null|null|223|http://en.wikiped...|2024-01-19|\n",
      "|       33|      phoenix|Phoenix street ci...|       Phoenix|    USA|null|null|345|http://en.wikiped...|2024-02-02|\n",
      "|       37|      detroit|Detroit Street Ci...|       Detroit|    USA|null|null|177|http://en.wikiped...|2024-02-06|\n",
      "|       42|       dallas|           Fair Park|        Dallas|    USA|null|null|139|http://en.wikiped...|2024-02-11|\n",
      "|       43|   long_beach|          Long Beach|    California|    USA|null|null| 12|http://en.wikiped...|2024-02-12|\n",
      "|       44|    las_vegas|Las Vegas Street ...|        Nevada|    USA|null|null|639|http://en.wikiped...|2024-02-13|\n",
      "|       46| watkins_glen|        Watkins Glen|New York State|    USA|null|null|485|http://en.wikiped...|2024-02-15|\n",
      "|       60|    riverside|Riverside Interna...|    California|    USA|null|null|470|http://en.wikiped...|2024-02-29|\n",
      "|       63|      sebring|Sebring Internati...|       Florida|    USA|null|null| 18|http://en.wikiped...|2024-03-03|\n",
      "|       69|     americas|Circuit of the Am...|        Austin|    USA|null|null|161|http://en.wikiped...|2024-03-09|\n",
      "|       72|port_imperial|Port Imperial Str...|    New Jersey|    USA|null|null|  4|http://en.wikiped...|2024-03-12|\n",
      "+---------+-------------+--------------------+--------------+-------+----+----+---+--------------------+----------+\n",
      "\n"
     ]
    }
   ],
   "source": [
    "spark.sql(\"\"\"select * from circuits where country = upper('usa') \"\"\").show()"
   ]
  },
  {
   "cell_type": "code",
   "execution_count": 93,
   "metadata": {},
   "outputs": [],
   "source": [
    "from pyspark.sql.functions import upper, lower"
   ]
  },
  {
   "cell_type": "code",
   "execution_count": 109,
   "metadata": {},
   "outputs": [
    {
     "name": "stdout",
     "output_type": "stream",
     "text": [
      "+---------+------------+--------------------+------------+-------+----+----+---+--------------------+----------+\n",
      "|circuitId|  circuitRef|                name|    location|country| lat| lng|alt|                 url|      date|\n",
      "+---------+------------+--------------------+------------+-------+----+----+---+--------------------+----------+\n",
      "|       19|indianapolis|Indianapolis Moto...|Indianapolis|    USA|null|null|223|http://en.wikiped...|2024-01-19|\n",
      "+---------+------------+--------------------+------------+-------+----+----+---+--------------------+----------+\n",
      "\n"
     ]
    }
   ],
   "source": [
    "df.filter(((col(\"country\")).contains('usa'.upper())) & (col(\"alt\") == 223)).show()"
   ]
  },
  {
   "cell_type": "code",
   "execution_count": 90,
   "metadata": {},
   "outputs": [
    {
     "data": {
      "text/plain": [
       "'USA'"
      ]
     },
     "execution_count": 90,
     "metadata": {},
     "output_type": "execute_result"
    }
   ],
   "source": [
    "'usa'.upper()"
   ]
  },
  {
   "cell_type": "code",
   "execution_count": 111,
   "metadata": {},
   "outputs": [
    {
     "name": "stdout",
     "output_type": "stream",
     "text": [
      "+---------+----------+---------+--------+-------+----+----+---+--------------------+----------+\n",
      "|circuitId|circuitRef|     name|location|country| lat| lng|alt|                 url|      date|\n",
      "+---------+----------+---------+--------+-------+----+----+---+--------------------+----------+\n",
      "|       42|    dallas|Fair Park|  Dallas|    USA|null|null|139|http://en.wikiped...|2024-02-11|\n",
      "+---------+----------+---------+--------+-------+----+----+---+--------------------+----------+\n",
      "\n"
     ]
    }
   ],
   "source": [
    "spark.sql(\"\"\"select * from circuits where location = 'Dallas' \"\"\").show()"
   ]
  },
  {
   "cell_type": "code",
   "execution_count": 116,
   "metadata": {},
   "outputs": [
    {
     "name": "stdout",
     "output_type": "stream",
     "text": [
      "+---------+-------------+--------------------+--------------------+-------+----+----+---+--------------------+----------+\n",
      "|circuitId|   circuitRef|                name|            location|country| lat| lng|alt|                 url|      date|\n",
      "+---------+-------------+--------------------+--------------------+-------+----+----+---+--------------------+----------+\n",
      "|       44|    las_vegas|Las Vegas Street ...|              Nevada|    USA|null|null|639|http://en.wikiped...|2024-02-13|\n",
      "|       45|       jarama|              Jarama|              Madrid|  Spain|null|null|609|http://en.wikiped...|2024-02-14|\n",
      "|       46| watkins_glen|        Watkins Glen|      New York State|    USA|null|null|485|http://en.wikiped...|2024-02-15|\n",
      "|       60|    riverside|Riverside Interna...|          California|    USA|null|null|470|http://en.wikiped...|2024-02-29|\n",
      "|       33|      phoenix|Phoenix street ci...|             Phoenix|    USA|null|null|345|http://en.wikiped...|2024-02-02|\n",
      "|       19| indianapolis|Indianapolis Moto...|        Indianapolis|    USA|null|null|223|http://en.wikiped...|2024-01-19|\n",
      "|       37|      detroit|Detroit Street Ci...|             Detroit|    USA|null|null|177|http://en.wikiped...|2024-02-06|\n",
      "|       69|     americas|Circuit of the Am...|              Austin|    USA|null|null|161|http://en.wikiped...|2024-03-09|\n",
      "|       42|       dallas|           Fair Park|              Dallas|    USA|null|null|139|http://en.wikiped...|2024-02-11|\n",
      "|        5|     istanbul|       Istanbul Park|            Istanbul| Turkey|null|null|130|http://en.wikiped...|2024-01-05|\n",
      "|        4|    catalunya|Circuit de Barcel...|            Montmeló|  Spain|null|null|109|http://en.wikiped...|2024-01-04|\n",
      "|       67|    pedralbes|Circuit de Pedralbes|           Barcelona|  Spain|null|null| 85|http://en.wikiped...|2024-03-07|\n",
      "|       49|     montjuic|            Montjuïc|           Barcelona|  Spain|null|null| 79|http://en.wikiped...|2024-02-18|\n",
      "|       26|        jerez|   Circuito de Jerez|Jerez de la Frontera|  Spain|null|null| 37|http://en.wikiped...|2024-01-26|\n",
      "|       63|      sebring|Sebring Internati...|             Florida|    USA|null|null| 18|http://en.wikiped...|2024-03-03|\n",
      "|       43|   long_beach|          Long Beach|          California|    USA|null|null| 12|http://en.wikiped...|2024-02-12|\n",
      "|       12|     valencia|Valencia Street C...|            Valencia|  Spain|null|null|  4|http://en.wikiped...|2024-01-12|\n",
      "|       72|port_imperial|Port Imperial Str...|          New Jersey|    USA|null|null|  4|http://en.wikiped...|2024-03-12|\n",
      "+---------+-------------+--------------------+--------------------+-------+----+----+---+--------------------+----------+\n",
      "\n"
     ]
    }
   ],
   "source": [
    "spark.sql(\"\"\"select * from circuits where country in ('USA', 'Spain', 'Turkey') order by alt desc \"\"\").show()"
   ]
  },
  {
   "cell_type": "code",
   "execution_count": 125,
   "metadata": {},
   "outputs": [
    {
     "name": "stdout",
     "output_type": "stream",
     "text": [
      "+------------+--------+\n",
      "|     country|count(1)|\n",
      "+------------+--------+\n",
      "|      Russia|       1|\n",
      "|      Sweden|       1|\n",
      "|    Malaysia|       1|\n",
      "|   Singapore|       1|\n",
      "|      Turkey|       1|\n",
      "|     Germany|       3|\n",
      "|      France|       7|\n",
      "|   Argentina|       1|\n",
      "|     Belgium|       3|\n",
      "|       China|       1|\n",
      "|       India|       1|\n",
      "|       Italy|       4|\n",
      "|       Spain|       6|\n",
      "|      Monaco|       1|\n",
      "|     Morocco|       1|\n",
      "|         USA|      11|\n",
      "|      Mexico|       1|\n",
      "|  Azerbaijan|       1|\n",
      "|          UK|       4|\n",
      "|Saudi Arabia|       1|\n",
      "+------------+--------+\n",
      "only showing top 20 rows\n",
      "\n"
     ]
    }
   ],
   "source": [
    "spark.sql(\"\"\"select country, count(*) from circuits group by country \"\"\").show()"
   ]
  },
  {
   "cell_type": "code",
   "execution_count": 124,
   "metadata": {},
   "outputs": [
    {
     "name": "stdout",
     "output_type": "stream",
     "text": [
      "+------------+-----+\n",
      "|     country|count|\n",
      "+------------+-----+\n",
      "|      Russia|    1|\n",
      "|      Sweden|    1|\n",
      "|    Malaysia|    1|\n",
      "|   Singapore|    1|\n",
      "|      Turkey|    1|\n",
      "|     Germany|    3|\n",
      "|      France|    7|\n",
      "|   Argentina|    1|\n",
      "|     Belgium|    3|\n",
      "|       China|    1|\n",
      "|       India|    1|\n",
      "|       Italy|    4|\n",
      "|       Spain|    6|\n",
      "|      Monaco|    1|\n",
      "|     Morocco|    1|\n",
      "|         USA|   11|\n",
      "|      Mexico|    1|\n",
      "|  Azerbaijan|    1|\n",
      "|          UK|    4|\n",
      "|Saudi Arabia|    1|\n",
      "+------------+-----+\n",
      "only showing top 20 rows\n",
      "\n"
     ]
    }
   ],
   "source": [
    "df.groupBy(\"country\").count().show()"
   ]
  },
  {
   "cell_type": "code",
   "execution_count": 318,
   "metadata": {},
   "outputs": [],
   "source": [
    "df2 = spark.read.csv(r\"C:\\Users\\2079342\\Downloads\\Holiday_List.csv\", header=True)\n",
    "ssql2 = df.createOrReplaceTempView(\"holidays\")"
   ]
  },
  {
   "cell_type": "code",
   "execution_count": 127,
   "metadata": {},
   "outputs": [
    {
     "name": "stdout",
     "output_type": "stream",
     "text": [
      "+----------------+--------------------+---------+--------------------+-----------+------------+---------+\n",
      "|             _c0|                 _c1|      _c2|                 _c3|        _c4|         _c5|      _c6|\n",
      "+----------------+--------------------+---------+--------------------+-----------+------------+---------+\n",
      "|HOLIDAY_SCHEDULE|HOLIDAY_SCHEDULE_...|  HOLIDAY|               DESCR|HOLIDAY_HRS|HOLIDAY_TYPE|  country|\n",
      "|           HESP1|Cognizant Spain -...|01-Jan-23|      New Year's Day|          8|         NAT|Australia|\n",
      "|           HESP1|Cognizant Spain -...|06-Jan-23|            Epiphany|          8|         NAT| Malaysia|\n",
      "|           HESP1|Cognizant Spain -...|20-Mar-23|            San Jose|          8|         REG|  Bahrain|\n",
      "|           HESP1|Cognizant Spain -...|06-Apr-23|     Maundy Thursday|          8|         REG|    Spain|\n",
      "|           HESP1|Cognizant Spain -...|07-Apr-23|         Good Friday|          8|         NAT|   Turkey|\n",
      "|           HESP1|Cognizant Spain -...|01-May-23|          Labour Day|          8|         REG|   Monaco|\n",
      "|           HESP1|Cognizant Spain -...|02-May-23|Madrid Regional H...|          8|         REG|   Canada|\n",
      "|           HESP1|Cognizant Spain -...|15-May-23|          San Isidro|          8|         REG|   France|\n",
      "|           HESP1|Cognizant Spain -...|15-Aug-23|  Assumption of Mary|          8|         NAT|       UK|\n",
      "|           HESP1|Cognizant Spain -...|12-Oct-23|        Hispanic Day|          8|         NAT|  Germany|\n",
      "|           HESP1|Cognizant Spain -...|01-Nov-23|     All Saints' Day|          8|         NAT|  Hungary|\n",
      "|           HESP1|Cognizant Spain -...|09-Nov-23|  Virgin of Almudena|          8|         REG|    Spain|\n",
      "|           HESP1|Cognizant Spain -...|06-Dec-23|Spanish Constitut...|          8|         NAT|  Belgium|\n",
      "|           HESP1|Cognizant Spain -...|08-Dec-23|Immaculate Concep...|          8|         NAT|    Italy|\n",
      "|           HESP1|Cognizant Spain -...|25-Dec-23|           Christmas|          8|         REG|Singapore|\n",
      "|           HESP2|Cognizant Spain -...|01-Jan-23|      New Year's Day|          8|         NAT|    Japan|\n",
      "|           HESP2|Cognizant Spain -...|06-Jan-23|            Epiphany|          8|         NAT|    China|\n",
      "|           HESP2|Cognizant Spain -...|06-Apr-23|         Good Friday|          8|         REG|   Brazil|\n",
      "|           HESP2|Cognizant Spain -...|01-May-23|          Labour Day|          8|         REG|      USA|\n",
      "+----------------+--------------------+---------+--------------------+-----------+------------+---------+\n",
      "only showing top 20 rows\n",
      "\n"
     ]
    }
   ],
   "source": [
    "df2.show()"
   ]
  },
  {
   "cell_type": "code",
   "execution_count": 134,
   "metadata": {},
   "outputs": [
    {
     "name": "stdout",
     "output_type": "stream",
     "text": [
      "+---------+-----------+--------------------+------------+---------+----+----+---+--------------------+----------+---------+-----------+--------------------+--------------------+---------+----+----+---+--------------------+----------+\n",
      "|circuitId| circuitRef|                name|    location|  country| lat| lng|alt|                 url|      date|circuitId| circuitRef|                name|            location|  country| lat| lng|alt|                 url|      date|\n",
      "+---------+-----------+--------------------+------------+---------+----+----+---+--------------------+----------+---------+-----------+--------------------+--------------------+---------+----+----+---+--------------------+----------+\n",
      "|        1|albert_park|Albert Park Grand...|   Melbourne|Australia|null|null| 10|http://en.wikiped...|2024-01-01|       29|   adelaide|Adelaide Street C...|            Adelaide|Australia|null|null| 58|http://en.wikiped...|2024-01-29|\n",
      "|        1|albert_park|Albert Park Grand...|   Melbourne|Australia|null|null| 10|http://en.wikiped...|2024-01-01|        1|albert_park|Albert Park Grand...|           Melbourne|Australia|null|null| 10|http://en.wikiped...|2024-01-01|\n",
      "|        2|     sepang|Sepang Internatio...|Kuala Lumpur| Malaysia|null|null| 18|http://en.wikiped...|2024-01-02|        2|     sepang|Sepang Internatio...|        Kuala Lumpur| Malaysia|null|null| 18|http://en.wikiped...|2024-01-02|\n",
      "|        3|    bahrain|Bahrain Internati...|      Sakhir|  Bahrain|null|null|  7|http://en.wikiped...|2024-01-03|        3|    bahrain|Bahrain Internati...|              Sakhir|  Bahrain|null|null|  7|http://en.wikiped...|2024-01-03|\n",
      "|        4|  catalunya|Circuit de Barcel...|    Montmeló|    Spain|null|null|109|http://en.wikiped...|2024-01-04|       67|  pedralbes|Circuit de Pedralbes|           Barcelona|    Spain|null|null| 85|http://en.wikiped...|2024-03-07|\n",
      "|        4|  catalunya|Circuit de Barcel...|    Montmeló|    Spain|null|null|109|http://en.wikiped...|2024-01-04|       49|   montjuic|            Montjuïc|           Barcelona|    Spain|null|null| 79|http://en.wikiped...|2024-02-18|\n",
      "|        4|  catalunya|Circuit de Barcel...|    Montmeló|    Spain|null|null|109|http://en.wikiped...|2024-01-04|       45|     jarama|              Jarama|              Madrid|    Spain|null|null|609|http://en.wikiped...|2024-02-14|\n",
      "|        4|  catalunya|Circuit de Barcel...|    Montmeló|    Spain|null|null|109|http://en.wikiped...|2024-01-04|       26|      jerez|   Circuito de Jerez|Jerez de la Frontera|    Spain|null|null| 37|http://en.wikiped...|2024-01-26|\n",
      "|        4|  catalunya|Circuit de Barcel...|    Montmeló|    Spain|null|null|109|http://en.wikiped...|2024-01-04|       12|   valencia|Valencia Street C...|            Valencia|    Spain|null|null|  4|http://en.wikiped...|2024-01-12|\n",
      "|        4|  catalunya|Circuit de Barcel...|    Montmeló|    Spain|null|null|109|http://en.wikiped...|2024-01-04|        4|  catalunya|Circuit de Barcel...|            Montmeló|    Spain|null|null|109|http://en.wikiped...|2024-01-04|\n",
      "|        5|   istanbul|       Istanbul Park|    Istanbul|   Turkey|null|null|130|http://en.wikiped...|2024-01-05|        5|   istanbul|       Istanbul Park|            Istanbul|   Turkey|null|null|130|http://en.wikiped...|2024-01-05|\n",
      "|        6|     monaco|   Circuit de Monaco| Monte-Carlo|   Monaco|null|null|  7|http://en.wikiped...|2024-01-06|        6|     monaco|   Circuit de Monaco|         Monte-Carlo|   Monaco|null|null|  7|http://en.wikiped...|2024-01-06|\n",
      "|        7| villeneuve|Circuit Gilles Vi...|    Montreal|   Canada|null|null| 13|http://en.wikiped...|2024-01-07|       52|  tremblant|Circuit Mont-Trem...|              Quebec|   Canada|null|null|214|http://en.wikiped...|2024-02-21|\n",
      "|        7| villeneuve|Circuit Gilles Vi...|    Montreal|   Canada|null|null| 13|http://en.wikiped...|2024-01-07|       48|    mosport|Mosport Internati...|             Ontario|   Canada|null|null|332|http://en.wikiped...|2024-02-17|\n",
      "|        7| villeneuve|Circuit Gilles Vi...|    Montreal|   Canada|null|null| 13|http://en.wikiped...|2024-01-07|        7| villeneuve|Circuit Gilles Vi...|            Montreal|   Canada|null|null| 13|http://en.wikiped...|2024-01-07|\n",
      "|        8|magny_cours|Circuit de Nevers...| Magny Cours|   France|null|null|228|http://en.wikiped...|2024-01-08|       55|      reims|         Reims-Gueux|               Reims|   France|null|null| 88|http://en.wikiped...|2024-02-24|\n",
      "|        8|magny_cours|Circuit de Nevers...| Magny Cours|   France|null|null|228|http://en.wikiped...|2024-01-08|       54|     lemans|             Le Mans|             Le Mans|   France|null|null| 67|http://en.wikiped...|2024-02-23|\n",
      "|        8|magny_cours|Circuit de Nevers...| Magny Cours|   France|null|null|228|http://en.wikiped...|2024-01-08|       53|    essarts|   Rouen-Les-Essarts|               Rouen|   France|null|null| 81|http://en.wikiped...|2024-02-22|\n",
      "|        8|magny_cours|Circuit de Nevers...| Magny Cours|   France|null|null|228|http://en.wikiped...|2024-01-08|       51|    charade|     Charade Circuit|    Clermont-Ferrand|   France|null|null|790|http://en.wikiped...|2024-02-20|\n",
      "|        8|magny_cours|Circuit de Nevers...| Magny Cours|   France|null|null|228|http://en.wikiped...|2024-01-08|       41|      dijon|       Dijon-Prenois|               Dijon|   France|null|null|484|http://en.wikiped...|2024-02-10|\n",
      "+---------+-----------+--------------------+------------+---------+----+----+---+--------------------+----------+---------+-----------+--------------------+--------------------+---------+----+----+---+--------------------+----------+\n",
      "only showing top 20 rows\n",
      "\n"
     ]
    }
   ],
   "source": [
    "spark.sql(\"\"\"select * from circuits, holidays where circuits.country == holidays.country \"\"\").show()"
   ]
  },
  {
   "cell_type": "code",
   "execution_count": 142,
   "metadata": {},
   "outputs": [
    {
     "name": "stdout",
     "output_type": "stream",
     "text": [
      "+---------+--------------+--------------------+------------+----------+----+----+---+--------------------+----------+\n",
      "|circuitId|    circuitRef|                name|    location|   country| lat| lng|alt|                 url|      date|\n",
      "+---------+--------------+--------------------+------------+----------+----+----+---+--------------------+----------+\n",
      "|        1|   albert_park|Albert Park Grand...|   Melbourne| Australia|null|null| 10|http://en.wikiped...|2024-01-01|\n",
      "|       23|osterreichring|             A1-Ring|   Spielburg|   Austria|null|null|678|http://en.wikiped...|2024-01-23|\n",
      "|       25|        galvez|Autódromo Juan y ...|Buenos Aires| Argentina|null|null|  8|http://en.wikiped...|2024-01-25|\n",
      "|       29|      adelaide|Adelaide Street C...|    Adelaide| Australia|null|null| 58|http://en.wikiped...|2024-01-29|\n",
      "|       57|       zeltweg|             Zeltweg|      Styria|   Austria|null|null|676|http://en.wikiped...|2024-02-26|\n",
      "|       70| red_bull_ring|       Red Bull Ring|   Spielburg|   Austria|null|null|678|http://en.wikiped...|2024-03-10|\n",
      "|       73|           BAK|   Baku City Circuit|        Baku|Azerbaijan|null|null| -7|http://en.wikiped...|2024-03-13|\n",
      "+---------+--------------+--------------------+------------+----------+----+----+---+--------------------+----------+\n",
      "\n"
     ]
    }
   ],
   "source": [
    "df.filter(col(\"country\").like(\"A%\")).show()"
   ]
  },
  {
   "cell_type": "code",
   "execution_count": 146,
   "metadata": {},
   "outputs": [
    {
     "name": "stdout",
     "output_type": "stream",
     "text": [
      "+---------+--------------+--------------------+------------+----------+----+----+---+--------------------+----------+\n",
      "|circuitId|    circuitRef|                name|    location|   country| lat| lng|alt|                 url|      date|\n",
      "+---------+--------------+--------------------+------------+----------+----+----+---+--------------------+----------+\n",
      "|        1|   albert_park|Albert Park Grand...|   Melbourne| Australia|null|null| 10|http://en.wikiped...|2024-01-01|\n",
      "|       23|osterreichring|             A1-Ring|   Spielburg|   Austria|null|null|678|http://en.wikiped...|2024-01-23|\n",
      "|       25|        galvez|Autódromo Juan y ...|Buenos Aires| Argentina|null|null|  8|http://en.wikiped...|2024-01-25|\n",
      "|       29|      adelaide|Adelaide Street C...|    Adelaide| Australia|null|null| 58|http://en.wikiped...|2024-01-29|\n",
      "|       57|       zeltweg|             Zeltweg|      Styria|   Austria|null|null|676|http://en.wikiped...|2024-02-26|\n",
      "|       70| red_bull_ring|       Red Bull Ring|   Spielburg|   Austria|null|null|678|http://en.wikiped...|2024-03-10|\n",
      "|       73|           BAK|   Baku City Circuit|        Baku|Azerbaijan|null|null| -7|http://en.wikiped...|2024-03-13|\n",
      "+---------+--------------+--------------------+------------+----------+----+----+---+--------------------+----------+\n",
      "\n"
     ]
    }
   ],
   "source": [
    "spark.sql(\"\"\"select * from circuits where country like 'A%' \"\"\").show()"
   ]
  },
  {
   "cell_type": "code",
   "execution_count": 147,
   "metadata": {},
   "outputs": [],
   "source": [
    "schema = StructType().add(\"circuitId\",IntegerType(), True)\\\n",
    "        .add(\"circuitRef\",StringType(), True)\\\n",
    "        .add(\"name\",StringType(), True)\\\n",
    "        .add(\"location\",StringType(), True)\\\n",
    "        .add(\"country\",StringType(), True)\\\n",
    "        .add(\"lat\",IntegerType(), True)\\\n",
    "        .add(\"lng\",IntegerType(), True)\\\n",
    "        .add(\"alt\",IntegerType(), True)\\\n",
    "        .add(\"url\",StringType(), True)\\\n",
    "        .add(\"date\",DateType(), True)"
   ]
  },
  {
   "cell_type": "code",
   "execution_count": 165,
   "metadata": {},
   "outputs": [],
   "source": [
    "df = spark.read.option(\"header\", True).schema(schema).csv(r\"C:\\Users\\2079342\\Downloads\\circuits.csv\")\n",
    "#ssql = spark.read.option(\"header\", True).schema(schema).csv(r\"C:\\Users\\2079342\\Downloads\\circuits.csv\").createOrReplaceTempView(\"circuits\")"
   ]
  },
  {
   "cell_type": "code",
   "execution_count": 169,
   "metadata": {},
   "outputs": [],
   "source": [
    "from pyspark import SparkContext"
   ]
  },
  {
   "cell_type": "code",
   "execution_count": 152,
   "metadata": {},
   "outputs": [],
   "source": [
    "from pyspark import SparkContext"
   ]
  },
  {
   "cell_type": "code",
   "execution_count": 156,
   "metadata": {},
   "outputs": [],
   "source": [
    "sc = SparkContext.getOrCreate()"
   ]
  },
  {
   "cell_type": "code",
   "execution_count": 162,
   "metadata": {},
   "outputs": [
    {
     "data": {
      "text/plain": [
       "1"
      ]
     },
     "execution_count": 162,
     "metadata": {},
     "output_type": "execute_result"
    }
   ],
   "source": [
    "sc.parallelize([schema]).count()"
   ]
  },
  {
   "cell_type": "code",
   "execution_count": 171,
   "metadata": {},
   "outputs": [
    {
     "name": "stdout",
     "output_type": "stream",
     "text": [
      "+---------+--------------+--------------------+------------+---------+----+----+---+--------------------+----------+\n",
      "|circuitId|    circuitRef|                name|    location|  country| lat| lng|alt|                 url|      date|\n",
      "+---------+--------------+--------------------+------------+---------+----+----+---+--------------------+----------+\n",
      "|        1|   albert_park|Albert Park Grand...|   Melbourne|Australia|null|null| 10|http://en.wikiped...|2024-01-01|\n",
      "|        2|        sepang|Sepang Internatio...|Kuala Lumpur| Malaysia|null|null| 18|http://en.wikiped...|2024-01-02|\n",
      "|        3|       bahrain|Bahrain Internati...|      Sakhir|  Bahrain|null|null|  7|http://en.wikiped...|2024-01-03|\n",
      "|        4|     catalunya|Circuit de Barcel...|    Montmeló|    Spain|null|null|109|http://en.wikiped...|2024-01-04|\n",
      "|        5|      istanbul|       Istanbul Park|    Istanbul|   Turkey|null|null|130|http://en.wikiped...|2024-01-05|\n",
      "|        6|        monaco|   Circuit de Monaco| Monte-Carlo|   Monaco|null|null|  7|http://en.wikiped...|2024-01-06|\n",
      "|        7|    villeneuve|Circuit Gilles Vi...|    Montreal|   Canada|null|null| 13|http://en.wikiped...|2024-01-07|\n",
      "|        8|   magny_cours|Circuit de Nevers...| Magny Cours|   France|null|null|228|http://en.wikiped...|2024-01-08|\n",
      "|        9|   silverstone| Silverstone Circuit| Silverstone|       UK|null|null|153|http://en.wikiped...|2024-01-09|\n",
      "|       10|hockenheimring|      Hockenheimring|  Hockenheim|  Germany|null|null|103|http://en.wikiped...|2024-01-10|\n",
      "|       11|   hungaroring|         Hungaroring|    Budapest|  Hungary|null|null|264|http://en.wikiped...|2024-01-11|\n",
      "|       12|      valencia|Valencia Street C...|    Valencia|    Spain|null|null|  4|http://en.wikiped...|2024-01-12|\n",
      "|       13|           spa|Circuit de Spa-Fr...|         Spa|  Belgium|null|null|401|http://en.wikiped...|2024-01-13|\n",
      "|       14|         monza|Autodromo Naziona...|       Monza|    Italy|null|null|162|http://en.wikiped...|2024-01-14|\n",
      "|       15|    marina_bay|Marina Bay Street...|  Marina Bay|Singapore|null|null| 18|http://en.wikiped...|2024-01-15|\n",
      "|       16|          fuji|       Fuji Speedway|       Oyama|    Japan|null|null|583|http://en.wikiped...|2024-01-16|\n",
      "|       17|      shanghai|Shanghai Internat...|    Shanghai|    China|null|null|  5|http://en.wikiped...|2024-01-17|\n",
      "|       18|    interlagos|Autódromo José Ca...|   São Paulo|   Brazil|null|null|785|http://en.wikiped...|2024-01-18|\n",
      "|       19|  indianapolis|Indianapolis Moto...|Indianapolis|      USA|null|null|223|http://en.wikiped...|2024-01-19|\n",
      "|       20|   nurburgring|         Nürburgring|     Nürburg|  Germany|null|null|578|http://en.wikiped...|2024-01-20|\n",
      "+---------+--------------+--------------------+------------+---------+----+----+---+--------------------+----------+\n",
      "only showing top 20 rows\n",
      "\n"
     ]
    }
   ],
   "source": [
    "df.show()"
   ]
  },
  {
   "cell_type": "code",
   "execution_count": 176,
   "metadata": {},
   "outputs": [
    {
     "name": "stdout",
     "output_type": "stream",
     "text": [
      "+---------+--------------+--------------------+------------+---------+----+---+--------------------+----------+\n",
      "|circuitId|    circuitRef|                name|    location|  country| lng|alt|                 url|      date|\n",
      "+---------+--------------+--------------------+------------+---------+----+---+--------------------+----------+\n",
      "|        1|   albert_park|Albert Park Grand...|   Melbourne|Australia|null| 10|http://en.wikiped...|2024-01-01|\n",
      "|        2|        sepang|Sepang Internatio...|Kuala Lumpur| Malaysia|null| 18|http://en.wikiped...|2024-01-02|\n",
      "|        3|       bahrain|Bahrain Internati...|      Sakhir|  Bahrain|null|  7|http://en.wikiped...|2024-01-03|\n",
      "|        4|     catalunya|Circuit de Barcel...|    Montmeló|    Spain|null|109|http://en.wikiped...|2024-01-04|\n",
      "|        5|      istanbul|       Istanbul Park|    Istanbul|   Turkey|null|130|http://en.wikiped...|2024-01-05|\n",
      "|        6|        monaco|   Circuit de Monaco| Monte-Carlo|   Monaco|null|  7|http://en.wikiped...|2024-01-06|\n",
      "|        7|    villeneuve|Circuit Gilles Vi...|    Montreal|   Canada|null| 13|http://en.wikiped...|2024-01-07|\n",
      "|        8|   magny_cours|Circuit de Nevers...| Magny Cours|   France|null|228|http://en.wikiped...|2024-01-08|\n",
      "|        9|   silverstone| Silverstone Circuit| Silverstone|       UK|null|153|http://en.wikiped...|2024-01-09|\n",
      "|       10|hockenheimring|      Hockenheimring|  Hockenheim|  Germany|null|103|http://en.wikiped...|2024-01-10|\n",
      "|       11|   hungaroring|         Hungaroring|    Budapest|  Hungary|null|264|http://en.wikiped...|2024-01-11|\n",
      "|       12|      valencia|Valencia Street C...|    Valencia|    Spain|null|  4|http://en.wikiped...|2024-01-12|\n",
      "|       13|           spa|Circuit de Spa-Fr...|         Spa|  Belgium|null|401|http://en.wikiped...|2024-01-13|\n",
      "|       14|         monza|Autodromo Naziona...|       Monza|    Italy|null|162|http://en.wikiped...|2024-01-14|\n",
      "|       15|    marina_bay|Marina Bay Street...|  Marina Bay|Singapore|null| 18|http://en.wikiped...|2024-01-15|\n",
      "|       16|          fuji|       Fuji Speedway|       Oyama|    Japan|null|583|http://en.wikiped...|2024-01-16|\n",
      "|       17|      shanghai|Shanghai Internat...|    Shanghai|    China|null|  5|http://en.wikiped...|2024-01-17|\n",
      "|       18|    interlagos|Autódromo José Ca...|   São Paulo|   Brazil|null|785|http://en.wikiped...|2024-01-18|\n",
      "|       19|  indianapolis|Indianapolis Moto...|Indianapolis|      USA|null|223|http://en.wikiped...|2024-01-19|\n",
      "|       20|   nurburgring|         Nürburgring|     Nürburg|  Germany|null|578|http://en.wikiped...|2024-01-20|\n",
      "+---------+--------------+--------------------+------------+---------+----+---+--------------------+----------+\n",
      "only showing top 20 rows\n",
      "\n"
     ]
    }
   ],
   "source": [
    "df.drop(col(\"lat\")).show()"
   ]
  },
  {
   "cell_type": "code",
   "execution_count": 181,
   "metadata": {},
   "outputs": [
    {
     "name": "stdout",
     "output_type": "stream",
     "text": [
      "+---------+-------------+--------------------+--------------+-------+--------------------+----------+\n",
      "|circuitId|   circuitRef|                name|      location|country|                 url|      date|\n",
      "+---------+-------------+--------------------+--------------+-------+--------------------+----------+\n",
      "|       19| indianapolis|Indianapolis Moto...|  Indianapolis|    USA|http://en.wikiped...|2024-01-19|\n",
      "|       33|      phoenix|Phoenix street ci...|       Phoenix|    USA|http://en.wikiped...|2024-02-02|\n",
      "|       37|      detroit|Detroit Street Ci...|       Detroit|    USA|http://en.wikiped...|2024-02-06|\n",
      "|       42|       dallas|           Fair Park|        Dallas|    USA|http://en.wikiped...|2024-02-11|\n",
      "|       43|   long_beach|          Long Beach|    California|    USA|http://en.wikiped...|2024-02-12|\n",
      "|       44|    las_vegas|Las Vegas Street ...|        Nevada|    USA|http://en.wikiped...|2024-02-13|\n",
      "|       46| watkins_glen|        Watkins Glen|New York State|    USA|http://en.wikiped...|2024-02-15|\n",
      "|       60|    riverside|Riverside Interna...|    California|    USA|http://en.wikiped...|2024-02-29|\n",
      "|       63|      sebring|Sebring Internati...|       Florida|    USA|http://en.wikiped...|2024-03-03|\n",
      "|       69|     americas|Circuit of the Am...|        Austin|    USA|http://en.wikiped...|2024-03-09|\n",
      "|       72|port_imperial|Port Imperial Str...|    New Jersey|    USA|http://en.wikiped...|2024-03-12|\n",
      "+---------+-------------+--------------------+--------------+-------+--------------------+----------+\n",
      "\n"
     ]
    }
   ],
   "source": [
    "df.drop(\"lat\",\"lng\",\"alt\").where(col(\"country\") == 'USA').show()"
   ]
  },
  {
   "cell_type": "code",
   "execution_count": 183,
   "metadata": {},
   "outputs": [
    {
     "name": "stdout",
     "output_type": "stream",
     "text": [
      "+---------+-------------+--------------------+----------------+-----------+----+----+---+--------------------+----------+\n",
      "|circuitId|   circuitRef|                name|        location|    country| lat| lng|alt|                 url|      date|\n",
      "+---------+-------------+--------------------+----------------+-----------+----+----+---+--------------------+----------+\n",
      "|       66|   bremgarten|  Circuit Bremgarten|            Bern|Switzerland|null|null|551|http://en.wikiped...|2024-03-06|\n",
      "|       20|  nurburgring|         Nürburgring|         Nürburg|    Germany|null|null|578|http://en.wikiped...|2024-01-20|\n",
      "|        1|  albert_park|Albert Park Grand...|       Melbourne|  Australia|null|null| 10|http://en.wikiped...|2024-01-01|\n",
      "|       43|   long_beach|          Long Beach|      California|        USA|null|null| 12|http://en.wikiped...|2024-02-12|\n",
      "|       62|     monsanto|Monsanto Park Cir...|          Lisbon|   Portugal|null|null|158|http://en.wikiped...|2024-03-02|\n",
      "|       11|  hungaroring|         Hungaroring|        Budapest|    Hungary|null|null|264|http://en.wikiped...|2024-01-11|\n",
      "|       47|   anderstorp|Scandinavian Raceway|      Anderstorp|     Sweden|null|null|153|http://en.wikiped...|2024-02-16|\n",
      "|       17|     shanghai|Shanghai Internat...|        Shanghai|      China|null|null|  5|http://en.wikiped...|2024-01-17|\n",
      "|       19| indianapolis|Indianapolis Moto...|    Indianapolis|        USA|null|null|223|http://en.wikiped...|2024-01-19|\n",
      "|       59|     boavista|Circuito da Boavista|          Oporto|   Portugal|null|null| 28|http://en.wikiped...|2024-02-28|\n",
      "|       38| brands_hatch|        Brands Hatch|            Kent|         UK|null|null|145|http://en.wikiped...|2024-02-07|\n",
      "|       70|red_bull_ring|       Red Bull Ring|       Spielburg|    Austria|null|null|678|http://en.wikiped...|2024-03-10|\n",
      "|       37|      detroit|Detroit Street Ci...|         Detroit|        USA|null|null|177|http://en.wikiped...|2024-02-06|\n",
      "|        6|       monaco|   Circuit de Monaco|     Monte-Carlo|     Monaco|null|null|  7|http://en.wikiped...|2024-01-06|\n",
      "|       60|    riverside|Riverside Interna...|      California|        USA|null|null|470|http://en.wikiped...|2024-02-29|\n",
      "|       24|   yas_marina|  Yas Marina Circuit|       Abu Dhabi|        UAE|null|null|  3|http://en.wikiped...|2024-01-24|\n",
      "|       51|      charade|     Charade Circuit|Clermont-Ferrand|     France|null|null|790|http://en.wikiped...|2024-02-20|\n",
      "|       28|      okayama|Okayama Internati...|         Okayama|      Japan|null|null|266|http://en.wikiped...|2024-01-28|\n",
      "|        7|   villeneuve|Circuit Gilles Vi...|        Montreal|     Canada|null|null| 13|http://en.wikiped...|2024-01-07|\n",
      "|       13|          spa|Circuit de Spa-Fr...|             Spa|    Belgium|null|null|401|http://en.wikiped...|2024-01-13|\n",
      "+---------+-------------+--------------------+----------------+-----------+----+----+---+--------------------+----------+\n",
      "only showing top 20 rows\n",
      "\n"
     ]
    }
   ],
   "source": [
    "df.distinct().show()"
   ]
  },
  {
   "cell_type": "code",
   "execution_count": 194,
   "metadata": {},
   "outputs": [
    {
     "name": "stdout",
     "output_type": "stream",
     "text": [
      "+---------+--------------+--------------------+------------+---------+----+----+---+--------------------+----------+----+\n",
      "|circuitId|    circuitRef|                name|    location|  country| lat| lng|alt|                 url|      date| new|\n",
      "+---------+--------------+--------------------+------------+---------+----+----+---+--------------------+----------+----+\n",
      "|        1|   albert_park|Albert Park Grand...|   Melbourne|Australia|null|null| 10|http://en.wikiped...|2024-01-01|null|\n",
      "|        2|        sepang|Sepang Internatio...|Kuala Lumpur| Malaysia|null|null| 18|http://en.wikiped...|2024-01-02|null|\n",
      "|        3|       bahrain|Bahrain Internati...|      Sakhir|  Bahrain|null|null|  7|http://en.wikiped...|2024-01-03|null|\n",
      "|        4|     catalunya|Circuit de Barcel...|    Montmeló|    Spain|null|null|109|http://en.wikiped...|2024-01-04|null|\n",
      "|        5|      istanbul|       Istanbul Park|    Istanbul|   Turkey|null|null|130|http://en.wikiped...|2024-01-05|null|\n",
      "|        6|        monaco|   Circuit de Monaco| Monte-Carlo|   Monaco|null|null|  7|http://en.wikiped...|2024-01-06|null|\n",
      "|        7|    villeneuve|Circuit Gilles Vi...|    Montreal|   Canada|null|null| 13|http://en.wikiped...|2024-01-07|null|\n",
      "|        8|   magny_cours|Circuit de Nevers...| Magny Cours|   France|null|null|228|http://en.wikiped...|2024-01-08|null|\n",
      "|        9|   silverstone| Silverstone Circuit| Silverstone|       UK|null|null|153|http://en.wikiped...|2024-01-09|null|\n",
      "|       10|hockenheimring|      Hockenheimring|  Hockenheim|  Germany|null|null|103|http://en.wikiped...|2024-01-10|null|\n",
      "|       11|   hungaroring|         Hungaroring|    Budapest|  Hungary|null|null|264|http://en.wikiped...|2024-01-11|null|\n",
      "|       12|      valencia|Valencia Street C...|    Valencia|    Spain|null|null|  4|http://en.wikiped...|2024-01-12|null|\n",
      "|       13|           spa|Circuit de Spa-Fr...|         Spa|  Belgium|null|null|401|http://en.wikiped...|2024-01-13|null|\n",
      "|       14|         monza|Autodromo Naziona...|       Monza|    Italy|null|null|162|http://en.wikiped...|2024-01-14|null|\n",
      "|       15|    marina_bay|Marina Bay Street...|  Marina Bay|Singapore|null|null| 18|http://en.wikiped...|2024-01-15|null|\n",
      "|       16|          fuji|       Fuji Speedway|       Oyama|    Japan|null|null|583|http://en.wikiped...|2024-01-16|null|\n",
      "|       17|      shanghai|Shanghai Internat...|    Shanghai|    China|null|null|  5|http://en.wikiped...|2024-01-17|null|\n",
      "|       18|    interlagos|Autódromo José Ca...|   São Paulo|   Brazil|null|null|785|http://en.wikiped...|2024-01-18|null|\n",
      "|       19|  indianapolis|Indianapolis Moto...|Indianapolis|      USA|null|null|223|http://en.wikiped...|2024-01-19|null|\n",
      "|       20|   nurburgring|         Nürburgring|     Nürburg|  Germany|null|null|578|http://en.wikiped...|2024-01-20|null|\n",
      "+---------+--------------+--------------------+------------+---------+----+----+---+--------------------+----------+----+\n",
      "only showing top 20 rows\n",
      "\n"
     ]
    }
   ],
   "source": [
    "df.withColumn(\"new\", col(\"country\").cast(\"Integer\")).show()"
   ]
  },
  {
   "cell_type": "code",
   "execution_count": 198,
   "metadata": {},
   "outputs": [
    {
     "name": "stdout",
     "output_type": "stream",
     "text": [
      "+---------+--------------+--------------------+------------+---------+----+----+---+--------------------+----------+\n",
      "|circuitId|    circuitRef|                name|    location|  country| lat| lng|alt|                 url|      date|\n",
      "+---------+--------------+--------------------+------------+---------+----+----+---+--------------------+----------+\n",
      "|        1|   albert_park|Albert Park Grand...|   Melbourne|Australia|null|null| 11|http://en.wikiped...|2024-01-01|\n",
      "|        2|        sepang|Sepang Internatio...|Kuala Lumpur| Malaysia|null|null| 19|http://en.wikiped...|2024-01-02|\n",
      "|        3|       bahrain|Bahrain Internati...|      Sakhir|  Bahrain|null|null|  8|http://en.wikiped...|2024-01-03|\n",
      "|        4|     catalunya|Circuit de Barcel...|    Montmeló|    Spain|null|null|110|http://en.wikiped...|2024-01-04|\n",
      "|        5|      istanbul|       Istanbul Park|    Istanbul|   Turkey|null|null|131|http://en.wikiped...|2024-01-05|\n",
      "|        6|        monaco|   Circuit de Monaco| Monte-Carlo|   Monaco|null|null|  8|http://en.wikiped...|2024-01-06|\n",
      "|        7|    villeneuve|Circuit Gilles Vi...|    Montreal|   Canada|null|null| 14|http://en.wikiped...|2024-01-07|\n",
      "|        8|   magny_cours|Circuit de Nevers...| Magny Cours|   France|null|null|229|http://en.wikiped...|2024-01-08|\n",
      "|        9|   silverstone| Silverstone Circuit| Silverstone|       UK|null|null|154|http://en.wikiped...|2024-01-09|\n",
      "|       10|hockenheimring|      Hockenheimring|  Hockenheim|  Germany|null|null|104|http://en.wikiped...|2024-01-10|\n",
      "|       11|   hungaroring|         Hungaroring|    Budapest|  Hungary|null|null|265|http://en.wikiped...|2024-01-11|\n",
      "|       12|      valencia|Valencia Street C...|    Valencia|    Spain|null|null|  5|http://en.wikiped...|2024-01-12|\n",
      "|       13|           spa|Circuit de Spa-Fr...|         Spa|  Belgium|null|null|402|http://en.wikiped...|2024-01-13|\n",
      "|       14|         monza|Autodromo Naziona...|       Monza|    Italy|null|null|163|http://en.wikiped...|2024-01-14|\n",
      "|       15|    marina_bay|Marina Bay Street...|  Marina Bay|Singapore|null|null| 19|http://en.wikiped...|2024-01-15|\n",
      "|       16|          fuji|       Fuji Speedway|       Oyama|    Japan|null|null|584|http://en.wikiped...|2024-01-16|\n",
      "|       17|      shanghai|Shanghai Internat...|    Shanghai|    China|null|null|  6|http://en.wikiped...|2024-01-17|\n",
      "|       18|    interlagos|Autódromo José Ca...|   São Paulo|   Brazil|null|null|786|http://en.wikiped...|2024-01-18|\n",
      "|       19|  indianapolis|Indianapolis Moto...|Indianapolis|      USA|null|null|224|http://en.wikiped...|2024-01-19|\n",
      "|       20|   nurburgring|         Nürburgring|     Nürburg|  Germany|null|null|579|http://en.wikiped...|2024-01-20|\n",
      "+---------+--------------+--------------------+------------+---------+----+----+---+--------------------+----------+\n",
      "only showing top 20 rows\n",
      "\n"
     ]
    }
   ],
   "source": [
    "df.withColumn(\"alt\", col(\"alt\")+1).show()"
   ]
  },
  {
   "cell_type": "code",
   "execution_count": 197,
   "metadata": {},
   "outputs": [
    {
     "name": "stdout",
     "output_type": "stream",
     "text": [
      "root\n",
      " |-- circuitId: integer (nullable = true)\n",
      " |-- circuitRef: string (nullable = true)\n",
      " |-- name: string (nullable = true)\n",
      " |-- location: string (nullable = true)\n",
      " |-- country: string (nullable = true)\n",
      " |-- lat: integer (nullable = true)\n",
      " |-- lng: integer (nullable = true)\n",
      " |-- alt: integer (nullable = true)\n",
      " |-- url: string (nullable = true)\n",
      " |-- date: date (nullable = true)\n",
      "\n"
     ]
    }
   ],
   "source": [
    "df.printSchema()"
   ]
  },
  {
   "cell_type": "code",
   "execution_count": 200,
   "metadata": {},
   "outputs": [
    {
     "name": "stdout",
     "output_type": "stream",
     "text": [
      "+---------+--------------+--------------------+------------+---------+----+----+---+--------------------+----------+---------+\n",
      "|circuitId|    circuitRef|                name|    location|  country| lat| lng|alt|                 url|      date|copiedcol|\n",
      "+---------+--------------+--------------------+------------+---------+----+----+---+--------------------+----------+---------+\n",
      "|        1|   albert_park|Albert Park Grand...|   Melbourne|Australia|null|null| 10|http://en.wikiped...|2024-01-01|      -10|\n",
      "|        2|        sepang|Sepang Internatio...|Kuala Lumpur| Malaysia|null|null| 18|http://en.wikiped...|2024-01-02|      -18|\n",
      "|        3|       bahrain|Bahrain Internati...|      Sakhir|  Bahrain|null|null|  7|http://en.wikiped...|2024-01-03|       -7|\n",
      "|        4|     catalunya|Circuit de Barcel...|    Montmeló|    Spain|null|null|109|http://en.wikiped...|2024-01-04|     -109|\n",
      "|        5|      istanbul|       Istanbul Park|    Istanbul|   Turkey|null|null|130|http://en.wikiped...|2024-01-05|     -130|\n",
      "|        6|        monaco|   Circuit de Monaco| Monte-Carlo|   Monaco|null|null|  7|http://en.wikiped...|2024-01-06|       -7|\n",
      "|        7|    villeneuve|Circuit Gilles Vi...|    Montreal|   Canada|null|null| 13|http://en.wikiped...|2024-01-07|      -13|\n",
      "|        8|   magny_cours|Circuit de Nevers...| Magny Cours|   France|null|null|228|http://en.wikiped...|2024-01-08|     -228|\n",
      "|        9|   silverstone| Silverstone Circuit| Silverstone|       UK|null|null|153|http://en.wikiped...|2024-01-09|     -153|\n",
      "|       10|hockenheimring|      Hockenheimring|  Hockenheim|  Germany|null|null|103|http://en.wikiped...|2024-01-10|     -103|\n",
      "|       11|   hungaroring|         Hungaroring|    Budapest|  Hungary|null|null|264|http://en.wikiped...|2024-01-11|     -264|\n",
      "|       12|      valencia|Valencia Street C...|    Valencia|    Spain|null|null|  4|http://en.wikiped...|2024-01-12|       -4|\n",
      "|       13|           spa|Circuit de Spa-Fr...|         Spa|  Belgium|null|null|401|http://en.wikiped...|2024-01-13|     -401|\n",
      "|       14|         monza|Autodromo Naziona...|       Monza|    Italy|null|null|162|http://en.wikiped...|2024-01-14|     -162|\n",
      "|       15|    marina_bay|Marina Bay Street...|  Marina Bay|Singapore|null|null| 18|http://en.wikiped...|2024-01-15|      -18|\n",
      "|       16|          fuji|       Fuji Speedway|       Oyama|    Japan|null|null|583|http://en.wikiped...|2024-01-16|     -583|\n",
      "|       17|      shanghai|Shanghai Internat...|    Shanghai|    China|null|null|  5|http://en.wikiped...|2024-01-17|       -5|\n",
      "|       18|    interlagos|Autódromo José Ca...|   São Paulo|   Brazil|null|null|785|http://en.wikiped...|2024-01-18|     -785|\n",
      "|       19|  indianapolis|Indianapolis Moto...|Indianapolis|      USA|null|null|223|http://en.wikiped...|2024-01-19|     -223|\n",
      "|       20|   nurburgring|         Nürburgring|     Nürburg|  Germany|null|null|578|http://en.wikiped...|2024-01-20|     -578|\n",
      "+---------+--------------+--------------------+------------+---------+----+----+---+--------------------+----------+---------+\n",
      "only showing top 20 rows\n",
      "\n"
     ]
    }
   ],
   "source": [
    "df.withColumn(\"copiedcol\", col(\"alt\")* -1).show()"
   ]
  },
  {
   "cell_type": "code",
   "execution_count": 208,
   "metadata": {},
   "outputs": [],
   "source": [
    "from pyspark.sql.functions import lit, dayofmonth"
   ]
  },
  {
   "cell_type": "code",
   "execution_count": 211,
   "metadata": {},
   "outputs": [
    {
     "name": "stdout",
     "output_type": "stream",
     "text": [
      "+---------+--------------+--------------------+------------+---------+----+----+---+--------------------+----------+-------+\n",
      "|circuitId|    circuitRef|                name|    location|  country| lat| lng|alt|                 url|      date|new_col|\n",
      "+---------+--------------+--------------------+------------+---------+----+----+---+--------------------+----------+-------+\n",
      "|        1|   albert_park|Albert Park Grand...|   Melbourne|Australia|null|null| 10|http://en.wikiped...|2024-01-01|new_val|\n",
      "|        2|        sepang|Sepang Internatio...|Kuala Lumpur| Malaysia|null|null| 18|http://en.wikiped...|2024-01-02|new_val|\n",
      "|        3|       bahrain|Bahrain Internati...|      Sakhir|  Bahrain|null|null|  7|http://en.wikiped...|2024-01-03|new_val|\n",
      "|        4|     catalunya|Circuit de Barcel...|    Montmeló|    Spain|null|null|109|http://en.wikiped...|2024-01-04|new_val|\n",
      "|        5|      istanbul|       Istanbul Park|    Istanbul|   Turkey|null|null|130|http://en.wikiped...|2024-01-05|new_val|\n",
      "|        6|        monaco|   Circuit de Monaco| Monte-Carlo|   Monaco|null|null|  7|http://en.wikiped...|2024-01-06|new_val|\n",
      "|        7|    villeneuve|Circuit Gilles Vi...|    Montreal|   Canada|null|null| 13|http://en.wikiped...|2024-01-07|new_val|\n",
      "|        8|   magny_cours|Circuit de Nevers...| Magny Cours|   France|null|null|228|http://en.wikiped...|2024-01-08|new_val|\n",
      "|        9|   silverstone| Silverstone Circuit| Silverstone|       UK|null|null|153|http://en.wikiped...|2024-01-09|new_val|\n",
      "|       10|hockenheimring|      Hockenheimring|  Hockenheim|  Germany|null|null|103|http://en.wikiped...|2024-01-10|new_val|\n",
      "|       11|   hungaroring|         Hungaroring|    Budapest|  Hungary|null|null|264|http://en.wikiped...|2024-01-11|new_val|\n",
      "|       12|      valencia|Valencia Street C...|    Valencia|    Spain|null|null|  4|http://en.wikiped...|2024-01-12|new_val|\n",
      "|       13|           spa|Circuit de Spa-Fr...|         Spa|  Belgium|null|null|401|http://en.wikiped...|2024-01-13|new_val|\n",
      "|       14|         monza|Autodromo Naziona...|       Monza|    Italy|null|null|162|http://en.wikiped...|2024-01-14|new_val|\n",
      "|       15|    marina_bay|Marina Bay Street...|  Marina Bay|Singapore|null|null| 18|http://en.wikiped...|2024-01-15|new_val|\n",
      "|       16|          fuji|       Fuji Speedway|       Oyama|    Japan|null|null|583|http://en.wikiped...|2024-01-16|new_val|\n",
      "|       17|      shanghai|Shanghai Internat...|    Shanghai|    China|null|null|  5|http://en.wikiped...|2024-01-17|new_val|\n",
      "|       18|    interlagos|Autódromo José Ca...|   São Paulo|   Brazil|null|null|785|http://en.wikiped...|2024-01-18|new_val|\n",
      "|       19|  indianapolis|Indianapolis Moto...|Indianapolis|      USA|null|null|223|http://en.wikiped...|2024-01-19|new_val|\n",
      "|       20|   nurburgring|         Nürburgring|     Nürburg|  Germany|null|null|578|http://en.wikiped...|2024-01-20|new_val|\n",
      "+---------+--------------+--------------------+------------+---------+----+----+---+--------------------+----------+-------+\n",
      "only showing top 20 rows\n",
      "\n"
     ]
    }
   ],
   "source": [
    "df.withColumn(\"new_col\", lit(\"new_val\")).show()"
   ]
  },
  {
   "cell_type": "code",
   "execution_count": 213,
   "metadata": {},
   "outputs": [
    {
     "name": "stdout",
     "output_type": "stream",
     "text": [
      "+---------+--------------+--------------------+----------------+---------+----+----+---+--------------------+----------+\n",
      "|circuitId|    circuitRef|                name|country_location|  country| lat| lng|alt|                 url|      date|\n",
      "+---------+--------------+--------------------+----------------+---------+----+----+---+--------------------+----------+\n",
      "|        1|   albert_park|Albert Park Grand...|       Melbourne|Australia|null|null| 10|http://en.wikiped...|2024-01-01|\n",
      "|        2|        sepang|Sepang Internatio...|    Kuala Lumpur| Malaysia|null|null| 18|http://en.wikiped...|2024-01-02|\n",
      "|        3|       bahrain|Bahrain Internati...|          Sakhir|  Bahrain|null|null|  7|http://en.wikiped...|2024-01-03|\n",
      "|        4|     catalunya|Circuit de Barcel...|        Montmeló|    Spain|null|null|109|http://en.wikiped...|2024-01-04|\n",
      "|        5|      istanbul|       Istanbul Park|        Istanbul|   Turkey|null|null|130|http://en.wikiped...|2024-01-05|\n",
      "|        6|        monaco|   Circuit de Monaco|     Monte-Carlo|   Monaco|null|null|  7|http://en.wikiped...|2024-01-06|\n",
      "|        7|    villeneuve|Circuit Gilles Vi...|        Montreal|   Canada|null|null| 13|http://en.wikiped...|2024-01-07|\n",
      "|        8|   magny_cours|Circuit de Nevers...|     Magny Cours|   France|null|null|228|http://en.wikiped...|2024-01-08|\n",
      "|        9|   silverstone| Silverstone Circuit|     Silverstone|       UK|null|null|153|http://en.wikiped...|2024-01-09|\n",
      "|       10|hockenheimring|      Hockenheimring|      Hockenheim|  Germany|null|null|103|http://en.wikiped...|2024-01-10|\n",
      "|       11|   hungaroring|         Hungaroring|        Budapest|  Hungary|null|null|264|http://en.wikiped...|2024-01-11|\n",
      "|       12|      valencia|Valencia Street C...|        Valencia|    Spain|null|null|  4|http://en.wikiped...|2024-01-12|\n",
      "|       13|           spa|Circuit de Spa-Fr...|             Spa|  Belgium|null|null|401|http://en.wikiped...|2024-01-13|\n",
      "|       14|         monza|Autodromo Naziona...|           Monza|    Italy|null|null|162|http://en.wikiped...|2024-01-14|\n",
      "|       15|    marina_bay|Marina Bay Street...|      Marina Bay|Singapore|null|null| 18|http://en.wikiped...|2024-01-15|\n",
      "|       16|          fuji|       Fuji Speedway|           Oyama|    Japan|null|null|583|http://en.wikiped...|2024-01-16|\n",
      "|       17|      shanghai|Shanghai Internat...|        Shanghai|    China|null|null|  5|http://en.wikiped...|2024-01-17|\n",
      "|       18|    interlagos|Autódromo José Ca...|       São Paulo|   Brazil|null|null|785|http://en.wikiped...|2024-01-18|\n",
      "|       19|  indianapolis|Indianapolis Moto...|    Indianapolis|      USA|null|null|223|http://en.wikiped...|2024-01-19|\n",
      "|       20|   nurburgring|         Nürburgring|         Nürburg|  Germany|null|null|578|http://en.wikiped...|2024-01-20|\n",
      "+---------+--------------+--------------------+----------------+---------+----+----+---+--------------------+----------+\n",
      "only showing top 20 rows\n",
      "\n"
     ]
    }
   ],
   "source": [
    "df.withColumnRenamed(\"location\", \"country_location\").show()"
   ]
  },
  {
   "cell_type": "code",
   "execution_count": 216,
   "metadata": {},
   "outputs": [
    {
     "name": "stdout",
     "output_type": "stream",
     "text": [
      "+---+--------------+--------------------+------------+---------+----+----+---+--------------------+----------+\n",
      "|  1|             2|                name|    location|  country| lat| lng|alt|                 url|      date|\n",
      "+---+--------------+--------------------+------------+---------+----+----+---+--------------------+----------+\n",
      "|  1|   albert_park|Albert Park Grand...|   Melbourne|Australia|null|null| 10|http://en.wikiped...|2024-01-01|\n",
      "|  2|        sepang|Sepang Internatio...|Kuala Lumpur| Malaysia|null|null| 18|http://en.wikiped...|2024-01-02|\n",
      "|  3|       bahrain|Bahrain Internati...|      Sakhir|  Bahrain|null|null|  7|http://en.wikiped...|2024-01-03|\n",
      "|  4|     catalunya|Circuit de Barcel...|    Montmeló|    Spain|null|null|109|http://en.wikiped...|2024-01-04|\n",
      "|  5|      istanbul|       Istanbul Park|    Istanbul|   Turkey|null|null|130|http://en.wikiped...|2024-01-05|\n",
      "|  6|        monaco|   Circuit de Monaco| Monte-Carlo|   Monaco|null|null|  7|http://en.wikiped...|2024-01-06|\n",
      "|  7|    villeneuve|Circuit Gilles Vi...|    Montreal|   Canada|null|null| 13|http://en.wikiped...|2024-01-07|\n",
      "|  8|   magny_cours|Circuit de Nevers...| Magny Cours|   France|null|null|228|http://en.wikiped...|2024-01-08|\n",
      "|  9|   silverstone| Silverstone Circuit| Silverstone|       UK|null|null|153|http://en.wikiped...|2024-01-09|\n",
      "| 10|hockenheimring|      Hockenheimring|  Hockenheim|  Germany|null|null|103|http://en.wikiped...|2024-01-10|\n",
      "| 11|   hungaroring|         Hungaroring|    Budapest|  Hungary|null|null|264|http://en.wikiped...|2024-01-11|\n",
      "| 12|      valencia|Valencia Street C...|    Valencia|    Spain|null|null|  4|http://en.wikiped...|2024-01-12|\n",
      "| 13|           spa|Circuit de Spa-Fr...|         Spa|  Belgium|null|null|401|http://en.wikiped...|2024-01-13|\n",
      "| 14|         monza|Autodromo Naziona...|       Monza|    Italy|null|null|162|http://en.wikiped...|2024-01-14|\n",
      "| 15|    marina_bay|Marina Bay Street...|  Marina Bay|Singapore|null|null| 18|http://en.wikiped...|2024-01-15|\n",
      "| 16|          fuji|       Fuji Speedway|       Oyama|    Japan|null|null|583|http://en.wikiped...|2024-01-16|\n",
      "| 17|      shanghai|Shanghai Internat...|    Shanghai|    China|null|null|  5|http://en.wikiped...|2024-01-17|\n",
      "| 18|    interlagos|Autódromo José Ca...|   São Paulo|   Brazil|null|null|785|http://en.wikiped...|2024-01-18|\n",
      "| 19|  indianapolis|Indianapolis Moto...|Indianapolis|      USA|null|null|223|http://en.wikiped...|2024-01-19|\n",
      "| 20|   nurburgring|         Nürburgring|     Nürburg|  Germany|null|null|578|http://en.wikiped...|2024-01-20|\n",
      "+---+--------------+--------------------+------------+---------+----+----+---+--------------------+----------+\n",
      "only showing top 20 rows\n",
      "\n"
     ]
    }
   ],
   "source": [
    "df.withColumnRenamed(\"circuitId\",\"1\").withColumnRenamed(\"circuitRef\",\"2\").show()"
   ]
  },
  {
   "cell_type": "code",
   "execution_count": 226,
   "metadata": {},
   "outputs": [
    {
     "name": "stdout",
     "output_type": "stream",
     "text": [
      "+-------------+\n",
      "|alias_country|\n",
      "+-------------+\n",
      "|    Australia|\n",
      "|     Malaysia|\n",
      "|      Bahrain|\n",
      "|        Spain|\n",
      "|       Turkey|\n",
      "|       Monaco|\n",
      "|       Canada|\n",
      "|       France|\n",
      "|           UK|\n",
      "|      Germany|\n",
      "|      Hungary|\n",
      "|        Spain|\n",
      "|      Belgium|\n",
      "|        Italy|\n",
      "|    Singapore|\n",
      "|        Japan|\n",
      "|        China|\n",
      "|       Brazil|\n",
      "|          USA|\n",
      "|      Germany|\n",
      "+-------------+\n",
      "only showing top 20 rows\n",
      "\n"
     ]
    }
   ],
   "source": [
    "df.select(col(\"country\").alias(\"alias_country\")).show()"
   ]
  },
  {
   "cell_type": "code",
   "execution_count": 222,
   "metadata": {},
   "outputs": [
    {
     "name": "stdout",
     "output_type": "stream",
     "text": [
      "+---+--------------+--------------------+------------+---------+----+----+---+--------------------+----------+\n",
      "|  a|             b|                   c|           d|        e|   f|   g|  h|                   i|         j|\n",
      "+---+--------------+--------------------+------------+---------+----+----+---+--------------------+----------+\n",
      "|  1|   albert_park|Albert Park Grand...|   Melbourne|Australia|null|null| 10|http://en.wikiped...|2024-01-01|\n",
      "|  2|        sepang|Sepang Internatio...|Kuala Lumpur| Malaysia|null|null| 18|http://en.wikiped...|2024-01-02|\n",
      "|  3|       bahrain|Bahrain Internati...|      Sakhir|  Bahrain|null|null|  7|http://en.wikiped...|2024-01-03|\n",
      "|  4|     catalunya|Circuit de Barcel...|    Montmeló|    Spain|null|null|109|http://en.wikiped...|2024-01-04|\n",
      "|  5|      istanbul|       Istanbul Park|    Istanbul|   Turkey|null|null|130|http://en.wikiped...|2024-01-05|\n",
      "|  6|        monaco|   Circuit de Monaco| Monte-Carlo|   Monaco|null|null|  7|http://en.wikiped...|2024-01-06|\n",
      "|  7|    villeneuve|Circuit Gilles Vi...|    Montreal|   Canada|null|null| 13|http://en.wikiped...|2024-01-07|\n",
      "|  8|   magny_cours|Circuit de Nevers...| Magny Cours|   France|null|null|228|http://en.wikiped...|2024-01-08|\n",
      "|  9|   silverstone| Silverstone Circuit| Silverstone|       UK|null|null|153|http://en.wikiped...|2024-01-09|\n",
      "| 10|hockenheimring|      Hockenheimring|  Hockenheim|  Germany|null|null|103|http://en.wikiped...|2024-01-10|\n",
      "| 11|   hungaroring|         Hungaroring|    Budapest|  Hungary|null|null|264|http://en.wikiped...|2024-01-11|\n",
      "| 12|      valencia|Valencia Street C...|    Valencia|    Spain|null|null|  4|http://en.wikiped...|2024-01-12|\n",
      "| 13|           spa|Circuit de Spa-Fr...|         Spa|  Belgium|null|null|401|http://en.wikiped...|2024-01-13|\n",
      "| 14|         monza|Autodromo Naziona...|       Monza|    Italy|null|null|162|http://en.wikiped...|2024-01-14|\n",
      "| 15|    marina_bay|Marina Bay Street...|  Marina Bay|Singapore|null|null| 18|http://en.wikiped...|2024-01-15|\n",
      "| 16|          fuji|       Fuji Speedway|       Oyama|    Japan|null|null|583|http://en.wikiped...|2024-01-16|\n",
      "| 17|      shanghai|Shanghai Internat...|    Shanghai|    China|null|null|  5|http://en.wikiped...|2024-01-17|\n",
      "| 18|    interlagos|Autódromo José Ca...|   São Paulo|   Brazil|null|null|785|http://en.wikiped...|2024-01-18|\n",
      "| 19|  indianapolis|Indianapolis Moto...|Indianapolis|      USA|null|null|223|http://en.wikiped...|2024-01-19|\n",
      "| 20|   nurburgring|         Nürburgring|     Nürburg|  Germany|null|null|578|http://en.wikiped...|2024-01-20|\n",
      "+---+--------------+--------------------+------------+---------+----+----+---+--------------------+----------+\n",
      "only showing top 20 rows\n",
      "\n"
     ]
    }
   ],
   "source": [
    "new = [\"a\",\"b\",\"c\", \"d\", \"e\", \"f\", \"g\", \"h\", \"i\", \"j\"]\n",
    "df.toDF(*new).show()"
   ]
  },
  {
   "cell_type": "code",
   "execution_count": 229,
   "metadata": {},
   "outputs": [
    {
     "name": "stdout",
     "output_type": "stream",
     "text": [
      "+---------+--------------+--------------------+----------------+------------+----+----+----+--------------------+----------+\n",
      "|circuitId|    circuitRef|                name|        location|     country| lat| lng| alt|                 url|      date|\n",
      "+---------+--------------+--------------------+----------------+------------+----+----+----+--------------------+----------+\n",
      "|        8|   magny_cours|Circuit de Nevers...|     Magny Cours|      France|null|null| 228|http://en.wikiped...|2024-01-08|\n",
      "|       11|   hungaroring|         Hungaroring|        Budapest|     Hungary|null|null| 264|http://en.wikiped...|2024-01-11|\n",
      "|       13|           spa|Circuit de Spa-Fr...|             Spa|     Belgium|null|null| 401|http://en.wikiped...|2024-01-13|\n",
      "|       16|          fuji|       Fuji Speedway|           Oyama|       Japan|null|null| 583|http://en.wikiped...|2024-01-16|\n",
      "|       18|    interlagos|Autódromo José Ca...|       São Paulo|      Brazil|null|null| 785|http://en.wikiped...|2024-01-18|\n",
      "|       20|   nurburgring|         Nürburgring|         Nürburg|     Germany|null|null| 578|http://en.wikiped...|2024-01-20|\n",
      "|       23|osterreichring|             A1-Ring|       Spielburg|     Austria|null|null| 678|http://en.wikiped...|2024-01-23|\n",
      "|       28|       okayama|Okayama Internati...|         Okayama|       Japan|null|null| 266|http://en.wikiped...|2024-01-28|\n",
      "|       30|       kyalami|             Kyalami|         Midrand|South Africa|null|null|1460|http://en.wikiped...|2024-01-30|\n",
      "|       32|     rodriguez|Autódromo Hermano...|     Mexico City|      Mexico|null|null|2227|http://en.wikiped...|2024-02-01|\n",
      "|       34|        ricard| Circuit Paul Ricard|    Le Castellet|      France|null|null| 432|http://en.wikiped...|2024-02-03|\n",
      "|       36|   jacarepagua|Autódromo Interna...|  Rio de Janeiro|      Brazil|null|null|1126|http://en.wikiped...|2024-02-05|\n",
      "|       41|         dijon|       Dijon-Prenois|           Dijon|      France|null|null| 484|http://en.wikiped...|2024-02-10|\n",
      "|       45|        jarama|              Jarama|          Madrid|       Spain|null|null| 609|http://en.wikiped...|2024-02-14|\n",
      "|       48|       mosport|Mosport Internati...|         Ontario|      Canada|null|null| 332|http://en.wikiped...|2024-02-17|\n",
      "|       51|       charade|     Charade Circuit|Clermont-Ferrand|      France|null|null| 790|http://en.wikiped...|2024-02-20|\n",
      "|       52|     tremblant|Circuit Mont-Trem...|          Quebec|      Canada|null|null| 214|http://en.wikiped...|2024-02-21|\n",
      "|       57|       zeltweg|             Zeltweg|          Styria|     Austria|null|null| 676|http://en.wikiped...|2024-02-26|\n",
      "|       66|    bremgarten|  Circuit Bremgarten|            Bern| Switzerland|null|null| 551|http://en.wikiped...|2024-03-06|\n",
      "|       70| red_bull_ring|       Red Bull Ring|       Spielburg|     Austria|null|null| 678|http://en.wikiped...|2024-03-10|\n",
      "+---------+--------------+--------------------+----------------+------------+----+----+----+--------------------+----------+\n",
      "only showing top 20 rows\n",
      "\n"
     ]
    }
   ],
   "source": [
    "df.filter(~(col(\"country\") == 'USA') & (col(\"alt\") > 200 )).show()"
   ]
  },
  {
   "cell_type": "code",
   "execution_count": 230,
   "metadata": {},
   "outputs": [],
   "source": [
    "a = [\"USA\", \"France\", \"Spain\"]"
   ]
  },
  {
   "cell_type": "code",
   "execution_count": 233,
   "metadata": {},
   "outputs": [
    {
     "name": "stdout",
     "output_type": "stream",
     "text": [
      "+---------+--------------+--------------------+------------+---------+----+----+---+--------------------+----------+\n",
      "|circuitId|    circuitRef|                name|    location|  country| lat| lng|alt|                 url|      date|\n",
      "+---------+--------------+--------------------+------------+---------+----+----+---+--------------------+----------+\n",
      "|        1|   albert_park|Albert Park Grand...|   Melbourne|Australia|null|null| 10|http://en.wikiped...|2024-01-01|\n",
      "|        2|        sepang|Sepang Internatio...|Kuala Lumpur| Malaysia|null|null| 18|http://en.wikiped...|2024-01-02|\n",
      "|        3|       bahrain|Bahrain Internati...|      Sakhir|  Bahrain|null|null|  7|http://en.wikiped...|2024-01-03|\n",
      "|        5|      istanbul|       Istanbul Park|    Istanbul|   Turkey|null|null|130|http://en.wikiped...|2024-01-05|\n",
      "|        6|        monaco|   Circuit de Monaco| Monte-Carlo|   Monaco|null|null|  7|http://en.wikiped...|2024-01-06|\n",
      "|        7|    villeneuve|Circuit Gilles Vi...|    Montreal|   Canada|null|null| 13|http://en.wikiped...|2024-01-07|\n",
      "|        9|   silverstone| Silverstone Circuit| Silverstone|       UK|null|null|153|http://en.wikiped...|2024-01-09|\n",
      "|       10|hockenheimring|      Hockenheimring|  Hockenheim|  Germany|null|null|103|http://en.wikiped...|2024-01-10|\n",
      "|       11|   hungaroring|         Hungaroring|    Budapest|  Hungary|null|null|264|http://en.wikiped...|2024-01-11|\n",
      "|       13|           spa|Circuit de Spa-Fr...|         Spa|  Belgium|null|null|401|http://en.wikiped...|2024-01-13|\n",
      "|       14|         monza|Autodromo Naziona...|       Monza|    Italy|null|null|162|http://en.wikiped...|2024-01-14|\n",
      "|       15|    marina_bay|Marina Bay Street...|  Marina Bay|Singapore|null|null| 18|http://en.wikiped...|2024-01-15|\n",
      "|       16|          fuji|       Fuji Speedway|       Oyama|    Japan|null|null|583|http://en.wikiped...|2024-01-16|\n",
      "|       17|      shanghai|Shanghai Internat...|    Shanghai|    China|null|null|  5|http://en.wikiped...|2024-01-17|\n",
      "|       18|    interlagos|Autódromo José Ca...|   São Paulo|   Brazil|null|null|785|http://en.wikiped...|2024-01-18|\n",
      "|       20|   nurburgring|         Nürburgring|     Nürburg|  Germany|null|null|578|http://en.wikiped...|2024-01-20|\n",
      "|       21|         imola|Autodromo Enzo e ...|       Imola|    Italy|null|null| 37|http://en.wikiped...|2024-01-21|\n",
      "|       22|        suzuka|      Suzuka Circuit|      Suzuka|    Japan|null|null| 45|http://en.wikiped...|2024-01-22|\n",
      "|       23|osterreichring|             A1-Ring|   Spielburg|  Austria|null|null|678|http://en.wikiped...|2024-01-23|\n",
      "|       24|    yas_marina|  Yas Marina Circuit|   Abu Dhabi|      UAE|null|null|  3|http://en.wikiped...|2024-01-24|\n",
      "+---------+--------------+--------------------+------------+---------+----+----+---+--------------------+----------+\n",
      "only showing top 20 rows\n",
      "\n"
     ]
    }
   ],
   "source": [
    "df.filter(~col(\"country\").isin(a)).show()"
   ]
  },
  {
   "cell_type": "code",
   "execution_count": 238,
   "metadata": {},
   "outputs": [
    {
     "name": "stdout",
     "output_type": "stream",
     "text": [
      "+---------+----------+--------------------+------------+--------+----+----+----+--------------------+----------+\n",
      "|circuitId|circuitRef|                name|    location| country| lat| lng| alt|                 url|      date|\n",
      "+---------+----------+--------------------+------------+--------+----+----+----+--------------------+----------+\n",
      "|        2|    sepang|Sepang Internatio...|Kuala Lumpur|Malaysia|null|null|  18|http://en.wikiped...|2024-01-02|\n",
      "|        6|    monaco|   Circuit de Monaco| Monte-Carlo|  Monaco|null|null|   7|http://en.wikiped...|2024-01-06|\n",
      "|       32| rodriguez|Autódromo Hermano...| Mexico City|  Mexico|null|null|2227|http://en.wikiped...|2024-02-01|\n",
      "|       64|  ain-diab|            Ain Diab|  Casablanca| Morocco|null|null|  19|http://en.wikiped...|2024-03-04|\n",
      "+---------+----------+--------------------+------------+--------+----+----+----+--------------------+----------+\n",
      "\n"
     ]
    }
   ],
   "source": [
    "df.filter(col(\"country\").startswith(\"M\")).show()"
   ]
  },
  {
   "cell_type": "code",
   "execution_count": 241,
   "metadata": {},
   "outputs": [
    {
     "name": "stdout",
     "output_type": "stream",
     "text": [
      "+---------+-----------+--------------------+----------------+---------+----+----+---+--------------------+----------+\n",
      "|circuitId| circuitRef|                name|        location|  country| lat| lng|alt|                 url|      date|\n",
      "+---------+-----------+--------------------+----------------+---------+----+----+---+--------------------+----------+\n",
      "|        8|magny_cours|Circuit de Nevers...|     Magny Cours|   France|null|null|228|http://en.wikiped...|2024-01-08|\n",
      "|       15| marina_bay|Marina Bay Street...|      Marina Bay|Singapore|null|null| 18|http://en.wikiped...|2024-01-15|\n",
      "|       34|     ricard| Circuit Paul Ricard|    Le Castellet|   France|null|null|432|http://en.wikiped...|2024-02-03|\n",
      "|       41|      dijon|       Dijon-Prenois|           Dijon|   France|null|null|484|http://en.wikiped...|2024-02-10|\n",
      "|       51|    charade|     Charade Circuit|Clermont-Ferrand|   France|null|null|790|http://en.wikiped...|2024-02-20|\n",
      "|       53|    essarts|   Rouen-Les-Essarts|           Rouen|   France|null|null| 81|http://en.wikiped...|2024-02-22|\n",
      "|       54|     lemans|             Le Mans|         Le Mans|   France|null|null| 67|http://en.wikiped...|2024-02-23|\n",
      "|       55|      reims|         Reims-Gueux|           Reims|   France|null|null| 88|http://en.wikiped...|2024-02-24|\n",
      "+---------+-----------+--------------------+----------------+---------+----+----+---+--------------------+----------+\n",
      "\n"
     ]
    }
   ],
   "source": [
    "df.filter(col(\"country\").endswith(\"e\")).show()"
   ]
  },
  {
   "cell_type": "code",
   "execution_count": 242,
   "metadata": {},
   "outputs": [
    {
     "name": "stdout",
     "output_type": "stream",
     "text": [
      "+---------+--------------+--------------------+---------+---------+----+----+---+--------------------+----------+\n",
      "|circuitId|    circuitRef|                name| location|  country| lat| lng|alt|                 url|      date|\n",
      "+---------+--------------+--------------------+---------+---------+----+----+---+--------------------+----------+\n",
      "|        1|   albert_park|Albert Park Grand...|Melbourne|Australia|null|null| 10|http://en.wikiped...|2024-01-01|\n",
      "|       23|osterreichring|             A1-Ring|Spielburg|  Austria|null|null|678|http://en.wikiped...|2024-01-23|\n",
      "|       29|      adelaide|Adelaide Street C...| Adelaide|Australia|null|null| 58|http://en.wikiped...|2024-01-29|\n",
      "|       57|       zeltweg|             Zeltweg|   Styria|  Austria|null|null|676|http://en.wikiped...|2024-02-26|\n",
      "|       70| red_bull_ring|       Red Bull Ring|Spielburg|  Austria|null|null|678|http://en.wikiped...|2024-03-10|\n",
      "+---------+--------------+--------------------+---------+---------+----+----+---+--------------------+----------+\n",
      "\n"
     ]
    }
   ],
   "source": [
    "df.filter(col(\"country\").contains(\"Aus\")).show()"
   ]
  },
  {
   "cell_type": "code",
   "execution_count": 250,
   "metadata": {},
   "outputs": [
    {
     "name": "stdout",
     "output_type": "stream",
     "text": [
      "+---------+--------------+--------------------+------------+---------+----+----+---+--------------------+----------+\n",
      "|circuitId|    circuitRef|                name|    location|  country| lat| lng|alt|                 url|      date|\n",
      "+---------+--------------+--------------------+------------+---------+----+----+---+--------------------+----------+\n",
      "|        2|        sepang|Sepang Internatio...|Kuala Lumpur| Malaysia|null|null| 18|http://en.wikiped...|2024-01-02|\n",
      "|        3|       bahrain|Bahrain Internati...|      Sakhir|  Bahrain|null|null|  7|http://en.wikiped...|2024-01-03|\n",
      "|        4|     catalunya|Circuit de Barcel...|    Montmeló|    Spain|null|null|109|http://en.wikiped...|2024-01-04|\n",
      "|        5|      istanbul|       Istanbul Park|    Istanbul|   Turkey|null|null|130|http://en.wikiped...|2024-01-05|\n",
      "|        6|        monaco|   Circuit de Monaco| Monte-Carlo|   Monaco|null|null|  7|http://en.wikiped...|2024-01-06|\n",
      "|        7|    villeneuve|Circuit Gilles Vi...|    Montreal|   Canada|null|null| 13|http://en.wikiped...|2024-01-07|\n",
      "|        8|   magny_cours|Circuit de Nevers...| Magny Cours|   France|null|null|228|http://en.wikiped...|2024-01-08|\n",
      "|        9|   silverstone| Silverstone Circuit| Silverstone|       UK|null|null|153|http://en.wikiped...|2024-01-09|\n",
      "|       10|hockenheimring|      Hockenheimring|  Hockenheim|  Germany|null|null|103|http://en.wikiped...|2024-01-10|\n",
      "|       11|   hungaroring|         Hungaroring|    Budapest|  Hungary|null|null|264|http://en.wikiped...|2024-01-11|\n",
      "|       12|      valencia|Valencia Street C...|    Valencia|    Spain|null|null|  4|http://en.wikiped...|2024-01-12|\n",
      "|       13|           spa|Circuit de Spa-Fr...|         Spa|  Belgium|null|null|401|http://en.wikiped...|2024-01-13|\n",
      "|       14|         monza|Autodromo Naziona...|       Monza|    Italy|null|null|162|http://en.wikiped...|2024-01-14|\n",
      "|       15|    marina_bay|Marina Bay Street...|  Marina Bay|Singapore|null|null| 18|http://en.wikiped...|2024-01-15|\n",
      "|       16|          fuji|       Fuji Speedway|       Oyama|    Japan|null|null|583|http://en.wikiped...|2024-01-16|\n",
      "|       17|      shanghai|Shanghai Internat...|    Shanghai|    China|null|null|  5|http://en.wikiped...|2024-01-17|\n",
      "|       18|    interlagos|Autódromo José Ca...|   São Paulo|   Brazil|null|null|785|http://en.wikiped...|2024-01-18|\n",
      "|       19|  indianapolis|Indianapolis Moto...|Indianapolis|      USA|null|null|223|http://en.wikiped...|2024-01-19|\n",
      "|       20|   nurburgring|         Nürburgring|     Nürburg|  Germany|null|null|578|http://en.wikiped...|2024-01-20|\n",
      "|       21|         imola|Autodromo Enzo e ...|       Imola|    Italy|null|null| 37|http://en.wikiped...|2024-01-21|\n",
      "+---------+--------------+--------------------+------------+---------+----+----+---+--------------------+----------+\n",
      "only showing top 20 rows\n",
      "\n"
     ]
    }
   ],
   "source": [
    "df.filter(~col(\"country\").like(\"%Aus%\")).show()"
   ]
  },
  {
   "cell_type": "code",
   "execution_count": 256,
   "metadata": {},
   "outputs": [
    {
     "name": "stdout",
     "output_type": "stream",
     "text": [
      "+---------+----------+--------------------+------------+---------+----+----+---+--------------------+----------+\n",
      "|circuitId|circuitRef|                name|    location|  country| lat| lng|alt|                 url|      date|\n",
      "+---------+----------+--------------------+------------+---------+----+----+---+--------------------+----------+\n",
      "|       17|  shanghai|Shanghai Internat...|    Shanghai|    China|null|null|  5|http://en.wikiped...|2024-01-17|\n",
      "|       25|    galvez|Autódromo Juan y ...|Buenos Aires|Argentina|null|null|  8|http://en.wikiped...|2024-01-25|\n",
      "+---------+----------+--------------------+------------+---------+----+----+---+--------------------+----------+\n",
      "\n"
     ]
    }
   ],
   "source": [
    "df.filter(col(\"country\").rlike(\"(?i)^*NA$\")).show()"
   ]
  },
  {
   "cell_type": "code",
   "execution_count": 257,
   "metadata": {},
   "outputs": [],
   "source": [
    "from pyspark.sql.functions import array_contains"
   ]
  },
  {
   "cell_type": "code",
   "execution_count": 261,
   "metadata": {},
   "outputs": [
    {
     "ename": "AnalysisException",
     "evalue": "cannot resolve 'array_contains(country, 'Au')' due to data type mismatch: Input to function array_contains should have been array followed by a value with same element type, but it's [string, string].;\n'Filter array_contains(country#2576, Au)\n+- Relation [circuitId#2572,circuitRef#2573,name#2574,location#2575,country#2576,lat#2577,lng#2578,alt#2579,url#2580,date#2581] csv\n",
     "output_type": "error",
     "traceback": [
      "\u001b[1;31m---------------------------------------------------------------------------\u001b[0m",
      "\u001b[1;31mAnalysisException\u001b[0m                         Traceback (most recent call last)",
      "\u001b[1;32m<ipython-input-261-f20601ce915a>\u001b[0m in \u001b[0;36m<module>\u001b[1;34m\u001b[0m\n\u001b[1;32m----> 1\u001b[1;33m \u001b[0mdf\u001b[0m\u001b[1;33m.\u001b[0m\u001b[0mfilter\u001b[0m\u001b[1;33m(\u001b[0m\u001b[0marray_contains\u001b[0m\u001b[1;33m(\u001b[0m\u001b[0mdf\u001b[0m\u001b[1;33m.\u001b[0m\u001b[0mcountry\u001b[0m\u001b[1;33m,\u001b[0m \u001b[1;34m\"Au\"\u001b[0m\u001b[1;33m)\u001b[0m\u001b[1;33m)\u001b[0m\u001b[1;33m\u001b[0m\u001b[1;33m\u001b[0m\u001b[0m\n\u001b[0m",
      "\u001b[1;32mC:\\ProgramData\\Anaconda3\\lib\\site-packages\\pyspark\\sql\\dataframe.py\u001b[0m in \u001b[0;36mfilter\u001b[1;34m(self, condition)\u001b[0m\n\u001b[0;32m   1731\u001b[0m             \u001b[0mjdf\u001b[0m \u001b[1;33m=\u001b[0m \u001b[0mself\u001b[0m\u001b[1;33m.\u001b[0m\u001b[0m_jdf\u001b[0m\u001b[1;33m.\u001b[0m\u001b[0mfilter\u001b[0m\u001b[1;33m(\u001b[0m\u001b[0mcondition\u001b[0m\u001b[1;33m)\u001b[0m\u001b[1;33m\u001b[0m\u001b[1;33m\u001b[0m\u001b[0m\n\u001b[0;32m   1732\u001b[0m         \u001b[1;32melif\u001b[0m \u001b[0misinstance\u001b[0m\u001b[1;33m(\u001b[0m\u001b[0mcondition\u001b[0m\u001b[1;33m,\u001b[0m \u001b[0mColumn\u001b[0m\u001b[1;33m)\u001b[0m\u001b[1;33m:\u001b[0m\u001b[1;33m\u001b[0m\u001b[1;33m\u001b[0m\u001b[0m\n\u001b[1;32m-> 1733\u001b[1;33m             \u001b[0mjdf\u001b[0m \u001b[1;33m=\u001b[0m \u001b[0mself\u001b[0m\u001b[1;33m.\u001b[0m\u001b[0m_jdf\u001b[0m\u001b[1;33m.\u001b[0m\u001b[0mfilter\u001b[0m\u001b[1;33m(\u001b[0m\u001b[0mcondition\u001b[0m\u001b[1;33m.\u001b[0m\u001b[0m_jc\u001b[0m\u001b[1;33m)\u001b[0m\u001b[1;33m\u001b[0m\u001b[1;33m\u001b[0m\u001b[0m\n\u001b[0m\u001b[0;32m   1734\u001b[0m         \u001b[1;32melse\u001b[0m\u001b[1;33m:\u001b[0m\u001b[1;33m\u001b[0m\u001b[1;33m\u001b[0m\u001b[0m\n\u001b[0;32m   1735\u001b[0m             \u001b[1;32mraise\u001b[0m \u001b[0mTypeError\u001b[0m\u001b[1;33m(\u001b[0m\u001b[1;34m\"condition should be string or Column\"\u001b[0m\u001b[1;33m)\u001b[0m\u001b[1;33m\u001b[0m\u001b[1;33m\u001b[0m\u001b[0m\n",
      "\u001b[1;32mC:\\ProgramData\\Anaconda3\\lib\\site-packages\\py4j\\java_gateway.py\u001b[0m in \u001b[0;36m__call__\u001b[1;34m(self, *args)\u001b[0m\n\u001b[0;32m   1307\u001b[0m \u001b[1;33m\u001b[0m\u001b[0m\n\u001b[0;32m   1308\u001b[0m         \u001b[0manswer\u001b[0m \u001b[1;33m=\u001b[0m \u001b[0mself\u001b[0m\u001b[1;33m.\u001b[0m\u001b[0mgateway_client\u001b[0m\u001b[1;33m.\u001b[0m\u001b[0msend_command\u001b[0m\u001b[1;33m(\u001b[0m\u001b[0mcommand\u001b[0m\u001b[1;33m)\u001b[0m\u001b[1;33m\u001b[0m\u001b[1;33m\u001b[0m\u001b[0m\n\u001b[1;32m-> 1309\u001b[1;33m         return_value = get_return_value(\n\u001b[0m\u001b[0;32m   1310\u001b[0m             answer, self.gateway_client, self.target_id, self.name)\n\u001b[0;32m   1311\u001b[0m \u001b[1;33m\u001b[0m\u001b[0m\n",
      "\u001b[1;32mC:\\ProgramData\\Anaconda3\\lib\\site-packages\\pyspark\\sql\\utils.py\u001b[0m in \u001b[0;36mdeco\u001b[1;34m(*a, **kw)\u001b[0m\n\u001b[0;32m    115\u001b[0m                 \u001b[1;31m# Hide where the exception came from that shows a non-Pythonic\u001b[0m\u001b[1;33m\u001b[0m\u001b[1;33m\u001b[0m\u001b[1;33m\u001b[0m\u001b[0m\n\u001b[0;32m    116\u001b[0m                 \u001b[1;31m# JVM exception message.\u001b[0m\u001b[1;33m\u001b[0m\u001b[1;33m\u001b[0m\u001b[1;33m\u001b[0m\u001b[0m\n\u001b[1;32m--> 117\u001b[1;33m                 \u001b[1;32mraise\u001b[0m \u001b[0mconverted\u001b[0m \u001b[1;32mfrom\u001b[0m \u001b[1;32mNone\u001b[0m\u001b[1;33m\u001b[0m\u001b[1;33m\u001b[0m\u001b[0m\n\u001b[0m\u001b[0;32m    118\u001b[0m             \u001b[1;32melse\u001b[0m\u001b[1;33m:\u001b[0m\u001b[1;33m\u001b[0m\u001b[1;33m\u001b[0m\u001b[0m\n\u001b[0;32m    119\u001b[0m                 \u001b[1;32mraise\u001b[0m\u001b[1;33m\u001b[0m\u001b[1;33m\u001b[0m\u001b[0m\n",
      "\u001b[1;31mAnalysisException\u001b[0m: cannot resolve 'array_contains(country, 'Au')' due to data type mismatch: Input to function array_contains should have been array followed by a value with same element type, but it's [string, string].;\n'Filter array_contains(country#2576, Au)\n+- Relation [circuitId#2572,circuitRef#2573,name#2574,location#2575,country#2576,lat#2577,lng#2578,alt#2579,url#2580,date#2581] csv\n"
     ]
    }
   ],
   "source": [
    "df.filter(array_contains(df.country, \"Au\"))"
   ]
  },
  {
   "cell_type": "code",
   "execution_count": 264,
   "metadata": {},
   "outputs": [
    {
     "data": {
      "text/plain": [
       "77"
      ]
     },
     "execution_count": 264,
     "metadata": {},
     "output_type": "execute_result"
    }
   ],
   "source": [
    "df.count()"
   ]
  },
  {
   "cell_type": "code",
   "execution_count": 268,
   "metadata": {},
   "outputs": [
    {
     "data": {
      "text/plain": [
       "77"
      ]
     },
     "execution_count": 268,
     "metadata": {},
     "output_type": "execute_result"
    }
   ],
   "source": [
    "df.distinct().count()"
   ]
  },
  {
   "cell_type": "code",
   "execution_count": 271,
   "metadata": {},
   "outputs": [
    {
     "data": {
      "text/plain": [
       "77"
      ]
     },
     "execution_count": 271,
     "metadata": {},
     "output_type": "execute_result"
    }
   ],
   "source": [
    "df.dropDuplicates().count()"
   ]
  },
  {
   "cell_type": "code",
   "execution_count": 282,
   "metadata": {},
   "outputs": [
    {
     "name": "stdout",
     "output_type": "stream",
     "text": [
      "+---------+--------------+--------------------+--------------------+------------+----+----+----+--------------------+----------+\n",
      "|circuitId|    circuitRef|                name|            location|     country| lat| lng| alt|                 url|      date|\n",
      "+---------+--------------+--------------------+--------------------+------------+----+----+----+--------------------+----------+\n",
      "|       25|        galvez|Autódromo Juan y ...|        Buenos Aires|   Argentina|null|null|   8|http://en.wikiped...|2024-01-25|\n",
      "|       29|      adelaide|Adelaide Street C...|            Adelaide|   Australia|null|null|  58|http://en.wikiped...|2024-01-29|\n",
      "|        1|   albert_park|Albert Park Grand...|           Melbourne|   Australia|null|null|  10|http://en.wikiped...|2024-01-01|\n",
      "|       23|osterreichring|             A1-Ring|           Spielburg|     Austria|null|null| 678|http://en.wikiped...|2024-01-23|\n",
      "|       57|       zeltweg|             Zeltweg|              Styria|     Austria|null|null| 676|http://en.wikiped...|2024-02-26|\n",
      "|       73|           BAK|   Baku City Circuit|                Baku|  Azerbaijan|null|null|  -7|http://en.wikiped...|2024-03-13|\n",
      "|        3|       bahrain|Bahrain Internati...|              Sakhir|     Bahrain|null|null|   7|http://en.wikiped...|2024-01-03|\n",
      "|       50|      nivelles|    Nivelles-Baulers|            Brussels|     Belgium|null|null| 139|http://en.wikiped...|2024-02-19|\n",
      "|       40|        zolder|              Zolder|      Heusden-Zolder|     Belgium|null|null|  36|http://en.wikiped...|2024-02-09|\n",
      "|       13|           spa|Circuit de Spa-Fr...|                 Spa|     Belgium|null|null| 401|http://en.wikiped...|2024-01-13|\n",
      "|       36|   jacarepagua|Autódromo Interna...|      Rio de Janeiro|      Brazil|null|null|1126|http://en.wikiped...|2024-02-05|\n",
      "|       18|    interlagos|Autódromo José Ca...|           São Paulo|      Brazil|null|null| 785|http://en.wikiped...|2024-01-18|\n",
      "|        7|    villeneuve|Circuit Gilles Vi...|            Montreal|      Canada|null|null|  13|http://en.wikiped...|2024-01-07|\n",
      "|       48|       mosport|Mosport Internati...|             Ontario|      Canada|null|null| 332|http://en.wikiped...|2024-02-17|\n",
      "|       52|     tremblant|Circuit Mont-Trem...|              Quebec|      Canada|null|null| 214|http://en.wikiped...|2024-02-21|\n",
      "|       17|      shanghai|Shanghai Internat...|            Shanghai|       China|null|null|   5|http://en.wikiped...|2024-01-17|\n",
      "|       51|       charade|     Charade Circuit|    Clermont-Ferrand|      France|null|null| 790|http://en.wikiped...|2024-02-20|\n",
      "|       41|         dijon|       Dijon-Prenois|               Dijon|      France|null|null| 484|http://en.wikiped...|2024-02-10|\n",
      "|       34|        ricard| Circuit Paul Ricard|        Le Castellet|      France|null|null| 432|http://en.wikiped...|2024-02-03|\n",
      "|       54|        lemans|             Le Mans|             Le Mans|      France|null|null|  67|http://en.wikiped...|2024-02-23|\n",
      "|        8|   magny_cours|Circuit de Nevers...|         Magny Cours|      France|null|null| 228|http://en.wikiped...|2024-01-08|\n",
      "|       55|         reims|         Reims-Gueux|               Reims|      France|null|null|  88|http://en.wikiped...|2024-02-24|\n",
      "|       53|       essarts|   Rouen-Les-Essarts|               Rouen|      France|null|null|  81|http://en.wikiped...|2024-02-22|\n",
      "|       61|          avus|                AVUS|              Berlin|     Germany|null|null|  53|http://en.wikiped...|2024-03-01|\n",
      "|       10|hockenheimring|      Hockenheimring|          Hockenheim|     Germany|null|null| 103|http://en.wikiped...|2024-01-10|\n",
      "|       20|   nurburgring|         Nürburgring|             Nürburg|     Germany|null|null| 578|http://en.wikiped...|2024-01-20|\n",
      "|       11|   hungaroring|         Hungaroring|            Budapest|     Hungary|null|null| 264|http://en.wikiped...|2024-01-11|\n",
      "|       68|         buddh|Buddh Internation...|       Uttar Pradesh|       India|null|null| 194|http://en.wikiped...|2024-03-08|\n",
      "|       21|         imola|Autodromo Enzo e ...|               Imola|       Italy|null|null|  37|http://en.wikiped...|2024-01-21|\n",
      "|       14|         monza|Autodromo Naziona...|               Monza|       Italy|null|null| 162|http://en.wikiped...|2024-01-14|\n",
      "|       76|       mugello|Autodromo Interna...|             Mugello|       Italy|null|null| 255|http://en.wikiped...|2024-03-16|\n",
      "|       65|       pescara|     Pescara Circuit|             Pescara|       Italy|null|null| 129|http://en.wikiped...|2024-03-05|\n",
      "|       28|       okayama|Okayama Internati...|             Okayama|       Japan|null|null| 266|http://en.wikiped...|2024-01-28|\n",
      "|       16|          fuji|       Fuji Speedway|               Oyama|       Japan|null|null| 583|http://en.wikiped...|2024-01-16|\n",
      "|       22|        suzuka|      Suzuka Circuit|              Suzuka|       Japan|null|null|  45|http://en.wikiped...|2024-01-22|\n",
      "|       35|       yeongam|Korean Internatio...|      Yeongam County|       Korea|null|null|   0|http://en.wikiped...|2024-02-04|\n",
      "|        2|        sepang|Sepang Internatio...|        Kuala Lumpur|    Malaysia|null|null|  18|http://en.wikiped...|2024-01-02|\n",
      "|       32|     rodriguez|Autódromo Hermano...|         Mexico City|      Mexico|null|null|2227|http://en.wikiped...|2024-02-01|\n",
      "|        6|        monaco|   Circuit de Monaco|         Monte-Carlo|      Monaco|null|null|   7|http://en.wikiped...|2024-01-06|\n",
      "|       64|      ain-diab|            Ain Diab|          Casablanca|     Morocco|null|null|  19|http://en.wikiped...|2024-03-04|\n",
      "|       39|     zandvoort|Circuit Park Zand...|           Zandvoort| Netherlands|null|null|   6|http://en.wikiped...|2024-02-08|\n",
      "|       27|       estoril|Autódromo do Estoril|             Estoril|    Portugal|null|null| 130|http://en.wikiped...|2024-01-27|\n",
      "|       62|      monsanto|Monsanto Park Cir...|              Lisbon|    Portugal|null|null| 158|http://en.wikiped...|2024-03-02|\n",
      "|       59|      boavista|Circuito da Boavista|              Oporto|    Portugal|null|null|  28|http://en.wikiped...|2024-02-28|\n",
      "|       75|      portimao|Autódromo Interna...|            Portimão|    Portugal|null|null| 108|http://en.wikiped...|2024-03-15|\n",
      "|       71|         sochi|      Sochi Autodrom|               Sochi|      Russia|null|null|   2|http://en.wikiped...|2024-03-11|\n",
      "|       77|        jeddah|Jeddah Street Cir...|              Jeddah|Saudi Arabia|null|null|  15|http://en.wikiped...|2024-03-17|\n",
      "|       15|    marina_bay|Marina Bay Street...|          Marina Bay|   Singapore|null|null|  18|http://en.wikiped...|2024-01-15|\n",
      "|       56|        george|Prince George Cir...|Eastern Cape Prov...|South Africa|null|null|  15|http://en.wikiped...|2024-02-25|\n",
      "|       30|       kyalami|             Kyalami|             Midrand|South Africa|null|null|1460|http://en.wikiped...|2024-01-30|\n",
      "|       49|      montjuic|            Montjuïc|           Barcelona|       Spain|null|null|  79|http://en.wikiped...|2024-02-18|\n",
      "|       26|         jerez|   Circuito de Jerez|Jerez de la Frontera|       Spain|null|null|  37|http://en.wikiped...|2024-01-26|\n",
      "|       45|        jarama|              Jarama|              Madrid|       Spain|null|null| 609|http://en.wikiped...|2024-02-14|\n",
      "|        4|     catalunya|Circuit de Barcel...|            Montmeló|       Spain|null|null| 109|http://en.wikiped...|2024-01-04|\n",
      "|       12|      valencia|Valencia Street C...|            Valencia|       Spain|null|null|   4|http://en.wikiped...|2024-01-12|\n",
      "|       47|    anderstorp|Scandinavian Raceway|          Anderstorp|      Sweden|null|null| 153|http://en.wikiped...|2024-02-16|\n",
      "|       66|    bremgarten|  Circuit Bremgarten|                Bern| Switzerland|null|null| 551|http://en.wikiped...|2024-03-06|\n",
      "|        5|      istanbul|       Istanbul Park|            Istanbul|      Turkey|null|null| 130|http://en.wikiped...|2024-01-05|\n",
      "|       24|    yas_marina|  Yas Marina Circuit|           Abu Dhabi|         UAE|null|null|   3|http://en.wikiped...|2024-01-24|\n",
      "|       31|     donington|      Donington Park|    Castle Donington|          UK|null|null|  88|http://en.wikiped...|2024-01-31|\n",
      "|       38|  brands_hatch|        Brands Hatch|                Kent|          UK|null|null| 145|http://en.wikiped...|2024-02-07|\n",
      "|       58|       aintree|             Aintree|           Liverpool|          UK|null|null|  20|http://en.wikiped...|2024-02-27|\n",
      "|        9|   silverstone| Silverstone Circuit|         Silverstone|          UK|null|null| 153|http://en.wikiped...|2024-01-09|\n",
      "|       69|      americas|Circuit of the Am...|              Austin|         USA|null|null| 161|http://en.wikiped...|2024-03-09|\n",
      "|       43|    long_beach|          Long Beach|          California|         USA|null|null|  12|http://en.wikiped...|2024-02-12|\n",
      "|       42|        dallas|           Fair Park|              Dallas|         USA|null|null| 139|http://en.wikiped...|2024-02-11|\n",
      "|       37|       detroit|Detroit Street Ci...|             Detroit|         USA|null|null| 177|http://en.wikiped...|2024-02-06|\n",
      "|       63|       sebring|Sebring Internati...|             Florida|         USA|null|null|  18|http://en.wikiped...|2024-03-03|\n",
      "|       19|  indianapolis|Indianapolis Moto...|        Indianapolis|         USA|null|null| 223|http://en.wikiped...|2024-01-19|\n",
      "|       44|     las_vegas|Las Vegas Street ...|              Nevada|         USA|null|null| 639|http://en.wikiped...|2024-02-13|\n",
      "|       72| port_imperial|Port Imperial Str...|          New Jersey|         USA|null|null|   4|http://en.wikiped...|2024-03-12|\n",
      "|       46|  watkins_glen|        Watkins Glen|      New York State|         USA|null|null| 485|http://en.wikiped...|2024-02-15|\n",
      "|       33|       phoenix|Phoenix street ci...|             Phoenix|         USA|null|null| 345|http://en.wikiped...|2024-02-02|\n",
      "|       74|         hanoi|Hanoi Street Circuit|               Hanoi|     Vietnam|null|null|   9|http://en.wikiped...|2024-03-14|\n",
      "+---------+--------------+--------------------+--------------------+------------+----+----+----+--------------------+----------+\n",
      "\n"
     ]
    }
   ],
   "source": [
    "df.dropDuplicates([\"country\", \"location\"]).show(77)"
   ]
  },
  {
   "cell_type": "code",
   "execution_count": 283,
   "metadata": {},
   "outputs": [
    {
     "name": "stdout",
     "output_type": "stream",
     "text": [
      "+---------+--------------+--------------------+--------------------+------------+----+----+----+--------------------+----------+\n",
      "|circuitId|    circuitRef|                name|            location|     country| lat| lng| alt|                 url|      date|\n",
      "+---------+--------------+--------------------+--------------------+------------+----+----+----+--------------------+----------+\n",
      "|       25|        galvez|Autódromo Juan y ...|        Buenos Aires|   Argentina|null|null|   8|http://en.wikiped...|2024-01-25|\n",
      "|        1|   albert_park|Albert Park Grand...|           Melbourne|   Australia|null|null|  10|http://en.wikiped...|2024-01-01|\n",
      "|       29|      adelaide|Adelaide Street C...|            Adelaide|   Australia|null|null|  58|http://en.wikiped...|2024-01-29|\n",
      "|       23|osterreichring|             A1-Ring|           Spielburg|     Austria|null|null| 678|http://en.wikiped...|2024-01-23|\n",
      "|       70| red_bull_ring|       Red Bull Ring|           Spielburg|     Austria|null|null| 678|http://en.wikiped...|2024-03-10|\n",
      "|       57|       zeltweg|             Zeltweg|              Styria|     Austria|null|null| 676|http://en.wikiped...|2024-02-26|\n",
      "|       73|           BAK|   Baku City Circuit|                Baku|  Azerbaijan|null|null|  -7|http://en.wikiped...|2024-03-13|\n",
      "|        3|       bahrain|Bahrain Internati...|              Sakhir|     Bahrain|null|null|   7|http://en.wikiped...|2024-01-03|\n",
      "|       50|      nivelles|    Nivelles-Baulers|            Brussels|     Belgium|null|null| 139|http://en.wikiped...|2024-02-19|\n",
      "|       13|           spa|Circuit de Spa-Fr...|                 Spa|     Belgium|null|null| 401|http://en.wikiped...|2024-01-13|\n",
      "|       40|        zolder|              Zolder|      Heusden-Zolder|     Belgium|null|null|  36|http://en.wikiped...|2024-02-09|\n",
      "|       18|    interlagos|Autódromo José Ca...|           São Paulo|      Brazil|null|null| 785|http://en.wikiped...|2024-01-18|\n",
      "|       36|   jacarepagua|Autódromo Interna...|      Rio de Janeiro|      Brazil|null|null|1126|http://en.wikiped...|2024-02-05|\n",
      "|       48|       mosport|Mosport Internati...|             Ontario|      Canada|null|null| 332|http://en.wikiped...|2024-02-17|\n",
      "|        7|    villeneuve|Circuit Gilles Vi...|            Montreal|      Canada|null|null|  13|http://en.wikiped...|2024-01-07|\n",
      "|       52|     tremblant|Circuit Mont-Trem...|              Quebec|      Canada|null|null| 214|http://en.wikiped...|2024-02-21|\n",
      "|       17|      shanghai|Shanghai Internat...|            Shanghai|       China|null|null|   5|http://en.wikiped...|2024-01-17|\n",
      "|       41|         dijon|       Dijon-Prenois|               Dijon|      France|null|null| 484|http://en.wikiped...|2024-02-10|\n",
      "|       51|       charade|     Charade Circuit|    Clermont-Ferrand|      France|null|null| 790|http://en.wikiped...|2024-02-20|\n",
      "|       53|       essarts|   Rouen-Les-Essarts|               Rouen|      France|null|null|  81|http://en.wikiped...|2024-02-22|\n",
      "|       54|        lemans|             Le Mans|             Le Mans|      France|null|null|  67|http://en.wikiped...|2024-02-23|\n",
      "|        8|   magny_cours|Circuit de Nevers...|         Magny Cours|      France|null|null| 228|http://en.wikiped...|2024-01-08|\n",
      "|       55|         reims|         Reims-Gueux|               Reims|      France|null|null|  88|http://en.wikiped...|2024-02-24|\n",
      "|       34|        ricard| Circuit Paul Ricard|        Le Castellet|      France|null|null| 432|http://en.wikiped...|2024-02-03|\n",
      "|       61|          avus|                AVUS|              Berlin|     Germany|null|null|  53|http://en.wikiped...|2024-03-01|\n",
      "|       20|   nurburgring|         Nürburgring|             Nürburg|     Germany|null|null| 578|http://en.wikiped...|2024-01-20|\n",
      "|       10|hockenheimring|      Hockenheimring|          Hockenheim|     Germany|null|null| 103|http://en.wikiped...|2024-01-10|\n",
      "|       11|   hungaroring|         Hungaroring|            Budapest|     Hungary|null|null| 264|http://en.wikiped...|2024-01-11|\n",
      "|       68|         buddh|Buddh Internation...|       Uttar Pradesh|       India|null|null| 194|http://en.wikiped...|2024-03-08|\n",
      "|       65|       pescara|     Pescara Circuit|             Pescara|       Italy|null|null| 129|http://en.wikiped...|2024-03-05|\n",
      "|       21|         imola|Autodromo Enzo e ...|               Imola|       Italy|null|null|  37|http://en.wikiped...|2024-01-21|\n",
      "|       76|       mugello|Autodromo Interna...|             Mugello|       Italy|null|null| 255|http://en.wikiped...|2024-03-16|\n",
      "|       14|         monza|Autodromo Naziona...|               Monza|       Italy|null|null| 162|http://en.wikiped...|2024-01-14|\n",
      "|       16|          fuji|       Fuji Speedway|               Oyama|       Japan|null|null| 583|http://en.wikiped...|2024-01-16|\n",
      "|       28|       okayama|Okayama Internati...|             Okayama|       Japan|null|null| 266|http://en.wikiped...|2024-01-28|\n",
      "|       22|        suzuka|      Suzuka Circuit|              Suzuka|       Japan|null|null|  45|http://en.wikiped...|2024-01-22|\n",
      "|       35|       yeongam|Korean Internatio...|      Yeongam County|       Korea|null|null|   0|http://en.wikiped...|2024-02-04|\n",
      "|        2|        sepang|Sepang Internatio...|        Kuala Lumpur|    Malaysia|null|null|  18|http://en.wikiped...|2024-01-02|\n",
      "|       32|     rodriguez|Autódromo Hermano...|         Mexico City|      Mexico|null|null|2227|http://en.wikiped...|2024-02-01|\n",
      "|        6|        monaco|   Circuit de Monaco|         Monte-Carlo|      Monaco|null|null|   7|http://en.wikiped...|2024-01-06|\n",
      "|       64|      ain-diab|            Ain Diab|          Casablanca|     Morocco|null|null|  19|http://en.wikiped...|2024-03-04|\n",
      "|       39|     zandvoort|Circuit Park Zand...|           Zandvoort| Netherlands|null|null|   6|http://en.wikiped...|2024-02-08|\n",
      "|       59|      boavista|Circuito da Boavista|              Oporto|    Portugal|null|null|  28|http://en.wikiped...|2024-02-28|\n",
      "|       62|      monsanto|Monsanto Park Cir...|              Lisbon|    Portugal|null|null| 158|http://en.wikiped...|2024-03-02|\n",
      "|       75|      portimao|Autódromo Interna...|            Portimão|    Portugal|null|null| 108|http://en.wikiped...|2024-03-15|\n",
      "|       27|       estoril|Autódromo do Estoril|             Estoril|    Portugal|null|null| 130|http://en.wikiped...|2024-01-27|\n",
      "|       71|         sochi|      Sochi Autodrom|               Sochi|      Russia|null|null|   2|http://en.wikiped...|2024-03-11|\n",
      "|       77|        jeddah|Jeddah Street Cir...|              Jeddah|Saudi Arabia|null|null|  15|http://en.wikiped...|2024-03-17|\n",
      "|       15|    marina_bay|Marina Bay Street...|          Marina Bay|   Singapore|null|null|  18|http://en.wikiped...|2024-01-15|\n",
      "|       30|       kyalami|             Kyalami|             Midrand|South Africa|null|null|1460|http://en.wikiped...|2024-01-30|\n",
      "|       56|        george|Prince George Cir...|Eastern Cape Prov...|South Africa|null|null|  15|http://en.wikiped...|2024-02-25|\n",
      "|       26|         jerez|   Circuito de Jerez|Jerez de la Frontera|       Spain|null|null|  37|http://en.wikiped...|2024-01-26|\n",
      "|       45|        jarama|              Jarama|              Madrid|       Spain|null|null| 609|http://en.wikiped...|2024-02-14|\n",
      "|       12|      valencia|Valencia Street C...|            Valencia|       Spain|null|null|   4|http://en.wikiped...|2024-01-12|\n",
      "|       49|      montjuic|            Montjuïc|           Barcelona|       Spain|null|null|  79|http://en.wikiped...|2024-02-18|\n",
      "|        4|     catalunya|Circuit de Barcel...|            Montmeló|       Spain|null|null| 109|http://en.wikiped...|2024-01-04|\n",
      "|       67|     pedralbes|Circuit de Pedralbes|           Barcelona|       Spain|null|null|  85|http://en.wikiped...|2024-03-07|\n",
      "|       47|    anderstorp|Scandinavian Raceway|          Anderstorp|      Sweden|null|null| 153|http://en.wikiped...|2024-02-16|\n",
      "|       66|    bremgarten|  Circuit Bremgarten|                Bern| Switzerland|null|null| 551|http://en.wikiped...|2024-03-06|\n",
      "|        5|      istanbul|       Istanbul Park|            Istanbul|      Turkey|null|null| 130|http://en.wikiped...|2024-01-05|\n",
      "|       24|    yas_marina|  Yas Marina Circuit|           Abu Dhabi|         UAE|null|null|   3|http://en.wikiped...|2024-01-24|\n",
      "|       31|     donington|      Donington Park|    Castle Donington|          UK|null|null|  88|http://en.wikiped...|2024-01-31|\n",
      "|       58|       aintree|             Aintree|           Liverpool|          UK|null|null|  20|http://en.wikiped...|2024-02-27|\n",
      "|       38|  brands_hatch|        Brands Hatch|                Kent|          UK|null|null| 145|http://en.wikiped...|2024-02-07|\n",
      "|        9|   silverstone| Silverstone Circuit|         Silverstone|          UK|null|null| 153|http://en.wikiped...|2024-01-09|\n",
      "|       19|  indianapolis|Indianapolis Moto...|        Indianapolis|         USA|null|null| 223|http://en.wikiped...|2024-01-19|\n",
      "|       33|       phoenix|Phoenix street ci...|             Phoenix|         USA|null|null| 345|http://en.wikiped...|2024-02-02|\n",
      "|       42|        dallas|           Fair Park|              Dallas|         USA|null|null| 139|http://en.wikiped...|2024-02-11|\n",
      "|       37|       detroit|Detroit Street Ci...|             Detroit|         USA|null|null| 177|http://en.wikiped...|2024-02-06|\n",
      "|       43|    long_beach|          Long Beach|          California|         USA|null|null|  12|http://en.wikiped...|2024-02-12|\n",
      "|       60|     riverside|Riverside Interna...|          California|         USA|null|null| 470|http://en.wikiped...|2024-02-29|\n",
      "|       46|  watkins_glen|        Watkins Glen|      New York State|         USA|null|null| 485|http://en.wikiped...|2024-02-15|\n",
      "|       44|     las_vegas|Las Vegas Street ...|              Nevada|         USA|null|null| 639|http://en.wikiped...|2024-02-13|\n",
      "|       63|       sebring|Sebring Internati...|             Florida|         USA|null|null|  18|http://en.wikiped...|2024-03-03|\n",
      "|       72| port_imperial|Port Imperial Str...|          New Jersey|         USA|null|null|   4|http://en.wikiped...|2024-03-12|\n",
      "|       69|      americas|Circuit of the Am...|              Austin|         USA|null|null| 161|http://en.wikiped...|2024-03-09|\n",
      "|       74|         hanoi|Hanoi Street Circuit|               Hanoi|     Vietnam|null|null|   9|http://en.wikiped...|2024-03-14|\n",
      "+---------+--------------+--------------------+--------------------+------------+----+----+----+--------------------+----------+\n",
      "\n"
     ]
    }
   ],
   "source": [
    "df.orderBy(\"country\").show(77)"
   ]
  },
  {
   "cell_type": "code",
   "execution_count": 287,
   "metadata": {},
   "outputs": [
    {
     "name": "stdout",
     "output_type": "stream",
     "text": [
      "+---------+--------------+--------------------+--------------------+------------+----+----+----+--------------------+----------+\n",
      "|circuitId|    circuitRef|                name|            location|     country| lat| lng| alt|                 url|      date|\n",
      "+---------+--------------+--------------------+--------------------+------------+----+----+----+--------------------+----------+\n",
      "|       25|        galvez|Autódromo Juan y ...|        Buenos Aires|   Argentina|null|null|   8|http://en.wikiped...|2024-01-25|\n",
      "|       29|      adelaide|Adelaide Street C...|            Adelaide|   Australia|null|null|  58|http://en.wikiped...|2024-01-29|\n",
      "|        1|   albert_park|Albert Park Grand...|           Melbourne|   Australia|null|null|  10|http://en.wikiped...|2024-01-01|\n",
      "|       23|osterreichring|             A1-Ring|           Spielburg|     Austria|null|null| 678|http://en.wikiped...|2024-01-23|\n",
      "|       70| red_bull_ring|       Red Bull Ring|           Spielburg|     Austria|null|null| 678|http://en.wikiped...|2024-03-10|\n",
      "|       57|       zeltweg|             Zeltweg|              Styria|     Austria|null|null| 676|http://en.wikiped...|2024-02-26|\n",
      "|       73|           BAK|   Baku City Circuit|                Baku|  Azerbaijan|null|null|  -7|http://en.wikiped...|2024-03-13|\n",
      "|        3|       bahrain|Bahrain Internati...|              Sakhir|     Bahrain|null|null|   7|http://en.wikiped...|2024-01-03|\n",
      "|       50|      nivelles|    Nivelles-Baulers|            Brussels|     Belgium|null|null| 139|http://en.wikiped...|2024-02-19|\n",
      "|       40|        zolder|              Zolder|      Heusden-Zolder|     Belgium|null|null|  36|http://en.wikiped...|2024-02-09|\n",
      "|       13|           spa|Circuit de Spa-Fr...|                 Spa|     Belgium|null|null| 401|http://en.wikiped...|2024-01-13|\n",
      "|       36|   jacarepagua|Autódromo Interna...|      Rio de Janeiro|      Brazil|null|null|1126|http://en.wikiped...|2024-02-05|\n",
      "|       18|    interlagos|Autódromo José Ca...|           São Paulo|      Brazil|null|null| 785|http://en.wikiped...|2024-01-18|\n",
      "|        7|    villeneuve|Circuit Gilles Vi...|            Montreal|      Canada|null|null|  13|http://en.wikiped...|2024-01-07|\n",
      "|       48|       mosport|Mosport Internati...|             Ontario|      Canada|null|null| 332|http://en.wikiped...|2024-02-17|\n",
      "|       52|     tremblant|Circuit Mont-Trem...|              Quebec|      Canada|null|null| 214|http://en.wikiped...|2024-02-21|\n",
      "|       17|      shanghai|Shanghai Internat...|            Shanghai|       China|null|null|   5|http://en.wikiped...|2024-01-17|\n",
      "|       51|       charade|     Charade Circuit|    Clermont-Ferrand|      France|null|null| 790|http://en.wikiped...|2024-02-20|\n",
      "|       41|         dijon|       Dijon-Prenois|               Dijon|      France|null|null| 484|http://en.wikiped...|2024-02-10|\n",
      "|       34|        ricard| Circuit Paul Ricard|        Le Castellet|      France|null|null| 432|http://en.wikiped...|2024-02-03|\n",
      "|       54|        lemans|             Le Mans|             Le Mans|      France|null|null|  67|http://en.wikiped...|2024-02-23|\n",
      "|        8|   magny_cours|Circuit de Nevers...|         Magny Cours|      France|null|null| 228|http://en.wikiped...|2024-01-08|\n",
      "|       55|         reims|         Reims-Gueux|               Reims|      France|null|null|  88|http://en.wikiped...|2024-02-24|\n",
      "|       53|       essarts|   Rouen-Les-Essarts|               Rouen|      France|null|null|  81|http://en.wikiped...|2024-02-22|\n",
      "|       61|          avus|                AVUS|              Berlin|     Germany|null|null|  53|http://en.wikiped...|2024-03-01|\n",
      "|       10|hockenheimring|      Hockenheimring|          Hockenheim|     Germany|null|null| 103|http://en.wikiped...|2024-01-10|\n",
      "|       20|   nurburgring|         Nürburgring|             Nürburg|     Germany|null|null| 578|http://en.wikiped...|2024-01-20|\n",
      "|       11|   hungaroring|         Hungaroring|            Budapest|     Hungary|null|null| 264|http://en.wikiped...|2024-01-11|\n",
      "|       68|         buddh|Buddh Internation...|       Uttar Pradesh|       India|null|null| 194|http://en.wikiped...|2024-03-08|\n",
      "|       21|         imola|Autodromo Enzo e ...|               Imola|       Italy|null|null|  37|http://en.wikiped...|2024-01-21|\n",
      "|       14|         monza|Autodromo Naziona...|               Monza|       Italy|null|null| 162|http://en.wikiped...|2024-01-14|\n",
      "|       76|       mugello|Autodromo Interna...|             Mugello|       Italy|null|null| 255|http://en.wikiped...|2024-03-16|\n",
      "|       65|       pescara|     Pescara Circuit|             Pescara|       Italy|null|null| 129|http://en.wikiped...|2024-03-05|\n",
      "|       28|       okayama|Okayama Internati...|             Okayama|       Japan|null|null| 266|http://en.wikiped...|2024-01-28|\n",
      "|       16|          fuji|       Fuji Speedway|               Oyama|       Japan|null|null| 583|http://en.wikiped...|2024-01-16|\n",
      "|       22|        suzuka|      Suzuka Circuit|              Suzuka|       Japan|null|null|  45|http://en.wikiped...|2024-01-22|\n",
      "|       35|       yeongam|Korean Internatio...|      Yeongam County|       Korea|null|null|   0|http://en.wikiped...|2024-02-04|\n",
      "|        2|        sepang|Sepang Internatio...|        Kuala Lumpur|    Malaysia|null|null|  18|http://en.wikiped...|2024-01-02|\n",
      "|       32|     rodriguez|Autódromo Hermano...|         Mexico City|      Mexico|null|null|2227|http://en.wikiped...|2024-02-01|\n",
      "|        6|        monaco|   Circuit de Monaco|         Monte-Carlo|      Monaco|null|null|   7|http://en.wikiped...|2024-01-06|\n",
      "|       64|      ain-diab|            Ain Diab|          Casablanca|     Morocco|null|null|  19|http://en.wikiped...|2024-03-04|\n",
      "|       39|     zandvoort|Circuit Park Zand...|           Zandvoort| Netherlands|null|null|   6|http://en.wikiped...|2024-02-08|\n",
      "|       27|       estoril|Autódromo do Estoril|             Estoril|    Portugal|null|null| 130|http://en.wikiped...|2024-01-27|\n",
      "|       62|      monsanto|Monsanto Park Cir...|              Lisbon|    Portugal|null|null| 158|http://en.wikiped...|2024-03-02|\n",
      "|       59|      boavista|Circuito da Boavista|              Oporto|    Portugal|null|null|  28|http://en.wikiped...|2024-02-28|\n",
      "|       75|      portimao|Autódromo Interna...|            Portimão|    Portugal|null|null| 108|http://en.wikiped...|2024-03-15|\n",
      "|       71|         sochi|      Sochi Autodrom|               Sochi|      Russia|null|null|   2|http://en.wikiped...|2024-03-11|\n",
      "|       77|        jeddah|Jeddah Street Cir...|              Jeddah|Saudi Arabia|null|null|  15|http://en.wikiped...|2024-03-17|\n",
      "|       15|    marina_bay|Marina Bay Street...|          Marina Bay|   Singapore|null|null|  18|http://en.wikiped...|2024-01-15|\n",
      "|       56|        george|Prince George Cir...|Eastern Cape Prov...|South Africa|null|null|  15|http://en.wikiped...|2024-02-25|\n",
      "|       30|       kyalami|             Kyalami|             Midrand|South Africa|null|null|1460|http://en.wikiped...|2024-01-30|\n",
      "|       49|      montjuic|            Montjuïc|           Barcelona|       Spain|null|null|  79|http://en.wikiped...|2024-02-18|\n",
      "|       67|     pedralbes|Circuit de Pedralbes|           Barcelona|       Spain|null|null|  85|http://en.wikiped...|2024-03-07|\n",
      "|       26|         jerez|   Circuito de Jerez|Jerez de la Frontera|       Spain|null|null|  37|http://en.wikiped...|2024-01-26|\n",
      "|       45|        jarama|              Jarama|              Madrid|       Spain|null|null| 609|http://en.wikiped...|2024-02-14|\n",
      "|        4|     catalunya|Circuit de Barcel...|            Montmeló|       Spain|null|null| 109|http://en.wikiped...|2024-01-04|\n",
      "|       12|      valencia|Valencia Street C...|            Valencia|       Spain|null|null|   4|http://en.wikiped...|2024-01-12|\n",
      "|       47|    anderstorp|Scandinavian Raceway|          Anderstorp|      Sweden|null|null| 153|http://en.wikiped...|2024-02-16|\n",
      "|       66|    bremgarten|  Circuit Bremgarten|                Bern| Switzerland|null|null| 551|http://en.wikiped...|2024-03-06|\n",
      "|        5|      istanbul|       Istanbul Park|            Istanbul|      Turkey|null|null| 130|http://en.wikiped...|2024-01-05|\n",
      "|       24|    yas_marina|  Yas Marina Circuit|           Abu Dhabi|         UAE|null|null|   3|http://en.wikiped...|2024-01-24|\n",
      "|       31|     donington|      Donington Park|    Castle Donington|          UK|null|null|  88|http://en.wikiped...|2024-01-31|\n",
      "|       38|  brands_hatch|        Brands Hatch|                Kent|          UK|null|null| 145|http://en.wikiped...|2024-02-07|\n",
      "|       58|       aintree|             Aintree|           Liverpool|          UK|null|null|  20|http://en.wikiped...|2024-02-27|\n",
      "|        9|   silverstone| Silverstone Circuit|         Silverstone|          UK|null|null| 153|http://en.wikiped...|2024-01-09|\n",
      "|       69|      americas|Circuit of the Am...|              Austin|         USA|null|null| 161|http://en.wikiped...|2024-03-09|\n",
      "|       43|    long_beach|          Long Beach|          California|         USA|null|null|  12|http://en.wikiped...|2024-02-12|\n",
      "|       60|     riverside|Riverside Interna...|          California|         USA|null|null| 470|http://en.wikiped...|2024-02-29|\n",
      "|       42|        dallas|           Fair Park|              Dallas|         USA|null|null| 139|http://en.wikiped...|2024-02-11|\n",
      "|       37|       detroit|Detroit Street Ci...|             Detroit|         USA|null|null| 177|http://en.wikiped...|2024-02-06|\n",
      "|       63|       sebring|Sebring Internati...|             Florida|         USA|null|null|  18|http://en.wikiped...|2024-03-03|\n",
      "|       19|  indianapolis|Indianapolis Moto...|        Indianapolis|         USA|null|null| 223|http://en.wikiped...|2024-01-19|\n",
      "|       44|     las_vegas|Las Vegas Street ...|              Nevada|         USA|null|null| 639|http://en.wikiped...|2024-02-13|\n",
      "|       72| port_imperial|Port Imperial Str...|          New Jersey|         USA|null|null|   4|http://en.wikiped...|2024-03-12|\n",
      "|       46|  watkins_glen|        Watkins Glen|      New York State|         USA|null|null| 485|http://en.wikiped...|2024-02-15|\n",
      "|       33|       phoenix|Phoenix street ci...|             Phoenix|         USA|null|null| 345|http://en.wikiped...|2024-02-02|\n",
      "|       74|         hanoi|Hanoi Street Circuit|               Hanoi|     Vietnam|null|null|   9|http://en.wikiped...|2024-03-14|\n",
      "+---------+--------------+--------------------+--------------------+------------+----+----+----+--------------------+----------+\n",
      "\n"
     ]
    }
   ],
   "source": [
    "df.sort(col(\"country\"),col(\"location\"), ascending=True).show(77)"
   ]
  },
  {
   "cell_type": "code",
   "execution_count": 294,
   "metadata": {},
   "outputs": [
    {
     "name": "stdout",
     "output_type": "stream",
     "text": [
      "+---------+-------------+--------------------+----------------+-----------+----+----+---+--------------------+----------+\n",
      "|circuitId|   circuitRef|                name|        location|    country| lat| lng|alt|                 url|      date|\n",
      "+---------+-------------+--------------------+----------------+-----------+----+----+---+--------------------+----------+\n",
      "|       74|        hanoi|Hanoi Street Circuit|           Hanoi|    Vietnam|null|null|  9|http://en.wikiped...|2024-03-14|\n",
      "|       44|    las_vegas|Las Vegas Street ...|          Nevada|        USA|null|null|639|http://en.wikiped...|2024-02-13|\n",
      "|       43|   long_beach|          Long Beach|      California|        USA|null|null| 12|http://en.wikiped...|2024-02-12|\n",
      "|       69|     americas|Circuit of the Am...|          Austin|        USA|null|null|161|http://en.wikiped...|2024-03-09|\n",
      "|       72|port_imperial|Port Imperial Str...|      New Jersey|        USA|null|null|  4|http://en.wikiped...|2024-03-12|\n",
      "|       37|      detroit|Detroit Street Ci...|         Detroit|        USA|null|null|177|http://en.wikiped...|2024-02-06|\n",
      "|       42|       dallas|           Fair Park|          Dallas|        USA|null|null|139|http://en.wikiped...|2024-02-11|\n",
      "|       19| indianapolis|Indianapolis Moto...|    Indianapolis|        USA|null|null|223|http://en.wikiped...|2024-01-19|\n",
      "|       46| watkins_glen|        Watkins Glen|  New York State|        USA|null|null|485|http://en.wikiped...|2024-02-15|\n",
      "|       60|    riverside|Riverside Interna...|      California|        USA|null|null|470|http://en.wikiped...|2024-02-29|\n",
      "|       63|      sebring|Sebring Internati...|         Florida|        USA|null|null| 18|http://en.wikiped...|2024-03-03|\n",
      "|       33|      phoenix|Phoenix street ci...|         Phoenix|        USA|null|null|345|http://en.wikiped...|2024-02-02|\n",
      "|       31|    donington|      Donington Park|Castle Donington|         UK|null|null| 88|http://en.wikiped...|2024-01-31|\n",
      "|       38| brands_hatch|        Brands Hatch|            Kent|         UK|null|null|145|http://en.wikiped...|2024-02-07|\n",
      "|        9|  silverstone| Silverstone Circuit|     Silverstone|         UK|null|null|153|http://en.wikiped...|2024-01-09|\n",
      "|       58|      aintree|             Aintree|       Liverpool|         UK|null|null| 20|http://en.wikiped...|2024-02-27|\n",
      "|       24|   yas_marina|  Yas Marina Circuit|       Abu Dhabi|        UAE|null|null|  3|http://en.wikiped...|2024-01-24|\n",
      "|        5|     istanbul|       Istanbul Park|        Istanbul|     Turkey|null|null|130|http://en.wikiped...|2024-01-05|\n",
      "|       66|   bremgarten|  Circuit Bremgarten|            Bern|Switzerland|null|null|551|http://en.wikiped...|2024-03-06|\n",
      "|       47|   anderstorp|Scandinavian Raceway|      Anderstorp|     Sweden|null|null|153|http://en.wikiped...|2024-02-16|\n",
      "+---------+-------------+--------------------+----------------+-----------+----+----+---+--------------------+----------+\n",
      "only showing top 20 rows\n",
      "\n"
     ]
    }
   ],
   "source": [
    "df.orderBy(col(\"country\").desc()).show()"
   ]
  },
  {
   "cell_type": "code",
   "execution_count": 300,
   "metadata": {},
   "outputs": [
    {
     "name": "stdout",
     "output_type": "stream",
     "text": [
      "+------------+--------------+--------+--------+--------+\n",
      "|     country|sum(circuitId)|sum(lat)|sum(lng)|sum(alt)|\n",
      "+------------+--------------+--------+--------+--------+\n",
      "|      Russia|            71|    null|    null|       2|\n",
      "|      Sweden|            47|    null|    null|     153|\n",
      "|    Malaysia|             2|    null|    null|      18|\n",
      "|   Singapore|            15|    null|    null|      18|\n",
      "|      Turkey|             5|    null|    null|     130|\n",
      "|     Germany|            91|    null|    null|     734|\n",
      "|      France|           296|    null|    null|    2170|\n",
      "|   Argentina|            25|    null|    null|       8|\n",
      "|     Belgium|           103|    null|    null|     576|\n",
      "|       China|            17|    null|    null|       5|\n",
      "|       India|            68|    null|    null|     194|\n",
      "|       Italy|           176|    null|    null|     583|\n",
      "|       Spain|           203|    null|    null|     923|\n",
      "|      Monaco|             6|    null|    null|       7|\n",
      "|     Morocco|            64|    null|    null|      19|\n",
      "|         USA|           528|    null|    null|    2673|\n",
      "|      Mexico|            32|    null|    null|    2227|\n",
      "|  Azerbaijan|            73|    null|    null|      -7|\n",
      "|          UK|           136|    null|    null|     406|\n",
      "|Saudi Arabia|            77|    null|    null|      15|\n",
      "+------------+--------------+--------+--------+--------+\n",
      "only showing top 20 rows\n",
      "\n"
     ]
    }
   ],
   "source": [
    "df.groupBy(col(\"country\")).sum().show()"
   ]
  },
  {
   "cell_type": "code",
   "execution_count": 309,
   "metadata": {},
   "outputs": [
    {
     "name": "stdout",
     "output_type": "stream",
     "text": [
      "+------------+--------+\n",
      "|     country|min(alt)|\n",
      "+------------+--------+\n",
      "|      Russia|       2|\n",
      "|      Sweden|     153|\n",
      "|    Malaysia|      18|\n",
      "|   Singapore|      18|\n",
      "|      Turkey|     130|\n",
      "|     Germany|      53|\n",
      "|      France|      67|\n",
      "|   Argentina|       8|\n",
      "|     Belgium|      36|\n",
      "|       China|       5|\n",
      "|       India|     194|\n",
      "|       Italy|      37|\n",
      "|       Spain|       4|\n",
      "|      Monaco|       7|\n",
      "|     Morocco|      19|\n",
      "|         USA|       4|\n",
      "|      Mexico|    2227|\n",
      "|  Azerbaijan|      -7|\n",
      "|          UK|      20|\n",
      "|Saudi Arabia|      15|\n",
      "+------------+--------+\n",
      "only showing top 20 rows\n",
      "\n"
     ]
    }
   ],
   "source": [
    "df.groupBy(col(\"country\")).min(\"alt\").show()"
   ]
  },
  {
   "cell_type": "code",
   "execution_count": 314,
   "metadata": {},
   "outputs": [
    {
     "name": "stdout",
     "output_type": "stream",
     "text": [
      "+------------+--------------------+--------+--------------+\n",
      "|     country|            location|sum(alt)|sum(circuitId)|\n",
      "+------------+--------------------+--------+--------------+\n",
      "|     Germany|          Hockenheim|     103|            10|\n",
      "|          UK|         Silverstone|     153|             9|\n",
      "|    Portugal|              Lisbon|     158|            62|\n",
      "|       India|       Uttar Pradesh|     194|            68|\n",
      "|         USA|              Dallas|     139|            42|\n",
      "| Switzerland|                Bern|     551|            66|\n",
      "|       Korea|      Yeongam County|       0|            35|\n",
      "|    Portugal|             Estoril|     130|            27|\n",
      "|         USA|          New Jersey|       4|            72|\n",
      "|       Italy|               Imola|      37|            21|\n",
      "|       Japan|             Okayama|     266|            28|\n",
      "|South Africa|Eastern Cape Prov...|      15|            56|\n",
      "|     Belgium|                 Spa|     401|            13|\n",
      "|         USA|             Phoenix|     345|            33|\n",
      "|     Belgium|            Brussels|     139|            50|\n",
      "|     Vietnam|               Hanoi|       9|            74|\n",
      "|       Spain|              Madrid|     609|            45|\n",
      "|       China|            Shanghai|       5|            17|\n",
      "|         USA|      New York State|     485|            46|\n",
      "|   Australia|           Melbourne|      10|             1|\n",
      "+------------+--------------------+--------+--------------+\n",
      "only showing top 20 rows\n",
      "\n"
     ]
    }
   ],
   "source": [
    "df.groupBy(\"country\", \"location\").sum(\"alt\", \"circuitId\").show()"
   ]
  },
  {
   "cell_type": "code",
   "execution_count": 322,
   "metadata": {},
   "outputs": [
    {
     "data": {
      "text/plain": [
       "2593"
      ]
     },
     "execution_count": 322,
     "metadata": {},
     "output_type": "execute_result"
    }
   ],
   "source": [
    "df2.count()"
   ]
  },
  {
   "cell_type": "code",
   "execution_count": 323,
   "metadata": {},
   "outputs": [
    {
     "name": "stdout",
     "output_type": "stream",
     "text": [
      "+---------+---------+-----------+--------------------+--------------------+----+----+---+--------------------+----------+----------------+----------------------+---------+--------------------+-----------+------------+\n",
      "|  country|circuitId| circuitRef|                name|            location| lat| lng|alt|                 url|      date|HOLIDAY_SCHEDULE|HOLIDAY_SCHEDULE_DESCR|  HOLIDAY|               DESCR|HOLIDAY_HRS|HOLIDAY_TYPE|\n",
      "+---------+---------+-----------+--------------------+--------------------+----+----+---+--------------------+----------+----------------+----------------------+---------+--------------------+-----------+------------+\n",
      "|Australia|       29|   adelaide|Adelaide Street C...|            Adelaide|null|null| 58|http://en.wikiped...|2024-01-29|           HESP1|  Cognizant Spain -...|01-Jan-23|      New Year's Day|          8|         NAT|\n",
      "|Australia|        1|albert_park|Albert Park Grand...|           Melbourne|null|null| 10|http://en.wikiped...|2024-01-01|           HESP1|  Cognizant Spain -...|01-Jan-23|      New Year's Day|          8|         NAT|\n",
      "| Malaysia|        2|     sepang|Sepang Internatio...|        Kuala Lumpur|null|null| 18|http://en.wikiped...|2024-01-02|           HESP1|  Cognizant Spain -...|06-Jan-23|            Epiphany|          8|         NAT|\n",
      "|  Bahrain|        3|    bahrain|Bahrain Internati...|              Sakhir|null|null|  7|http://en.wikiped...|2024-01-03|           HESP1|  Cognizant Spain -...|20-Mar-23|            San Jose|          8|         REG|\n",
      "|    Spain|       67|  pedralbes|Circuit de Pedralbes|           Barcelona|null|null| 85|http://en.wikiped...|2024-03-07|           HESP1|  Cognizant Spain -...|06-Apr-23|     Maundy Thursday|          8|         REG|\n",
      "|    Spain|       49|   montjuic|            Montjuïc|           Barcelona|null|null| 79|http://en.wikiped...|2024-02-18|           HESP1|  Cognizant Spain -...|06-Apr-23|     Maundy Thursday|          8|         REG|\n",
      "|    Spain|       45|     jarama|              Jarama|              Madrid|null|null|609|http://en.wikiped...|2024-02-14|           HESP1|  Cognizant Spain -...|06-Apr-23|     Maundy Thursday|          8|         REG|\n",
      "|    Spain|       26|      jerez|   Circuito de Jerez|Jerez de la Frontera|null|null| 37|http://en.wikiped...|2024-01-26|           HESP1|  Cognizant Spain -...|06-Apr-23|     Maundy Thursday|          8|         REG|\n",
      "|    Spain|       12|   valencia|Valencia Street C...|            Valencia|null|null|  4|http://en.wikiped...|2024-01-12|           HESP1|  Cognizant Spain -...|06-Apr-23|     Maundy Thursday|          8|         REG|\n",
      "|    Spain|        4|  catalunya|Circuit de Barcel...|            Montmeló|null|null|109|http://en.wikiped...|2024-01-04|           HESP1|  Cognizant Spain -...|06-Apr-23|     Maundy Thursday|          8|         REG|\n",
      "|   Turkey|        5|   istanbul|       Istanbul Park|            Istanbul|null|null|130|http://en.wikiped...|2024-01-05|           HESP1|  Cognizant Spain -...|07-Apr-23|         Good Friday|          8|         NAT|\n",
      "|   Monaco|        6|     monaco|   Circuit de Monaco|         Monte-Carlo|null|null|  7|http://en.wikiped...|2024-01-06|           HESP1|  Cognizant Spain -...|01-May-23|          Labour Day|          8|         REG|\n",
      "|   Canada|       52|  tremblant|Circuit Mont-Trem...|              Quebec|null|null|214|http://en.wikiped...|2024-02-21|           HESP1|  Cognizant Spain -...|02-May-23|Madrid Regional H...|          8|         REG|\n",
      "|   Canada|       48|    mosport|Mosport Internati...|             Ontario|null|null|332|http://en.wikiped...|2024-02-17|           HESP1|  Cognizant Spain -...|02-May-23|Madrid Regional H...|          8|         REG|\n",
      "|   Canada|        7| villeneuve|Circuit Gilles Vi...|            Montreal|null|null| 13|http://en.wikiped...|2024-01-07|           HESP1|  Cognizant Spain -...|02-May-23|Madrid Regional H...|          8|         REG|\n",
      "|   France|       55|      reims|         Reims-Gueux|               Reims|null|null| 88|http://en.wikiped...|2024-02-24|           HESP1|  Cognizant Spain -...|15-May-23|          San Isidro|          8|         REG|\n",
      "|   France|       54|     lemans|             Le Mans|             Le Mans|null|null| 67|http://en.wikiped...|2024-02-23|           HESP1|  Cognizant Spain -...|15-May-23|          San Isidro|          8|         REG|\n",
      "|   France|       53|    essarts|   Rouen-Les-Essarts|               Rouen|null|null| 81|http://en.wikiped...|2024-02-22|           HESP1|  Cognizant Spain -...|15-May-23|          San Isidro|          8|         REG|\n",
      "|   France|       51|    charade|     Charade Circuit|    Clermont-Ferrand|null|null|790|http://en.wikiped...|2024-02-20|           HESP1|  Cognizant Spain -...|15-May-23|          San Isidro|          8|         REG|\n",
      "|   France|       41|      dijon|       Dijon-Prenois|               Dijon|null|null|484|http://en.wikiped...|2024-02-10|           HESP1|  Cognizant Spain -...|15-May-23|          San Isidro|          8|         REG|\n",
      "+---------+---------+-----------+--------------------+--------------------+----+----+---+--------------------+----------+----------------+----------------------+---------+--------------------+-----------+------------+\n",
      "only showing top 20 rows\n",
      "\n"
     ]
    }
   ],
   "source": [
    "df.join(df2, on=\"country\").show()"
   ]
  },
  {
   "cell_type": "code",
   "execution_count": 325,
   "metadata": {},
   "outputs": [],
   "source": [
    "import pyspark\n",
    "from pyspark.sql import SparkSession"
   ]
  },
  {
   "cell_type": "code",
   "execution_count": 348,
   "metadata": {},
   "outputs": [],
   "source": [
    "emp = [(1,\"Smith\",-1,\"2018\",\"10\",\"M\",3000), \\\n",
    "    (2,\"Rose\",1,\"2010\",\"20\",\"M\",4000), \\\n",
    "    (3,\"Williams\",1,\"2010\",\"10\",\"M\",1000), \\\n",
    "    (4,\"Jones\",2,\"2005\",\"10\",\"F\",2000), \\\n",
    "    (5,\"Brown\",2,\"2010\",\"40\",\"\",-1), \\\n",
    "      (6,\"Brown\",2,\"2010\",\"50\",\"\",-1) \\\n",
    "  ]"
   ]
  },
  {
   "cell_type": "code",
   "execution_count": 327,
   "metadata": {},
   "outputs": [],
   "source": [
    "empColumns = [\"emp_id\",\"name\",\"superior_emp_id\",\"year_joined\", \\\n",
    "       \"emp_dept_id\",\"gender\",\"salary\"]"
   ]
  },
  {
   "cell_type": "code",
   "execution_count": 328,
   "metadata": {},
   "outputs": [],
   "source": [
    "empDF = spark.createDataFrame(emp, schema=empColumns)"
   ]
  },
  {
   "cell_type": "code",
   "execution_count": 330,
   "metadata": {},
   "outputs": [
    {
     "name": "stdout",
     "output_type": "stream",
     "text": [
      "root\n",
      " |-- emp_id: long (nullable = true)\n",
      " |-- name: string (nullable = true)\n",
      " |-- superior_emp_id: long (nullable = true)\n",
      " |-- year_joined: string (nullable = true)\n",
      " |-- emp_dept_id: string (nullable = true)\n",
      " |-- gender: string (nullable = true)\n",
      " |-- salary: long (nullable = true)\n",
      "\n"
     ]
    }
   ],
   "source": [
    "empDF.printSchema()"
   ]
  },
  {
   "cell_type": "code",
   "execution_count": 349,
   "metadata": {},
   "outputs": [
    {
     "name": "stdout",
     "output_type": "stream",
     "text": [
      "root\n",
      " |-- dept_name: string (nullable = true)\n",
      " |-- dept_id: long (nullable = true)\n",
      " |-- superior_emp_id: long (nullable = true)\n",
      " |-- year_joined: string (nullable = true)\n",
      " |-- emp_dept_id: string (nullable = true)\n",
      " |-- gender: string (nullable = true)\n",
      " |-- salary: long (nullable = true)\n",
      "\n"
     ]
    }
   ],
   "source": [
    "dept = [(\"Finance\",10,-1,\"2018\",\"10\",\"M\",3000), \\\n",
    "    (\"Marketing\",20, 1,\"2010\",\"20\",\"M\",4000), \\\n",
    "    (\"Sales\",30, 1,\"2010\",\"10\",\"M\",1000), \\\n",
    "    (\"IT\",40, 2,\"2005\",\"10\",\"F\",2000) \\\n",
    "  ]\n",
    "deptColumns = [\"dept_name\",\"dept_id\",\"superior_emp_id\",\"year_joined\", \\\n",
    "       \"emp_dept_id\",\"gender\",\"salary\"]\n",
    "deptDF = spark.createDataFrame(data=dept, schema = deptColumns)\n",
    "deptDF.printSchema()"
   ]
  },
  {
   "cell_type": "code",
   "execution_count": 332,
   "metadata": {},
   "outputs": [
    {
     "name": "stdout",
     "output_type": "stream",
     "text": [
      "+------+--------+---------------+-----------+-----------+------+------+\n",
      "|emp_id|    name|superior_emp_id|year_joined|emp_dept_id|gender|salary|\n",
      "+------+--------+---------------+-----------+-----------+------+------+\n",
      "|     1|   Smith|             -1|       2018|         10|     M|  3000|\n",
      "|     2|    Rose|              1|       2010|         20|     M|  4000|\n",
      "|     3|Williams|              1|       2010|         10|     M|  1000|\n",
      "|     4|   Jones|              2|       2005|         10|     F|  2000|\n",
      "|     5|   Brown|              2|       2010|         40|      |    -1|\n",
      "|     6|   Brown|              2|       2010|         50|      |    -1|\n",
      "+------+--------+---------------+-----------+-----------+------+------+\n",
      "\n"
     ]
    }
   ],
   "source": [
    "empDF.show()"
   ]
  },
  {
   "cell_type": "code",
   "execution_count": 350,
   "metadata": {},
   "outputs": [
    {
     "name": "stdout",
     "output_type": "stream",
     "text": [
      "+---------+-------+---------------+-----------+-----------+------+------+\n",
      "|dept_name|dept_id|superior_emp_id|year_joined|emp_dept_id|gender|salary|\n",
      "+---------+-------+---------------+-----------+-----------+------+------+\n",
      "|  Finance|     10|             -1|       2018|         10|     M|  3000|\n",
      "|Marketing|     20|              1|       2010|         20|     M|  4000|\n",
      "|    Sales|     30|              1|       2010|         10|     M|  1000|\n",
      "|       IT|     40|              2|       2005|         10|     F|  2000|\n",
      "+---------+-------+---------------+-----------+-----------+------+------+\n",
      "\n"
     ]
    }
   ],
   "source": [
    "deptDF.show()"
   ]
  },
  {
   "cell_type": "code",
   "execution_count": 337,
   "metadata": {},
   "outputs": [
    {
     "name": "stdout",
     "output_type": "stream",
     "text": [
      "+------+--------+---------------+-----------+-----------+------+------+---------+-------+\n",
      "|emp_id|    name|superior_emp_id|year_joined|emp_dept_id|gender|salary|dept_name|dept_id|\n",
      "+------+--------+---------------+-----------+-----------+------+------+---------+-------+\n",
      "|     1|   Smith|             -1|       2018|         10|     M|  3000|  Finance|     10|\n",
      "|     3|Williams|              1|       2010|         10|     M|  1000|  Finance|     10|\n",
      "|     4|   Jones|              2|       2005|         10|     F|  2000|  Finance|     10|\n",
      "|     2|    Rose|              1|       2010|         20|     M|  4000|Marketing|     20|\n",
      "|  null|    null|           null|       null|       null|  null|  null|    Sales|     30|\n",
      "|     5|   Brown|              2|       2010|         40|      |    -1|       IT|     40|\n",
      "|     6|   Brown|              2|       2010|         50|      |    -1|     null|   null|\n",
      "+------+--------+---------------+-----------+-----------+------+------+---------+-------+\n",
      "\n"
     ]
    }
   ],
   "source": [
    "empDF.join(deptDF, deptDF.dept_id == empDF.emp_dept_id, \"full\").show()"
   ]
  },
  {
   "cell_type": "code",
   "execution_count": null,
   "metadata": {},
   "outputs": [],
   "source": [
    "#inner join is equal to common values\n",
    "#outer join is combining all values\n",
    "#full join is combining all values\n",
    "#fullouter join is combining all values\n",
    "#left join is taking all values from left df\n",
    "#left outer is taking all values from left df\n",
    "#right join is taking all values from right df\n",
    "#right outer is taking all values from right df"
   ]
  },
  {
   "cell_type": "code",
   "execution_count": 338,
   "metadata": {},
   "outputs": [
    {
     "name": "stdout",
     "output_type": "stream",
     "text": [
      "+------+--------+---------------+-----------+-----------+------+------+---------+-------+\n",
      "|emp_id|    name|superior_emp_id|year_joined|emp_dept_id|gender|salary|dept_name|dept_id|\n",
      "+------+--------+---------------+-----------+-----------+------+------+---------+-------+\n",
      "|     1|   Smith|             -1|       2018|         10|     M|  3000|  Finance|     10|\n",
      "|     3|Williams|              1|       2010|         10|     M|  1000|  Finance|     10|\n",
      "|     4|   Jones|              2|       2005|         10|     F|  2000|  Finance|     10|\n",
      "|     2|    Rose|              1|       2010|         20|     M|  4000|Marketing|     20|\n",
      "|  null|    null|           null|       null|       null|  null|  null|    Sales|     30|\n",
      "|     5|   Brown|              2|       2010|         40|      |    -1|       IT|     40|\n",
      "|     6|   Brown|              2|       2010|         50|      |    -1|     null|   null|\n",
      "+------+--------+---------------+-----------+-----------+------+------+---------+-------+\n",
      "\n"
     ]
    }
   ],
   "source": [
    "empDF.join(deptDF, deptDF.dept_id == empDF.emp_dept_id, \"fullouter\").show()"
   ]
  },
  {
   "cell_type": "code",
   "execution_count": 339,
   "metadata": {},
   "outputs": [
    {
     "name": "stdout",
     "output_type": "stream",
     "text": [
      "+------+--------+---------------+-----------+-----------+------+------+---------+-------+\n",
      "|emp_id|    name|superior_emp_id|year_joined|emp_dept_id|gender|salary|dept_name|dept_id|\n",
      "+------+--------+---------------+-----------+-----------+------+------+---------+-------+\n",
      "|     1|   Smith|             -1|       2018|         10|     M|  3000|  Finance|     10|\n",
      "|     3|Williams|              1|       2010|         10|     M|  1000|  Finance|     10|\n",
      "|     4|   Jones|              2|       2005|         10|     F|  2000|  Finance|     10|\n",
      "|     2|    Rose|              1|       2010|         20|     M|  4000|Marketing|     20|\n",
      "|     5|   Brown|              2|       2010|         40|      |    -1|       IT|     40|\n",
      "|     6|   Brown|              2|       2010|         50|      |    -1|     null|   null|\n",
      "+------+--------+---------------+-----------+-----------+------+------+---------+-------+\n",
      "\n"
     ]
    }
   ],
   "source": [
    "empDF.join(deptDF, deptDF.dept_id == empDF.emp_dept_id, \"left\").show()"
   ]
  },
  {
   "cell_type": "code",
   "execution_count": 340,
   "metadata": {},
   "outputs": [
    {
     "name": "stdout",
     "output_type": "stream",
     "text": [
      "+------+--------+---------------+-----------+-----------+------+------+---------+-------+\n",
      "|emp_id|    name|superior_emp_id|year_joined|emp_dept_id|gender|salary|dept_name|dept_id|\n",
      "+------+--------+---------------+-----------+-----------+------+------+---------+-------+\n",
      "|     1|   Smith|             -1|       2018|         10|     M|  3000|  Finance|     10|\n",
      "|     3|Williams|              1|       2010|         10|     M|  1000|  Finance|     10|\n",
      "|     4|   Jones|              2|       2005|         10|     F|  2000|  Finance|     10|\n",
      "|     2|    Rose|              1|       2010|         20|     M|  4000|Marketing|     20|\n",
      "|     5|   Brown|              2|       2010|         40|      |    -1|       IT|     40|\n",
      "|     6|   Brown|              2|       2010|         50|      |    -1|     null|   null|\n",
      "+------+--------+---------------+-----------+-----------+------+------+---------+-------+\n",
      "\n"
     ]
    }
   ],
   "source": [
    "empDF.join(deptDF, deptDF.dept_id == empDF.emp_dept_id, \"leftouter\").show()"
   ]
  },
  {
   "cell_type": "code",
   "execution_count": 341,
   "metadata": {},
   "outputs": [
    {
     "name": "stdout",
     "output_type": "stream",
     "text": [
      "+------+--------+---------------+-----------+-----------+------+------+---------+-------+\n",
      "|emp_id|    name|superior_emp_id|year_joined|emp_dept_id|gender|salary|dept_name|dept_id|\n",
      "+------+--------+---------------+-----------+-----------+------+------+---------+-------+\n",
      "|     1|   Smith|             -1|       2018|         10|     M|  3000|  Finance|     10|\n",
      "|     3|Williams|              1|       2010|         10|     M|  1000|  Finance|     10|\n",
      "|     4|   Jones|              2|       2005|         10|     F|  2000|  Finance|     10|\n",
      "|     2|    Rose|              1|       2010|         20|     M|  4000|Marketing|     20|\n",
      "|  null|    null|           null|       null|       null|  null|  null|    Sales|     30|\n",
      "|     5|   Brown|              2|       2010|         40|      |    -1|       IT|     40|\n",
      "+------+--------+---------------+-----------+-----------+------+------+---------+-------+\n",
      "\n"
     ]
    }
   ],
   "source": [
    "empDF.join(deptDF, deptDF.dept_id == empDF.emp_dept_id, \"right\").show()"
   ]
  },
  {
   "cell_type": "code",
   "execution_count": 342,
   "metadata": {},
   "outputs": [
    {
     "name": "stdout",
     "output_type": "stream",
     "text": [
      "+------+--------+---------------+-----------+-----------+------+------+---------+-------+\n",
      "|emp_id|    name|superior_emp_id|year_joined|emp_dept_id|gender|salary|dept_name|dept_id|\n",
      "+------+--------+---------------+-----------+-----------+------+------+---------+-------+\n",
      "|     1|   Smith|             -1|       2018|         10|     M|  3000|  Finance|     10|\n",
      "|     3|Williams|              1|       2010|         10|     M|  1000|  Finance|     10|\n",
      "|     4|   Jones|              2|       2005|         10|     F|  2000|  Finance|     10|\n",
      "|     2|    Rose|              1|       2010|         20|     M|  4000|Marketing|     20|\n",
      "|  null|    null|           null|       null|       null|  null|  null|    Sales|     30|\n",
      "|     5|   Brown|              2|       2010|         40|      |    -1|       IT|     40|\n",
      "+------+--------+---------------+-----------+-----------+------+------+---------+-------+\n",
      "\n"
     ]
    }
   ],
   "source": [
    "empDF.join(deptDF, deptDF.dept_id == empDF.emp_dept_id, \"rightouter\").show()"
   ]
  },
  {
   "cell_type": "code",
   "execution_count": 343,
   "metadata": {},
   "outputs": [
    {
     "name": "stdout",
     "output_type": "stream",
     "text": [
      "+------+--------+---------------+-----------+-----------+------+------+\n",
      "|emp_id|    name|superior_emp_id|year_joined|emp_dept_id|gender|salary|\n",
      "+------+--------+---------------+-----------+-----------+------+------+\n",
      "|     1|   Smith|             -1|       2018|         10|     M|  3000|\n",
      "|     3|Williams|              1|       2010|         10|     M|  1000|\n",
      "|     4|   Jones|              2|       2005|         10|     F|  2000|\n",
      "|     2|    Rose|              1|       2010|         20|     M|  4000|\n",
      "|     5|   Brown|              2|       2010|         40|      |    -1|\n",
      "+------+--------+---------------+-----------+-----------+------+------+\n",
      "\n"
     ]
    }
   ],
   "source": [
    "empDF.join(deptDF, deptDF.dept_id == empDF.emp_dept_id, \"leftsemi\").show()"
   ]
  },
  {
   "cell_type": "code",
   "execution_count": 345,
   "metadata": {},
   "outputs": [
    {
     "name": "stdout",
     "output_type": "stream",
     "text": [
      "+------+-----+---------------+-----------+-----------+------+------+\n",
      "|emp_id| name|superior_emp_id|year_joined|emp_dept_id|gender|salary|\n",
      "+------+-----+---------------+-----------+-----------+------+------+\n",
      "|     6|Brown|              2|       2010|         50|      |    -1|\n",
      "+------+-----+---------------+-----------+-----------+------+------+\n",
      "\n"
     ]
    }
   ],
   "source": [
    "empDF.join(deptDF, deptDF.dept_id == empDF.emp_dept_id, \"leftanti\").show()"
   ]
  },
  {
   "cell_type": "code",
   "execution_count": 353,
   "metadata": {},
   "outputs": [
    {
     "name": "stdout",
     "output_type": "stream",
     "text": [
      "+---------+--------+---------------+-----------+-----------+------+------+\n",
      "|   emp_id|    name|superior_emp_id|year_joined|emp_dept_id|gender|salary|\n",
      "+---------+--------+---------------+-----------+-----------+------+------+\n",
      "|        1|   Smith|             -1|       2018|         10|     M|  3000|\n",
      "|        2|    Rose|              1|       2010|         20|     M|  4000|\n",
      "|        3|Williams|              1|       2010|         10|     M|  1000|\n",
      "|        4|   Jones|              2|       2005|         10|     F|  2000|\n",
      "|        5|   Brown|              2|       2010|         40|      |    -1|\n",
      "|        6|   Brown|              2|       2010|         50|      |    -1|\n",
      "|  Finance|      10|             -1|       2018|         10|     M|  3000|\n",
      "|Marketing|      20|              1|       2010|         20|     M|  4000|\n",
      "|    Sales|      30|              1|       2010|         10|     M|  1000|\n",
      "|       IT|      40|              2|       2005|         10|     F|  2000|\n",
      "+---------+--------+---------------+-----------+-----------+------+------+\n",
      "\n"
     ]
    }
   ],
   "source": [
    "empDF.unionAll(deptDF).distinct().show()"
   ]
  },
  {
   "cell_type": "code",
   "execution_count": 354,
   "metadata": {},
   "outputs": [
    {
     "ename": "AnalysisException",
     "evalue": "Cannot resolve column name \"emp_id\" among (dept_name, dept_id, superior_emp_id, year_joined, emp_dept_id, gender, salary)",
     "output_type": "error",
     "traceback": [
      "\u001b[1;31m---------------------------------------------------------------------------\u001b[0m",
      "\u001b[1;31mAnalysisException\u001b[0m                         Traceback (most recent call last)",
      "\u001b[1;32m<ipython-input-354-fa305fde5364>\u001b[0m in \u001b[0;36m<module>\u001b[1;34m\u001b[0m\n\u001b[1;32m----> 1\u001b[1;33m \u001b[0mempDF\u001b[0m\u001b[1;33m.\u001b[0m\u001b[0munionByName\u001b[0m\u001b[1;33m(\u001b[0m\u001b[0mdeptDF\u001b[0m\u001b[1;33m)\u001b[0m\u001b[1;33m\u001b[0m\u001b[1;33m\u001b[0m\u001b[0m\n\u001b[0m",
      "\u001b[1;32mC:\\ProgramData\\Anaconda3\\lib\\site-packages\\pyspark\\sql\\dataframe.py\u001b[0m in \u001b[0;36munionByName\u001b[1;34m(self, other, allowMissingColumns)\u001b[0m\n\u001b[0;32m   1899\u001b[0m            \u001b[0mmissing\u001b[0m \u001b[0mcolumns\u001b[0m\u001b[1;33m.\u001b[0m\u001b[1;33m\u001b[0m\u001b[1;33m\u001b[0m\u001b[0m\n\u001b[0;32m   1900\u001b[0m         \"\"\"\n\u001b[1;32m-> 1901\u001b[1;33m         \u001b[1;32mreturn\u001b[0m \u001b[0mDataFrame\u001b[0m\u001b[1;33m(\u001b[0m\u001b[0mself\u001b[0m\u001b[1;33m.\u001b[0m\u001b[0m_jdf\u001b[0m\u001b[1;33m.\u001b[0m\u001b[0munionByName\u001b[0m\u001b[1;33m(\u001b[0m\u001b[0mother\u001b[0m\u001b[1;33m.\u001b[0m\u001b[0m_jdf\u001b[0m\u001b[1;33m,\u001b[0m \u001b[0mallowMissingColumns\u001b[0m\u001b[1;33m)\u001b[0m\u001b[1;33m,\u001b[0m \u001b[0mself\u001b[0m\u001b[1;33m.\u001b[0m\u001b[0msql_ctx\u001b[0m\u001b[1;33m)\u001b[0m\u001b[1;33m\u001b[0m\u001b[1;33m\u001b[0m\u001b[0m\n\u001b[0m\u001b[0;32m   1902\u001b[0m \u001b[1;33m\u001b[0m\u001b[0m\n\u001b[0;32m   1903\u001b[0m     \u001b[1;33m@\u001b[0m\u001b[0msince\u001b[0m\u001b[1;33m(\u001b[0m\u001b[1;36m1.3\u001b[0m\u001b[1;33m)\u001b[0m\u001b[1;33m\u001b[0m\u001b[1;33m\u001b[0m\u001b[0m\n",
      "\u001b[1;32mC:\\ProgramData\\Anaconda3\\lib\\site-packages\\py4j\\java_gateway.py\u001b[0m in \u001b[0;36m__call__\u001b[1;34m(self, *args)\u001b[0m\n\u001b[0;32m   1307\u001b[0m \u001b[1;33m\u001b[0m\u001b[0m\n\u001b[0;32m   1308\u001b[0m         \u001b[0manswer\u001b[0m \u001b[1;33m=\u001b[0m \u001b[0mself\u001b[0m\u001b[1;33m.\u001b[0m\u001b[0mgateway_client\u001b[0m\u001b[1;33m.\u001b[0m\u001b[0msend_command\u001b[0m\u001b[1;33m(\u001b[0m\u001b[0mcommand\u001b[0m\u001b[1;33m)\u001b[0m\u001b[1;33m\u001b[0m\u001b[1;33m\u001b[0m\u001b[0m\n\u001b[1;32m-> 1309\u001b[1;33m         return_value = get_return_value(\n\u001b[0m\u001b[0;32m   1310\u001b[0m             answer, self.gateway_client, self.target_id, self.name)\n\u001b[0;32m   1311\u001b[0m \u001b[1;33m\u001b[0m\u001b[0m\n",
      "\u001b[1;32mC:\\ProgramData\\Anaconda3\\lib\\site-packages\\pyspark\\sql\\utils.py\u001b[0m in \u001b[0;36mdeco\u001b[1;34m(*a, **kw)\u001b[0m\n\u001b[0;32m    115\u001b[0m                 \u001b[1;31m# Hide where the exception came from that shows a non-Pythonic\u001b[0m\u001b[1;33m\u001b[0m\u001b[1;33m\u001b[0m\u001b[1;33m\u001b[0m\u001b[0m\n\u001b[0;32m    116\u001b[0m                 \u001b[1;31m# JVM exception message.\u001b[0m\u001b[1;33m\u001b[0m\u001b[1;33m\u001b[0m\u001b[1;33m\u001b[0m\u001b[0m\n\u001b[1;32m--> 117\u001b[1;33m                 \u001b[1;32mraise\u001b[0m \u001b[0mconverted\u001b[0m \u001b[1;32mfrom\u001b[0m \u001b[1;32mNone\u001b[0m\u001b[1;33m\u001b[0m\u001b[1;33m\u001b[0m\u001b[0m\n\u001b[0m\u001b[0;32m    118\u001b[0m             \u001b[1;32melse\u001b[0m\u001b[1;33m:\u001b[0m\u001b[1;33m\u001b[0m\u001b[1;33m\u001b[0m\u001b[0m\n\u001b[0;32m    119\u001b[0m                 \u001b[1;32mraise\u001b[0m\u001b[1;33m\u001b[0m\u001b[1;33m\u001b[0m\u001b[0m\n",
      "\u001b[1;31mAnalysisException\u001b[0m: Cannot resolve column name \"emp_id\" among (dept_name, dept_id, superior_emp_id, year_joined, emp_dept_id, gender, salary)"
     ]
    }
   ],
   "source": [
    "empDF.unionByName(deptDF)"
   ]
  },
  {
   "cell_type": "code",
   "execution_count": null,
   "metadata": {},
   "outputs": [],
   "source": []
  }
 ],
 "metadata": {
  "kernelspec": {
   "display_name": "Python 3",
   "language": "python",
   "name": "python3"
  },
  "language_info": {
   "codemirror_mode": {
    "name": "ipython",
    "version": 3
   },
   "file_extension": ".py",
   "mimetype": "text/x-python",
   "name": "python",
   "nbconvert_exporter": "python",
   "pygments_lexer": "ipython3",
   "version": "3.8.3"
  }
 },
 "nbformat": 4,
 "nbformat_minor": 4
}
