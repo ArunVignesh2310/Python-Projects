{
 "cells": [
  {
   "cell_type": "code",
   "execution_count": 114,
   "metadata": {},
   "outputs": [],
   "source": [
    "from dotted.collection import DottedCollection, DottedDict, DottedList\n",
    "def get_config_in_dot_notation(config):\n",
    "    data = DottedDict(config)\n",
    "    return data"
   ]
  },
  {
   "cell_type": "code",
   "execution_count": 115,
   "metadata": {},
   "outputs": [
    {
     "name": "stdout",
     "output_type": "stream",
     "text": [
      "{'Sheet1': {'Serial_Number': '9788189999599', 'Company_Name': 'TALES OF SHIVA', 'Employee_Markme': 'Mark', 'Description': 'mark', 'Leave': '0', 'networkdrivebase': 'C:/Users/2079342/OneDrive - Cognizant/Desktop/', 'file_path': 'C:/Users/2079342', 'file_name': 'Test', 'file1': 'C:/Users/2079342/BCBSNC_input_files/input/Test.json', 'format': 'json'}}\n"
     ]
    }
   ],
   "source": [
    "#Getting config.json & importing the same\n",
    "import json\n",
    "configJsonPath = r\"C:\\Users\\2079342\\OneDrive - Cognizant\\Desktop\\BCBSNC_Files\\Test.json\"\n",
    "with open(configJsonPath) as f:\n",
    "    config = json.load(f)\n",
    "cf = get_config_in_dot_notation(config)\n",
    "print(cf)"
   ]
  },
  {
   "cell_type": "code",
   "execution_count": 110,
   "metadata": {},
   "outputs": [
    {
     "data": {
      "text/plain": [
       "'C:/Users/2079342'"
      ]
     },
     "execution_count": 110,
     "metadata": {},
     "output_type": "execute_result"
    }
   ],
   "source": [
    "company_name = cf.Sheet1.Serial_Number\n",
    "networkpath = cf.Sheet1.networkdrivebase\n",
    "requiredFile = cf.Sheet1.file_name\n",
    "fileformat = cf.Sheet1.format\n",
    "filepath = cf.Sheet1.file_path\n",
    "filepath"
   ]
  },
  {
   "cell_type": "code",
   "execution_count": 6,
   "metadata": {},
   "outputs": [],
   "source": [
    "#File list in directory\n",
    "import os\n",
    "def filesListInDir(dir):\n",
    "    list_ = next(os.walk(dir))[2]\n",
    "    return list_"
   ]
  },
  {
   "cell_type": "code",
   "execution_count": 7,
   "metadata": {},
   "outputs": [
    {
     "data": {
      "text/plain": [
       "['10172087472306001.pdf',\n",
       " 'Aadhar.pdf',\n",
       " 'Aadhar_Card_Updated.pdf',\n",
       " 'Aadhar_Card_Updated_No_Password.pdf',\n",
       " 'Amazon.txt',\n",
       " 'Arun Vignesh Resume1.docx',\n",
       " 'Arun_Vignesh_2079342_Python_Developer.pdf',\n",
       " 'Arun_Vignesh_Python_Developer.pdf',\n",
       " 'Atom.lnk',\n",
       " 'AWS_Course_Completion.pdf',\n",
       " 'BCP Coordinators Roles.pdf',\n",
       " 'Book1.csv',\n",
       " 'Book1.xlsx',\n",
       " 'Book2.csv',\n",
       " 'Canara_Provisional_Certificate_Loan_is_in my_name_Kindly_check.pdf',\n",
       " 'Capture.PNG',\n",
       " 'Capture1.PNG',\n",
       " 'Capture2.PNG',\n",
       " 'certificate (5).pdf',\n",
       " 'certificate.pdf',\n",
       " 'Chair.jpg',\n",
       " 'CloudPractitioner_2079342.PNG',\n",
       " 'Code.PNG',\n",
       " 'Code1.PNG',\n",
       " 'Code3.PNG',\n",
       " 'Cognizant credentials.txt',\n",
       " 'Credit Card And Driver Print Page.pdf',\n",
       " 'desktop.ini',\n",
       " 'download (1).jpg',\n",
       " 'download (2).jpg',\n",
       " 'download.jpg',\n",
       " 'download.png',\n",
       " 'Driver_Salary.pdf',\n",
       " 'driver_salary_receipt.pdf',\n",
       " 'Driving_License.pdf',\n",
       " 'E-Way Bill System.pdf',\n",
       " 'Electrophoresis.JPG',\n",
       " 'Email.PNG',\n",
       " 'email.txt',\n",
       " 'Email1.PNG',\n",
       " 'File_Report.PNG',\n",
       " 'Google.txt',\n",
       " 'House_Property_Tax.pdf',\n",
       " 'HRA.jpg',\n",
       " 'HR_Letter.pdf',\n",
       " 'IDCard_Report_SHP.txt',\n",
       " 'ID_Card.pdf',\n",
       " 'ID_report.txt',\n",
       " 'IMG-20220502-WA0006.jpg',\n",
       " 'IMG-20220502-WA0007.jpg',\n",
       " 'IMG-20220620-WA0015.jpg',\n",
       " 'IMG-20221011-WA0018.jpg',\n",
       " 'IMG_20220614_120442.jpg',\n",
       " 'IMG_20220621_130229.jpg',\n",
       " 'IMG_20220621_130254.jpg',\n",
       " 'IMG_20221020_175606.jpg',\n",
       " 'Important.txt',\n",
       " 'index.html',\n",
       " 'Kavya_Biodata (1).pdf',\n",
       " 'Kavya_Biodata.docx',\n",
       " 'Kavya_Biodata.pdf',\n",
       " 'LIC.jpg',\n",
       " 'LIC_Receipt.pdf',\n",
       " 'LIC_Receipt_April2022.pdf',\n",
       " 'Loan Details 2021-2022.pdf',\n",
       " 'Loan details.txt',\n",
       " 'Loan Payment.pdf',\n",
       " 'MICRO.pdf',\n",
       " 'Microsoft Teams.lnk',\n",
       " 'mysql-init.txt',\n",
       " 'My_Pay.PNG',\n",
       " 'My_Pay1.PNG',\n",
       " 'Name&AadharNum.txt',\n",
       " 'network-diagram.webp',\n",
       " 'new 1.xml',\n",
       " 'new 2.txt',\n",
       " 'New LL Acknowledgement.pdf',\n",
       " 'New.PNG',\n",
       " 'New.py',\n",
       " 'new.xlsx',\n",
       " 'new1.csv',\n",
       " 'NewNew_File_20220810.xlsx',\n",
       " 'Notepad.txt',\n",
       " 'Pan_Card.pdf',\n",
       " 'Pan_Card_Updated.pdf',\n",
       " 'PF.PNG',\n",
       " 'PF1.PNG',\n",
       " 'PF_Transfer',\n",
       " 'PF_Transfer.pdf',\n",
       " 'Polyacrylamide Gel Electrophoresis (PAGE)_Karthika.pptx',\n",
       " 'Practise.py',\n",
       " 'Preparation-of-polyacrylamide-gel.JPG',\n",
       " 'Print Application - Madurai Kamaraj University College _ Madurai Kamaraj University College.pdf',\n",
       " 'Print Application - Madurai Kamaraj University College _ Madurai Kamaraj University College1.pdf',\n",
       " 'Project_Details.txt',\n",
       " 'pvc-pipe-scrap-250x250-250x250.jpg',\n",
       " 'PVC.jpg',\n",
       " 'Rahul_Pic.PNG',\n",
       " 'receipt-gas-16578164481.jpg',\n",
       " 'Reimbursement for Driver.docx',\n",
       " 'Reimbursement for Driver.pdf',\n",
       " 'Rental_Agreement.jpg',\n",
       " 'Rent_Receipt.jpg',\n",
       " 'Report_Task.txt',\n",
       " 'Resume  (1).docx',\n",
       " 'Sample-preparation.JPG',\n",
       " 'Sample.txt',\n",
       " 'Sample_empty.txt',\n",
       " 'sample_test.txt',\n",
       " 'Sarath kumar S (1)nw-Copy_1.pdf',\n",
       " 'Signature.PNG',\n",
       " 'Signed_Document.pdf',\n",
       " 'simple-network-diagram-template.png',\n",
       " 'sintex-lldpe-pure-roto-granule-500x500 (1).webp',\n",
       " 'sintex-lldpe-pure-roto-granule-500x500 (2).JPEG',\n",
       " 'sintex-lldpe-pure-roto-granule-500x500.webp',\n",
       " 'Sintex.jpg',\n",
       " 'siva maruthi753.pdf',\n",
       " 'SumTotal Content Player-BCM Cognizance.pdf',\n",
       " 'TANGEDCO Online Payment_EB.pdf',\n",
       " 'TANGEDCO Online Payment_EB_Full.pdf',\n",
       " 'TANGEDCO Online Payment_EB_Full1.pdf',\n",
       " 'TANGEDCO Online Payment_EB_May.pdf',\n",
       " 'temp.py',\n",
       " 'tesla.txt',\n",
       " 'The American College.pdf',\n",
       " 'Thirumalai_The American College.pdf',\n",
       " 'Thirumalai_The American College1.pdf',\n",
       " 'Ticket details.PNG',\n",
       " 'Tirumala Tirupati Devasthanams(Official Booking Portal).pdf',\n",
       " 'Tirumala Tirupati Devasthanams(Official Booking Portal)1.pdf',\n",
       " 'Tirumala Tirupati Devasthanams(Official Booking Portal)_Ganapathy.pdf',\n",
       " 'Tirupati_Online_Booking_Arun_Prasana.pdf',\n",
       " 'Tirupati_Online_Booking_Gowtham_A.pdf',\n",
       " 'UAN_Card_Updated',\n",
       " 'UAN_Card_Updated.pdf',\n",
       " 'Uploading Doc.pdf',\n",
       " 'VENNILA RESUME.doc',\n",
       " 'Vetri_Matrimony.txt',\n",
       " 'Vikash_Resume.docx']"
      ]
     },
     "execution_count": 7,
     "metadata": {},
     "output_type": "execute_result"
    }
   ],
   "source": [
    "filesListInDir(r\"C:\\Users\\2079342\\OneDrive - Cognizant\\Desktop\")"
   ]
  },
  {
   "cell_type": "code",
   "execution_count": 8,
   "metadata": {},
   "outputs": [],
   "source": [
    "#Checking the required file is available or not\n",
    "def checkIfRequiredFilesAvailable(cf,requiredFile,fileformat):\n",
    "    networkpath = cf.Sheet1.networkdrivebase+'BCBSNC_files'\n",
    "    receivedFileList = filesListInDir(networkpath)\n",
    "    count = count_of_pattern_matching(networkpath, requiredFile, fileformat)\n",
    "    if count>1:\n",
    "        print(\"Error:There are more than 1 file in the same name\")\n",
    "        raise\n",
    "    elif count==1:\n",
    "        print(\"File is present\")\n",
    "    else:\n",
    "        print(\"File is not present\")\n",
    "        raise"
   ]
  },
  {
   "cell_type": "code",
   "execution_count": 11,
   "metadata": {},
   "outputs": [
    {
     "name": "stdout",
     "output_type": "stream",
     "text": [
      "File is present\n"
     ]
    }
   ],
   "source": [
    "checkIfRequiredFilesAvailable(cf,requiredFile,fileformat)"
   ]
  },
  {
   "cell_type": "code",
   "execution_count": 10,
   "metadata": {},
   "outputs": [],
   "source": [
    "#Checking the pattern is matching or not\n",
    "import fnmatch\n",
    "def count_of_pattern_matching(dir, requiredFile, fileformat):\n",
    "    listoffiles = fnmatch.filter(os.listdir(r\"C:\\Users\\2079342\\OneDrive - Cognizant\\Desktop\\BCBSNC_files\"), requiredFile+\"*.\"+fileformat)\n",
    "    return len(listoffiles)"
   ]
  },
  {
   "cell_type": "code",
   "execution_count": 12,
   "metadata": {},
   "outputs": [
    {
     "data": {
      "text/plain": [
       "1"
      ]
     },
     "execution_count": 12,
     "metadata": {},
     "output_type": "execute_result"
    }
   ],
   "source": [
    "count_of_pattern_matching(dir, requiredFile, fileformat)"
   ]
  },
  {
   "cell_type": "code",
   "execution_count": 13,
   "metadata": {},
   "outputs": [],
   "source": [
    "import glob\n",
    "import shutil\n",
    "def copyfiles_with_specific_extension(cf, src, dest):\n",
    "    if not os.path.exists(src):\n",
    "        os.mkdir(src)\n",
    "    if not os.path.exists(dest):\n",
    "        os.mkdir(dest)\n",
    "    for i in glob.glob(src+\"\\\\*.\"+\"json\"):\n",
    "        shutil.copy2(i, dest)"
   ]
  },
  {
   "cell_type": "code",
   "execution_count": 16,
   "metadata": {},
   "outputs": [],
   "source": [
    "copyfiles_with_specific_extension(cf, src, dest)"
   ]
  },
  {
   "cell_type": "code",
   "execution_count": 15,
   "metadata": {},
   "outputs": [],
   "source": [
    "src = filepath+\"/BCBSNC_src_files\"\n",
    "dest = filepath+\"/BCBSNC_dest_files\"\n",
    "def copy_files_from_Networkdrive_to_workspace(cf, src, dest):\n",
    "    from_ = src\n",
    "    to_ = dest\n",
    "    print(from_)\n",
    "    print(to_)\n",
    "    try:\n",
    "        copyfiles_with_specific_extension(cf, from_, to_)\n",
    "        print('Files copied from networkdrive to workspace')\n",
    "    except:\n",
    "        print('Error while copying from networkdrive to workspace')\n",
    "        raise"
   ]
  },
  {
   "cell_type": "code",
   "execution_count": 17,
   "metadata": {},
   "outputs": [
    {
     "name": "stdout",
     "output_type": "stream",
     "text": [
      "C:/Users/2079342/BCBSNC_src_files\n",
      "C:/Users/2079342/BCBSNC_dest_files\n",
      "Files copied from networkdrive to workspace\n"
     ]
    }
   ],
   "source": [
    "copy_files_from_Networkdrive_to_workspace(cf, src, dest)"
   ]
  },
  {
   "cell_type": "code",
   "execution_count": 18,
   "metadata": {},
   "outputs": [],
   "source": [
    "def determineFilenamewithspecificpattern(dest):\n",
    "    listoffiles = fnmatch.filter(os.listdir(dest), \"Test\"+\"*.\"+\"json\")\n",
    "    if (len(listoffiles) > 1):\n",
    "        print(\"There are more than 1 input file\")\n",
    "        raise\n",
    "    else:\n",
    "        return listoffiles[0]"
   ]
  },
  {
   "cell_type": "code",
   "execution_count": 19,
   "metadata": {},
   "outputs": [
    {
     "data": {
      "text/plain": [
       "'Test.json'"
      ]
     },
     "execution_count": 19,
     "metadata": {},
     "output_type": "execute_result"
    }
   ],
   "source": [
    "determineFilenamewithspecificpattern(dest)"
   ]
  },
  {
   "cell_type": "code",
   "execution_count": 20,
   "metadata": {},
   "outputs": [],
   "source": [
    "dest = filepath+\"/BCBSNC_dest_files\"\n",
    "def getExactInputFileName(dest):\n",
    "    files = determineFilenamewithspecificpattern(dest)\n",
    "    return files"
   ]
  },
  {
   "cell_type": "code",
   "execution_count": 21,
   "metadata": {},
   "outputs": [
    {
     "data": {
      "text/plain": [
       "'Test.json'"
      ]
     },
     "execution_count": 21,
     "metadata": {},
     "output_type": "execute_result"
    }
   ],
   "source": [
    "getExactInputFileName(dest)"
   ]
  },
  {
   "cell_type": "code",
   "execution_count": 31,
   "metadata": {},
   "outputs": [],
   "source": [
    "srcFile = filepath+\"/BCBSNC_src_files\"\n",
    "inputFile = filepath+\"/BCBSNC_input_files/input.json\"\n",
    "def copyFile(srcFile, inputFile):\n",
    "    shutil.copymode(srcFile, inputFile)"
   ]
  },
  {
   "cell_type": "code",
   "execution_count": 34,
   "metadata": {},
   "outputs": [],
   "source": [
    "path = r\"C:\\Users\\2079342\\BCBSNC_input_files\"\n",
    "def createDirectory(path):\n",
    "    if not os.path.exists(path):\n",
    "        try:\n",
    "            os.mkdir(path)\n",
    "        except:\n",
    "            print('There is an error while creating directory')\n",
    "            raise\n",
    "    else:\n",
    "        print('Directory already exists')"
   ]
  },
  {
   "cell_type": "code",
   "execution_count": 35,
   "metadata": {},
   "outputs": [
    {
     "name": "stdout",
     "output_type": "stream",
     "text": [
      "Directory already exists\n"
     ]
    }
   ],
   "source": [
    "createDirectory(path)"
   ]
  },
  {
   "cell_type": "code",
   "execution_count": 36,
   "metadata": {},
   "outputs": [],
   "source": [
    "def create_directories_if_missing(filepath):\n",
    "    try:\n",
    "        createDirectory(filepath+\"/BCBSNC_input_files\")\n",
    "    except:\n",
    "        print('Unable to create BCBSNC_input_files folder')\n",
    "        return\n",
    "    try:\n",
    "        createDirectory(filepath+\"/BCBSNC_input_files\"+\"/input\")\n",
    "    except:\n",
    "        print('Unable to create input folder')\n",
    "        return\n",
    "    try:\n",
    "        createDirectory(filepath+\"/BCBSNC_input_files\"+\"/input\"+\"/archive\")\n",
    "    except:\n",
    "        print('Unable to create archive folder')\n",
    "        return\n",
    "    try:\n",
    "        createDirectory(filepath+\"/BCBSNC_input_files\"+\"/output\")\n",
    "    except:\n",
    "        print('Unable to create output folder')\n",
    "        return\n",
    "    try:\n",
    "        createDirectory(filepath+\"/BCBSNC_input_files\"+\"/output\"+\"/archive\")\n",
    "    except:\n",
    "        print('Unable to create output archive folder')\n",
    "        return"
   ]
  },
  {
   "cell_type": "code",
   "execution_count": 37,
   "metadata": {},
   "outputs": [
    {
     "name": "stdout",
     "output_type": "stream",
     "text": [
      "Directory already exists\n"
     ]
    }
   ],
   "source": [
    "create_directories_if_missing(filepath)"
   ]
  },
  {
   "cell_type": "code",
   "execution_count": 123,
   "metadata": {},
   "outputs": [],
   "source": [
    "def delete_file_if_exists(file):\n",
    "    if os.path.isfile(file):\n",
    "        try:\n",
    "            os.remove(file)\n",
    "            print('File existed & removed the same')\n",
    "        except:\n",
    "            print('There is no file')\n",
    "            raise\n",
    "    else:\n",
    "        print('File is not available')"
   ]
  },
  {
   "cell_type": "code",
   "execution_count": 84,
   "metadata": {},
   "outputs": [
    {
     "name": "stdout",
     "output_type": "stream",
     "text": [
      "File is not available\n"
     ]
    }
   ],
   "source": [
    "delete_file_if_exists(r\"C:\\Users\\2079342\\BCBSNC_input_files\\input\\Test.json\")"
   ]
  },
  {
   "cell_type": "code",
   "execution_count": 124,
   "metadata": {},
   "outputs": [],
   "source": [
    "def delete_file_with_extn(filepath_input,extn):\n",
    "    try:\n",
    "        print(filepath_input)\n",
    "        print(extn)\n",
    "        files_in_dir = os.listdir(filepath_input)\n",
    "        filtered_files = [file for file in files_in_dir if file.endswith(extn)]\n",
    "        for file in filtered_files:\n",
    "            path_to_file = os.path.join(filepath_input, file)\n",
    "            os.remove(path_to_file)\n",
    "            print('The file has been deleted')\n",
    "    except:\n",
    "        print('The file doesnt exist')"
   ]
  },
  {
   "cell_type": "code",
   "execution_count": 126,
   "metadata": {},
   "outputs": [],
   "source": [
    "def delete_output_files_before_beginning(cf):\n",
    "    filepath_input = cf.Sheet1.file_path+\"\\BCBSNC_input_files\\input\"\n",
    "    print(filepath_input)\n",
    "    extn = cf.Sheet1.format\n",
    "    print(extn)\n",
    "    file = cf.Sheet1.file1\n",
    "    print(file)\n",
    "    delete_file_if_exists(file)\n",
    "    delete_file_with_extn(filepath_input,extn)"
   ]
  },
  {
   "cell_type": "code",
   "execution_count": 127,
   "metadata": {},
   "outputs": [
    {
     "name": "stdout",
     "output_type": "stream",
     "text": [
      "C:/Users/2079342\\BCBSNC_input_files\\input\n",
      "json\n",
      "C:/Users/2079342/BCBSNC_input_files/input/Test.json\n",
      "File is not available\n",
      "C:/Users/2079342\\BCBSNC_input_files\\input\n",
      "json\n",
      "The file has been deleted\n",
      "The file has been deleted\n",
      "The file has been deleted\n"
     ]
    }
   ],
   "source": [
    "delete_output_files_before_beginning(cf)"
   ]
  },
  {
   "cell_type": "code",
   "execution_count": null,
   "metadata": {},
   "outputs": [],
   "source": []
  }
 ],
 "metadata": {
  "kernelspec": {
   "display_name": "Python 3",
   "language": "python",
   "name": "python3"
  },
  "language_info": {
   "codemirror_mode": {
    "name": "ipython",
    "version": 3
   },
   "file_extension": ".py",
   "mimetype": "text/x-python",
   "name": "python",
   "nbconvert_exporter": "python",
   "pygments_lexer": "ipython3",
   "version": "3.8.3"
  }
 },
 "nbformat": 4,
 "nbformat_minor": 4
}
