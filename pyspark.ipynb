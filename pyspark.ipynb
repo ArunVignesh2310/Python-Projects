{
 "cells": [
  {
   "cell_type": "code",
   "execution_count": 1,
   "metadata": {},
   "outputs": [],
   "source": [
    "import pyspark"
   ]
  },
  {
   "cell_type": "code",
   "execution_count": 4,
   "metadata": {},
   "outputs": [
    {
     "data": {
      "text/plain": [
       "<module 'pyspark.version' from 'C:\\\\ProgramData\\\\Anaconda3\\\\lib\\\\site-packages\\\\pyspark\\\\version.py'>"
      ]
     },
     "execution_count": 4,
     "metadata": {},
     "output_type": "execute_result"
    }
   ],
   "source": [
    "pyspark.version"
   ]
  },
  {
   "cell_type": "code",
   "execution_count": 6,
   "metadata": {},
   "outputs": [
    {
     "ename": "ModuleNotFoundError",
     "evalue": "No module named 'findspark'",
     "output_type": "error",
     "traceback": [
      "\u001b[1;31m---------------------------------------------------------------------------\u001b[0m",
      "\u001b[1;31mModuleNotFoundError\u001b[0m                       Traceback (most recent call last)",
      "\u001b[1;32m<ipython-input-6-4e91d34768ac>\u001b[0m in \u001b[0;36m<module>\u001b[1;34m\u001b[0m\n\u001b[1;32m----> 1\u001b[1;33m \u001b[1;32mimport\u001b[0m \u001b[0mfindspark\u001b[0m\u001b[1;33m\u001b[0m\u001b[1;33m\u001b[0m\u001b[0m\n\u001b[0m\u001b[0;32m      2\u001b[0m \u001b[0mfindspark\u001b[0m\u001b[1;33m.\u001b[0m\u001b[0minit\u001b[0m\u001b[1;33m(\u001b[0m\u001b[1;33m)\u001b[0m\u001b[1;33m\u001b[0m\u001b[1;33m\u001b[0m\u001b[0m\n",
      "\u001b[1;31mModuleNotFoundError\u001b[0m: No module named 'findspark'"
     ]
    }
   ],
   "source": [
    "import findspark\n",
    "findspark.init()"
   ]
  },
  {
   "cell_type": "code",
   "execution_count": 32,
   "metadata": {},
   "outputs": [],
   "source": [
    "from pyspark.sql import SparkSession"
   ]
  },
  {
   "cell_type": "code",
   "execution_count": 33,
   "metadata": {},
   "outputs": [],
   "source": [
    "spark = SparkSession.builder.appName(\"Pyspark\").getOrCreate()"
   ]
  },
  {
   "cell_type": "code",
   "execution_count": 34,
   "metadata": {},
   "outputs": [
    {
     "data": {
      "text/html": [
       "\n",
       "            <div>\n",
       "                <p><b>SparkSession - in-memory</b></p>\n",
       "                \n",
       "        <div>\n",
       "            <p><b>SparkContext</b></p>\n",
       "\n",
       "            <p><a href=\"http://LTIN363809.cts.com:4040\">Spark UI</a></p>\n",
       "\n",
       "            <dl>\n",
       "              <dt>Version</dt>\n",
       "                <dd><code>v3.2.0</code></dd>\n",
       "              <dt>Master</dt>\n",
       "                <dd><code>local[*]</code></dd>\n",
       "              <dt>AppName</dt>\n",
       "                <dd><code>Pyspark</code></dd>\n",
       "            </dl>\n",
       "        </div>\n",
       "        \n",
       "            </div>\n",
       "        "
      ],
      "text/plain": [
       "<pyspark.sql.session.SparkSession at 0x29fdf833fd0>"
      ]
     },
     "execution_count": 34,
     "metadata": {},
     "output_type": "execute_result"
    }
   ],
   "source": [
    "spark"
   ]
  },
  {
   "cell_type": "code",
   "execution_count": 12,
   "metadata": {},
   "outputs": [
    {
     "data": {
      "text/plain": [
       "'3.2.0'"
      ]
     },
     "execution_count": 12,
     "metadata": {},
     "output_type": "execute_result"
    }
   ],
   "source": [
    "spark.version"
   ]
  },
  {
   "cell_type": "code",
   "execution_count": 27,
   "metadata": {},
   "outputs": [],
   "source": [
    "from pyspark.sql import SparkSession\n",
    "spark = SparkSession.builder.appName(\"test\").getOrCreate"
   ]
  },
  {
   "cell_type": "code",
   "execution_count": 30,
   "metadata": {},
   "outputs": [
    {
     "data": {
      "text/html": [
       "\n",
       "            <div>\n",
       "                <p><b>SparkSession - in-memory</b></p>\n",
       "                \n",
       "        <div>\n",
       "            <p><b>SparkContext</b></p>\n",
       "\n",
       "            <p><a href=\"http://LTIN363809.cts.com:4040\">Spark UI</a></p>\n",
       "\n",
       "            <dl>\n",
       "              <dt>Version</dt>\n",
       "                <dd><code>v3.2.0</code></dd>\n",
       "              <dt>Master</dt>\n",
       "                <dd><code>local[*]</code></dd>\n",
       "              <dt>AppName</dt>\n",
       "                <dd><code>Pyspark</code></dd>\n",
       "            </dl>\n",
       "        </div>\n",
       "        \n",
       "            </div>\n",
       "        "
      ],
      "text/plain": [
       "<pyspark.sql.session.SparkSession at 0x29fdf833fd0>"
      ]
     },
     "execution_count": 30,
     "metadata": {},
     "output_type": "execute_result"
    }
   ],
   "source": [
    "spark()"
   ]
  },
  {
   "cell_type": "code",
   "execution_count": 52,
   "metadata": {},
   "outputs": [],
   "source": [
    "df = spark.createDataFrame([(\"Arun\", \"Vignesh\", \"Prasanth\"), (\"Vignesh\", \"Prasanth\", \"Arun\"), (\"Prasanth\", \"Vignesh\", \"Arun\")],\n",
    "                          [\"a\", \"b\", \"c\"])"
   ]
  },
  {
   "cell_type": "code",
   "execution_count": 53,
   "metadata": {},
   "outputs": [
    {
     "name": "stdout",
     "output_type": "stream",
     "text": [
      "+--------+--------+--------+\n",
      "|       a|       b|       c|\n",
      "+--------+--------+--------+\n",
      "|    Arun| Vignesh|Prasanth|\n",
      "| Vignesh|Prasanth|    Arun|\n",
      "|Prasanth| Vignesh|    Arun|\n",
      "+--------+--------+--------+\n",
      "\n"
     ]
    }
   ],
   "source": [
    "df.show()"
   ]
  },
  {
   "cell_type": "code",
   "execution_count": 54,
   "metadata": {},
   "outputs": [],
   "source": [
    "from pyspark.sql.window import Window\n",
    "from pyspark.sql.functions import row_number, monotonically_increasing_id"
   ]
  },
  {
   "cell_type": "code",
   "execution_count": 55,
   "metadata": {},
   "outputs": [
    {
     "data": {
      "text/plain": [
       "<pyspark.sql.window.WindowSpec at 0x29fe100aa00>"
      ]
     },
     "execution_count": 55,
     "metadata": {},
     "output_type": "execute_result"
    }
   ],
   "source": [
    "w = Window.orderBy(monotonically_increasing_id())\n",
    "w"
   ]
  },
  {
   "cell_type": "code",
   "execution_count": 56,
   "metadata": {},
   "outputs": [],
   "source": [
    "df = df.withColumn(\"index\", row_number().over(w)-1)"
   ]
  },
  {
   "cell_type": "code",
   "execution_count": 57,
   "metadata": {},
   "outputs": [
    {
     "name": "stdout",
     "output_type": "stream",
     "text": [
      "+--------+--------+--------+-----+\n",
      "|       a|       b|       c|index|\n",
      "+--------+--------+--------+-----+\n",
      "|    Arun| Vignesh|Prasanth|    0|\n",
      "| Vignesh|Prasanth|    Arun|    1|\n",
      "|Prasanth| Vignesh|    Arun|    2|\n",
      "+--------+--------+--------+-----+\n",
      "\n"
     ]
    }
   ],
   "source": [
    "df.show()"
   ]
  },
  {
   "cell_type": "code",
   "execution_count": 58,
   "metadata": {},
   "outputs": [],
   "source": [
    "list1 = [\"a\", \"b\", \"c\", \"d\"]\n",
    "list2 = [1, 2, 3, 4]"
   ]
  },
  {
   "cell_type": "code",
   "execution_count": 62,
   "metadata": {},
   "outputs": [
    {
     "data": {
      "text/plain": [
       "[('a', 1), ('b', 2), ('c', 3), ('d', 4)]"
      ]
     },
     "metadata": {},
     "output_type": "display_data"
    }
   ],
   "source": [
    "display(list(zip(list1, list2)))"
   ]
  },
  {
   "cell_type": "code",
   "execution_count": 63,
   "metadata": {},
   "outputs": [],
   "source": [
    "a = [\"Arun\", \"Vignesh\", \"Prasanth\"]\n",
    "b = [\"Vignesh\", \"Prasanth\", \"Arun\"]\n",
    "c = [\"Prasanth\", \"Vignesh\", \"Arun\"]\n",
    "d = [\"a\", \"b\", \"c\"]"
   ]
  },
  {
   "cell_type": "code",
   "execution_count": 66,
   "metadata": {},
   "outputs": [],
   "source": [
    "list_rdd = list(zip(a, b, c, d))"
   ]
  },
  {
   "cell_type": "code",
   "execution_count": 68,
   "metadata": {},
   "outputs": [],
   "source": [
    "rdd = spark.sparkContext.parallelize(list_rdd)"
   ]
  },
  {
   "cell_type": "code",
   "execution_count": 73,
   "metadata": {},
   "outputs": [],
   "source": [
    "rdd_df = rdd.toDF([\"col1\", \"col2\", \"col3\", \"col4\"])"
   ]
  },
  {
   "cell_type": "code",
   "execution_count": 74,
   "metadata": {},
   "outputs": [
    {
     "name": "stdout",
     "output_type": "stream",
     "text": [
      "+--------+--------+--------+----+\n",
      "|    col1|    col2|    col3|col4|\n",
      "+--------+--------+--------+----+\n",
      "|    Arun| Vignesh|Prasanth|   a|\n",
      "| Vignesh|Prasanth| Vignesh|   b|\n",
      "|Prasanth|    Arun|    Arun|   c|\n",
      "+--------+--------+--------+----+\n",
      "\n"
     ]
    }
   ],
   "source": [
    "rdd_df.show()"
   ]
  },
  {
   "cell_type": "code",
   "execution_count": 87,
   "metadata": {},
   "outputs": [],
   "source": [
    "import pyspark"
   ]
  },
  {
   "cell_type": "code",
   "execution_count": 88,
   "metadata": {},
   "outputs": [
    {
     "data": {
      "text/plain": [
       "<module 'pyspark.version' from 'C:\\\\ProgramData\\\\Anaconda3\\\\lib\\\\site-packages\\\\pyspark\\\\version.py'>"
      ]
     },
     "execution_count": 88,
     "metadata": {},
     "output_type": "execute_result"
    }
   ],
   "source": [
    "pyspark.version"
   ]
  },
  {
   "cell_type": "code",
   "execution_count": 89,
   "metadata": {},
   "outputs": [],
   "source": [
    "from pyspark.sql import SparkSession"
   ]
  },
  {
   "cell_type": "code",
   "execution_count": 93,
   "metadata": {},
   "outputs": [],
   "source": [
    "spark = SparkSession.builder.appName(\"test_test\").getOrCreate()"
   ]
  },
  {
   "cell_type": "code",
   "execution_count": 94,
   "metadata": {},
   "outputs": [
    {
     "name": "stdout",
     "output_type": "stream",
     "text": [
      "3.2.0\n"
     ]
    }
   ],
   "source": [
    "print(spark.version)"
   ]
  },
  {
   "cell_type": "code",
   "execution_count": 95,
   "metadata": {},
   "outputs": [],
   "source": [
    "import findspark\n",
    "findspark.init()"
   ]
  },
  {
   "cell_type": "code",
   "execution_count": 96,
   "metadata": {},
   "outputs": [
    {
     "data": {
      "text/plain": [
       "'3.2.0'"
      ]
     },
     "execution_count": 96,
     "metadata": {},
     "output_type": "execute_result"
    }
   ],
   "source": [
    "spark.version"
   ]
  },
  {
   "cell_type": "code",
   "execution_count": 104,
   "metadata": {},
   "outputs": [],
   "source": [
    "df = spark.createDataFrame([\n",
    "    (\"a\",\"b\",\"c\",\"d\"),\n",
    "    (\"1\", \"2\", \"3\", \"4\")], [\"name\", \"number\", \"name1\", \"number1\"])"
   ]
  },
  {
   "cell_type": "code",
   "execution_count": 105,
   "metadata": {},
   "outputs": [
    {
     "name": "stdout",
     "output_type": "stream",
     "text": [
      "+----+------+-----+-------+\n",
      "|name|number|name1|number1|\n",
      "+----+------+-----+-------+\n",
      "|   a|     b|    c|      d|\n",
      "|   1|     2|    3|      4|\n",
      "+----+------+-----+-------+\n",
      "\n"
     ]
    }
   ],
   "source": [
    "df.show()"
   ]
  },
  {
   "cell_type": "code",
   "execution_count": 106,
   "metadata": {},
   "outputs": [],
   "source": [
    "from pyspark.sql.functions import row_number, monotonically_increasing_id\n",
    "from pyspark.sql.window import Window"
   ]
  },
  {
   "cell_type": "code",
   "execution_count": 107,
   "metadata": {},
   "outputs": [],
   "source": [
    "w = Window.orderBy(monotonically_increasing_id())"
   ]
  },
  {
   "cell_type": "code",
   "execution_count": 111,
   "metadata": {},
   "outputs": [],
   "source": [
    "new_df = df.withColumn(\"index\", row_number().over(w)-1)"
   ]
  },
  {
   "cell_type": "code",
   "execution_count": 112,
   "metadata": {},
   "outputs": [
    {
     "name": "stdout",
     "output_type": "stream",
     "text": [
      "+----+------+-----+-------+-----+\n",
      "|name|number|name1|number1|index|\n",
      "+----+------+-----+-------+-----+\n",
      "|   a|     b|    c|      d|    0|\n",
      "|   1|     2|    3|      4|    1|\n",
      "+----+------+-----+-------+-----+\n",
      "\n"
     ]
    }
   ],
   "source": [
    "new_df.show()"
   ]
  },
  {
   "cell_type": "code",
   "execution_count": 113,
   "metadata": {},
   "outputs": [],
   "source": [
    "a = [\"a\",\"b\",\"c\",\"d\"]\n",
    "b = [\"1\", \"2\", \"3\", \"4\"]"
   ]
  },
  {
   "cell_type": "code",
   "execution_count": 118,
   "metadata": {},
   "outputs": [],
   "source": [
    "rdd = spark.sparkContext.parallelize(list(zip(a, b)))\n",
    "rdd_df = rdd.toDF([\"name\", \"number\"])"
   ]
  },
  {
   "cell_type": "code",
   "execution_count": 119,
   "metadata": {},
   "outputs": [
    {
     "name": "stdout",
     "output_type": "stream",
     "text": [
      "+----+------+\n",
      "|name|number|\n",
      "+----+------+\n",
      "|   a|     1|\n",
      "|   b|     2|\n",
      "|   c|     3|\n",
      "|   d|     4|\n",
      "+----+------+\n",
      "\n"
     ]
    }
   ],
   "source": [
    "rdd_df.show()"
   ]
  },
  {
   "cell_type": "code",
   "execution_count": 138,
   "metadata": {},
   "outputs": [],
   "source": [
    "list_A = [1, 2, 3, 4, 5]\n",
    "list_B = [4, 5, 6, 7, 8]"
   ]
  },
  {
   "cell_type": "code",
   "execution_count": 139,
   "metadata": {},
   "outputs": [],
   "source": [
    "sc = spark.sparkContext"
   ]
  },
  {
   "cell_type": "code",
   "execution_count": 140,
   "metadata": {},
   "outputs": [],
   "source": [
    "rdd_A = sc.parallelize(list_A)\n",
    "rdd_B = sc.parallelize(list_B)"
   ]
  },
  {
   "cell_type": "code",
   "execution_count": 141,
   "metadata": {},
   "outputs": [],
   "source": [
    "get_rdd_A = rdd_A.subtract(rdd_B)\n",
    "get_rdd_B = rdd_B.subtract(rdd_A)\n",
    "result = get_rdd_A.union(get_rdd_B)"
   ]
  },
  {
   "cell_type": "code",
   "execution_count": 144,
   "metadata": {},
   "outputs": [
    {
     "ename": "Py4JJavaError",
     "evalue": "An error occurred while calling z:org.apache.spark.api.python.PythonRDD.collectAndServe.\n: org.apache.spark.SparkException: Job aborted due to stage failure: Task 6 in stage 53.0 failed 1 times, most recent failure: Lost task 6.0 in stage 53.0 (TID 230) (LTIN363809.cts.com executor driver): org.apache.spark.api.python.PythonException: Traceback (most recent call last):\n  File \"C:\\ProgramData\\Anaconda3\\Lib\\site-packages\\pyspark\\python\\lib\\pyspark.zip\\pyspark\\worker.py\", line 599, in main\n  File \"C:\\ProgramData\\Anaconda3\\Lib\\site-packages\\pyspark\\python\\lib\\pyspark.zip\\pyspark\\serializers.py\", line 562, in read_int\n    length = stream.read(4)\n  File \"C:\\ProgramData\\Anaconda3\\lib\\socket.py\", line 669, in readinto\n    return self._sock.recv_into(b)\nsocket.timeout: timed out\n\r\n\tat org.apache.spark.api.python.BasePythonRunner$ReaderIterator.handlePythonException(PythonRunner.scala:545)\r\n\tat org.apache.spark.api.python.PythonRunner$$anon$3.read(PythonRunner.scala:703)\r\n\tat org.apache.spark.api.python.PythonRunner$$anon$3.read(PythonRunner.scala:685)\r\n\tat org.apache.spark.api.python.BasePythonRunner$ReaderIterator.hasNext(PythonRunner.scala:498)\r\n\tat org.apache.spark.InterruptibleIterator.hasNext(InterruptibleIterator.scala:37)\r\n\tat scala.collection.Iterator$GroupedIterator.fill(Iterator.scala:1211)\r\n\tat scala.collection.Iterator$GroupedIterator.hasNext(Iterator.scala:1217)\r\n\tat scala.collection.Iterator$$anon$10.hasNext(Iterator.scala:460)\r\n\tat org.apache.spark.shuffle.sort.BypassMergeSortShuffleWriter.write(BypassMergeSortShuffleWriter.java:140)\r\n\tat org.apache.spark.shuffle.ShuffleWriteProcessor.write(ShuffleWriteProcessor.scala:59)\r\n\tat org.apache.spark.scheduler.ShuffleMapTask.runTask(ShuffleMapTask.scala:99)\r\n\tat org.apache.spark.scheduler.ShuffleMapTask.runTask(ShuffleMapTask.scala:52)\r\n\tat org.apache.spark.scheduler.Task.run(Task.scala:131)\r\n\tat org.apache.spark.executor.Executor$TaskRunner.$anonfun$run$3(Executor.scala:506)\r\n\tat org.apache.spark.util.Utils$.tryWithSafeFinally(Utils.scala:1462)\r\n\tat org.apache.spark.executor.Executor$TaskRunner.run(Executor.scala:509)\r\n\tat java.util.concurrent.ThreadPoolExecutor.runWorker(Unknown Source)\r\n\tat java.util.concurrent.ThreadPoolExecutor$Worker.run(Unknown Source)\r\n\tat java.lang.Thread.run(Unknown Source)\r\n\nDriver stacktrace:\r\n\tat org.apache.spark.scheduler.DAGScheduler.failJobAndIndependentStages(DAGScheduler.scala:2403)\r\n\tat org.apache.spark.scheduler.DAGScheduler.$anonfun$abortStage$2(DAGScheduler.scala:2352)\r\n\tat org.apache.spark.scheduler.DAGScheduler.$anonfun$abortStage$2$adapted(DAGScheduler.scala:2351)\r\n\tat scala.collection.mutable.ResizableArray.foreach(ResizableArray.scala:62)\r\n\tat scala.collection.mutable.ResizableArray.foreach$(ResizableArray.scala:55)\r\n\tat scala.collection.mutable.ArrayBuffer.foreach(ArrayBuffer.scala:49)\r\n\tat org.apache.spark.scheduler.DAGScheduler.abortStage(DAGScheduler.scala:2351)\r\n\tat org.apache.spark.scheduler.DAGScheduler.$anonfun$handleTaskSetFailed$1(DAGScheduler.scala:1109)\r\n\tat org.apache.spark.scheduler.DAGScheduler.$anonfun$handleTaskSetFailed$1$adapted(DAGScheduler.scala:1109)\r\n\tat scala.Option.foreach(Option.scala:407)\r\n\tat org.apache.spark.scheduler.DAGScheduler.handleTaskSetFailed(DAGScheduler.scala:1109)\r\n\tat org.apache.spark.scheduler.DAGSchedulerEventProcessLoop.doOnReceive(DAGScheduler.scala:2591)\r\n\tat org.apache.spark.scheduler.DAGSchedulerEventProcessLoop.onReceive(DAGScheduler.scala:2533)\r\n\tat org.apache.spark.scheduler.DAGSchedulerEventProcessLoop.onReceive(DAGScheduler.scala:2522)\r\n\tat org.apache.spark.util.EventLoop$$anon$1.run(EventLoop.scala:49)\r\n\tat org.apache.spark.scheduler.DAGScheduler.runJob(DAGScheduler.scala:898)\r\n\tat org.apache.spark.SparkContext.runJob(SparkContext.scala:2214)\r\n\tat org.apache.spark.SparkContext.runJob(SparkContext.scala:2235)\r\n\tat org.apache.spark.SparkContext.runJob(SparkContext.scala:2254)\r\n\tat org.apache.spark.SparkContext.runJob(SparkContext.scala:2279)\r\n\tat org.apache.spark.rdd.RDD.$anonfun$collect$1(RDD.scala:1030)\r\n\tat org.apache.spark.rdd.RDDOperationScope$.withScope(RDDOperationScope.scala:151)\r\n\tat org.apache.spark.rdd.RDDOperationScope$.withScope(RDDOperationScope.scala:112)\r\n\tat org.apache.spark.rdd.RDD.withScope(RDD.scala:414)\r\n\tat org.apache.spark.rdd.RDD.collect(RDD.scala:1029)\r\n\tat org.apache.spark.api.python.PythonRDD$.collectAndServe(PythonRDD.scala:180)\r\n\tat org.apache.spark.api.python.PythonRDD.collectAndServe(PythonRDD.scala)\r\n\tat sun.reflect.NativeMethodAccessorImpl.invoke0(Native Method)\r\n\tat sun.reflect.NativeMethodAccessorImpl.invoke(Unknown Source)\r\n\tat sun.reflect.DelegatingMethodAccessorImpl.invoke(Unknown Source)\r\n\tat java.lang.reflect.Method.invoke(Unknown Source)\r\n\tat py4j.reflection.MethodInvoker.invoke(MethodInvoker.java:244)\r\n\tat py4j.reflection.ReflectionEngine.invoke(ReflectionEngine.java:357)\r\n\tat py4j.Gateway.invoke(Gateway.java:282)\r\n\tat py4j.commands.AbstractCommand.invokeMethod(AbstractCommand.java:132)\r\n\tat py4j.commands.CallCommand.execute(CallCommand.java:79)\r\n\tat py4j.ClientServerConnection.waitForCommands(ClientServerConnection.java:182)\r\n\tat py4j.ClientServerConnection.run(ClientServerConnection.java:106)\r\n\tat java.lang.Thread.run(Unknown Source)\r\nCaused by: org.apache.spark.api.python.PythonException: Traceback (most recent call last):\n  File \"C:\\ProgramData\\Anaconda3\\Lib\\site-packages\\pyspark\\python\\lib\\pyspark.zip\\pyspark\\worker.py\", line 599, in main\n  File \"C:\\ProgramData\\Anaconda3\\Lib\\site-packages\\pyspark\\python\\lib\\pyspark.zip\\pyspark\\serializers.py\", line 562, in read_int\n    length = stream.read(4)\n  File \"C:\\ProgramData\\Anaconda3\\lib\\socket.py\", line 669, in readinto\n    return self._sock.recv_into(b)\nsocket.timeout: timed out\n\r\n\tat org.apache.spark.api.python.BasePythonRunner$ReaderIterator.handlePythonException(PythonRunner.scala:545)\r\n\tat org.apache.spark.api.python.PythonRunner$$anon$3.read(PythonRunner.scala:703)\r\n\tat org.apache.spark.api.python.PythonRunner$$anon$3.read(PythonRunner.scala:685)\r\n\tat org.apache.spark.api.python.BasePythonRunner$ReaderIterator.hasNext(PythonRunner.scala:498)\r\n\tat org.apache.spark.InterruptibleIterator.hasNext(InterruptibleIterator.scala:37)\r\n\tat scala.collection.Iterator$GroupedIterator.fill(Iterator.scala:1211)\r\n\tat scala.collection.Iterator$GroupedIterator.hasNext(Iterator.scala:1217)\r\n\tat scala.collection.Iterator$$anon$10.hasNext(Iterator.scala:460)\r\n\tat org.apache.spark.shuffle.sort.BypassMergeSortShuffleWriter.write(BypassMergeSortShuffleWriter.java:140)\r\n\tat org.apache.spark.shuffle.ShuffleWriteProcessor.write(ShuffleWriteProcessor.scala:59)\r\n\tat org.apache.spark.scheduler.ShuffleMapTask.runTask(ShuffleMapTask.scala:99)\r\n\tat org.apache.spark.scheduler.ShuffleMapTask.runTask(ShuffleMapTask.scala:52)\r\n\tat org.apache.spark.scheduler.Task.run(Task.scala:131)\r\n\tat org.apache.spark.executor.Executor$TaskRunner.$anonfun$run$3(Executor.scala:506)\r\n\tat org.apache.spark.util.Utils$.tryWithSafeFinally(Utils.scala:1462)\r\n\tat org.apache.spark.executor.Executor$TaskRunner.run(Executor.scala:509)\r\n\tat java.util.concurrent.ThreadPoolExecutor.runWorker(Unknown Source)\r\n\tat java.util.concurrent.ThreadPoolExecutor$Worker.run(Unknown Source)\r\n\t... 1 more\r\n",
     "output_type": "error",
     "traceback": [
      "\u001b[1;31m---------------------------------------------------------------------------\u001b[0m",
      "\u001b[1;31mPy4JJavaError\u001b[0m                             Traceback (most recent call last)",
      "\u001b[1;32m<ipython-input-144-f61aa9f5af0f>\u001b[0m in \u001b[0;36m<module>\u001b[1;34m\u001b[0m\n\u001b[1;32m----> 1\u001b[1;33m \u001b[0mprint\u001b[0m\u001b[1;33m(\u001b[0m\u001b[0mresult\u001b[0m\u001b[1;33m.\u001b[0m\u001b[0mcollect\u001b[0m\u001b[1;33m(\u001b[0m\u001b[1;33m)\u001b[0m\u001b[1;33m)\u001b[0m\u001b[1;33m\u001b[0m\u001b[1;33m\u001b[0m\u001b[0m\n\u001b[0m",
      "\u001b[1;32mC:\\ProgramData\\Anaconda3\\lib\\site-packages\\pyspark\\rdd.py\u001b[0m in \u001b[0;36mcollect\u001b[1;34m(self)\u001b[0m\n\u001b[0;32m    948\u001b[0m         \"\"\"\n\u001b[0;32m    949\u001b[0m         \u001b[1;32mwith\u001b[0m \u001b[0mSCCallSiteSync\u001b[0m\u001b[1;33m(\u001b[0m\u001b[0mself\u001b[0m\u001b[1;33m.\u001b[0m\u001b[0mcontext\u001b[0m\u001b[1;33m)\u001b[0m \u001b[1;32mas\u001b[0m \u001b[0mcss\u001b[0m\u001b[1;33m:\u001b[0m\u001b[1;33m\u001b[0m\u001b[1;33m\u001b[0m\u001b[0m\n\u001b[1;32m--> 950\u001b[1;33m             \u001b[0msock_info\u001b[0m \u001b[1;33m=\u001b[0m \u001b[0mself\u001b[0m\u001b[1;33m.\u001b[0m\u001b[0mctx\u001b[0m\u001b[1;33m.\u001b[0m\u001b[0m_jvm\u001b[0m\u001b[1;33m.\u001b[0m\u001b[0mPythonRDD\u001b[0m\u001b[1;33m.\u001b[0m\u001b[0mcollectAndServe\u001b[0m\u001b[1;33m(\u001b[0m\u001b[0mself\u001b[0m\u001b[1;33m.\u001b[0m\u001b[0m_jrdd\u001b[0m\u001b[1;33m.\u001b[0m\u001b[0mrdd\u001b[0m\u001b[1;33m(\u001b[0m\u001b[1;33m)\u001b[0m\u001b[1;33m)\u001b[0m\u001b[1;33m\u001b[0m\u001b[1;33m\u001b[0m\u001b[0m\n\u001b[0m\u001b[0;32m    951\u001b[0m         \u001b[1;32mreturn\u001b[0m \u001b[0mlist\u001b[0m\u001b[1;33m(\u001b[0m\u001b[0m_load_from_socket\u001b[0m\u001b[1;33m(\u001b[0m\u001b[0msock_info\u001b[0m\u001b[1;33m,\u001b[0m \u001b[0mself\u001b[0m\u001b[1;33m.\u001b[0m\u001b[0m_jrdd_deserializer\u001b[0m\u001b[1;33m)\u001b[0m\u001b[1;33m)\u001b[0m\u001b[1;33m\u001b[0m\u001b[1;33m\u001b[0m\u001b[0m\n\u001b[0;32m    952\u001b[0m \u001b[1;33m\u001b[0m\u001b[0m\n",
      "\u001b[1;32mC:\\ProgramData\\Anaconda3\\lib\\site-packages\\py4j\\java_gateway.py\u001b[0m in \u001b[0;36m__call__\u001b[1;34m(self, *args)\u001b[0m\n\u001b[0;32m   1307\u001b[0m \u001b[1;33m\u001b[0m\u001b[0m\n\u001b[0;32m   1308\u001b[0m         \u001b[0manswer\u001b[0m \u001b[1;33m=\u001b[0m \u001b[0mself\u001b[0m\u001b[1;33m.\u001b[0m\u001b[0mgateway_client\u001b[0m\u001b[1;33m.\u001b[0m\u001b[0msend_command\u001b[0m\u001b[1;33m(\u001b[0m\u001b[0mcommand\u001b[0m\u001b[1;33m)\u001b[0m\u001b[1;33m\u001b[0m\u001b[1;33m\u001b[0m\u001b[0m\n\u001b[1;32m-> 1309\u001b[1;33m         return_value = get_return_value(\n\u001b[0m\u001b[0;32m   1310\u001b[0m             answer, self.gateway_client, self.target_id, self.name)\n\u001b[0;32m   1311\u001b[0m \u001b[1;33m\u001b[0m\u001b[0m\n",
      "\u001b[1;32mC:\\ProgramData\\Anaconda3\\lib\\site-packages\\pyspark\\sql\\utils.py\u001b[0m in \u001b[0;36mdeco\u001b[1;34m(*a, **kw)\u001b[0m\n\u001b[0;32m    109\u001b[0m     \u001b[1;32mdef\u001b[0m \u001b[0mdeco\u001b[0m\u001b[1;33m(\u001b[0m\u001b[1;33m*\u001b[0m\u001b[0ma\u001b[0m\u001b[1;33m,\u001b[0m \u001b[1;33m**\u001b[0m\u001b[0mkw\u001b[0m\u001b[1;33m)\u001b[0m\u001b[1;33m:\u001b[0m\u001b[1;33m\u001b[0m\u001b[1;33m\u001b[0m\u001b[0m\n\u001b[0;32m    110\u001b[0m         \u001b[1;32mtry\u001b[0m\u001b[1;33m:\u001b[0m\u001b[1;33m\u001b[0m\u001b[1;33m\u001b[0m\u001b[0m\n\u001b[1;32m--> 111\u001b[1;33m             \u001b[1;32mreturn\u001b[0m \u001b[0mf\u001b[0m\u001b[1;33m(\u001b[0m\u001b[1;33m*\u001b[0m\u001b[0ma\u001b[0m\u001b[1;33m,\u001b[0m \u001b[1;33m**\u001b[0m\u001b[0mkw\u001b[0m\u001b[1;33m)\u001b[0m\u001b[1;33m\u001b[0m\u001b[1;33m\u001b[0m\u001b[0m\n\u001b[0m\u001b[0;32m    112\u001b[0m         \u001b[1;32mexcept\u001b[0m \u001b[0mpy4j\u001b[0m\u001b[1;33m.\u001b[0m\u001b[0mprotocol\u001b[0m\u001b[1;33m.\u001b[0m\u001b[0mPy4JJavaError\u001b[0m \u001b[1;32mas\u001b[0m \u001b[0me\u001b[0m\u001b[1;33m:\u001b[0m\u001b[1;33m\u001b[0m\u001b[1;33m\u001b[0m\u001b[0m\n\u001b[0;32m    113\u001b[0m             \u001b[0mconverted\u001b[0m \u001b[1;33m=\u001b[0m \u001b[0mconvert_exception\u001b[0m\u001b[1;33m(\u001b[0m\u001b[0me\u001b[0m\u001b[1;33m.\u001b[0m\u001b[0mjava_exception\u001b[0m\u001b[1;33m)\u001b[0m\u001b[1;33m\u001b[0m\u001b[1;33m\u001b[0m\u001b[0m\n",
      "\u001b[1;32mC:\\ProgramData\\Anaconda3\\lib\\site-packages\\py4j\\protocol.py\u001b[0m in \u001b[0;36mget_return_value\u001b[1;34m(answer, gateway_client, target_id, name)\u001b[0m\n\u001b[0;32m    324\u001b[0m             \u001b[0mvalue\u001b[0m \u001b[1;33m=\u001b[0m \u001b[0mOUTPUT_CONVERTER\u001b[0m\u001b[1;33m[\u001b[0m\u001b[0mtype\u001b[0m\u001b[1;33m]\u001b[0m\u001b[1;33m(\u001b[0m\u001b[0manswer\u001b[0m\u001b[1;33m[\u001b[0m\u001b[1;36m2\u001b[0m\u001b[1;33m:\u001b[0m\u001b[1;33m]\u001b[0m\u001b[1;33m,\u001b[0m \u001b[0mgateway_client\u001b[0m\u001b[1;33m)\u001b[0m\u001b[1;33m\u001b[0m\u001b[1;33m\u001b[0m\u001b[0m\n\u001b[0;32m    325\u001b[0m             \u001b[1;32mif\u001b[0m \u001b[0manswer\u001b[0m\u001b[1;33m[\u001b[0m\u001b[1;36m1\u001b[0m\u001b[1;33m]\u001b[0m \u001b[1;33m==\u001b[0m \u001b[0mREFERENCE_TYPE\u001b[0m\u001b[1;33m:\u001b[0m\u001b[1;33m\u001b[0m\u001b[1;33m\u001b[0m\u001b[0m\n\u001b[1;32m--> 326\u001b[1;33m                 raise Py4JJavaError(\n\u001b[0m\u001b[0;32m    327\u001b[0m                     \u001b[1;34m\"An error occurred while calling {0}{1}{2}.\\n\"\u001b[0m\u001b[1;33m.\u001b[0m\u001b[1;33m\u001b[0m\u001b[1;33m\u001b[0m\u001b[0m\n\u001b[0;32m    328\u001b[0m                     format(target_id, \".\", name), value)\n",
      "\u001b[1;31mPy4JJavaError\u001b[0m: An error occurred while calling z:org.apache.spark.api.python.PythonRDD.collectAndServe.\n: org.apache.spark.SparkException: Job aborted due to stage failure: Task 6 in stage 53.0 failed 1 times, most recent failure: Lost task 6.0 in stage 53.0 (TID 230) (LTIN363809.cts.com executor driver): org.apache.spark.api.python.PythonException: Traceback (most recent call last):\n  File \"C:\\ProgramData\\Anaconda3\\Lib\\site-packages\\pyspark\\python\\lib\\pyspark.zip\\pyspark\\worker.py\", line 599, in main\n  File \"C:\\ProgramData\\Anaconda3\\Lib\\site-packages\\pyspark\\python\\lib\\pyspark.zip\\pyspark\\serializers.py\", line 562, in read_int\n    length = stream.read(4)\n  File \"C:\\ProgramData\\Anaconda3\\lib\\socket.py\", line 669, in readinto\n    return self._sock.recv_into(b)\nsocket.timeout: timed out\n\r\n\tat org.apache.spark.api.python.BasePythonRunner$ReaderIterator.handlePythonException(PythonRunner.scala:545)\r\n\tat org.apache.spark.api.python.PythonRunner$$anon$3.read(PythonRunner.scala:703)\r\n\tat org.apache.spark.api.python.PythonRunner$$anon$3.read(PythonRunner.scala:685)\r\n\tat org.apache.spark.api.python.BasePythonRunner$ReaderIterator.hasNext(PythonRunner.scala:498)\r\n\tat org.apache.spark.InterruptibleIterator.hasNext(InterruptibleIterator.scala:37)\r\n\tat scala.collection.Iterator$GroupedIterator.fill(Iterator.scala:1211)\r\n\tat scala.collection.Iterator$GroupedIterator.hasNext(Iterator.scala:1217)\r\n\tat scala.collection.Iterator$$anon$10.hasNext(Iterator.scala:460)\r\n\tat org.apache.spark.shuffle.sort.BypassMergeSortShuffleWriter.write(BypassMergeSortShuffleWriter.java:140)\r\n\tat org.apache.spark.shuffle.ShuffleWriteProcessor.write(ShuffleWriteProcessor.scala:59)\r\n\tat org.apache.spark.scheduler.ShuffleMapTask.runTask(ShuffleMapTask.scala:99)\r\n\tat org.apache.spark.scheduler.ShuffleMapTask.runTask(ShuffleMapTask.scala:52)\r\n\tat org.apache.spark.scheduler.Task.run(Task.scala:131)\r\n\tat org.apache.spark.executor.Executor$TaskRunner.$anonfun$run$3(Executor.scala:506)\r\n\tat org.apache.spark.util.Utils$.tryWithSafeFinally(Utils.scala:1462)\r\n\tat org.apache.spark.executor.Executor$TaskRunner.run(Executor.scala:509)\r\n\tat java.util.concurrent.ThreadPoolExecutor.runWorker(Unknown Source)\r\n\tat java.util.concurrent.ThreadPoolExecutor$Worker.run(Unknown Source)\r\n\tat java.lang.Thread.run(Unknown Source)\r\n\nDriver stacktrace:\r\n\tat org.apache.spark.scheduler.DAGScheduler.failJobAndIndependentStages(DAGScheduler.scala:2403)\r\n\tat org.apache.spark.scheduler.DAGScheduler.$anonfun$abortStage$2(DAGScheduler.scala:2352)\r\n\tat org.apache.spark.scheduler.DAGScheduler.$anonfun$abortStage$2$adapted(DAGScheduler.scala:2351)\r\n\tat scala.collection.mutable.ResizableArray.foreach(ResizableArray.scala:62)\r\n\tat scala.collection.mutable.ResizableArray.foreach$(ResizableArray.scala:55)\r\n\tat scala.collection.mutable.ArrayBuffer.foreach(ArrayBuffer.scala:49)\r\n\tat org.apache.spark.scheduler.DAGScheduler.abortStage(DAGScheduler.scala:2351)\r\n\tat org.apache.spark.scheduler.DAGScheduler.$anonfun$handleTaskSetFailed$1(DAGScheduler.scala:1109)\r\n\tat org.apache.spark.scheduler.DAGScheduler.$anonfun$handleTaskSetFailed$1$adapted(DAGScheduler.scala:1109)\r\n\tat scala.Option.foreach(Option.scala:407)\r\n\tat org.apache.spark.scheduler.DAGScheduler.handleTaskSetFailed(DAGScheduler.scala:1109)\r\n\tat org.apache.spark.scheduler.DAGSchedulerEventProcessLoop.doOnReceive(DAGScheduler.scala:2591)\r\n\tat org.apache.spark.scheduler.DAGSchedulerEventProcessLoop.onReceive(DAGScheduler.scala:2533)\r\n\tat org.apache.spark.scheduler.DAGSchedulerEventProcessLoop.onReceive(DAGScheduler.scala:2522)\r\n\tat org.apache.spark.util.EventLoop$$anon$1.run(EventLoop.scala:49)\r\n\tat org.apache.spark.scheduler.DAGScheduler.runJob(DAGScheduler.scala:898)\r\n\tat org.apache.spark.SparkContext.runJob(SparkContext.scala:2214)\r\n\tat org.apache.spark.SparkContext.runJob(SparkContext.scala:2235)\r\n\tat org.apache.spark.SparkContext.runJob(SparkContext.scala:2254)\r\n\tat org.apache.spark.SparkContext.runJob(SparkContext.scala:2279)\r\n\tat org.apache.spark.rdd.RDD.$anonfun$collect$1(RDD.scala:1030)\r\n\tat org.apache.spark.rdd.RDDOperationScope$.withScope(RDDOperationScope.scala:151)\r\n\tat org.apache.spark.rdd.RDDOperationScope$.withScope(RDDOperationScope.scala:112)\r\n\tat org.apache.spark.rdd.RDD.withScope(RDD.scala:414)\r\n\tat org.apache.spark.rdd.RDD.collect(RDD.scala:1029)\r\n\tat org.apache.spark.api.python.PythonRDD$.collectAndServe(PythonRDD.scala:180)\r\n\tat org.apache.spark.api.python.PythonRDD.collectAndServe(PythonRDD.scala)\r\n\tat sun.reflect.NativeMethodAccessorImpl.invoke0(Native Method)\r\n\tat sun.reflect.NativeMethodAccessorImpl.invoke(Unknown Source)\r\n\tat sun.reflect.DelegatingMethodAccessorImpl.invoke(Unknown Source)\r\n\tat java.lang.reflect.Method.invoke(Unknown Source)\r\n\tat py4j.reflection.MethodInvoker.invoke(MethodInvoker.java:244)\r\n\tat py4j.reflection.ReflectionEngine.invoke(ReflectionEngine.java:357)\r\n\tat py4j.Gateway.invoke(Gateway.java:282)\r\n\tat py4j.commands.AbstractCommand.invokeMethod(AbstractCommand.java:132)\r\n\tat py4j.commands.CallCommand.execute(CallCommand.java:79)\r\n\tat py4j.ClientServerConnection.waitForCommands(ClientServerConnection.java:182)\r\n\tat py4j.ClientServerConnection.run(ClientServerConnection.java:106)\r\n\tat java.lang.Thread.run(Unknown Source)\r\nCaused by: org.apache.spark.api.python.PythonException: Traceback (most recent call last):\n  File \"C:\\ProgramData\\Anaconda3\\Lib\\site-packages\\pyspark\\python\\lib\\pyspark.zip\\pyspark\\worker.py\", line 599, in main\n  File \"C:\\ProgramData\\Anaconda3\\Lib\\site-packages\\pyspark\\python\\lib\\pyspark.zip\\pyspark\\serializers.py\", line 562, in read_int\n    length = stream.read(4)\n  File \"C:\\ProgramData\\Anaconda3\\lib\\socket.py\", line 669, in readinto\n    return self._sock.recv_into(b)\nsocket.timeout: timed out\n\r\n\tat org.apache.spark.api.python.BasePythonRunner$ReaderIterator.handlePythonException(PythonRunner.scala:545)\r\n\tat org.apache.spark.api.python.PythonRunner$$anon$3.read(PythonRunner.scala:703)\r\n\tat org.apache.spark.api.python.PythonRunner$$anon$3.read(PythonRunner.scala:685)\r\n\tat org.apache.spark.api.python.BasePythonRunner$ReaderIterator.hasNext(PythonRunner.scala:498)\r\n\tat org.apache.spark.InterruptibleIterator.hasNext(InterruptibleIterator.scala:37)\r\n\tat scala.collection.Iterator$GroupedIterator.fill(Iterator.scala:1211)\r\n\tat scala.collection.Iterator$GroupedIterator.hasNext(Iterator.scala:1217)\r\n\tat scala.collection.Iterator$$anon$10.hasNext(Iterator.scala:460)\r\n\tat org.apache.spark.shuffle.sort.BypassMergeSortShuffleWriter.write(BypassMergeSortShuffleWriter.java:140)\r\n\tat org.apache.spark.shuffle.ShuffleWriteProcessor.write(ShuffleWriteProcessor.scala:59)\r\n\tat org.apache.spark.scheduler.ShuffleMapTask.runTask(ShuffleMapTask.scala:99)\r\n\tat org.apache.spark.scheduler.ShuffleMapTask.runTask(ShuffleMapTask.scala:52)\r\n\tat org.apache.spark.scheduler.Task.run(Task.scala:131)\r\n\tat org.apache.spark.executor.Executor$TaskRunner.$anonfun$run$3(Executor.scala:506)\r\n\tat org.apache.spark.util.Utils$.tryWithSafeFinally(Utils.scala:1462)\r\n\tat org.apache.spark.executor.Executor$TaskRunner.run(Executor.scala:509)\r\n\tat java.util.concurrent.ThreadPoolExecutor.runWorker(Unknown Source)\r\n\tat java.util.concurrent.ThreadPoolExecutor$Worker.run(Unknown Source)\r\n\t... 1 more\r\n"
     ]
    }
   ],
   "source": [
    "print(result.collect())"
   ]
  },
  {
   "cell_type": "code",
   "execution_count": 143,
   "metadata": {},
   "outputs": [
    {
     "name": "stdout",
     "output_type": "stream",
     "text": [
      "PythonRDD[153] at RDD at PythonRDD.scala:53\n"
     ]
    }
   ],
   "source": [
    "print(get_rdd_B)"
   ]
  },
  {
   "cell_type": "code",
   "execution_count": 1,
   "metadata": {},
   "outputs": [],
   "source": [
    "from pyspark.sql import SparkSession"
   ]
  },
  {
   "cell_type": "code",
   "execution_count": 2,
   "metadata": {},
   "outputs": [],
   "source": [
    "spark = SparkSession.builder.appName(\"pyspark learning\").config(\"spark.memory.offHeap.enabled\", \"true\").config(\"spark.memory.offHeap.size\",\"10g\").getOrCreate()"
   ]
  },
  {
   "cell_type": "code",
   "execution_count": 3,
   "metadata": {},
   "outputs": [
    {
     "name": "stdout",
     "output_type": "stream",
     "text": [
      "<pyspark.sql.session.SparkSession object at 0x000001BD3CE38190>\n"
     ]
    }
   ],
   "source": [
    "print(spark)"
   ]
  },
  {
   "cell_type": "code",
   "execution_count": 54,
   "metadata": {},
   "outputs": [],
   "source": [
    "df = spark.read.csv(r\"C:\\Users\\2079342\\Downloads\\circuits.csv\", header= True, escape=\"\\\"\")"
   ]
  },
  {
   "cell_type": "code",
   "execution_count": 55,
   "metadata": {},
   "outputs": [
    {
     "name": "stdout",
     "output_type": "stream",
     "text": [
      "+---------+--------------+--------------------+--------------------+------------+--------+---------+----+--------------------+----------+\n",
      "|circuitId|    circuitRef|                name|            location|     country|     lat|      lng| alt|                 url|      date|\n",
      "+---------+--------------+--------------------+--------------------+------------+--------+---------+----+--------------------+----------+\n",
      "|        1|   albert_park|Albert Park Grand...|           Melbourne|   Australia|-37.8497|  144.968|  10|http://en.wikiped...|01-01-2024|\n",
      "|        2|        sepang|Sepang Internatio...|        Kuala Lumpur|    Malaysia| 2.76083|  101.738|  18|http://en.wikiped...|02-01-2024|\n",
      "|        3|       bahrain|Bahrain Internati...|              Sakhir|     Bahrain| 26.0325|  50.5106|   7|http://en.wikiped...|03-01-2024|\n",
      "|        4|     catalunya|Circuit de Barcel...|            Montmeló|       Spain|   41.57|  2.26111| 109|http://en.wikiped...|04-01-2024|\n",
      "|        5|      istanbul|       Istanbul Park|            Istanbul|      Turkey| 40.9517|   29.405| 130|http://en.wikiped...|05-01-2024|\n",
      "|        6|        monaco|   Circuit de Monaco|         Monte-Carlo|      Monaco| 43.7347|  7.42056|   7|http://en.wikiped...|06-01-2024|\n",
      "|        7|    villeneuve|Circuit Gilles Vi...|            Montreal|      Canada|    45.5| -73.5228|  13|http://en.wikiped...|07-01-2024|\n",
      "|        8|   magny_cours|Circuit de Nevers...|         Magny Cours|      France| 46.8642|  3.16361| 228|http://en.wikiped...|08-01-2024|\n",
      "|        9|   silverstone| Silverstone Circuit|         Silverstone|          UK| 52.0786| -1.01694| 153|http://en.wikiped...|09-01-2024|\n",
      "|       10|hockenheimring|      Hockenheimring|          Hockenheim|     Germany| 49.3278|  8.56583| 103|http://en.wikiped...|10-01-2024|\n",
      "|       11|   hungaroring|         Hungaroring|            Budapest|     Hungary| 47.5789|  19.2486| 264|http://en.wikiped...|11-01-2024|\n",
      "|       12|      valencia|Valencia Street C...|            Valencia|       Spain| 39.4589|-0.331667|   4|http://en.wikiped...|12-01-2024|\n",
      "|       13|           spa|Circuit de Spa-Fr...|                 Spa|     Belgium| 50.4372|  5.97139| 401|http://en.wikiped...|13-01-2024|\n",
      "|       14|         monza|Autodromo Naziona...|               Monza|       Italy| 45.6156|  9.28111| 162|http://en.wikiped...|14-01-2024|\n",
      "|       15|    marina_bay|Marina Bay Street...|          Marina Bay|   Singapore|  1.2914|  103.864|  18|http://en.wikiped...|15-01-2024|\n",
      "|       16|          fuji|       Fuji Speedway|               Oyama|       Japan| 35.3717|  138.927| 583|http://en.wikiped...|16-01-2024|\n",
      "|       17|      shanghai|Shanghai Internat...|            Shanghai|       China| 31.3389|   121.22|   5|http://en.wikiped...|17-01-2024|\n",
      "|       18|    interlagos|Autódromo José Ca...|           São Paulo|      Brazil|-23.7036| -46.6997| 785|http://en.wikiped...|18-01-2024|\n",
      "|       19|  indianapolis|Indianapolis Moto...|        Indianapolis|         USA|  39.795| -86.2347| 223|http://en.wikiped...|19-01-2024|\n",
      "|       20|   nurburgring|         Nürburgring|             Nürburg|     Germany| 50.3356|   6.9475| 578|http://en.wikiped...|20-01-2024|\n",
      "|       21|         imola|Autodromo Enzo e ...|               Imola|       Italy| 44.3439|  11.7167|  37|http://en.wikiped...|21-01-2024|\n",
      "|       22|        suzuka|      Suzuka Circuit|              Suzuka|       Japan| 34.8431|  136.541|  45|http://en.wikiped...|22-01-2024|\n",
      "|       23|osterreichring|             A1-Ring|           Spielburg|     Austria| 47.2197|  14.7647| 678|http://en.wikiped...|23-01-2024|\n",
      "|       24|    yas_marina|  Yas Marina Circuit|           Abu Dhabi|         UAE| 24.4672|  54.6031|   3|http://en.wikiped...|24-01-2024|\n",
      "|       25|        galvez|Autódromo Juan y ...|        Buenos Aires|   Argentina|-34.6943| -58.4593|   8|http://en.wikiped...|25-01-2024|\n",
      "|       26|         jerez|   Circuito de Jerez|Jerez de la Frontera|       Spain| 36.7083| -6.03417|  37|http://en.wikiped...|26-01-2024|\n",
      "|       27|       estoril|Autódromo do Estoril|             Estoril|    Portugal| 38.7506| -9.39417| 130|http://en.wikiped...|27-01-2024|\n",
      "|       28|       okayama|Okayama Internati...|             Okayama|       Japan|  34.915|  134.221| 266|http://en.wikiped...|28-01-2024|\n",
      "|       29|      adelaide|Adelaide Street C...|            Adelaide|   Australia|-34.9272|  138.617|  58|http://en.wikiped...|29-01-2024|\n",
      "|       30|       kyalami|             Kyalami|             Midrand|South Africa|-25.9894|  28.0767|1460|http://en.wikiped...|30-01-2024|\n",
      "|       31|     donington|      Donington Park|    Castle Donington|          UK| 52.8306| -1.37528|  88|http://en.wikiped...|31-01-2024|\n",
      "|       32|     rodriguez|Autódromo Hermano...|         Mexico City|      Mexico| 19.4042| -99.0907|2227|http://en.wikiped...|01-02-2024|\n",
      "|       33|       phoenix|Phoenix street ci...|             Phoenix|         USA| 33.4479| -112.075| 345|http://en.wikiped...|02-02-2024|\n",
      "|       34|        ricard| Circuit Paul Ricard|        Le Castellet|      France| 43.2506|  5.79167| 432|http://en.wikiped...|03-02-2024|\n",
      "|       35|       yeongam|Korean Internatio...|      Yeongam County|       Korea| 34.7333|  126.417|   0|http://en.wikiped...|04-02-2024|\n",
      "|       36|   jacarepagua|Autódromo Interna...|      Rio de Janeiro|      Brazil|-22.9756|  -43.395|1126|http://en.wikiped...|05-02-2024|\n",
      "|       37|       detroit|Detroit Street Ci...|             Detroit|         USA| 42.3298| -83.0401| 177|http://en.wikiped...|06-02-2024|\n",
      "|       38|  brands_hatch|        Brands Hatch|                Kent|          UK| 51.3569| 0.263056| 145|http://en.wikiped...|07-02-2024|\n",
      "|       39|     zandvoort|Circuit Park Zand...|           Zandvoort| Netherlands| 52.3888|  4.54092|   6|http://en.wikiped...|08-02-2024|\n",
      "|       40|        zolder|              Zolder|      Heusden-Zolder|     Belgium| 50.9894|  5.25694|  36|http://en.wikiped...|09-02-2024|\n",
      "|       41|         dijon|       Dijon-Prenois|               Dijon|      France| 47.3625|  4.89913| 484|http://en.wikiped...|10-02-2024|\n",
      "|       42|        dallas|           Fair Park|              Dallas|         USA| 32.7774| -96.7587| 139|http://en.wikiped...|11-02-2024|\n",
      "|       43|    long_beach|          Long Beach|          California|         USA| 33.7651| -118.189|  12|http://en.wikiped...|12-02-2024|\n",
      "|       44|     las_vegas|Las Vegas Street ...|              Nevada|         USA| 36.1162| -115.174| 639|http://en.wikiped...|13-02-2024|\n",
      "|       45|        jarama|              Jarama|              Madrid|       Spain| 40.6171| -3.58558| 609|http://en.wikiped...|14-02-2024|\n",
      "|       46|  watkins_glen|        Watkins Glen|      New York State|         USA| 42.3369| -76.9272| 485|http://en.wikiped...|15-02-2024|\n",
      "|       47|    anderstorp|Scandinavian Raceway|          Anderstorp|      Sweden| 57.2653|  13.6042| 153|http://en.wikiped...|16-02-2024|\n",
      "|       48|       mosport|Mosport Internati...|             Ontario|      Canada| 44.0481| -78.6756| 332|http://en.wikiped...|17-02-2024|\n",
      "|       49|      montjuic|            Montjuïc|           Barcelona|       Spain| 41.3664|  2.15167|  79|http://en.wikiped...|18-02-2024|\n",
      "|       50|      nivelles|    Nivelles-Baulers|            Brussels|     Belgium| 50.6211|  4.32694| 139|http://en.wikiped...|19-02-2024|\n",
      "|       51|       charade|     Charade Circuit|    Clermont-Ferrand|      France| 45.7472|  3.03889| 790|http://en.wikiped...|20-02-2024|\n",
      "|       52|     tremblant|Circuit Mont-Trem...|              Quebec|      Canada| 46.1877| -74.6099| 214|http://en.wikiped...|21-02-2024|\n",
      "|       53|       essarts|   Rouen-Les-Essarts|               Rouen|      France| 49.3306|  1.00458|  81|http://en.wikiped...|22-02-2024|\n",
      "|       54|        lemans|             Le Mans|             Le Mans|      France|   47.95| 0.224231|  67|http://en.wikiped...|23-02-2024|\n",
      "|       55|         reims|         Reims-Gueux|               Reims|      France| 49.2542|  3.93083|  88|http://en.wikiped...|24-02-2024|\n",
      "|       56|        george|Prince George Cir...|Eastern Cape Prov...|South Africa|-33.0486|  27.8736|  15|http://en.wikiped...|25-02-2024|\n",
      "|       57|       zeltweg|             Zeltweg|              Styria|     Austria| 47.2039|  14.7478| 676|http://en.wikiped...|26-02-2024|\n",
      "|       58|       aintree|             Aintree|           Liverpool|          UK| 53.4769| -2.94056|  20|http://en.wikiped...|27-02-2024|\n",
      "|       59|      boavista|Circuito da Boavista|              Oporto|    Portugal| 41.1705| -8.67325|  28|http://en.wikiped...|28-02-2024|\n",
      "|       60|     riverside|Riverside Interna...|          California|         USA|  33.937| -117.273| 470|http://en.wikiped...|29-02-2024|\n",
      "|       61|          avus|                AVUS|              Berlin|     Germany| 52.4806|  13.2514|  53|http://en.wikiped...|01-03-2024|\n",
      "|       62|      monsanto|Monsanto Park Cir...|              Lisbon|    Portugal| 38.7197| -9.20306| 158|http://en.wikiped...|02-03-2024|\n",
      "|       63|       sebring|Sebring Internati...|             Florida|         USA| 27.4547| -81.3483|  18|http://en.wikiped...|03-03-2024|\n",
      "|       64|      ain-diab|            Ain Diab|          Casablanca|     Morocco| 33.5786|  -7.6875|  19|http://en.wikiped...|04-03-2024|\n",
      "|       65|       pescara|     Pescara Circuit|             Pescara|       Italy|  42.475|  14.1508| 129|http://en.wikiped...|05-03-2024|\n",
      "|       66|    bremgarten|  Circuit Bremgarten|                Bern| Switzerland| 46.9589|  7.40194| 551|http://en.wikiped...|06-03-2024|\n",
      "|       67|     pedralbes|Circuit de Pedralbes|           Barcelona|       Spain| 41.3903|  2.11667|  85|http://en.wikiped...|07-03-2024|\n",
      "|       68|         buddh|Buddh Internation...|       Uttar Pradesh|       India| 28.3487|  77.5331| 194|http://en.wikiped...|08-03-2024|\n",
      "|       69|      americas|Circuit of the Am...|              Austin|         USA| 30.1328| -97.6411| 161|http://en.wikiped...|09-03-2024|\n",
      "|       70| red_bull_ring|       Red Bull Ring|           Spielburg|     Austria| 47.2197|  14.7647| 678|http://en.wikiped...|10-03-2024|\n",
      "|       71|         sochi|      Sochi Autodrom|               Sochi|      Russia| 43.4057|  39.9578|   2|http://en.wikiped...|11-03-2024|\n",
      "|       72| port_imperial|Port Imperial Str...|          New Jersey|         USA| 40.7769| -74.0111|   4|http://en.wikiped...|12-03-2024|\n",
      "|       73|           BAK|   Baku City Circuit|                Baku|  Azerbaijan| 40.3725|  49.8533|  -7|http://en.wikiped...|13-03-2024|\n",
      "|       74|         hanoi|Hanoi Street Circuit|               Hanoi|     Vietnam| 21.0166|  105.766|   9|http://en.wikiped...|14-03-2024|\n",
      "|       75|      portimao|Autódromo Interna...|            Portimão|    Portugal|  37.227|  -8.6267| 108|http://en.wikiped...|15-03-2024|\n",
      "|       76|       mugello|Autodromo Interna...|             Mugello|       Italy| 43.9975|  11.3719| 255|http://en.wikiped...|16-03-2024|\n",
      "|       77|        jeddah|Jeddah Street Cir...|              Jeddah|Saudi Arabia| 21.5433|  39.1728|  15|http://en.wikiped...|17-03-2024|\n",
      "+---------+--------------+--------------------+--------------------+------------+--------+---------+----+--------------------+----------+\n",
      "\n"
     ]
    }
   ],
   "source": [
    "df.show(78)"
   ]
  },
  {
   "cell_type": "code",
   "execution_count": 56,
   "metadata": {},
   "outputs": [
    {
     "data": {
      "text/plain": [
       "77"
      ]
     },
     "execution_count": 56,
     "metadata": {},
     "output_type": "execute_result"
    }
   ],
   "source": [
    "df.count()"
   ]
  },
  {
   "cell_type": "code",
   "execution_count": 57,
   "metadata": {},
   "outputs": [
    {
     "data": {
      "text/plain": [
       "34"
      ]
     },
     "execution_count": 57,
     "metadata": {},
     "output_type": "execute_result"
    }
   ],
   "source": [
    "df.select(\"country\").distinct().count()"
   ]
  },
  {
   "cell_type": "code",
   "execution_count": 58,
   "metadata": {},
   "outputs": [],
   "source": [
    "from pyspark.sql.functions import *\n",
    "from pyspark.sql.types import *"
   ]
  },
  {
   "cell_type": "code",
   "execution_count": 59,
   "metadata": {},
   "outputs": [
    {
     "name": "stdout",
     "output_type": "stream",
     "text": [
      "+------------+-------------+\n",
      "|     country|country_count|\n",
      "+------------+-------------+\n",
      "|      Russia|            1|\n",
      "|      Sweden|            1|\n",
      "|    Malaysia|            1|\n",
      "|   Singapore|            1|\n",
      "|      Turkey|            1|\n",
      "|     Germany|            3|\n",
      "|      France|            7|\n",
      "|   Argentina|            1|\n",
      "|     Belgium|            3|\n",
      "|       China|            1|\n",
      "|       India|            1|\n",
      "|       Italy|            4|\n",
      "|       Spain|            6|\n",
      "|      Monaco|            1|\n",
      "|     Morocco|            1|\n",
      "|         USA|           11|\n",
      "|      Mexico|            1|\n",
      "|  Azerbaijan|            1|\n",
      "|          UK|            4|\n",
      "|Saudi Arabia|            1|\n",
      "|         UAE|            1|\n",
      "| Switzerland|            1|\n",
      "|      Canada|            3|\n",
      "|      Brazil|            2|\n",
      "|       Japan|            3|\n",
      "|    Portugal|            4|\n",
      "|   Australia|            2|\n",
      "|     Austria|            3|\n",
      "|       Korea|            1|\n",
      "|South Africa|            2|\n",
      "|     Bahrain|            1|\n",
      "|     Hungary|            1|\n",
      "|     Vietnam|            1|\n",
      "| Netherlands|            1|\n",
      "+------------+-------------+\n",
      "\n"
     ]
    }
   ],
   "source": [
    "df.groupBy(\"country\").agg(count(\"country\").alias(\"country_count\")).show(50)"
   ]
  },
  {
   "cell_type": "code",
   "execution_count": 62,
   "metadata": {},
   "outputs": [
    {
     "data": {
      "text/plain": [
       "DataFrame[country_count: bigint]"
      ]
     },
     "execution_count": 62,
     "metadata": {},
     "output_type": "execute_result"
    }
   ],
   "source": [
    "df.agg(countDistinct(\"country\").alias(\"country_count\"))"
   ]
  },
  {
   "cell_type": "code",
   "execution_count": 63,
   "metadata": {},
   "outputs": [
    {
     "name": "stdout",
     "output_type": "stream",
     "text": [
      "+------------+-------------+\n",
      "|     country|country_count|\n",
      "+------------+-------------+\n",
      "|         USA|           11|\n",
      "|      France|            7|\n",
      "|       Spain|            6|\n",
      "|          UK|            4|\n",
      "|       Italy|            4|\n",
      "|    Portugal|            4|\n",
      "|       Japan|            3|\n",
      "|     Austria|            3|\n",
      "|     Germany|            3|\n",
      "|     Belgium|            3|\n",
      "|      Canada|            3|\n",
      "|      Brazil|            2|\n",
      "|   Australia|            2|\n",
      "|South Africa|            2|\n",
      "|      Russia|            1|\n",
      "|      Sweden|            1|\n",
      "|     Morocco|            1|\n",
      "|    Malaysia|            1|\n",
      "|   Argentina|            1|\n",
      "|      Mexico|            1|\n",
      "|         UAE|            1|\n",
      "|     Hungary|            1|\n",
      "|   Singapore|            1|\n",
      "|       China|            1|\n",
      "|       India|            1|\n",
      "|  Azerbaijan|            1|\n",
      "| Switzerland|            1|\n",
      "|       Korea|            1|\n",
      "|     Vietnam|            1|\n",
      "| Netherlands|            1|\n",
      "|      Turkey|            1|\n",
      "|      Monaco|            1|\n",
      "|Saudi Arabia|            1|\n",
      "|     Bahrain|            1|\n",
      "+------------+-------------+\n",
      "\n"
     ]
    }
   ],
   "source": [
    "df.groupBy(\"country\").agg(count(\"country\").alias(\"country_count\")).orderBy(desc(\"country_count\")).show(50)"
   ]
  },
  {
   "cell_type": "code",
   "execution_count": 88,
   "metadata": {},
   "outputs": [],
   "source": [
    "df1 = df.withColumn(\"time&date\", to_timestamp(\"date\", \"dd-MM-yyyy\"))"
   ]
  },
  {
   "cell_type": "code",
   "execution_count": 89,
   "metadata": {},
   "outputs": [
    {
     "name": "stdout",
     "output_type": "stream",
     "text": [
      "+---------+--------------+--------------------+------------+---------+--------+---------+---+--------------------+----------+-------------------+\n",
      "|circuitId|    circuitRef|                name|    location|  country|     lat|      lng|alt|                 url|      date|          time&date|\n",
      "+---------+--------------+--------------------+------------+---------+--------+---------+---+--------------------+----------+-------------------+\n",
      "|        1|   albert_park|Albert Park Grand...|   Melbourne|Australia|-37.8497|  144.968| 10|http://en.wikiped...|01-01-2024|2024-01-01 00:00:00|\n",
      "|        2|        sepang|Sepang Internatio...|Kuala Lumpur| Malaysia| 2.76083|  101.738| 18|http://en.wikiped...|02-01-2024|2024-01-02 00:00:00|\n",
      "|        3|       bahrain|Bahrain Internati...|      Sakhir|  Bahrain| 26.0325|  50.5106|  7|http://en.wikiped...|03-01-2024|2024-01-03 00:00:00|\n",
      "|        4|     catalunya|Circuit de Barcel...|    Montmeló|    Spain|   41.57|  2.26111|109|http://en.wikiped...|04-01-2024|2024-01-04 00:00:00|\n",
      "|        5|      istanbul|       Istanbul Park|    Istanbul|   Turkey| 40.9517|   29.405|130|http://en.wikiped...|05-01-2024|2024-01-05 00:00:00|\n",
      "|        6|        monaco|   Circuit de Monaco| Monte-Carlo|   Monaco| 43.7347|  7.42056|  7|http://en.wikiped...|06-01-2024|2024-01-06 00:00:00|\n",
      "|        7|    villeneuve|Circuit Gilles Vi...|    Montreal|   Canada|    45.5| -73.5228| 13|http://en.wikiped...|07-01-2024|2024-01-07 00:00:00|\n",
      "|        8|   magny_cours|Circuit de Nevers...| Magny Cours|   France| 46.8642|  3.16361|228|http://en.wikiped...|08-01-2024|2024-01-08 00:00:00|\n",
      "|        9|   silverstone| Silverstone Circuit| Silverstone|       UK| 52.0786| -1.01694|153|http://en.wikiped...|09-01-2024|2024-01-09 00:00:00|\n",
      "|       10|hockenheimring|      Hockenheimring|  Hockenheim|  Germany| 49.3278|  8.56583|103|http://en.wikiped...|10-01-2024|2024-01-10 00:00:00|\n",
      "|       11|   hungaroring|         Hungaroring|    Budapest|  Hungary| 47.5789|  19.2486|264|http://en.wikiped...|11-01-2024|2024-01-11 00:00:00|\n",
      "|       12|      valencia|Valencia Street C...|    Valencia|    Spain| 39.4589|-0.331667|  4|http://en.wikiped...|12-01-2024|2024-01-12 00:00:00|\n",
      "|       13|           spa|Circuit de Spa-Fr...|         Spa|  Belgium| 50.4372|  5.97139|401|http://en.wikiped...|13-01-2024|2024-01-13 00:00:00|\n",
      "|       14|         monza|Autodromo Naziona...|       Monza|    Italy| 45.6156|  9.28111|162|http://en.wikiped...|14-01-2024|2024-01-14 00:00:00|\n",
      "|       15|    marina_bay|Marina Bay Street...|  Marina Bay|Singapore|  1.2914|  103.864| 18|http://en.wikiped...|15-01-2024|2024-01-15 00:00:00|\n",
      "|       16|          fuji|       Fuji Speedway|       Oyama|    Japan| 35.3717|  138.927|583|http://en.wikiped...|16-01-2024|2024-01-16 00:00:00|\n",
      "|       17|      shanghai|Shanghai Internat...|    Shanghai|    China| 31.3389|   121.22|  5|http://en.wikiped...|17-01-2024|2024-01-17 00:00:00|\n",
      "|       18|    interlagos|Autódromo José Ca...|   São Paulo|   Brazil|-23.7036| -46.6997|785|http://en.wikiped...|18-01-2024|2024-01-18 00:00:00|\n",
      "|       19|  indianapolis|Indianapolis Moto...|Indianapolis|      USA|  39.795| -86.2347|223|http://en.wikiped...|19-01-2024|2024-01-19 00:00:00|\n",
      "|       20|   nurburgring|         Nürburgring|     Nürburg|  Germany| 50.3356|   6.9475|578|http://en.wikiped...|20-01-2024|2024-01-20 00:00:00|\n",
      "+---------+--------------+--------------------+------------+---------+--------+---------+---+--------------------+----------+-------------------+\n",
      "only showing top 20 rows\n",
      "\n"
     ]
    }
   ],
   "source": [
    "df1.show()"
   ]
  },
  {
   "cell_type": "code",
   "execution_count": 87,
   "metadata": {},
   "outputs": [
    {
     "name": "stdout",
     "output_type": "stream",
     "text": [
      "+---------+--------------+--------------------+------------+---------+--------+---------+---+--------------------+----------+----+\n",
      "|circuitId|    circuitRef|                name|    location|  country|     lat|      lng|alt|                 url|      date| new|\n",
      "+---------+--------------+--------------------+------------+---------+--------+---------+---+--------------------+----------+----+\n",
      "|        1|   albert_park|Albert Park Grand...|   Melbourne|Australia|-37.8497|  144.968| 10|http://en.wikiped...|01-01-2024|null|\n",
      "|        2|        sepang|Sepang Internatio...|Kuala Lumpur| Malaysia| 2.76083|  101.738| 18|http://en.wikiped...|02-01-2024|null|\n",
      "|        3|       bahrain|Bahrain Internati...|      Sakhir|  Bahrain| 26.0325|  50.5106|  7|http://en.wikiped...|03-01-2024|null|\n",
      "|        4|     catalunya|Circuit de Barcel...|    Montmeló|    Spain|   41.57|  2.26111|109|http://en.wikiped...|04-01-2024|null|\n",
      "|        5|      istanbul|       Istanbul Park|    Istanbul|   Turkey| 40.9517|   29.405|130|http://en.wikiped...|05-01-2024|null|\n",
      "|        6|        monaco|   Circuit de Monaco| Monte-Carlo|   Monaco| 43.7347|  7.42056|  7|http://en.wikiped...|06-01-2024|null|\n",
      "|        7|    villeneuve|Circuit Gilles Vi...|    Montreal|   Canada|    45.5| -73.5228| 13|http://en.wikiped...|07-01-2024|null|\n",
      "|        8|   magny_cours|Circuit de Nevers...| Magny Cours|   France| 46.8642|  3.16361|228|http://en.wikiped...|08-01-2024|null|\n",
      "|        9|   silverstone| Silverstone Circuit| Silverstone|       UK| 52.0786| -1.01694|153|http://en.wikiped...|09-01-2024|null|\n",
      "|       10|hockenheimring|      Hockenheimring|  Hockenheim|  Germany| 49.3278|  8.56583|103|http://en.wikiped...|10-01-2024|null|\n",
      "|       11|   hungaroring|         Hungaroring|    Budapest|  Hungary| 47.5789|  19.2486|264|http://en.wikiped...|11-01-2024|null|\n",
      "|       12|      valencia|Valencia Street C...|    Valencia|    Spain| 39.4589|-0.331667|  4|http://en.wikiped...|12-01-2024|null|\n",
      "|       13|           spa|Circuit de Spa-Fr...|         Spa|  Belgium| 50.4372|  5.97139|401|http://en.wikiped...|13-01-2024|null|\n",
      "|       14|         monza|Autodromo Naziona...|       Monza|    Italy| 45.6156|  9.28111|162|http://en.wikiped...|14-01-2024|null|\n",
      "|       15|    marina_bay|Marina Bay Street...|  Marina Bay|Singapore|  1.2914|  103.864| 18|http://en.wikiped...|15-01-2024|null|\n",
      "|       16|          fuji|       Fuji Speedway|       Oyama|    Japan| 35.3717|  138.927|583|http://en.wikiped...|16-01-2024|null|\n",
      "|       17|      shanghai|Shanghai Internat...|    Shanghai|    China| 31.3389|   121.22|  5|http://en.wikiped...|17-01-2024|null|\n",
      "|       18|    interlagos|Autódromo José Ca...|   São Paulo|   Brazil|-23.7036| -46.6997|785|http://en.wikiped...|18-01-2024|null|\n",
      "|       19|  indianapolis|Indianapolis Moto...|Indianapolis|      USA|  39.795| -86.2347|223|http://en.wikiped...|19-01-2024|null|\n",
      "|       20|   nurburgring|         Nürburgring|     Nürburg|  Germany| 50.3356|   6.9475|578|http://en.wikiped...|20-01-2024|null|\n",
      "+---------+--------------+--------------------+------------+---------+--------+---------+---+--------------------+----------+----+\n",
      "only showing top 20 rows\n",
      "\n"
     ]
    }
   ],
   "source": [
    "df.withColumn(\"new\", to_date(col(\"date\"), \"yyyy-MM-dd\")).show()"
   ]
  },
  {
   "cell_type": "code",
   "execution_count": 84,
   "metadata": {},
   "outputs": [
    {
     "name": "stdout",
     "output_type": "stream",
     "text": [
      "+-------------------------+\n",
      "|to_date(date, MM-dd-yyyy)|\n",
      "+-------------------------+\n",
      "|               2024-01-01|\n",
      "|               2024-02-01|\n",
      "|               2024-03-01|\n",
      "|               2024-04-01|\n",
      "|               2024-05-01|\n",
      "|               2024-06-01|\n",
      "|               2024-07-01|\n",
      "|               2024-08-01|\n",
      "|               2024-09-01|\n",
      "|               2024-10-01|\n",
      "|               2024-11-01|\n",
      "|               2024-12-01|\n",
      "|                     null|\n",
      "|                     null|\n",
      "|                     null|\n",
      "|                     null|\n",
      "|                     null|\n",
      "|                     null|\n",
      "|                     null|\n",
      "|                     null|\n",
      "|                     null|\n",
      "|                     null|\n",
      "|                     null|\n",
      "|                     null|\n",
      "|                     null|\n",
      "|                     null|\n",
      "|                     null|\n",
      "|                     null|\n",
      "|                     null|\n",
      "|                     null|\n",
      "|                     null|\n",
      "|               2024-01-02|\n",
      "|               2024-02-02|\n",
      "|               2024-03-02|\n",
      "|               2024-04-02|\n",
      "|               2024-05-02|\n",
      "|               2024-06-02|\n",
      "|               2024-07-02|\n",
      "|               2024-08-02|\n",
      "|               2024-09-02|\n",
      "|               2024-10-02|\n",
      "|               2024-11-02|\n",
      "|               2024-12-02|\n",
      "|                     null|\n",
      "|                     null|\n",
      "|                     null|\n",
      "|                     null|\n",
      "|                     null|\n",
      "|                     null|\n",
      "|                     null|\n",
      "|                     null|\n",
      "|                     null|\n",
      "|                     null|\n",
      "|                     null|\n",
      "|                     null|\n",
      "|                     null|\n",
      "|                     null|\n",
      "|                     null|\n",
      "|                     null|\n",
      "|                     null|\n",
      "|               2024-01-03|\n",
      "|               2024-02-03|\n",
      "|               2024-03-03|\n",
      "|               2024-04-03|\n",
      "|               2024-05-03|\n",
      "|               2024-06-03|\n",
      "|               2024-07-03|\n",
      "|               2024-08-03|\n",
      "|               2024-09-03|\n",
      "|               2024-10-03|\n",
      "|               2024-11-03|\n",
      "|               2024-12-03|\n",
      "|                     null|\n",
      "|                     null|\n",
      "|                     null|\n",
      "|                     null|\n",
      "|                     null|\n",
      "+-------------------------+\n",
      "\n"
     ]
    }
   ],
   "source": [
    "df.select(to_date(col(\"date\"), \"MM-dd-yyyy\")).show(77)"
   ]
  },
  {
   "cell_type": "code",
   "execution_count": 91,
   "metadata": {},
   "outputs": [
    {
     "name": "stdout",
     "output_type": "stream",
     "text": [
      "+---------+--------------+--------------------+------------+---------+--------+---------+---+--------------------+----------+\n",
      "|circuitId|    circuitRef|                name|    location|  country|     lat|      lng|alt|                 url|      date|\n",
      "+---------+--------------+--------------------+------------+---------+--------+---------+---+--------------------+----------+\n",
      "|        1|   albert_park|Albert Park Grand...|   Melbourne|Australia|-37.8497|  144.968| 10|http://en.wikiped...|01-01-2024|\n",
      "|        2|        sepang|Sepang Internatio...|Kuala Lumpur| Malaysia| 2.76083|  101.738| 18|http://en.wikiped...|02-01-2024|\n",
      "|        3|       bahrain|Bahrain Internati...|      Sakhir|  Bahrain| 26.0325|  50.5106|  7|http://en.wikiped...|03-01-2024|\n",
      "|        4|     catalunya|Circuit de Barcel...|    Montmeló|    Spain|   41.57|  2.26111|109|http://en.wikiped...|04-01-2024|\n",
      "|        5|      istanbul|       Istanbul Park|    Istanbul|   Turkey| 40.9517|   29.405|130|http://en.wikiped...|05-01-2024|\n",
      "|        6|        monaco|   Circuit de Monaco| Monte-Carlo|   Monaco| 43.7347|  7.42056|  7|http://en.wikiped...|06-01-2024|\n",
      "|        7|    villeneuve|Circuit Gilles Vi...|    Montreal|   Canada|    45.5| -73.5228| 13|http://en.wikiped...|07-01-2024|\n",
      "|        8|   magny_cours|Circuit de Nevers...| Magny Cours|   France| 46.8642|  3.16361|228|http://en.wikiped...|08-01-2024|\n",
      "|        9|   silverstone| Silverstone Circuit| Silverstone|       UK| 52.0786| -1.01694|153|http://en.wikiped...|09-01-2024|\n",
      "|       10|hockenheimring|      Hockenheimring|  Hockenheim|  Germany| 49.3278|  8.56583|103|http://en.wikiped...|10-01-2024|\n",
      "|       11|   hungaroring|         Hungaroring|    Budapest|  Hungary| 47.5789|  19.2486|264|http://en.wikiped...|11-01-2024|\n",
      "|       12|      valencia|Valencia Street C...|    Valencia|    Spain| 39.4589|-0.331667|  4|http://en.wikiped...|12-01-2024|\n",
      "|       13|           spa|Circuit de Spa-Fr...|         Spa|  Belgium| 50.4372|  5.97139|401|http://en.wikiped...|13-01-2024|\n",
      "|       14|         monza|Autodromo Naziona...|       Monza|    Italy| 45.6156|  9.28111|162|http://en.wikiped...|14-01-2024|\n",
      "|       15|    marina_bay|Marina Bay Street...|  Marina Bay|Singapore|  1.2914|  103.864| 18|http://en.wikiped...|15-01-2024|\n",
      "|       16|          fuji|       Fuji Speedway|       Oyama|    Japan| 35.3717|  138.927|583|http://en.wikiped...|16-01-2024|\n",
      "|       17|      shanghai|Shanghai Internat...|    Shanghai|    China| 31.3389|   121.22|  5|http://en.wikiped...|17-01-2024|\n",
      "|       18|    interlagos|Autódromo José Ca...|   São Paulo|   Brazil|-23.7036| -46.6997|785|http://en.wikiped...|18-01-2024|\n",
      "|       19|  indianapolis|Indianapolis Moto...|Indianapolis|      USA|  39.795| -86.2347|223|http://en.wikiped...|19-01-2024|\n",
      "|       20|   nurburgring|         Nürburgring|     Nürburg|  Germany| 50.3356|   6.9475|578|http://en.wikiped...|20-01-2024|\n",
      "+---------+--------------+--------------------+------------+---------+--------+---------+---+--------------------+----------+\n",
      "only showing top 20 rows\n",
      "\n"
     ]
    }
   ],
   "source": [
    "df.show()"
   ]
  },
  {
   "cell_type": "code",
   "execution_count": 92,
   "metadata": {},
   "outputs": [],
   "source": [
    "df1 = df.withColumn(\"time&date\", to_timestamp(\"date\", \"dd-MM-yyyy\"))"
   ]
  },
  {
   "cell_type": "code",
   "execution_count": 96,
   "metadata": {},
   "outputs": [
    {
     "name": "stdout",
     "output_type": "stream",
     "text": [
      "+-------------------+\n",
      "|     max(time&date)|\n",
      "+-------------------+\n",
      "|2024-03-17 00:00:00|\n",
      "+-------------------+\n",
      "\n"
     ]
    }
   ],
   "source": [
    "df1.select(max(\"time&date\")).show()"
   ]
  },
  {
   "cell_type": "code",
   "execution_count": 97,
   "metadata": {},
   "outputs": [
    {
     "name": "stdout",
     "output_type": "stream",
     "text": [
      "+-------------------+\n",
      "|     min(time&date)|\n",
      "+-------------------+\n",
      "|2024-01-01 00:00:00|\n",
      "+-------------------+\n",
      "\n"
     ]
    }
   ],
   "source": [
    "df1.select(min(\"time&date\")).show()"
   ]
  },
  {
   "cell_type": "code",
   "execution_count": 109,
   "metadata": {},
   "outputs": [],
   "source": [
    "df2 = df1.withColumn(\"new1\", lit(current_date()))"
   ]
  },
  {
   "cell_type": "code",
   "execution_count": 110,
   "metadata": {},
   "outputs": [
    {
     "name": "stdout",
     "output_type": "stream",
     "text": [
      "+---------+--------------+--------------------+------------+---------+--------+---------+---+--------------------+----------+-------------------+----------+\n",
      "|circuitId|    circuitRef|                name|    location|  country|     lat|      lng|alt|                 url|      date|          time&date|      new1|\n",
      "+---------+--------------+--------------------+------------+---------+--------+---------+---+--------------------+----------+-------------------+----------+\n",
      "|        1|   albert_park|Albert Park Grand...|   Melbourne|Australia|-37.8497|  144.968| 10|http://en.wikiped...|01-01-2024|2024-01-01 00:00:00|2024-01-02|\n",
      "|        2|        sepang|Sepang Internatio...|Kuala Lumpur| Malaysia| 2.76083|  101.738| 18|http://en.wikiped...|02-01-2024|2024-01-02 00:00:00|2024-01-02|\n",
      "|        3|       bahrain|Bahrain Internati...|      Sakhir|  Bahrain| 26.0325|  50.5106|  7|http://en.wikiped...|03-01-2024|2024-01-03 00:00:00|2024-01-02|\n",
      "|        4|     catalunya|Circuit de Barcel...|    Montmeló|    Spain|   41.57|  2.26111|109|http://en.wikiped...|04-01-2024|2024-01-04 00:00:00|2024-01-02|\n",
      "|        5|      istanbul|       Istanbul Park|    Istanbul|   Turkey| 40.9517|   29.405|130|http://en.wikiped...|05-01-2024|2024-01-05 00:00:00|2024-01-02|\n",
      "|        6|        monaco|   Circuit de Monaco| Monte-Carlo|   Monaco| 43.7347|  7.42056|  7|http://en.wikiped...|06-01-2024|2024-01-06 00:00:00|2024-01-02|\n",
      "|        7|    villeneuve|Circuit Gilles Vi...|    Montreal|   Canada|    45.5| -73.5228| 13|http://en.wikiped...|07-01-2024|2024-01-07 00:00:00|2024-01-02|\n",
      "|        8|   magny_cours|Circuit de Nevers...| Magny Cours|   France| 46.8642|  3.16361|228|http://en.wikiped...|08-01-2024|2024-01-08 00:00:00|2024-01-02|\n",
      "|        9|   silverstone| Silverstone Circuit| Silverstone|       UK| 52.0786| -1.01694|153|http://en.wikiped...|09-01-2024|2024-01-09 00:00:00|2024-01-02|\n",
      "|       10|hockenheimring|      Hockenheimring|  Hockenheim|  Germany| 49.3278|  8.56583|103|http://en.wikiped...|10-01-2024|2024-01-10 00:00:00|2024-01-02|\n",
      "|       11|   hungaroring|         Hungaroring|    Budapest|  Hungary| 47.5789|  19.2486|264|http://en.wikiped...|11-01-2024|2024-01-11 00:00:00|2024-01-02|\n",
      "|       12|      valencia|Valencia Street C...|    Valencia|    Spain| 39.4589|-0.331667|  4|http://en.wikiped...|12-01-2024|2024-01-12 00:00:00|2024-01-02|\n",
      "|       13|           spa|Circuit de Spa-Fr...|         Spa|  Belgium| 50.4372|  5.97139|401|http://en.wikiped...|13-01-2024|2024-01-13 00:00:00|2024-01-02|\n",
      "|       14|         monza|Autodromo Naziona...|       Monza|    Italy| 45.6156|  9.28111|162|http://en.wikiped...|14-01-2024|2024-01-14 00:00:00|2024-01-02|\n",
      "|       15|    marina_bay|Marina Bay Street...|  Marina Bay|Singapore|  1.2914|  103.864| 18|http://en.wikiped...|15-01-2024|2024-01-15 00:00:00|2024-01-02|\n",
      "|       16|          fuji|       Fuji Speedway|       Oyama|    Japan| 35.3717|  138.927|583|http://en.wikiped...|16-01-2024|2024-01-16 00:00:00|2024-01-02|\n",
      "|       17|      shanghai|Shanghai Internat...|    Shanghai|    China| 31.3389|   121.22|  5|http://en.wikiped...|17-01-2024|2024-01-17 00:00:00|2024-01-02|\n",
      "|       18|    interlagos|Autódromo José Ca...|   São Paulo|   Brazil|-23.7036| -46.6997|785|http://en.wikiped...|18-01-2024|2024-01-18 00:00:00|2024-01-02|\n",
      "|       19|  indianapolis|Indianapolis Moto...|Indianapolis|      USA|  39.795| -86.2347|223|http://en.wikiped...|19-01-2024|2024-01-19 00:00:00|2024-01-02|\n",
      "|       20|   nurburgring|         Nürburgring|     Nürburg|  Germany| 50.3356|   6.9475|578|http://en.wikiped...|20-01-2024|2024-01-20 00:00:00|2024-01-02|\n",
      "+---------+--------------+--------------------+------------+---------+--------+---------+---+--------------------+----------+-------------------+----------+\n",
      "only showing top 20 rows\n",
      "\n"
     ]
    }
   ],
   "source": [
    "df2.show()"
   ]
  },
  {
   "cell_type": "code",
   "execution_count": 111,
   "metadata": {},
   "outputs": [
    {
     "data": {
      "text/html": [
       "\n",
       "            <div>\n",
       "                <p><b>SparkSession - in-memory</b></p>\n",
       "                \n",
       "        <div>\n",
       "            <p><b>SparkContext</b></p>\n",
       "\n",
       "            <p><a href=\"http://LTIN363809.cts.com:4040\">Spark UI</a></p>\n",
       "\n",
       "            <dl>\n",
       "              <dt>Version</dt>\n",
       "                <dd><code>v3.2.0</code></dd>\n",
       "              <dt>Master</dt>\n",
       "                <dd><code>local[*]</code></dd>\n",
       "              <dt>AppName</dt>\n",
       "                <dd><code>pyspark learning</code></dd>\n",
       "            </dl>\n",
       "        </div>\n",
       "        \n",
       "            </div>\n",
       "        "
      ],
      "text/plain": [
       "<pyspark.sql.session.SparkSession at 0x1bd3ce38190>"
      ]
     },
     "execution_count": 111,
     "metadata": {},
     "output_type": "execute_result"
    }
   ],
   "source": [
    "spark"
   ]
  },
  {
   "cell_type": "code",
   "execution_count": 115,
   "metadata": {},
   "outputs": [],
   "source": [
    "df3 = df.withColumn(\"from_date\", lit(current_date()))\n",
    "df3 = df3.withColumn(\"from_date\", to_timestamp(\"from_date\", 'yy/MM/dd HH:mm'))"
   ]
  },
  {
   "cell_type": "code",
   "execution_count": 116,
   "metadata": {},
   "outputs": [
    {
     "name": "stdout",
     "output_type": "stream",
     "text": [
      "+---------+--------------+--------------------+------------+---------+--------+---------+---+--------------------+----------+-------------------+\n",
      "|circuitId|    circuitRef|                name|    location|  country|     lat|      lng|alt|                 url|      date|          from_date|\n",
      "+---------+--------------+--------------------+------------+---------+--------+---------+---+--------------------+----------+-------------------+\n",
      "|        1|   albert_park|Albert Park Grand...|   Melbourne|Australia|-37.8497|  144.968| 10|http://en.wikiped...|01-01-2024|2024-01-02 00:00:00|\n",
      "|        2|        sepang|Sepang Internatio...|Kuala Lumpur| Malaysia| 2.76083|  101.738| 18|http://en.wikiped...|02-01-2024|2024-01-02 00:00:00|\n",
      "|        3|       bahrain|Bahrain Internati...|      Sakhir|  Bahrain| 26.0325|  50.5106|  7|http://en.wikiped...|03-01-2024|2024-01-02 00:00:00|\n",
      "|        4|     catalunya|Circuit de Barcel...|    Montmeló|    Spain|   41.57|  2.26111|109|http://en.wikiped...|04-01-2024|2024-01-02 00:00:00|\n",
      "|        5|      istanbul|       Istanbul Park|    Istanbul|   Turkey| 40.9517|   29.405|130|http://en.wikiped...|05-01-2024|2024-01-02 00:00:00|\n",
      "|        6|        monaco|   Circuit de Monaco| Monte-Carlo|   Monaco| 43.7347|  7.42056|  7|http://en.wikiped...|06-01-2024|2024-01-02 00:00:00|\n",
      "|        7|    villeneuve|Circuit Gilles Vi...|    Montreal|   Canada|    45.5| -73.5228| 13|http://en.wikiped...|07-01-2024|2024-01-02 00:00:00|\n",
      "|        8|   magny_cours|Circuit de Nevers...| Magny Cours|   France| 46.8642|  3.16361|228|http://en.wikiped...|08-01-2024|2024-01-02 00:00:00|\n",
      "|        9|   silverstone| Silverstone Circuit| Silverstone|       UK| 52.0786| -1.01694|153|http://en.wikiped...|09-01-2024|2024-01-02 00:00:00|\n",
      "|       10|hockenheimring|      Hockenheimring|  Hockenheim|  Germany| 49.3278|  8.56583|103|http://en.wikiped...|10-01-2024|2024-01-02 00:00:00|\n",
      "|       11|   hungaroring|         Hungaroring|    Budapest|  Hungary| 47.5789|  19.2486|264|http://en.wikiped...|11-01-2024|2024-01-02 00:00:00|\n",
      "|       12|      valencia|Valencia Street C...|    Valencia|    Spain| 39.4589|-0.331667|  4|http://en.wikiped...|12-01-2024|2024-01-02 00:00:00|\n",
      "|       13|           spa|Circuit de Spa-Fr...|         Spa|  Belgium| 50.4372|  5.97139|401|http://en.wikiped...|13-01-2024|2024-01-02 00:00:00|\n",
      "|       14|         monza|Autodromo Naziona...|       Monza|    Italy| 45.6156|  9.28111|162|http://en.wikiped...|14-01-2024|2024-01-02 00:00:00|\n",
      "|       15|    marina_bay|Marina Bay Street...|  Marina Bay|Singapore|  1.2914|  103.864| 18|http://en.wikiped...|15-01-2024|2024-01-02 00:00:00|\n",
      "|       16|          fuji|       Fuji Speedway|       Oyama|    Japan| 35.3717|  138.927|583|http://en.wikiped...|16-01-2024|2024-01-02 00:00:00|\n",
      "|       17|      shanghai|Shanghai Internat...|    Shanghai|    China| 31.3389|   121.22|  5|http://en.wikiped...|17-01-2024|2024-01-02 00:00:00|\n",
      "|       18|    interlagos|Autódromo José Ca...|   São Paulo|   Brazil|-23.7036| -46.6997|785|http://en.wikiped...|18-01-2024|2024-01-02 00:00:00|\n",
      "|       19|  indianapolis|Indianapolis Moto...|Indianapolis|      USA|  39.795| -86.2347|223|http://en.wikiped...|19-01-2024|2024-01-02 00:00:00|\n",
      "|       20|   nurburgring|         Nürburgring|     Nürburg|  Germany| 50.3356|   6.9475|578|http://en.wikiped...|20-01-2024|2024-01-02 00:00:00|\n",
      "+---------+--------------+--------------------+------------+---------+--------+---------+---+--------------------+----------+-------------------+\n",
      "only showing top 20 rows\n",
      "\n"
     ]
    }
   ],
   "source": [
    "df3.show()"
   ]
  },
  {
   "cell_type": "code",
   "execution_count": 124,
   "metadata": {},
   "outputs": [],
   "source": [
    "df4 = df3.withColumn(\"from_date\", to_timestamp(col(\"from_date\"))).withColumn(\"recency\", col(\"date\").cast(\"long\") - col(\"from_date\").cast(\"long\"))"
   ]
  },
  {
   "cell_type": "code",
   "execution_count": 126,
   "metadata": {},
   "outputs": [
    {
     "name": "stdout",
     "output_type": "stream",
     "text": [
      "+---------+--------------+--------------------+--------------------+------------+--------+---------+----+--------------------+----------+-------------------+-------+\n",
      "|circuitId|    circuitRef|                name|            location|     country|     lat|      lng| alt|                 url|      date|          from_date|recency|\n",
      "+---------+--------------+--------------------+--------------------+------------+--------+---------+----+--------------------+----------+-------------------+-------+\n",
      "|        1|   albert_park|Albert Park Grand...|           Melbourne|   Australia|-37.8497|  144.968|  10|http://en.wikiped...|01-01-2024|2024-01-02 00:00:00|   null|\n",
      "|        2|        sepang|Sepang Internatio...|        Kuala Lumpur|    Malaysia| 2.76083|  101.738|  18|http://en.wikiped...|02-01-2024|2024-01-02 00:00:00|   null|\n",
      "|        3|       bahrain|Bahrain Internati...|              Sakhir|     Bahrain| 26.0325|  50.5106|   7|http://en.wikiped...|03-01-2024|2024-01-02 00:00:00|   null|\n",
      "|        4|     catalunya|Circuit de Barcel...|            Montmeló|       Spain|   41.57|  2.26111| 109|http://en.wikiped...|04-01-2024|2024-01-02 00:00:00|   null|\n",
      "|        5|      istanbul|       Istanbul Park|            Istanbul|      Turkey| 40.9517|   29.405| 130|http://en.wikiped...|05-01-2024|2024-01-02 00:00:00|   null|\n",
      "|        6|        monaco|   Circuit de Monaco|         Monte-Carlo|      Monaco| 43.7347|  7.42056|   7|http://en.wikiped...|06-01-2024|2024-01-02 00:00:00|   null|\n",
      "|        7|    villeneuve|Circuit Gilles Vi...|            Montreal|      Canada|    45.5| -73.5228|  13|http://en.wikiped...|07-01-2024|2024-01-02 00:00:00|   null|\n",
      "|        8|   magny_cours|Circuit de Nevers...|         Magny Cours|      France| 46.8642|  3.16361| 228|http://en.wikiped...|08-01-2024|2024-01-02 00:00:00|   null|\n",
      "|        9|   silverstone| Silverstone Circuit|         Silverstone|          UK| 52.0786| -1.01694| 153|http://en.wikiped...|09-01-2024|2024-01-02 00:00:00|   null|\n",
      "|       10|hockenheimring|      Hockenheimring|          Hockenheim|     Germany| 49.3278|  8.56583| 103|http://en.wikiped...|10-01-2024|2024-01-02 00:00:00|   null|\n",
      "|       11|   hungaroring|         Hungaroring|            Budapest|     Hungary| 47.5789|  19.2486| 264|http://en.wikiped...|11-01-2024|2024-01-02 00:00:00|   null|\n",
      "|       12|      valencia|Valencia Street C...|            Valencia|       Spain| 39.4589|-0.331667|   4|http://en.wikiped...|12-01-2024|2024-01-02 00:00:00|   null|\n",
      "|       13|           spa|Circuit de Spa-Fr...|                 Spa|     Belgium| 50.4372|  5.97139| 401|http://en.wikiped...|13-01-2024|2024-01-02 00:00:00|   null|\n",
      "|       14|         monza|Autodromo Naziona...|               Monza|       Italy| 45.6156|  9.28111| 162|http://en.wikiped...|14-01-2024|2024-01-02 00:00:00|   null|\n",
      "|       15|    marina_bay|Marina Bay Street...|          Marina Bay|   Singapore|  1.2914|  103.864|  18|http://en.wikiped...|15-01-2024|2024-01-02 00:00:00|   null|\n",
      "|       16|          fuji|       Fuji Speedway|               Oyama|       Japan| 35.3717|  138.927| 583|http://en.wikiped...|16-01-2024|2024-01-02 00:00:00|   null|\n",
      "|       17|      shanghai|Shanghai Internat...|            Shanghai|       China| 31.3389|   121.22|   5|http://en.wikiped...|17-01-2024|2024-01-02 00:00:00|   null|\n",
      "|       18|    interlagos|Autódromo José Ca...|           São Paulo|      Brazil|-23.7036| -46.6997| 785|http://en.wikiped...|18-01-2024|2024-01-02 00:00:00|   null|\n",
      "|       19|  indianapolis|Indianapolis Moto...|        Indianapolis|         USA|  39.795| -86.2347| 223|http://en.wikiped...|19-01-2024|2024-01-02 00:00:00|   null|\n",
      "|       20|   nurburgring|         Nürburgring|             Nürburg|     Germany| 50.3356|   6.9475| 578|http://en.wikiped...|20-01-2024|2024-01-02 00:00:00|   null|\n",
      "|       21|         imola|Autodromo Enzo e ...|               Imola|       Italy| 44.3439|  11.7167|  37|http://en.wikiped...|21-01-2024|2024-01-02 00:00:00|   null|\n",
      "|       22|        suzuka|      Suzuka Circuit|              Suzuka|       Japan| 34.8431|  136.541|  45|http://en.wikiped...|22-01-2024|2024-01-02 00:00:00|   null|\n",
      "|       23|osterreichring|             A1-Ring|           Spielburg|     Austria| 47.2197|  14.7647| 678|http://en.wikiped...|23-01-2024|2024-01-02 00:00:00|   null|\n",
      "|       24|    yas_marina|  Yas Marina Circuit|           Abu Dhabi|         UAE| 24.4672|  54.6031|   3|http://en.wikiped...|24-01-2024|2024-01-02 00:00:00|   null|\n",
      "|       25|        galvez|Autódromo Juan y ...|        Buenos Aires|   Argentina|-34.6943| -58.4593|   8|http://en.wikiped...|25-01-2024|2024-01-02 00:00:00|   null|\n",
      "|       26|         jerez|   Circuito de Jerez|Jerez de la Frontera|       Spain| 36.7083| -6.03417|  37|http://en.wikiped...|26-01-2024|2024-01-02 00:00:00|   null|\n",
      "|       27|       estoril|Autódromo do Estoril|             Estoril|    Portugal| 38.7506| -9.39417| 130|http://en.wikiped...|27-01-2024|2024-01-02 00:00:00|   null|\n",
      "|       28|       okayama|Okayama Internati...|             Okayama|       Japan|  34.915|  134.221| 266|http://en.wikiped...|28-01-2024|2024-01-02 00:00:00|   null|\n",
      "|       29|      adelaide|Adelaide Street C...|            Adelaide|   Australia|-34.9272|  138.617|  58|http://en.wikiped...|29-01-2024|2024-01-02 00:00:00|   null|\n",
      "|       30|       kyalami|             Kyalami|             Midrand|South Africa|-25.9894|  28.0767|1460|http://en.wikiped...|30-01-2024|2024-01-02 00:00:00|   null|\n",
      "|       31|     donington|      Donington Park|    Castle Donington|          UK| 52.8306| -1.37528|  88|http://en.wikiped...|31-01-2024|2024-01-02 00:00:00|   null|\n",
      "|       32|     rodriguez|Autódromo Hermano...|         Mexico City|      Mexico| 19.4042| -99.0907|2227|http://en.wikiped...|01-02-2024|2024-01-02 00:00:00|   null|\n",
      "|       33|       phoenix|Phoenix street ci...|             Phoenix|         USA| 33.4479| -112.075| 345|http://en.wikiped...|02-02-2024|2024-01-02 00:00:00|   null|\n",
      "|       34|        ricard| Circuit Paul Ricard|        Le Castellet|      France| 43.2506|  5.79167| 432|http://en.wikiped...|03-02-2024|2024-01-02 00:00:00|   null|\n",
      "|       35|       yeongam|Korean Internatio...|      Yeongam County|       Korea| 34.7333|  126.417|   0|http://en.wikiped...|04-02-2024|2024-01-02 00:00:00|   null|\n",
      "|       36|   jacarepagua|Autódromo Interna...|      Rio de Janeiro|      Brazil|-22.9756|  -43.395|1126|http://en.wikiped...|05-02-2024|2024-01-02 00:00:00|   null|\n",
      "|       37|       detroit|Detroit Street Ci...|             Detroit|         USA| 42.3298| -83.0401| 177|http://en.wikiped...|06-02-2024|2024-01-02 00:00:00|   null|\n",
      "|       38|  brands_hatch|        Brands Hatch|                Kent|          UK| 51.3569| 0.263056| 145|http://en.wikiped...|07-02-2024|2024-01-02 00:00:00|   null|\n",
      "|       39|     zandvoort|Circuit Park Zand...|           Zandvoort| Netherlands| 52.3888|  4.54092|   6|http://en.wikiped...|08-02-2024|2024-01-02 00:00:00|   null|\n",
      "|       40|        zolder|              Zolder|      Heusden-Zolder|     Belgium| 50.9894|  5.25694|  36|http://en.wikiped...|09-02-2024|2024-01-02 00:00:00|   null|\n",
      "|       41|         dijon|       Dijon-Prenois|               Dijon|      France| 47.3625|  4.89913| 484|http://en.wikiped...|10-02-2024|2024-01-02 00:00:00|   null|\n",
      "|       42|        dallas|           Fair Park|              Dallas|         USA| 32.7774| -96.7587| 139|http://en.wikiped...|11-02-2024|2024-01-02 00:00:00|   null|\n",
      "|       43|    long_beach|          Long Beach|          California|         USA| 33.7651| -118.189|  12|http://en.wikiped...|12-02-2024|2024-01-02 00:00:00|   null|\n",
      "|       44|     las_vegas|Las Vegas Street ...|              Nevada|         USA| 36.1162| -115.174| 639|http://en.wikiped...|13-02-2024|2024-01-02 00:00:00|   null|\n",
      "|       45|        jarama|              Jarama|              Madrid|       Spain| 40.6171| -3.58558| 609|http://en.wikiped...|14-02-2024|2024-01-02 00:00:00|   null|\n",
      "|       46|  watkins_glen|        Watkins Glen|      New York State|         USA| 42.3369| -76.9272| 485|http://en.wikiped...|15-02-2024|2024-01-02 00:00:00|   null|\n",
      "|       47|    anderstorp|Scandinavian Raceway|          Anderstorp|      Sweden| 57.2653|  13.6042| 153|http://en.wikiped...|16-02-2024|2024-01-02 00:00:00|   null|\n",
      "|       48|       mosport|Mosport Internati...|             Ontario|      Canada| 44.0481| -78.6756| 332|http://en.wikiped...|17-02-2024|2024-01-02 00:00:00|   null|\n",
      "|       49|      montjuic|            Montjuïc|           Barcelona|       Spain| 41.3664|  2.15167|  79|http://en.wikiped...|18-02-2024|2024-01-02 00:00:00|   null|\n",
      "|       50|      nivelles|    Nivelles-Baulers|            Brussels|     Belgium| 50.6211|  4.32694| 139|http://en.wikiped...|19-02-2024|2024-01-02 00:00:00|   null|\n",
      "|       51|       charade|     Charade Circuit|    Clermont-Ferrand|      France| 45.7472|  3.03889| 790|http://en.wikiped...|20-02-2024|2024-01-02 00:00:00|   null|\n",
      "|       52|     tremblant|Circuit Mont-Trem...|              Quebec|      Canada| 46.1877| -74.6099| 214|http://en.wikiped...|21-02-2024|2024-01-02 00:00:00|   null|\n",
      "|       53|       essarts|   Rouen-Les-Essarts|               Rouen|      France| 49.3306|  1.00458|  81|http://en.wikiped...|22-02-2024|2024-01-02 00:00:00|   null|\n",
      "|       54|        lemans|             Le Mans|             Le Mans|      France|   47.95| 0.224231|  67|http://en.wikiped...|23-02-2024|2024-01-02 00:00:00|   null|\n",
      "|       55|         reims|         Reims-Gueux|               Reims|      France| 49.2542|  3.93083|  88|http://en.wikiped...|24-02-2024|2024-01-02 00:00:00|   null|\n",
      "|       56|        george|Prince George Cir...|Eastern Cape Prov...|South Africa|-33.0486|  27.8736|  15|http://en.wikiped...|25-02-2024|2024-01-02 00:00:00|   null|\n",
      "|       57|       zeltweg|             Zeltweg|              Styria|     Austria| 47.2039|  14.7478| 676|http://en.wikiped...|26-02-2024|2024-01-02 00:00:00|   null|\n",
      "|       58|       aintree|             Aintree|           Liverpool|          UK| 53.4769| -2.94056|  20|http://en.wikiped...|27-02-2024|2024-01-02 00:00:00|   null|\n",
      "|       59|      boavista|Circuito da Boavista|              Oporto|    Portugal| 41.1705| -8.67325|  28|http://en.wikiped...|28-02-2024|2024-01-02 00:00:00|   null|\n",
      "|       60|     riverside|Riverside Interna...|          California|         USA|  33.937| -117.273| 470|http://en.wikiped...|29-02-2024|2024-01-02 00:00:00|   null|\n",
      "|       61|          avus|                AVUS|              Berlin|     Germany| 52.4806|  13.2514|  53|http://en.wikiped...|01-03-2024|2024-01-02 00:00:00|   null|\n",
      "|       62|      monsanto|Monsanto Park Cir...|              Lisbon|    Portugal| 38.7197| -9.20306| 158|http://en.wikiped...|02-03-2024|2024-01-02 00:00:00|   null|\n",
      "|       63|       sebring|Sebring Internati...|             Florida|         USA| 27.4547| -81.3483|  18|http://en.wikiped...|03-03-2024|2024-01-02 00:00:00|   null|\n",
      "|       64|      ain-diab|            Ain Diab|          Casablanca|     Morocco| 33.5786|  -7.6875|  19|http://en.wikiped...|04-03-2024|2024-01-02 00:00:00|   null|\n",
      "|       65|       pescara|     Pescara Circuit|             Pescara|       Italy|  42.475|  14.1508| 129|http://en.wikiped...|05-03-2024|2024-01-02 00:00:00|   null|\n",
      "|       66|    bremgarten|  Circuit Bremgarten|                Bern| Switzerland| 46.9589|  7.40194| 551|http://en.wikiped...|06-03-2024|2024-01-02 00:00:00|   null|\n",
      "|       67|     pedralbes|Circuit de Pedralbes|           Barcelona|       Spain| 41.3903|  2.11667|  85|http://en.wikiped...|07-03-2024|2024-01-02 00:00:00|   null|\n",
      "|       68|         buddh|Buddh Internation...|       Uttar Pradesh|       India| 28.3487|  77.5331| 194|http://en.wikiped...|08-03-2024|2024-01-02 00:00:00|   null|\n",
      "|       69|      americas|Circuit of the Am...|              Austin|         USA| 30.1328| -97.6411| 161|http://en.wikiped...|09-03-2024|2024-01-02 00:00:00|   null|\n",
      "|       70| red_bull_ring|       Red Bull Ring|           Spielburg|     Austria| 47.2197|  14.7647| 678|http://en.wikiped...|10-03-2024|2024-01-02 00:00:00|   null|\n",
      "+---------+--------------+--------------------+--------------------+------------+--------+---------+----+--------------------+----------+-------------------+-------+\n",
      "only showing top 70 rows\n",
      "\n"
     ]
    }
   ],
   "source": [
    "df4.show(70)"
   ]
  },
  {
   "cell_type": "code",
   "execution_count": 128,
   "metadata": {},
   "outputs": [
    {
     "name": "stdout",
     "output_type": "stream",
     "text": [
      "+---------+--------------+--------------------+------------+---------+--------+---------+---+--------------------+----------+-------------------+\n",
      "|circuitId|    circuitRef|                name|    location|  country|     lat|      lng|alt|                 url|      date|          from_date|\n",
      "+---------+--------------+--------------------+------------+---------+--------+---------+---+--------------------+----------+-------------------+\n",
      "|        1|   albert_park|Albert Park Grand...|   Melbourne|Australia|-37.8497|  144.968| 10|http://en.wikiped...|01-01-2024|2024-01-02 00:00:00|\n",
      "|        2|        sepang|Sepang Internatio...|Kuala Lumpur| Malaysia| 2.76083|  101.738| 18|http://en.wikiped...|02-01-2024|2024-01-02 00:00:00|\n",
      "|        3|       bahrain|Bahrain Internati...|      Sakhir|  Bahrain| 26.0325|  50.5106|  7|http://en.wikiped...|03-01-2024|2024-01-02 00:00:00|\n",
      "|        4|     catalunya|Circuit de Barcel...|    Montmeló|    Spain|   41.57|  2.26111|109|http://en.wikiped...|04-01-2024|2024-01-02 00:00:00|\n",
      "|        5|      istanbul|       Istanbul Park|    Istanbul|   Turkey| 40.9517|   29.405|130|http://en.wikiped...|05-01-2024|2024-01-02 00:00:00|\n",
      "|        6|        monaco|   Circuit de Monaco| Monte-Carlo|   Monaco| 43.7347|  7.42056|  7|http://en.wikiped...|06-01-2024|2024-01-02 00:00:00|\n",
      "|        7|    villeneuve|Circuit Gilles Vi...|    Montreal|   Canada|    45.5| -73.5228| 13|http://en.wikiped...|07-01-2024|2024-01-02 00:00:00|\n",
      "|        8|   magny_cours|Circuit de Nevers...| Magny Cours|   France| 46.8642|  3.16361|228|http://en.wikiped...|08-01-2024|2024-01-02 00:00:00|\n",
      "|        9|   silverstone| Silverstone Circuit| Silverstone|       UK| 52.0786| -1.01694|153|http://en.wikiped...|09-01-2024|2024-01-02 00:00:00|\n",
      "|       10|hockenheimring|      Hockenheimring|  Hockenheim|  Germany| 49.3278|  8.56583|103|http://en.wikiped...|10-01-2024|2024-01-02 00:00:00|\n",
      "|       11|   hungaroring|         Hungaroring|    Budapest|  Hungary| 47.5789|  19.2486|264|http://en.wikiped...|11-01-2024|2024-01-02 00:00:00|\n",
      "|       12|      valencia|Valencia Street C...|    Valencia|    Spain| 39.4589|-0.331667|  4|http://en.wikiped...|12-01-2024|2024-01-02 00:00:00|\n",
      "|       13|           spa|Circuit de Spa-Fr...|         Spa|  Belgium| 50.4372|  5.97139|401|http://en.wikiped...|13-01-2024|2024-01-02 00:00:00|\n",
      "|       14|         monza|Autodromo Naziona...|       Monza|    Italy| 45.6156|  9.28111|162|http://en.wikiped...|14-01-2024|2024-01-02 00:00:00|\n",
      "|       15|    marina_bay|Marina Bay Street...|  Marina Bay|Singapore|  1.2914|  103.864| 18|http://en.wikiped...|15-01-2024|2024-01-02 00:00:00|\n",
      "|       16|          fuji|       Fuji Speedway|       Oyama|    Japan| 35.3717|  138.927|583|http://en.wikiped...|16-01-2024|2024-01-02 00:00:00|\n",
      "|       17|      shanghai|Shanghai Internat...|    Shanghai|    China| 31.3389|   121.22|  5|http://en.wikiped...|17-01-2024|2024-01-02 00:00:00|\n",
      "|       18|    interlagos|Autódromo José Ca...|   São Paulo|   Brazil|-23.7036| -46.6997|785|http://en.wikiped...|18-01-2024|2024-01-02 00:00:00|\n",
      "|       19|  indianapolis|Indianapolis Moto...|Indianapolis|      USA|  39.795| -86.2347|223|http://en.wikiped...|19-01-2024|2024-01-02 00:00:00|\n",
      "|       20|   nurburgring|         Nürburgring|     Nürburg|  Germany| 50.3356|   6.9475|578|http://en.wikiped...|20-01-2024|2024-01-02 00:00:00|\n",
      "+---------+--------------+--------------------+------------+---------+--------+---------+---+--------------------+----------+-------------------+\n",
      "only showing top 20 rows\n",
      "\n"
     ]
    }
   ],
   "source": [
    "df3.show()"
   ]
  },
  {
   "cell_type": "code",
   "execution_count": 142,
   "metadata": {},
   "outputs": [],
   "source": [
    "df_rec = df3.join(df3.groupBy(\"country\").agg(count(\"country\").alias(\"country_count\")), on='country', how='right')"
   ]
  },
  {
   "cell_type": "code",
   "execution_count": 143,
   "metadata": {},
   "outputs": [
    {
     "name": "stdout",
     "output_type": "stream",
     "text": [
      "+------------+---------+--------------+--------------------+--------------------+--------+---------+----+--------------------+----------+-------------------+-------------+\n",
      "|     country|circuitId|    circuitRef|                name|            location|     lat|      lng| alt|                 url|      date|          from_date|country_count|\n",
      "+------------+---------+--------------+--------------------+--------------------+--------+---------+----+--------------------+----------+-------------------+-------------+\n",
      "|      Russia|       71|         sochi|      Sochi Autodrom|               Sochi| 43.4057|  39.9578|   2|http://en.wikiped...|11-03-2024|2024-01-02 00:00:00|            1|\n",
      "|      Sweden|       47|    anderstorp|Scandinavian Raceway|          Anderstorp| 57.2653|  13.6042| 153|http://en.wikiped...|16-02-2024|2024-01-02 00:00:00|            1|\n",
      "|    Malaysia|        2|        sepang|Sepang Internatio...|        Kuala Lumpur| 2.76083|  101.738|  18|http://en.wikiped...|02-01-2024|2024-01-02 00:00:00|            1|\n",
      "|   Singapore|       15|    marina_bay|Marina Bay Street...|          Marina Bay|  1.2914|  103.864|  18|http://en.wikiped...|15-01-2024|2024-01-02 00:00:00|            1|\n",
      "|      Turkey|        5|      istanbul|       Istanbul Park|            Istanbul| 40.9517|   29.405| 130|http://en.wikiped...|05-01-2024|2024-01-02 00:00:00|            1|\n",
      "|     Germany|       61|          avus|                AVUS|              Berlin| 52.4806|  13.2514|  53|http://en.wikiped...|01-03-2024|2024-01-02 00:00:00|            3|\n",
      "|     Germany|       20|   nurburgring|         Nürburgring|             Nürburg| 50.3356|   6.9475| 578|http://en.wikiped...|20-01-2024|2024-01-02 00:00:00|            3|\n",
      "|     Germany|       10|hockenheimring|      Hockenheimring|          Hockenheim| 49.3278|  8.56583| 103|http://en.wikiped...|10-01-2024|2024-01-02 00:00:00|            3|\n",
      "|      France|       55|         reims|         Reims-Gueux|               Reims| 49.2542|  3.93083|  88|http://en.wikiped...|24-02-2024|2024-01-02 00:00:00|            7|\n",
      "|      France|       54|        lemans|             Le Mans|             Le Mans|   47.95| 0.224231|  67|http://en.wikiped...|23-02-2024|2024-01-02 00:00:00|            7|\n",
      "|      France|       53|       essarts|   Rouen-Les-Essarts|               Rouen| 49.3306|  1.00458|  81|http://en.wikiped...|22-02-2024|2024-01-02 00:00:00|            7|\n",
      "|      France|       51|       charade|     Charade Circuit|    Clermont-Ferrand| 45.7472|  3.03889| 790|http://en.wikiped...|20-02-2024|2024-01-02 00:00:00|            7|\n",
      "|      France|       41|         dijon|       Dijon-Prenois|               Dijon| 47.3625|  4.89913| 484|http://en.wikiped...|10-02-2024|2024-01-02 00:00:00|            7|\n",
      "|      France|       34|        ricard| Circuit Paul Ricard|        Le Castellet| 43.2506|  5.79167| 432|http://en.wikiped...|03-02-2024|2024-01-02 00:00:00|            7|\n",
      "|      France|        8|   magny_cours|Circuit de Nevers...|         Magny Cours| 46.8642|  3.16361| 228|http://en.wikiped...|08-01-2024|2024-01-02 00:00:00|            7|\n",
      "|   Argentina|       25|        galvez|Autódromo Juan y ...|        Buenos Aires|-34.6943| -58.4593|   8|http://en.wikiped...|25-01-2024|2024-01-02 00:00:00|            1|\n",
      "|     Belgium|       50|      nivelles|    Nivelles-Baulers|            Brussels| 50.6211|  4.32694| 139|http://en.wikiped...|19-02-2024|2024-01-02 00:00:00|            3|\n",
      "|     Belgium|       40|        zolder|              Zolder|      Heusden-Zolder| 50.9894|  5.25694|  36|http://en.wikiped...|09-02-2024|2024-01-02 00:00:00|            3|\n",
      "|     Belgium|       13|           spa|Circuit de Spa-Fr...|                 Spa| 50.4372|  5.97139| 401|http://en.wikiped...|13-01-2024|2024-01-02 00:00:00|            3|\n",
      "|       China|       17|      shanghai|Shanghai Internat...|            Shanghai| 31.3389|   121.22|   5|http://en.wikiped...|17-01-2024|2024-01-02 00:00:00|            1|\n",
      "|       India|       68|         buddh|Buddh Internation...|       Uttar Pradesh| 28.3487|  77.5331| 194|http://en.wikiped...|08-03-2024|2024-01-02 00:00:00|            1|\n",
      "|       Italy|       76|       mugello|Autodromo Interna...|             Mugello| 43.9975|  11.3719| 255|http://en.wikiped...|16-03-2024|2024-01-02 00:00:00|            4|\n",
      "|       Italy|       65|       pescara|     Pescara Circuit|             Pescara|  42.475|  14.1508| 129|http://en.wikiped...|05-03-2024|2024-01-02 00:00:00|            4|\n",
      "|       Italy|       21|         imola|Autodromo Enzo e ...|               Imola| 44.3439|  11.7167|  37|http://en.wikiped...|21-01-2024|2024-01-02 00:00:00|            4|\n",
      "|       Italy|       14|         monza|Autodromo Naziona...|               Monza| 45.6156|  9.28111| 162|http://en.wikiped...|14-01-2024|2024-01-02 00:00:00|            4|\n",
      "|       Spain|       67|     pedralbes|Circuit de Pedralbes|           Barcelona| 41.3903|  2.11667|  85|http://en.wikiped...|07-03-2024|2024-01-02 00:00:00|            6|\n",
      "|       Spain|       49|      montjuic|            Montjuïc|           Barcelona| 41.3664|  2.15167|  79|http://en.wikiped...|18-02-2024|2024-01-02 00:00:00|            6|\n",
      "|       Spain|       45|        jarama|              Jarama|              Madrid| 40.6171| -3.58558| 609|http://en.wikiped...|14-02-2024|2024-01-02 00:00:00|            6|\n",
      "|       Spain|       26|         jerez|   Circuito de Jerez|Jerez de la Frontera| 36.7083| -6.03417|  37|http://en.wikiped...|26-01-2024|2024-01-02 00:00:00|            6|\n",
      "|       Spain|       12|      valencia|Valencia Street C...|            Valencia| 39.4589|-0.331667|   4|http://en.wikiped...|12-01-2024|2024-01-02 00:00:00|            6|\n",
      "|       Spain|        4|     catalunya|Circuit de Barcel...|            Montmeló|   41.57|  2.26111| 109|http://en.wikiped...|04-01-2024|2024-01-02 00:00:00|            6|\n",
      "|      Monaco|        6|        monaco|   Circuit de Monaco|         Monte-Carlo| 43.7347|  7.42056|   7|http://en.wikiped...|06-01-2024|2024-01-02 00:00:00|            1|\n",
      "|     Morocco|       64|      ain-diab|            Ain Diab|          Casablanca| 33.5786|  -7.6875|  19|http://en.wikiped...|04-03-2024|2024-01-02 00:00:00|            1|\n",
      "|         USA|       72| port_imperial|Port Imperial Str...|          New Jersey| 40.7769| -74.0111|   4|http://en.wikiped...|12-03-2024|2024-01-02 00:00:00|           11|\n",
      "|         USA|       69|      americas|Circuit of the Am...|              Austin| 30.1328| -97.6411| 161|http://en.wikiped...|09-03-2024|2024-01-02 00:00:00|           11|\n",
      "|         USA|       63|       sebring|Sebring Internati...|             Florida| 27.4547| -81.3483|  18|http://en.wikiped...|03-03-2024|2024-01-02 00:00:00|           11|\n",
      "|         USA|       60|     riverside|Riverside Interna...|          California|  33.937| -117.273| 470|http://en.wikiped...|29-02-2024|2024-01-02 00:00:00|           11|\n",
      "|         USA|       46|  watkins_glen|        Watkins Glen|      New York State| 42.3369| -76.9272| 485|http://en.wikiped...|15-02-2024|2024-01-02 00:00:00|           11|\n",
      "|         USA|       44|     las_vegas|Las Vegas Street ...|              Nevada| 36.1162| -115.174| 639|http://en.wikiped...|13-02-2024|2024-01-02 00:00:00|           11|\n",
      "|         USA|       43|    long_beach|          Long Beach|          California| 33.7651| -118.189|  12|http://en.wikiped...|12-02-2024|2024-01-02 00:00:00|           11|\n",
      "|         USA|       42|        dallas|           Fair Park|              Dallas| 32.7774| -96.7587| 139|http://en.wikiped...|11-02-2024|2024-01-02 00:00:00|           11|\n",
      "|         USA|       37|       detroit|Detroit Street Ci...|             Detroit| 42.3298| -83.0401| 177|http://en.wikiped...|06-02-2024|2024-01-02 00:00:00|           11|\n",
      "|         USA|       33|       phoenix|Phoenix street ci...|             Phoenix| 33.4479| -112.075| 345|http://en.wikiped...|02-02-2024|2024-01-02 00:00:00|           11|\n",
      "|         USA|       19|  indianapolis|Indianapolis Moto...|        Indianapolis|  39.795| -86.2347| 223|http://en.wikiped...|19-01-2024|2024-01-02 00:00:00|           11|\n",
      "|      Mexico|       32|     rodriguez|Autódromo Hermano...|         Mexico City| 19.4042| -99.0907|2227|http://en.wikiped...|01-02-2024|2024-01-02 00:00:00|            1|\n",
      "|  Azerbaijan|       73|           BAK|   Baku City Circuit|                Baku| 40.3725|  49.8533|  -7|http://en.wikiped...|13-03-2024|2024-01-02 00:00:00|            1|\n",
      "|          UK|       58|       aintree|             Aintree|           Liverpool| 53.4769| -2.94056|  20|http://en.wikiped...|27-02-2024|2024-01-02 00:00:00|            4|\n",
      "|          UK|       38|  brands_hatch|        Brands Hatch|                Kent| 51.3569| 0.263056| 145|http://en.wikiped...|07-02-2024|2024-01-02 00:00:00|            4|\n",
      "|          UK|       31|     donington|      Donington Park|    Castle Donington| 52.8306| -1.37528|  88|http://en.wikiped...|31-01-2024|2024-01-02 00:00:00|            4|\n",
      "|          UK|        9|   silverstone| Silverstone Circuit|         Silverstone| 52.0786| -1.01694| 153|http://en.wikiped...|09-01-2024|2024-01-02 00:00:00|            4|\n",
      "|Saudi Arabia|       77|        jeddah|Jeddah Street Cir...|              Jeddah| 21.5433|  39.1728|  15|http://en.wikiped...|17-03-2024|2024-01-02 00:00:00|            1|\n",
      "|         UAE|       24|    yas_marina|  Yas Marina Circuit|           Abu Dhabi| 24.4672|  54.6031|   3|http://en.wikiped...|24-01-2024|2024-01-02 00:00:00|            1|\n",
      "| Switzerland|       66|    bremgarten|  Circuit Bremgarten|                Bern| 46.9589|  7.40194| 551|http://en.wikiped...|06-03-2024|2024-01-02 00:00:00|            1|\n",
      "|      Canada|       52|     tremblant|Circuit Mont-Trem...|              Quebec| 46.1877| -74.6099| 214|http://en.wikiped...|21-02-2024|2024-01-02 00:00:00|            3|\n",
      "|      Canada|       48|       mosport|Mosport Internati...|             Ontario| 44.0481| -78.6756| 332|http://en.wikiped...|17-02-2024|2024-01-02 00:00:00|            3|\n",
      "|      Canada|        7|    villeneuve|Circuit Gilles Vi...|            Montreal|    45.5| -73.5228|  13|http://en.wikiped...|07-01-2024|2024-01-02 00:00:00|            3|\n",
      "|      Brazil|       36|   jacarepagua|Autódromo Interna...|      Rio de Janeiro|-22.9756|  -43.395|1126|http://en.wikiped...|05-02-2024|2024-01-02 00:00:00|            2|\n",
      "|      Brazil|       18|    interlagos|Autódromo José Ca...|           São Paulo|-23.7036| -46.6997| 785|http://en.wikiped...|18-01-2024|2024-01-02 00:00:00|            2|\n",
      "|       Japan|       28|       okayama|Okayama Internati...|             Okayama|  34.915|  134.221| 266|http://en.wikiped...|28-01-2024|2024-01-02 00:00:00|            3|\n",
      "|       Japan|       22|        suzuka|      Suzuka Circuit|              Suzuka| 34.8431|  136.541|  45|http://en.wikiped...|22-01-2024|2024-01-02 00:00:00|            3|\n",
      "|       Japan|       16|          fuji|       Fuji Speedway|               Oyama| 35.3717|  138.927| 583|http://en.wikiped...|16-01-2024|2024-01-02 00:00:00|            3|\n",
      "|    Portugal|       75|      portimao|Autódromo Interna...|            Portimão|  37.227|  -8.6267| 108|http://en.wikiped...|15-03-2024|2024-01-02 00:00:00|            4|\n",
      "|    Portugal|       62|      monsanto|Monsanto Park Cir...|              Lisbon| 38.7197| -9.20306| 158|http://en.wikiped...|02-03-2024|2024-01-02 00:00:00|            4|\n",
      "|    Portugal|       59|      boavista|Circuito da Boavista|              Oporto| 41.1705| -8.67325|  28|http://en.wikiped...|28-02-2024|2024-01-02 00:00:00|            4|\n",
      "|    Portugal|       27|       estoril|Autódromo do Estoril|             Estoril| 38.7506| -9.39417| 130|http://en.wikiped...|27-01-2024|2024-01-02 00:00:00|            4|\n",
      "|   Australia|       29|      adelaide|Adelaide Street C...|            Adelaide|-34.9272|  138.617|  58|http://en.wikiped...|29-01-2024|2024-01-02 00:00:00|            2|\n",
      "|   Australia|        1|   albert_park|Albert Park Grand...|           Melbourne|-37.8497|  144.968|  10|http://en.wikiped...|01-01-2024|2024-01-02 00:00:00|            2|\n",
      "|     Austria|       70| red_bull_ring|       Red Bull Ring|           Spielburg| 47.2197|  14.7647| 678|http://en.wikiped...|10-03-2024|2024-01-02 00:00:00|            3|\n",
      "|     Austria|       57|       zeltweg|             Zeltweg|              Styria| 47.2039|  14.7478| 676|http://en.wikiped...|26-02-2024|2024-01-02 00:00:00|            3|\n",
      "|     Austria|       23|osterreichring|             A1-Ring|           Spielburg| 47.2197|  14.7647| 678|http://en.wikiped...|23-01-2024|2024-01-02 00:00:00|            3|\n",
      "|       Korea|       35|       yeongam|Korean Internatio...|      Yeongam County| 34.7333|  126.417|   0|http://en.wikiped...|04-02-2024|2024-01-02 00:00:00|            1|\n",
      "|South Africa|       56|        george|Prince George Cir...|Eastern Cape Prov...|-33.0486|  27.8736|  15|http://en.wikiped...|25-02-2024|2024-01-02 00:00:00|            2|\n",
      "|South Africa|       30|       kyalami|             Kyalami|             Midrand|-25.9894|  28.0767|1460|http://en.wikiped...|30-01-2024|2024-01-02 00:00:00|            2|\n",
      "|     Bahrain|        3|       bahrain|Bahrain Internati...|              Sakhir| 26.0325|  50.5106|   7|http://en.wikiped...|03-01-2024|2024-01-02 00:00:00|            1|\n",
      "|     Hungary|       11|   hungaroring|         Hungaroring|            Budapest| 47.5789|  19.2486| 264|http://en.wikiped...|11-01-2024|2024-01-02 00:00:00|            1|\n",
      "|     Vietnam|       74|         hanoi|Hanoi Street Circuit|               Hanoi| 21.0166|  105.766|   9|http://en.wikiped...|14-03-2024|2024-01-02 00:00:00|            1|\n",
      "| Netherlands|       39|     zandvoort|Circuit Park Zand...|           Zandvoort| 52.3888|  4.54092|   6|http://en.wikiped...|08-02-2024|2024-01-02 00:00:00|            1|\n",
      "+------------+---------+--------------+--------------------+--------------------+--------+---------+----+--------------------+----------+-------------------+-------------+\n",
      "\n"
     ]
    }
   ],
   "source": [
    "df_rec.show(77)"
   ]
  },
  {
   "cell_type": "code",
   "execution_count": 144,
   "metadata": {},
   "outputs": [
    {
     "name": "stdout",
     "output_type": "stream",
     "text": [
      "root\n",
      " |-- country: string (nullable = true)\n",
      " |-- circuitId: string (nullable = true)\n",
      " |-- circuitRef: string (nullable = true)\n",
      " |-- name: string (nullable = true)\n",
      " |-- location: string (nullable = true)\n",
      " |-- lat: string (nullable = true)\n",
      " |-- lng: string (nullable = true)\n",
      " |-- alt: string (nullable = true)\n",
      " |-- url: string (nullable = true)\n",
      " |-- date: string (nullable = true)\n",
      " |-- from_date: timestamp (nullable = true)\n",
      " |-- country_count: long (nullable = false)\n",
      "\n"
     ]
    }
   ],
   "source": [
    "df_rec.printSchema()"
   ]
  },
  {
   "cell_type": "code",
   "execution_count": 148,
   "metadata": {},
   "outputs": [
    {
     "name": "stdout",
     "output_type": "stream",
     "text": [
      "+------------+--------------------+--------------------+\n",
      "|     country|                name|            location|\n",
      "+------------+--------------------+--------------------+\n",
      "|      Russia|      Sochi Autodrom|               Sochi|\n",
      "|      Sweden|Scandinavian Raceway|          Anderstorp|\n",
      "|    Malaysia|Sepang Internatio...|        Kuala Lumpur|\n",
      "|   Singapore|Marina Bay Street...|          Marina Bay|\n",
      "|      Turkey|       Istanbul Park|            Istanbul|\n",
      "|     Germany|                AVUS|              Berlin|\n",
      "|     Germany|         Nürburgring|             Nürburg|\n",
      "|     Germany|      Hockenheimring|          Hockenheim|\n",
      "|      France|         Reims-Gueux|               Reims|\n",
      "|      France|             Le Mans|             Le Mans|\n",
      "|      France|   Rouen-Les-Essarts|               Rouen|\n",
      "|      France|     Charade Circuit|    Clermont-Ferrand|\n",
      "|      France|       Dijon-Prenois|               Dijon|\n",
      "|      France| Circuit Paul Ricard|        Le Castellet|\n",
      "|      France|Circuit de Nevers...|         Magny Cours|\n",
      "|   Argentina|Autódromo Juan y ...|        Buenos Aires|\n",
      "|     Belgium|    Nivelles-Baulers|            Brussels|\n",
      "|     Belgium|              Zolder|      Heusden-Zolder|\n",
      "|     Belgium|Circuit de Spa-Fr...|                 Spa|\n",
      "|       China|Shanghai Internat...|            Shanghai|\n",
      "|       India|Buddh Internation...|       Uttar Pradesh|\n",
      "|       Italy|Autodromo Interna...|             Mugello|\n",
      "|       Italy|     Pescara Circuit|             Pescara|\n",
      "|       Italy|Autodromo Enzo e ...|               Imola|\n",
      "|       Italy|Autodromo Naziona...|               Monza|\n",
      "|       Spain|Circuit de Pedralbes|           Barcelona|\n",
      "|       Spain|            Montjuïc|           Barcelona|\n",
      "|       Spain|              Jarama|              Madrid|\n",
      "|       Spain|   Circuito de Jerez|Jerez de la Frontera|\n",
      "|       Spain|Valencia Street C...|            Valencia|\n",
      "|       Spain|Circuit de Barcel...|            Montmeló|\n",
      "|      Monaco|   Circuit de Monaco|         Monte-Carlo|\n",
      "|     Morocco|            Ain Diab|          Casablanca|\n",
      "|         USA|Port Imperial Str...|          New Jersey|\n",
      "|         USA|Circuit of the Am...|              Austin|\n",
      "|         USA|Sebring Internati...|             Florida|\n",
      "|         USA|Riverside Interna...|          California|\n",
      "|         USA|        Watkins Glen|      New York State|\n",
      "|         USA|Las Vegas Street ...|              Nevada|\n",
      "|         USA|          Long Beach|          California|\n",
      "|         USA|           Fair Park|              Dallas|\n",
      "|         USA|Detroit Street Ci...|             Detroit|\n",
      "|         USA|Phoenix street ci...|             Phoenix|\n",
      "|         USA|Indianapolis Moto...|        Indianapolis|\n",
      "|      Mexico|Autódromo Hermano...|         Mexico City|\n",
      "|  Azerbaijan|   Baku City Circuit|                Baku|\n",
      "|          UK|             Aintree|           Liverpool|\n",
      "|          UK|        Brands Hatch|                Kent|\n",
      "|          UK|      Donington Park|    Castle Donington|\n",
      "|          UK| Silverstone Circuit|         Silverstone|\n",
      "|Saudi Arabia|Jeddah Street Cir...|              Jeddah|\n",
      "|         UAE|  Yas Marina Circuit|           Abu Dhabi|\n",
      "| Switzerland|  Circuit Bremgarten|                Bern|\n",
      "|      Canada|Circuit Mont-Trem...|              Quebec|\n",
      "|      Canada|Mosport Internati...|             Ontario|\n",
      "|      Canada|Circuit Gilles Vi...|            Montreal|\n",
      "|      Brazil|Autódromo Interna...|      Rio de Janeiro|\n",
      "|      Brazil|Autódromo José Ca...|           São Paulo|\n",
      "|       Japan|Okayama Internati...|             Okayama|\n",
      "|       Japan|      Suzuka Circuit|              Suzuka|\n",
      "|       Japan|       Fuji Speedway|               Oyama|\n",
      "|    Portugal|Autódromo Interna...|            Portimão|\n",
      "|    Portugal|Monsanto Park Cir...|              Lisbon|\n",
      "|    Portugal|Circuito da Boavista|              Oporto|\n",
      "|    Portugal|Autódromo do Estoril|             Estoril|\n",
      "|   Australia|Adelaide Street C...|            Adelaide|\n",
      "|   Australia|Albert Park Grand...|           Melbourne|\n",
      "|     Austria|       Red Bull Ring|           Spielburg|\n",
      "|     Austria|             Zeltweg|              Styria|\n",
      "|     Austria|             A1-Ring|           Spielburg|\n",
      "|       Korea|Korean Internatio...|      Yeongam County|\n",
      "|South Africa|Prince George Cir...|Eastern Cape Prov...|\n",
      "|South Africa|             Kyalami|             Midrand|\n",
      "|     Bahrain|Bahrain Internati...|              Sakhir|\n",
      "|     Hungary|         Hungaroring|            Budapest|\n",
      "|     Vietnam|Hanoi Street Circuit|               Hanoi|\n",
      "| Netherlands|Circuit Park Zand...|           Zandvoort|\n",
      "+------------+--------------------+--------------------+\n",
      "\n"
     ]
    }
   ],
   "source": [
    "df_rec.select([\"country\",\"name\", \"location\"]).distinct().show(77)"
   ]
  },
  {
   "cell_type": "code",
   "execution_count": null,
   "metadata": {},
   "outputs": [],
   "source": []
  }
 ],
 "metadata": {
  "kernelspec": {
   "display_name": "Python 3",
   "language": "python",
   "name": "python3"
  },
  "language_info": {
   "codemirror_mode": {
    "name": "ipython",
    "version": 3
   },
   "file_extension": ".py",
   "mimetype": "text/x-python",
   "name": "python",
   "nbconvert_exporter": "python",
   "pygments_lexer": "ipython3",
   "version": "3.8.3"
  }
 },
 "nbformat": 4,
 "nbformat_minor": 4
}
