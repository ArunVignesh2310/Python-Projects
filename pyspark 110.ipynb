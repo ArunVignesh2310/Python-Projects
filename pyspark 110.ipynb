{
 "cells": [
  {
   "cell_type": "code",
   "execution_count": 1,
   "metadata": {},
   "outputs": [],
   "source": [
    "from pyspark.sql import SparkSession"
   ]
  },
  {
   "cell_type": "code",
   "execution_count": 5,
   "metadata": {},
   "outputs": [],
   "source": [
    "spark = SparkSession.builder.appName(\"pyspark practice exercises\").getOrCreate()"
   ]
  },
  {
   "cell_type": "code",
   "execution_count": 73,
   "metadata": {},
   "outputs": [],
   "source": [
    "df = spark.read.csv(r\"C:\\Users\\2079342\\Downloads\\circuits.csv\", header=True, inferSchema=True)"
   ]
  },
  {
   "cell_type": "code",
   "execution_count": 74,
   "metadata": {},
   "outputs": [
    {
     "name": "stdout",
     "output_type": "stream",
     "text": [
      "+---------+--------------+--------------------+--------------------+------------+--------+---------+----+--------------------+----------+\n",
      "|circuitId|    circuitRef|                name|            location|     country|     lat|      lng| alt|                 url|      date|\n",
      "+---------+--------------+--------------------+--------------------+------------+--------+---------+----+--------------------+----------+\n",
      "|        1|   albert_park|Albert Park Grand...|           Melbourne|   Australia|-37.8497|  144.968|  10|http://en.wikiped...|01-01-2024|\n",
      "|        2|        sepang|Sepang Internatio...|        Kuala Lumpur|    Malaysia| 2.76083|  101.738|  18|http://en.wikiped...|02-01-2024|\n",
      "|        3|       bahrain|Bahrain Internati...|              Sakhir|     Bahrain| 26.0325|  50.5106|   7|http://en.wikiped...|03-01-2024|\n",
      "|        4|     catalunya|Circuit de Barcel...|            Montmeló|       Spain|   41.57|  2.26111| 109|http://en.wikiped...|04-01-2024|\n",
      "|        5|      istanbul|       Istanbul Park|            Istanbul|      Turkey| 40.9517|   29.405| 130|http://en.wikiped...|05-01-2024|\n",
      "|        6|        monaco|   Circuit de Monaco|         Monte-Carlo|      Monaco| 43.7347|  7.42056|   7|http://en.wikiped...|06-01-2024|\n",
      "|        7|    villeneuve|Circuit Gilles Vi...|            Montreal|      Canada|    45.5| -73.5228|  13|http://en.wikiped...|07-01-2024|\n",
      "|        8|   magny_cours|Circuit de Nevers...|         Magny Cours|      France| 46.8642|  3.16361| 228|http://en.wikiped...|08-01-2024|\n",
      "|        9|   silverstone| Silverstone Circuit|         Silverstone|          UK| 52.0786| -1.01694| 153|http://en.wikiped...|09-01-2024|\n",
      "|       10|hockenheimring|      Hockenheimring|          Hockenheim|     Germany| 49.3278|  8.56583| 103|http://en.wikiped...|10-01-2024|\n",
      "|       11|   hungaroring|         Hungaroring|            Budapest|     Hungary| 47.5789|  19.2486| 264|http://en.wikiped...|11-01-2024|\n",
      "|       12|      valencia|Valencia Street C...|            Valencia|       Spain| 39.4589|-0.331667|   4|http://en.wikiped...|12-01-2024|\n",
      "|       13|           spa|Circuit de Spa-Fr...|                 Spa|     Belgium| 50.4372|  5.97139| 401|http://en.wikiped...|13-01-2024|\n",
      "|       14|         monza|Autodromo Naziona...|               Monza|       Italy| 45.6156|  9.28111| 162|http://en.wikiped...|14-01-2024|\n",
      "|       15|    marina_bay|Marina Bay Street...|          Marina Bay|   Singapore|  1.2914|  103.864|  18|http://en.wikiped...|15-01-2024|\n",
      "|       16|          fuji|       Fuji Speedway|               Oyama|       Japan| 35.3717|  138.927| 583|http://en.wikiped...|16-01-2024|\n",
      "|       17|      shanghai|Shanghai Internat...|            Shanghai|       China| 31.3389|   121.22|   5|http://en.wikiped...|17-01-2024|\n",
      "|       18|    interlagos|Autódromo José Ca...|           São Paulo|      Brazil|-23.7036| -46.6997| 785|http://en.wikiped...|18-01-2024|\n",
      "|       19|  indianapolis|Indianapolis Moto...|        Indianapolis|         USA|  39.795| -86.2347| 223|http://en.wikiped...|19-01-2024|\n",
      "|       20|   nurburgring|         Nürburgring|             Nürburg|     Germany| 50.3356|   6.9475| 578|http://en.wikiped...|20-01-2024|\n",
      "|       21|         imola|Autodromo Enzo e ...|               Imola|       Italy| 44.3439|  11.7167|  37|http://en.wikiped...|21-01-2024|\n",
      "|       22|        suzuka|      Suzuka Circuit|              Suzuka|       Japan| 34.8431|  136.541|  45|http://en.wikiped...|22-01-2024|\n",
      "|       23|osterreichring|             A1-Ring|           Spielburg|     Austria| 47.2197|  14.7647| 678|http://en.wikiped...|23-01-2024|\n",
      "|       24|    yas_marina|  Yas Marina Circuit|           Abu Dhabi|         UAE| 24.4672|  54.6031|   3|http://en.wikiped...|24-01-2024|\n",
      "|       25|        galvez|Autódromo Juan y ...|        Buenos Aires|   Argentina|-34.6943| -58.4593|   8|http://en.wikiped...|25-01-2024|\n",
      "|       26|         jerez|   Circuito de Jerez|Jerez de la Frontera|       Spain| 36.7083| -6.03417|  37|http://en.wikiped...|26-01-2024|\n",
      "|       27|       estoril|Autódromo do Estoril|             Estoril|    Portugal| 38.7506| -9.39417| 130|http://en.wikiped...|27-01-2024|\n",
      "|       28|       okayama|Okayama Internati...|             Okayama|       Japan|  34.915|  134.221| 266|http://en.wikiped...|28-01-2024|\n",
      "|       29|      adelaide|Adelaide Street C...|            Adelaide|   Australia|-34.9272|  138.617|  58|http://en.wikiped...|29-01-2024|\n",
      "|       30|       kyalami|             Kyalami|             Midrand|South Africa|-25.9894|  28.0767|1460|http://en.wikiped...|30-01-2024|\n",
      "|       31|     donington|      Donington Park|    Castle Donington|          UK| 52.8306| -1.37528|  88|http://en.wikiped...|31-01-2024|\n",
      "|       32|     rodriguez|Autódromo Hermano...|         Mexico City|      Mexico| 19.4042| -99.0907|2227|http://en.wikiped...|01-02-2024|\n",
      "|       33|       phoenix|Phoenix street ci...|             Phoenix|         USA| 33.4479| -112.075| 345|http://en.wikiped...|02-02-2024|\n",
      "|       34|        ricard| Circuit Paul Ricard|        Le Castellet|      France| 43.2506|  5.79167| 432|http://en.wikiped...|03-02-2024|\n",
      "|       35|       yeongam|Korean Internatio...|      Yeongam County|       Korea| 34.7333|  126.417|   0|http://en.wikiped...|04-02-2024|\n",
      "|       36|   jacarepagua|Autódromo Interna...|      Rio de Janeiro|      Brazil|-22.9756|  -43.395|1126|http://en.wikiped...|05-02-2024|\n",
      "|       37|       detroit|Detroit Street Ci...|             Detroit|         USA| 42.3298| -83.0401| 177|http://en.wikiped...|06-02-2024|\n",
      "|       38|  brands_hatch|        Brands Hatch|                Kent|          UK| 51.3569| 0.263056| 145|http://en.wikiped...|07-02-2024|\n",
      "|       39|     zandvoort|Circuit Park Zand...|           Zandvoort| Netherlands| 52.3888|  4.54092|   6|http://en.wikiped...|08-02-2024|\n",
      "|       40|        zolder|              Zolder|      Heusden-Zolder|     Belgium| 50.9894|  5.25694|  36|http://en.wikiped...|09-02-2024|\n",
      "|       41|         dijon|       Dijon-Prenois|               Dijon|      France| 47.3625|  4.89913| 484|http://en.wikiped...|10-02-2024|\n",
      "|       42|        dallas|           Fair Park|              Dallas|         USA| 32.7774| -96.7587| 139|http://en.wikiped...|11-02-2024|\n",
      "|       43|    long_beach|          Long Beach|          California|         USA| 33.7651| -118.189|  12|http://en.wikiped...|12-02-2024|\n",
      "|       44|     las_vegas|Las Vegas Street ...|              Nevada|         USA| 36.1162| -115.174| 639|http://en.wikiped...|13-02-2024|\n",
      "|       45|        jarama|              Jarama|              Madrid|       Spain| 40.6171| -3.58558| 609|http://en.wikiped...|14-02-2024|\n",
      "|       46|  watkins_glen|        Watkins Glen|      New York State|         USA| 42.3369| -76.9272| 485|http://en.wikiped...|15-02-2024|\n",
      "|       47|    anderstorp|Scandinavian Raceway|          Anderstorp|      Sweden| 57.2653|  13.6042| 153|http://en.wikiped...|16-02-2024|\n",
      "|       48|       mosport|Mosport Internati...|             Ontario|      Canada| 44.0481| -78.6756| 332|http://en.wikiped...|17-02-2024|\n",
      "|       49|      montjuic|            Montjuïc|           Barcelona|       Spain| 41.3664|  2.15167|  79|http://en.wikiped...|18-02-2024|\n",
      "|       50|      nivelles|    Nivelles-Baulers|            Brussels|     Belgium| 50.6211|  4.32694| 139|http://en.wikiped...|19-02-2024|\n",
      "|       51|       charade|     Charade Circuit|    Clermont-Ferrand|      France| 45.7472|  3.03889| 790|http://en.wikiped...|20-02-2024|\n",
      "|       52|     tremblant|Circuit Mont-Trem...|              Quebec|      Canada| 46.1877| -74.6099| 214|http://en.wikiped...|21-02-2024|\n",
      "|       53|       essarts|   Rouen-Les-Essarts|               Rouen|      France| 49.3306|  1.00458|  81|http://en.wikiped...|22-02-2024|\n",
      "|       54|        lemans|             Le Mans|             Le Mans|      France|   47.95| 0.224231|  67|http://en.wikiped...|23-02-2024|\n",
      "|       55|         reims|         Reims-Gueux|               Reims|      France| 49.2542|  3.93083|  88|http://en.wikiped...|24-02-2024|\n",
      "|       56|        george|Prince George Cir...|Eastern Cape Prov...|South Africa|-33.0486|  27.8736|  15|http://en.wikiped...|25-02-2024|\n",
      "|       57|       zeltweg|             Zeltweg|              Styria|     Austria| 47.2039|  14.7478| 676|http://en.wikiped...|26-02-2024|\n",
      "|       58|       aintree|             Aintree|           Liverpool|          UK| 53.4769| -2.94056|  20|http://en.wikiped...|27-02-2024|\n",
      "|       59|      boavista|Circuito da Boavista|              Oporto|    Portugal| 41.1705| -8.67325|  28|http://en.wikiped...|28-02-2024|\n",
      "|       60|     riverside|Riverside Interna...|          California|         USA|  33.937| -117.273| 470|http://en.wikiped...|29-02-2024|\n",
      "|       61|          avus|                AVUS|              Berlin|     Germany| 52.4806|  13.2514|  53|http://en.wikiped...|01-03-2024|\n",
      "|       62|      monsanto|Monsanto Park Cir...|              Lisbon|    Portugal| 38.7197| -9.20306| 158|http://en.wikiped...|02-03-2024|\n",
      "|       63|       sebring|Sebring Internati...|             Florida|         USA| 27.4547| -81.3483|  18|http://en.wikiped...|03-03-2024|\n",
      "|       64|      ain-diab|            Ain Diab|          Casablanca|     Morocco| 33.5786|  -7.6875|  19|http://en.wikiped...|04-03-2024|\n",
      "|       65|       pescara|     Pescara Circuit|             Pescara|       Italy|  42.475|  14.1508| 129|http://en.wikiped...|05-03-2024|\n",
      "|       66|    bremgarten|  Circuit Bremgarten|                Bern| Switzerland| 46.9589|  7.40194| 551|http://en.wikiped...|06-03-2024|\n",
      "|       67|     pedralbes|Circuit de Pedralbes|           Barcelona|       Spain| 41.3903|  2.11667|  85|http://en.wikiped...|07-03-2024|\n",
      "|       68|         buddh|Buddh Internation...|       Uttar Pradesh|       India| 28.3487|  77.5331| 194|http://en.wikiped...|08-03-2024|\n",
      "|       69|      americas|Circuit of the Am...|              Austin|         USA| 30.1328| -97.6411| 161|http://en.wikiped...|09-03-2024|\n",
      "|       70| red_bull_ring|       Red Bull Ring|           Spielburg|     Austria| 47.2197|  14.7647| 678|http://en.wikiped...|10-03-2024|\n",
      "|       71|         sochi|      Sochi Autodrom|               Sochi|      Russia| 43.4057|  39.9578|   2|http://en.wikiped...|11-03-2024|\n",
      "|       72| port_imperial|Port Imperial Str...|          New Jersey|         USA| 40.7769| -74.0111|   4|http://en.wikiped...|12-03-2024|\n",
      "|       73|           BAK|   Baku City Circuit|                Baku|  Azerbaijan| 40.3725|  49.8533|  -7|http://en.wikiped...|13-03-2024|\n",
      "|       74|         hanoi|Hanoi Street Circuit|               Hanoi|     Vietnam| 21.0166|  105.766|   9|http://en.wikiped...|14-03-2024|\n",
      "|       75|      portimao|Autódromo Interna...|            Portimão|    Portugal|  37.227|  -8.6267| 108|http://en.wikiped...|15-03-2024|\n",
      "|       76|       mugello|Autodromo Interna...|             Mugello|       Italy| 43.9975|  11.3719| 255|http://en.wikiped...|16-03-2024|\n",
      "|       77|        jeddah|Jeddah Street Cir...|              Jeddah|Saudi Arabia| 21.5433|  39.1728|  15|http://en.wikiped...|17-03-2024|\n",
      "+---------+--------------+--------------------+--------------------+------------+--------+---------+----+--------------------+----------+\n",
      "\n"
     ]
    }
   ],
   "source": [
    "df.show(77)"
   ]
  },
  {
   "cell_type": "code",
   "execution_count": 12,
   "metadata": {},
   "outputs": [
    {
     "name": "stdout",
     "output_type": "stream",
     "text": [
      "root\n",
      " |-- circuitId: integer (nullable = true)\n",
      " |-- circuitRef: string (nullable = true)\n",
      " |-- name: string (nullable = true)\n",
      " |-- location: string (nullable = true)\n",
      " |-- country: string (nullable = true)\n",
      " |-- lat: double (nullable = true)\n",
      " |-- lng: double (nullable = true)\n",
      " |-- alt: integer (nullable = true)\n",
      " |-- url: string (nullable = true)\n",
      " |-- date: string (nullable = true)\n",
      "\n"
     ]
    }
   ],
   "source": [
    "df.printSchema()"
   ]
  },
  {
   "cell_type": "code",
   "execution_count": 17,
   "metadata": {},
   "outputs": [],
   "source": [
    "from pyspark.sql.functions import *"
   ]
  },
  {
   "cell_type": "code",
   "execution_count": 20,
   "metadata": {},
   "outputs": [
    {
     "name": "stdout",
     "output_type": "stream",
     "text": [
      "+---------+----------+--------------------+-----------+-------+-------+--------+----+--------------------+----------+\n",
      "|circuitId|circuitRef|                name|   location|country|    lat|     lng| alt|                 url|      date|\n",
      "+---------+----------+--------------------+-----------+-------+-------+--------+----+--------------------+----------+\n",
      "|       32| rodriguez|Autódromo Hermano...|Mexico City| Mexico|19.4042|-99.0907|2227|http://en.wikiped...|01-02-2024|\n",
      "+---------+----------+--------------------+-----------+-------+-------+--------+----+--------------------+----------+\n",
      "\n"
     ]
    }
   ],
   "source": [
    "df.filter(col(\"alt\") > 2000).show()"
   ]
  },
  {
   "cell_type": "code",
   "execution_count": 22,
   "metadata": {},
   "outputs": [
    {
     "name": "stdout",
     "output_type": "stream",
     "text": [
      "+---------+--------------+--------------------+------------+---------+--------+---------+---+--------------------+----------+----------+\n",
      "|circuitId|    circuitRef|                name|    location|  country|     lat|      lng|alt|                 url|      date|double_alt|\n",
      "+---------+--------------+--------------------+------------+---------+--------+---------+---+--------------------+----------+----------+\n",
      "|        1|   albert_park|Albert Park Grand...|   Melbourne|Australia|-37.8497|  144.968| 10|http://en.wikiped...|01-01-2024|        20|\n",
      "|        2|        sepang|Sepang Internatio...|Kuala Lumpur| Malaysia| 2.76083|  101.738| 18|http://en.wikiped...|02-01-2024|        36|\n",
      "|        3|       bahrain|Bahrain Internati...|      Sakhir|  Bahrain| 26.0325|  50.5106|  7|http://en.wikiped...|03-01-2024|        14|\n",
      "|        4|     catalunya|Circuit de Barcel...|    Montmeló|    Spain|   41.57|  2.26111|109|http://en.wikiped...|04-01-2024|       218|\n",
      "|        5|      istanbul|       Istanbul Park|    Istanbul|   Turkey| 40.9517|   29.405|130|http://en.wikiped...|05-01-2024|       260|\n",
      "|        6|        monaco|   Circuit de Monaco| Monte-Carlo|   Monaco| 43.7347|  7.42056|  7|http://en.wikiped...|06-01-2024|        14|\n",
      "|        7|    villeneuve|Circuit Gilles Vi...|    Montreal|   Canada|    45.5| -73.5228| 13|http://en.wikiped...|07-01-2024|        26|\n",
      "|        8|   magny_cours|Circuit de Nevers...| Magny Cours|   France| 46.8642|  3.16361|228|http://en.wikiped...|08-01-2024|       456|\n",
      "|        9|   silverstone| Silverstone Circuit| Silverstone|       UK| 52.0786| -1.01694|153|http://en.wikiped...|09-01-2024|       306|\n",
      "|       10|hockenheimring|      Hockenheimring|  Hockenheim|  Germany| 49.3278|  8.56583|103|http://en.wikiped...|10-01-2024|       206|\n",
      "|       11|   hungaroring|         Hungaroring|    Budapest|  Hungary| 47.5789|  19.2486|264|http://en.wikiped...|11-01-2024|       528|\n",
      "|       12|      valencia|Valencia Street C...|    Valencia|    Spain| 39.4589|-0.331667|  4|http://en.wikiped...|12-01-2024|         8|\n",
      "|       13|           spa|Circuit de Spa-Fr...|         Spa|  Belgium| 50.4372|  5.97139|401|http://en.wikiped...|13-01-2024|       802|\n",
      "|       14|         monza|Autodromo Naziona...|       Monza|    Italy| 45.6156|  9.28111|162|http://en.wikiped...|14-01-2024|       324|\n",
      "|       15|    marina_bay|Marina Bay Street...|  Marina Bay|Singapore|  1.2914|  103.864| 18|http://en.wikiped...|15-01-2024|        36|\n",
      "|       16|          fuji|       Fuji Speedway|       Oyama|    Japan| 35.3717|  138.927|583|http://en.wikiped...|16-01-2024|      1166|\n",
      "|       17|      shanghai|Shanghai Internat...|    Shanghai|    China| 31.3389|   121.22|  5|http://en.wikiped...|17-01-2024|        10|\n",
      "|       18|    interlagos|Autódromo José Ca...|   São Paulo|   Brazil|-23.7036| -46.6997|785|http://en.wikiped...|18-01-2024|      1570|\n",
      "|       19|  indianapolis|Indianapolis Moto...|Indianapolis|      USA|  39.795| -86.2347|223|http://en.wikiped...|19-01-2024|       446|\n",
      "|       20|   nurburgring|         Nürburgring|     Nürburg|  Germany| 50.3356|   6.9475|578|http://en.wikiped...|20-01-2024|      1156|\n",
      "+---------+--------------+--------------------+------------+---------+--------+---------+---+--------------------+----------+----------+\n",
      "only showing top 20 rows\n",
      "\n"
     ]
    }
   ],
   "source": [
    "df.withColumn(\"double_alt\", col(\"alt\")*2).show()"
   ]
  },
  {
   "cell_type": "code",
   "execution_count": 25,
   "metadata": {},
   "outputs": [
    {
     "name": "stdout",
     "output_type": "stream",
     "text": [
      "+---------+--------------+--------------------+------------+---------+--------+---------+---+--------------------+----------+-----------+\n",
      "|circuitId|    circuitRef|                name|    location|  country|     lat|      lng|alt|                 url|      date|double_expr|\n",
      "+---------+--------------+--------------------+------------+---------+--------+---------+---+--------------------+----------+-----------+\n",
      "|        1|   albert_park|Albert Park Grand...|   Melbourne|Australia|-37.8497|  144.968| 10|http://en.wikiped...|01-01-2024|          8|\n",
      "|        2|        sepang|Sepang Internatio...|Kuala Lumpur| Malaysia| 2.76083|  101.738| 18|http://en.wikiped...|02-01-2024|         16|\n",
      "|        3|       bahrain|Bahrain Internati...|      Sakhir|  Bahrain| 26.0325|  50.5106|  7|http://en.wikiped...|03-01-2024|          5|\n",
      "|        4|     catalunya|Circuit de Barcel...|    Montmeló|    Spain|   41.57|  2.26111|109|http://en.wikiped...|04-01-2024|        107|\n",
      "|        5|      istanbul|       Istanbul Park|    Istanbul|   Turkey| 40.9517|   29.405|130|http://en.wikiped...|05-01-2024|        128|\n",
      "|        6|        monaco|   Circuit de Monaco| Monte-Carlo|   Monaco| 43.7347|  7.42056|  7|http://en.wikiped...|06-01-2024|          5|\n",
      "|        7|    villeneuve|Circuit Gilles Vi...|    Montreal|   Canada|    45.5| -73.5228| 13|http://en.wikiped...|07-01-2024|         11|\n",
      "|        8|   magny_cours|Circuit de Nevers...| Magny Cours|   France| 46.8642|  3.16361|228|http://en.wikiped...|08-01-2024|        226|\n",
      "|        9|   silverstone| Silverstone Circuit| Silverstone|       UK| 52.0786| -1.01694|153|http://en.wikiped...|09-01-2024|        151|\n",
      "|       10|hockenheimring|      Hockenheimring|  Hockenheim|  Germany| 49.3278|  8.56583|103|http://en.wikiped...|10-01-2024|        101|\n",
      "|       11|   hungaroring|         Hungaroring|    Budapest|  Hungary| 47.5789|  19.2486|264|http://en.wikiped...|11-01-2024|        262|\n",
      "|       12|      valencia|Valencia Street C...|    Valencia|    Spain| 39.4589|-0.331667|  4|http://en.wikiped...|12-01-2024|          2|\n",
      "|       13|           spa|Circuit de Spa-Fr...|         Spa|  Belgium| 50.4372|  5.97139|401|http://en.wikiped...|13-01-2024|        399|\n",
      "|       14|         monza|Autodromo Naziona...|       Monza|    Italy| 45.6156|  9.28111|162|http://en.wikiped...|14-01-2024|        160|\n",
      "|       15|    marina_bay|Marina Bay Street...|  Marina Bay|Singapore|  1.2914|  103.864| 18|http://en.wikiped...|15-01-2024|         16|\n",
      "|       16|          fuji|       Fuji Speedway|       Oyama|    Japan| 35.3717|  138.927|583|http://en.wikiped...|16-01-2024|        581|\n",
      "|       17|      shanghai|Shanghai Internat...|    Shanghai|    China| 31.3389|   121.22|  5|http://en.wikiped...|17-01-2024|          3|\n",
      "|       18|    interlagos|Autódromo José Ca...|   São Paulo|   Brazil|-23.7036| -46.6997|785|http://en.wikiped...|18-01-2024|        783|\n",
      "|       19|  indianapolis|Indianapolis Moto...|Indianapolis|      USA|  39.795| -86.2347|223|http://en.wikiped...|19-01-2024|        221|\n",
      "|       20|   nurburgring|         Nürburgring|     Nürburg|  Germany| 50.3356|   6.9475|578|http://en.wikiped...|20-01-2024|        576|\n",
      "+---------+--------------+--------------------+------------+---------+--------+---------+---+--------------------+----------+-----------+\n",
      "only showing top 20 rows\n",
      "\n"
     ]
    }
   ],
   "source": [
    "df.withColumn(\"double_expr\", expr(\"alt - 2\")).show()"
   ]
  },
  {
   "cell_type": "code",
   "execution_count": 29,
   "metadata": {},
   "outputs": [
    {
     "name": "stdout",
     "output_type": "stream",
     "text": [
      "+-----------------+\n",
      "|         avg(alt)|\n",
      "+-----------------+\n",
      "|247.4935064935065|\n",
      "+-----------------+\n",
      "\n"
     ]
    }
   ],
   "source": [
    "df.select(avg(\"alt\")).show()"
   ]
  },
  {
   "cell_type": "code",
   "execution_count": 41,
   "metadata": {},
   "outputs": [],
   "source": [
    "new_df = df.join(df.groupBy(\"country\").agg(avg(\"alt\").alias(\"average_age\")), on=\"country\", how=\"left\")"
   ]
  },
  {
   "cell_type": "code",
   "execution_count": 42,
   "metadata": {},
   "outputs": [
    {
     "name": "stdout",
     "output_type": "stream",
     "text": [
      "+------------+---------+--------------+--------------------+--------------------+--------+---------+----+--------------------+----------+------------------+\n",
      "|     country|circuitId|    circuitRef|                name|            location|     lat|      lng| alt|                 url|      date|       average_age|\n",
      "+------------+---------+--------------+--------------------+--------------------+--------+---------+----+--------------------+----------+------------------+\n",
      "|   Australia|        1|   albert_park|Albert Park Grand...|           Melbourne|-37.8497|  144.968|  10|http://en.wikiped...|01-01-2024|              34.0|\n",
      "|    Malaysia|        2|        sepang|Sepang Internatio...|        Kuala Lumpur| 2.76083|  101.738|  18|http://en.wikiped...|02-01-2024|              18.0|\n",
      "|     Bahrain|        3|       bahrain|Bahrain Internati...|              Sakhir| 26.0325|  50.5106|   7|http://en.wikiped...|03-01-2024|               7.0|\n",
      "|       Spain|        4|     catalunya|Circuit de Barcel...|            Montmeló|   41.57|  2.26111| 109|http://en.wikiped...|04-01-2024|153.83333333333334|\n",
      "|      Turkey|        5|      istanbul|       Istanbul Park|            Istanbul| 40.9517|   29.405| 130|http://en.wikiped...|05-01-2024|             130.0|\n",
      "|      Monaco|        6|        monaco|   Circuit de Monaco|         Monte-Carlo| 43.7347|  7.42056|   7|http://en.wikiped...|06-01-2024|               7.0|\n",
      "|      Canada|        7|    villeneuve|Circuit Gilles Vi...|            Montreal|    45.5| -73.5228|  13|http://en.wikiped...|07-01-2024|186.33333333333334|\n",
      "|      France|        8|   magny_cours|Circuit de Nevers...|         Magny Cours| 46.8642|  3.16361| 228|http://en.wikiped...|08-01-2024|             310.0|\n",
      "|          UK|        9|   silverstone| Silverstone Circuit|         Silverstone| 52.0786| -1.01694| 153|http://en.wikiped...|09-01-2024|             101.5|\n",
      "|     Germany|       10|hockenheimring|      Hockenheimring|          Hockenheim| 49.3278|  8.56583| 103|http://en.wikiped...|10-01-2024|244.66666666666666|\n",
      "|     Hungary|       11|   hungaroring|         Hungaroring|            Budapest| 47.5789|  19.2486| 264|http://en.wikiped...|11-01-2024|             264.0|\n",
      "|       Spain|       12|      valencia|Valencia Street C...|            Valencia| 39.4589|-0.331667|   4|http://en.wikiped...|12-01-2024|153.83333333333334|\n",
      "|     Belgium|       13|           spa|Circuit de Spa-Fr...|                 Spa| 50.4372|  5.97139| 401|http://en.wikiped...|13-01-2024|             192.0|\n",
      "|       Italy|       14|         monza|Autodromo Naziona...|               Monza| 45.6156|  9.28111| 162|http://en.wikiped...|14-01-2024|            145.75|\n",
      "|   Singapore|       15|    marina_bay|Marina Bay Street...|          Marina Bay|  1.2914|  103.864|  18|http://en.wikiped...|15-01-2024|              18.0|\n",
      "|       Japan|       16|          fuji|       Fuji Speedway|               Oyama| 35.3717|  138.927| 583|http://en.wikiped...|16-01-2024|             298.0|\n",
      "|       China|       17|      shanghai|Shanghai Internat...|            Shanghai| 31.3389|   121.22|   5|http://en.wikiped...|17-01-2024|               5.0|\n",
      "|      Brazil|       18|    interlagos|Autódromo José Ca...|           São Paulo|-23.7036| -46.6997| 785|http://en.wikiped...|18-01-2024|             955.5|\n",
      "|         USA|       19|  indianapolis|Indianapolis Moto...|        Indianapolis|  39.795| -86.2347| 223|http://en.wikiped...|19-01-2024|             243.0|\n",
      "|     Germany|       20|   nurburgring|         Nürburgring|             Nürburg| 50.3356|   6.9475| 578|http://en.wikiped...|20-01-2024|244.66666666666666|\n",
      "|       Italy|       21|         imola|Autodromo Enzo e ...|               Imola| 44.3439|  11.7167|  37|http://en.wikiped...|21-01-2024|            145.75|\n",
      "|       Japan|       22|        suzuka|      Suzuka Circuit|              Suzuka| 34.8431|  136.541|  45|http://en.wikiped...|22-01-2024|             298.0|\n",
      "|     Austria|       23|osterreichring|             A1-Ring|           Spielburg| 47.2197|  14.7647| 678|http://en.wikiped...|23-01-2024| 677.3333333333334|\n",
      "|         UAE|       24|    yas_marina|  Yas Marina Circuit|           Abu Dhabi| 24.4672|  54.6031|   3|http://en.wikiped...|24-01-2024|               3.0|\n",
      "|   Argentina|       25|        galvez|Autódromo Juan y ...|        Buenos Aires|-34.6943| -58.4593|   8|http://en.wikiped...|25-01-2024|               8.0|\n",
      "|       Spain|       26|         jerez|   Circuito de Jerez|Jerez de la Frontera| 36.7083| -6.03417|  37|http://en.wikiped...|26-01-2024|153.83333333333334|\n",
      "|    Portugal|       27|       estoril|Autódromo do Estoril|             Estoril| 38.7506| -9.39417| 130|http://en.wikiped...|27-01-2024|             106.0|\n",
      "|       Japan|       28|       okayama|Okayama Internati...|             Okayama|  34.915|  134.221| 266|http://en.wikiped...|28-01-2024|             298.0|\n",
      "|   Australia|       29|      adelaide|Adelaide Street C...|            Adelaide|-34.9272|  138.617|  58|http://en.wikiped...|29-01-2024|              34.0|\n",
      "|South Africa|       30|       kyalami|             Kyalami|             Midrand|-25.9894|  28.0767|1460|http://en.wikiped...|30-01-2024|             737.5|\n",
      "|          UK|       31|     donington|      Donington Park|    Castle Donington| 52.8306| -1.37528|  88|http://en.wikiped...|31-01-2024|             101.5|\n",
      "|      Mexico|       32|     rodriguez|Autódromo Hermano...|         Mexico City| 19.4042| -99.0907|2227|http://en.wikiped...|01-02-2024|            2227.0|\n",
      "|         USA|       33|       phoenix|Phoenix street ci...|             Phoenix| 33.4479| -112.075| 345|http://en.wikiped...|02-02-2024|             243.0|\n",
      "|      France|       34|        ricard| Circuit Paul Ricard|        Le Castellet| 43.2506|  5.79167| 432|http://en.wikiped...|03-02-2024|             310.0|\n",
      "|       Korea|       35|       yeongam|Korean Internatio...|      Yeongam County| 34.7333|  126.417|   0|http://en.wikiped...|04-02-2024|               0.0|\n",
      "|      Brazil|       36|   jacarepagua|Autódromo Interna...|      Rio de Janeiro|-22.9756|  -43.395|1126|http://en.wikiped...|05-02-2024|             955.5|\n",
      "|         USA|       37|       detroit|Detroit Street Ci...|             Detroit| 42.3298| -83.0401| 177|http://en.wikiped...|06-02-2024|             243.0|\n",
      "|          UK|       38|  brands_hatch|        Brands Hatch|                Kent| 51.3569| 0.263056| 145|http://en.wikiped...|07-02-2024|             101.5|\n",
      "| Netherlands|       39|     zandvoort|Circuit Park Zand...|           Zandvoort| 52.3888|  4.54092|   6|http://en.wikiped...|08-02-2024|               6.0|\n",
      "|     Belgium|       40|        zolder|              Zolder|      Heusden-Zolder| 50.9894|  5.25694|  36|http://en.wikiped...|09-02-2024|             192.0|\n",
      "|      France|       41|         dijon|       Dijon-Prenois|               Dijon| 47.3625|  4.89913| 484|http://en.wikiped...|10-02-2024|             310.0|\n",
      "|         USA|       42|        dallas|           Fair Park|              Dallas| 32.7774| -96.7587| 139|http://en.wikiped...|11-02-2024|             243.0|\n",
      "|         USA|       43|    long_beach|          Long Beach|          California| 33.7651| -118.189|  12|http://en.wikiped...|12-02-2024|             243.0|\n",
      "|         USA|       44|     las_vegas|Las Vegas Street ...|              Nevada| 36.1162| -115.174| 639|http://en.wikiped...|13-02-2024|             243.0|\n",
      "|       Spain|       45|        jarama|              Jarama|              Madrid| 40.6171| -3.58558| 609|http://en.wikiped...|14-02-2024|153.83333333333334|\n",
      "|         USA|       46|  watkins_glen|        Watkins Glen|      New York State| 42.3369| -76.9272| 485|http://en.wikiped...|15-02-2024|             243.0|\n",
      "|      Sweden|       47|    anderstorp|Scandinavian Raceway|          Anderstorp| 57.2653|  13.6042| 153|http://en.wikiped...|16-02-2024|             153.0|\n",
      "|      Canada|       48|       mosport|Mosport Internati...|             Ontario| 44.0481| -78.6756| 332|http://en.wikiped...|17-02-2024|186.33333333333334|\n",
      "|       Spain|       49|      montjuic|            Montjuïc|           Barcelona| 41.3664|  2.15167|  79|http://en.wikiped...|18-02-2024|153.83333333333334|\n",
      "|     Belgium|       50|      nivelles|    Nivelles-Baulers|            Brussels| 50.6211|  4.32694| 139|http://en.wikiped...|19-02-2024|             192.0|\n",
      "|      France|       51|       charade|     Charade Circuit|    Clermont-Ferrand| 45.7472|  3.03889| 790|http://en.wikiped...|20-02-2024|             310.0|\n",
      "|      Canada|       52|     tremblant|Circuit Mont-Trem...|              Quebec| 46.1877| -74.6099| 214|http://en.wikiped...|21-02-2024|186.33333333333334|\n",
      "|      France|       53|       essarts|   Rouen-Les-Essarts|               Rouen| 49.3306|  1.00458|  81|http://en.wikiped...|22-02-2024|             310.0|\n",
      "|      France|       54|        lemans|             Le Mans|             Le Mans|   47.95| 0.224231|  67|http://en.wikiped...|23-02-2024|             310.0|\n",
      "|      France|       55|         reims|         Reims-Gueux|               Reims| 49.2542|  3.93083|  88|http://en.wikiped...|24-02-2024|             310.0|\n",
      "|South Africa|       56|        george|Prince George Cir...|Eastern Cape Prov...|-33.0486|  27.8736|  15|http://en.wikiped...|25-02-2024|             737.5|\n",
      "|     Austria|       57|       zeltweg|             Zeltweg|              Styria| 47.2039|  14.7478| 676|http://en.wikiped...|26-02-2024| 677.3333333333334|\n",
      "|          UK|       58|       aintree|             Aintree|           Liverpool| 53.4769| -2.94056|  20|http://en.wikiped...|27-02-2024|             101.5|\n",
      "|    Portugal|       59|      boavista|Circuito da Boavista|              Oporto| 41.1705| -8.67325|  28|http://en.wikiped...|28-02-2024|             106.0|\n",
      "|         USA|       60|     riverside|Riverside Interna...|          California|  33.937| -117.273| 470|http://en.wikiped...|29-02-2024|             243.0|\n",
      "|     Germany|       61|          avus|                AVUS|              Berlin| 52.4806|  13.2514|  53|http://en.wikiped...|01-03-2024|244.66666666666666|\n",
      "|    Portugal|       62|      monsanto|Monsanto Park Cir...|              Lisbon| 38.7197| -9.20306| 158|http://en.wikiped...|02-03-2024|             106.0|\n",
      "|         USA|       63|       sebring|Sebring Internati...|             Florida| 27.4547| -81.3483|  18|http://en.wikiped...|03-03-2024|             243.0|\n",
      "|     Morocco|       64|      ain-diab|            Ain Diab|          Casablanca| 33.5786|  -7.6875|  19|http://en.wikiped...|04-03-2024|              19.0|\n",
      "|       Italy|       65|       pescara|     Pescara Circuit|             Pescara|  42.475|  14.1508| 129|http://en.wikiped...|05-03-2024|            145.75|\n",
      "| Switzerland|       66|    bremgarten|  Circuit Bremgarten|                Bern| 46.9589|  7.40194| 551|http://en.wikiped...|06-03-2024|             551.0|\n",
      "|       Spain|       67|     pedralbes|Circuit de Pedralbes|           Barcelona| 41.3903|  2.11667|  85|http://en.wikiped...|07-03-2024|153.83333333333334|\n",
      "|       India|       68|         buddh|Buddh Internation...|       Uttar Pradesh| 28.3487|  77.5331| 194|http://en.wikiped...|08-03-2024|             194.0|\n",
      "|         USA|       69|      americas|Circuit of the Am...|              Austin| 30.1328| -97.6411| 161|http://en.wikiped...|09-03-2024|             243.0|\n",
      "|     Austria|       70| red_bull_ring|       Red Bull Ring|           Spielburg| 47.2197|  14.7647| 678|http://en.wikiped...|10-03-2024| 677.3333333333334|\n",
      "|      Russia|       71|         sochi|      Sochi Autodrom|               Sochi| 43.4057|  39.9578|   2|http://en.wikiped...|11-03-2024|               2.0|\n",
      "|         USA|       72| port_imperial|Port Imperial Str...|          New Jersey| 40.7769| -74.0111|   4|http://en.wikiped...|12-03-2024|             243.0|\n",
      "|  Azerbaijan|       73|           BAK|   Baku City Circuit|                Baku| 40.3725|  49.8533|  -7|http://en.wikiped...|13-03-2024|              -7.0|\n",
      "|     Vietnam|       74|         hanoi|Hanoi Street Circuit|               Hanoi| 21.0166|  105.766|   9|http://en.wikiped...|14-03-2024|               9.0|\n",
      "|    Portugal|       75|      portimao|Autódromo Interna...|            Portimão|  37.227|  -8.6267| 108|http://en.wikiped...|15-03-2024|             106.0|\n",
      "|       Italy|       76|       mugello|Autodromo Interna...|             Mugello| 43.9975|  11.3719| 255|http://en.wikiped...|16-03-2024|            145.75|\n",
      "|Saudi Arabia|       77|        jeddah|Jeddah Street Cir...|              Jeddah| 21.5433|  39.1728|  15|http://en.wikiped...|17-03-2024|              15.0|\n",
      "+------------+---------+--------------+--------------------+--------------------+--------+---------+----+--------------------+----------+------------------+\n",
      "\n"
     ]
    }
   ],
   "source": [
    "new_df.show(77)"
   ]
  },
  {
   "cell_type": "code",
   "execution_count": 57,
   "metadata": {},
   "outputs": [
    {
     "name": "stdout",
     "output_type": "stream",
     "text": [
      "+------------+\n",
      "|     country|\n",
      "+------------+\n",
      "|      Russia|\n",
      "|      Sweden|\n",
      "|    Malaysia|\n",
      "|   Singapore|\n",
      "|      Turkey|\n",
      "|     Germany|\n",
      "|      France|\n",
      "|   Argentina|\n",
      "|     Belgium|\n",
      "|       China|\n",
      "|       India|\n",
      "|       Italy|\n",
      "|       Spain|\n",
      "|      Monaco|\n",
      "|     Morocco|\n",
      "|         USA|\n",
      "|      Mexico|\n",
      "|  Azerbaijan|\n",
      "|          UK|\n",
      "|Saudi Arabia|\n",
      "|         UAE|\n",
      "| Switzerland|\n",
      "|      Canada|\n",
      "|      Brazil|\n",
      "|       Japan|\n",
      "|    Portugal|\n",
      "|   Australia|\n",
      "|     Austria|\n",
      "|       Korea|\n",
      "|South Africa|\n",
      "|     Bahrain|\n",
      "|     Hungary|\n",
      "|     Vietnam|\n",
      "| Netherlands|\n",
      "+------------+\n",
      "\n"
     ]
    }
   ],
   "source": [
    "df.select(col(\"country\")).distinct().show(34)"
   ]
  },
  {
   "cell_type": "code",
   "execution_count": 63,
   "metadata": {},
   "outputs": [
    {
     "data": {
      "text/plain": [
       "34"
      ]
     },
     "execution_count": 63,
     "metadata": {},
     "output_type": "execute_result"
    }
   ],
   "source": [
    "df.select(\"country\").dropDuplicates().count()"
   ]
  },
  {
   "cell_type": "code",
   "execution_count": 66,
   "metadata": {},
   "outputs": [
    {
     "name": "stdout",
     "output_type": "stream",
     "text": [
      "+---------+------------+--------------------+--------------------+------------+--------+---------+----+--------------------+----------+\n",
      "|circuitId|  circuitRef|                name|            location|     country|     lat|      lng| alt|                 url|      date|\n",
      "+---------+------------+--------------------+--------------------+------------+--------+---------+----+--------------------+----------+\n",
      "|       19|indianapolis|Indianapolis Moto...|        Indianapolis|         USA|  39.795| -86.2347| 223|http://en.wikiped...|19-01-2024|\n",
      "|       29|    adelaide|Adelaide Street C...|            Adelaide|   Australia|-34.9272|  138.617|  58|http://en.wikiped...|29-01-2024|\n",
      "|       77|      jeddah|Jeddah Street Cir...|              Jeddah|Saudi Arabia| 21.5433|  39.1728|  15|http://en.wikiped...|17-03-2024|\n",
      "|       30|     kyalami|             Kyalami|             Midrand|South Africa|-25.9894|  28.0767|1460|http://en.wikiped...|30-01-2024|\n",
      "|       35|     yeongam|Korean Internatio...|      Yeongam County|       Korea| 34.7333|  126.417|   0|http://en.wikiped...|04-02-2024|\n",
      "|       26|       jerez|   Circuito de Jerez|Jerez de la Frontera|       Spain| 36.7083| -6.03417|  37|http://en.wikiped...|26-01-2024|\n",
      "|        5|    istanbul|       Istanbul Park|            Istanbul|      Turkey| 40.9517|   29.405| 130|http://en.wikiped...|05-01-2024|\n",
      "|        6|      monaco|   Circuit de Monaco|         Monte-Carlo|      Monaco| 43.7347|  7.42056|   7|http://en.wikiped...|06-01-2024|\n",
      "|       48|     mosport|Mosport Internati...|             Ontario|      Canada| 44.0481| -78.6756| 332|http://en.wikiped...|17-02-2024|\n",
      "|       47|  anderstorp|Scandinavian Raceway|          Anderstorp|      Sweden| 57.2653|  13.6042| 153|http://en.wikiped...|16-02-2024|\n",
      "|       69|    americas|Circuit of the Am...|              Austin|         USA| 30.1328| -97.6411| 161|http://en.wikiped...|09-03-2024|\n",
      "|       42|      dallas|           Fair Park|              Dallas|         USA| 32.7774| -96.7587| 139|http://en.wikiped...|11-02-2024|\n",
      "|       41|       dijon|       Dijon-Prenois|               Dijon|      France| 47.3625|  4.89913| 484|http://en.wikiped...|10-02-2024|\n",
      "|       73|         BAK|   Baku City Circuit|                Baku|  Azerbaijan| 40.3725|  49.8533|  -7|http://en.wikiped...|13-03-2024|\n",
      "|       39|   zandvoort|Circuit Park Zand...|           Zandvoort| Netherlands| 52.3888|  4.54092|   6|http://en.wikiped...|08-02-2024|\n",
      "|       43|  long_beach|          Long Beach|          California|         USA| 33.7651| -118.189|  12|http://en.wikiped...|12-02-2024|\n",
      "|       51|     charade|     Charade Circuit|    Clermont-Ferrand|      France| 45.7472|  3.03889| 790|http://en.wikiped...|20-02-2024|\n",
      "|       60|   riverside|Riverside Interna...|          California|         USA|  33.937| -117.273| 470|http://en.wikiped...|29-02-2024|\n",
      "|       49|    montjuic|            Montjuïc|           Barcelona|       Spain| 41.3664|  2.15167|  79|http://en.wikiped...|18-02-2024|\n",
      "|       12|    valencia|Valencia Street C...|            Valencia|       Spain| 39.4589|-0.331667|   4|http://en.wikiped...|12-01-2024|\n",
      "+---------+------------+--------------------+--------------------+------------+--------+---------+----+--------------------+----------+\n",
      "only showing top 20 rows\n",
      "\n"
     ]
    }
   ],
   "source": [
    "df.dropDuplicates().show()"
   ]
  },
  {
   "cell_type": "code",
   "execution_count": 136,
   "metadata": {},
   "outputs": [],
   "source": [
    "import numpy as np\n",
    "data = [(78, \"indianapolis\", \"indianapolis\",\"NULL\",\"NULL\",\"NULL\",np.NaN,np.NaN,\"NULL\",\"NULL\")]\n",
    "columns = [\"circuitId\",\"circuitRef\",\"name\", \"location\",\"country\",\"lat\",\"lng\",\"alt\",\"url\", \"date\"]"
   ]
  },
  {
   "cell_type": "code",
   "execution_count": 137,
   "metadata": {},
   "outputs": [],
   "source": [
    "new_row = spark.createDataFrame(data, columns)"
   ]
  },
  {
   "cell_type": "code",
   "execution_count": 138,
   "metadata": {},
   "outputs": [],
   "source": [
    "df = df.union(new_row)"
   ]
  },
  {
   "cell_type": "code",
   "execution_count": 139,
   "metadata": {},
   "outputs": [
    {
     "name": "stdout",
     "output_type": "stream",
     "text": [
      "+---------+--------------+--------------------+--------------------+------------+--------+---------+------+--------------------+----------+\n",
      "|circuitId|    circuitRef|                name|            location|     country|     lat|      lng|   alt|                 url|      date|\n",
      "+---------+--------------+--------------------+--------------------+------------+--------+---------+------+--------------------+----------+\n",
      "|        1|   albert_park|Albert Park Grand...|           Melbourne|   Australia|-37.8497|  144.968|  10.0|http://en.wikiped...|01-01-2024|\n",
      "|        2|        sepang|Sepang Internatio...|        Kuala Lumpur|    Malaysia| 2.76083|  101.738|  18.0|http://en.wikiped...|02-01-2024|\n",
      "|        3|       bahrain|Bahrain Internati...|              Sakhir|     Bahrain| 26.0325|  50.5106|   7.0|http://en.wikiped...|03-01-2024|\n",
      "|        4|     catalunya|Circuit de Barcel...|            Montmeló|       Spain|   41.57|  2.26111| 109.0|http://en.wikiped...|04-01-2024|\n",
      "|        5|      istanbul|       Istanbul Park|            Istanbul|      Turkey| 40.9517|   29.405| 130.0|http://en.wikiped...|05-01-2024|\n",
      "|        6|        monaco|   Circuit de Monaco|         Monte-Carlo|      Monaco| 43.7347|  7.42056|   7.0|http://en.wikiped...|06-01-2024|\n",
      "|        7|    villeneuve|Circuit Gilles Vi...|            Montreal|      Canada|    45.5| -73.5228|  13.0|http://en.wikiped...|07-01-2024|\n",
      "|        8|   magny_cours|Circuit de Nevers...|         Magny Cours|      France| 46.8642|  3.16361| 228.0|http://en.wikiped...|08-01-2024|\n",
      "|        9|   silverstone| Silverstone Circuit|         Silverstone|          UK| 52.0786| -1.01694| 153.0|http://en.wikiped...|09-01-2024|\n",
      "|       10|hockenheimring|      Hockenheimring|          Hockenheim|     Germany| 49.3278|  8.56583| 103.0|http://en.wikiped...|10-01-2024|\n",
      "|       11|   hungaroring|         Hungaroring|            Budapest|     Hungary| 47.5789|  19.2486| 264.0|http://en.wikiped...|11-01-2024|\n",
      "|       12|      valencia|Valencia Street C...|            Valencia|       Spain| 39.4589|-0.331667|   4.0|http://en.wikiped...|12-01-2024|\n",
      "|       13|           spa|Circuit de Spa-Fr...|                 Spa|     Belgium| 50.4372|  5.97139| 401.0|http://en.wikiped...|13-01-2024|\n",
      "|       14|         monza|Autodromo Naziona...|               Monza|       Italy| 45.6156|  9.28111| 162.0|http://en.wikiped...|14-01-2024|\n",
      "|       15|    marina_bay|Marina Bay Street...|          Marina Bay|   Singapore|  1.2914|  103.864|  18.0|http://en.wikiped...|15-01-2024|\n",
      "|       16|          fuji|       Fuji Speedway|               Oyama|       Japan| 35.3717|  138.927| 583.0|http://en.wikiped...|16-01-2024|\n",
      "|       17|      shanghai|Shanghai Internat...|            Shanghai|       China| 31.3389|   121.22|   5.0|http://en.wikiped...|17-01-2024|\n",
      "|       18|    interlagos|Autódromo José Ca...|           São Paulo|      Brazil|-23.7036| -46.6997| 785.0|http://en.wikiped...|18-01-2024|\n",
      "|       19|  indianapolis|Indianapolis Moto...|        Indianapolis|         USA|  39.795| -86.2347| 223.0|http://en.wikiped...|19-01-2024|\n",
      "|       20|   nurburgring|         Nürburgring|             Nürburg|     Germany| 50.3356|   6.9475| 578.0|http://en.wikiped...|20-01-2024|\n",
      "|       21|         imola|Autodromo Enzo e ...|               Imola|       Italy| 44.3439|  11.7167|  37.0|http://en.wikiped...|21-01-2024|\n",
      "|       22|        suzuka|      Suzuka Circuit|              Suzuka|       Japan| 34.8431|  136.541|  45.0|http://en.wikiped...|22-01-2024|\n",
      "|       23|osterreichring|             A1-Ring|           Spielburg|     Austria| 47.2197|  14.7647| 678.0|http://en.wikiped...|23-01-2024|\n",
      "|       24|    yas_marina|  Yas Marina Circuit|           Abu Dhabi|         UAE| 24.4672|  54.6031|   3.0|http://en.wikiped...|24-01-2024|\n",
      "|       25|        galvez|Autódromo Juan y ...|        Buenos Aires|   Argentina|-34.6943| -58.4593|   8.0|http://en.wikiped...|25-01-2024|\n",
      "|       26|         jerez|   Circuito de Jerez|Jerez de la Frontera|       Spain| 36.7083| -6.03417|  37.0|http://en.wikiped...|26-01-2024|\n",
      "|       27|       estoril|Autódromo do Estoril|             Estoril|    Portugal| 38.7506| -9.39417| 130.0|http://en.wikiped...|27-01-2024|\n",
      "|       28|       okayama|Okayama Internati...|             Okayama|       Japan|  34.915|  134.221| 266.0|http://en.wikiped...|28-01-2024|\n",
      "|       29|      adelaide|Adelaide Street C...|            Adelaide|   Australia|-34.9272|  138.617|  58.0|http://en.wikiped...|29-01-2024|\n",
      "|       30|       kyalami|             Kyalami|             Midrand|South Africa|-25.9894|  28.0767|1460.0|http://en.wikiped...|30-01-2024|\n",
      "|       31|     donington|      Donington Park|    Castle Donington|          UK| 52.8306| -1.37528|  88.0|http://en.wikiped...|31-01-2024|\n",
      "|       32|     rodriguez|Autódromo Hermano...|         Mexico City|      Mexico| 19.4042| -99.0907|2227.0|http://en.wikiped...|01-02-2024|\n",
      "|       33|       phoenix|Phoenix street ci...|             Phoenix|         USA| 33.4479| -112.075| 345.0|http://en.wikiped...|02-02-2024|\n",
      "|       34|        ricard| Circuit Paul Ricard|        Le Castellet|      France| 43.2506|  5.79167| 432.0|http://en.wikiped...|03-02-2024|\n",
      "|       35|       yeongam|Korean Internatio...|      Yeongam County|       Korea| 34.7333|  126.417|   0.0|http://en.wikiped...|04-02-2024|\n",
      "|       36|   jacarepagua|Autódromo Interna...|      Rio de Janeiro|      Brazil|-22.9756|  -43.395|1126.0|http://en.wikiped...|05-02-2024|\n",
      "|       37|       detroit|Detroit Street Ci...|             Detroit|         USA| 42.3298| -83.0401| 177.0|http://en.wikiped...|06-02-2024|\n",
      "|       38|  brands_hatch|        Brands Hatch|                Kent|          UK| 51.3569| 0.263056| 145.0|http://en.wikiped...|07-02-2024|\n",
      "|       39|     zandvoort|Circuit Park Zand...|           Zandvoort| Netherlands| 52.3888|  4.54092|   6.0|http://en.wikiped...|08-02-2024|\n",
      "|       40|        zolder|              Zolder|      Heusden-Zolder|     Belgium| 50.9894|  5.25694|  36.0|http://en.wikiped...|09-02-2024|\n",
      "|       41|         dijon|       Dijon-Prenois|               Dijon|      France| 47.3625|  4.89913| 484.0|http://en.wikiped...|10-02-2024|\n",
      "|       42|        dallas|           Fair Park|              Dallas|         USA| 32.7774| -96.7587| 139.0|http://en.wikiped...|11-02-2024|\n",
      "|       43|    long_beach|          Long Beach|          California|         USA| 33.7651| -118.189|  12.0|http://en.wikiped...|12-02-2024|\n",
      "|       44|     las_vegas|Las Vegas Street ...|              Nevada|         USA| 36.1162| -115.174| 639.0|http://en.wikiped...|13-02-2024|\n",
      "|       45|        jarama|              Jarama|              Madrid|       Spain| 40.6171| -3.58558| 609.0|http://en.wikiped...|14-02-2024|\n",
      "|       46|  watkins_glen|        Watkins Glen|      New York State|         USA| 42.3369| -76.9272| 485.0|http://en.wikiped...|15-02-2024|\n",
      "|       47|    anderstorp|Scandinavian Raceway|          Anderstorp|      Sweden| 57.2653|  13.6042| 153.0|http://en.wikiped...|16-02-2024|\n",
      "|       48|       mosport|Mosport Internati...|             Ontario|      Canada| 44.0481| -78.6756| 332.0|http://en.wikiped...|17-02-2024|\n",
      "|       49|      montjuic|            Montjuïc|           Barcelona|       Spain| 41.3664|  2.15167|  79.0|http://en.wikiped...|18-02-2024|\n",
      "|       50|      nivelles|    Nivelles-Baulers|            Brussels|     Belgium| 50.6211|  4.32694| 139.0|http://en.wikiped...|19-02-2024|\n",
      "|       51|       charade|     Charade Circuit|    Clermont-Ferrand|      France| 45.7472|  3.03889| 790.0|http://en.wikiped...|20-02-2024|\n",
      "|       52|     tremblant|Circuit Mont-Trem...|              Quebec|      Canada| 46.1877| -74.6099| 214.0|http://en.wikiped...|21-02-2024|\n",
      "|       53|       essarts|   Rouen-Les-Essarts|               Rouen|      France| 49.3306|  1.00458|  81.0|http://en.wikiped...|22-02-2024|\n",
      "|       54|        lemans|             Le Mans|             Le Mans|      France|   47.95| 0.224231|  67.0|http://en.wikiped...|23-02-2024|\n",
      "|       55|         reims|         Reims-Gueux|               Reims|      France| 49.2542|  3.93083|  88.0|http://en.wikiped...|24-02-2024|\n",
      "|       56|        george|Prince George Cir...|Eastern Cape Prov...|South Africa|-33.0486|  27.8736|  15.0|http://en.wikiped...|25-02-2024|\n",
      "|       57|       zeltweg|             Zeltweg|              Styria|     Austria| 47.2039|  14.7478| 676.0|http://en.wikiped...|26-02-2024|\n",
      "|       58|       aintree|             Aintree|           Liverpool|          UK| 53.4769| -2.94056|  20.0|http://en.wikiped...|27-02-2024|\n",
      "|       59|      boavista|Circuito da Boavista|              Oporto|    Portugal| 41.1705| -8.67325|  28.0|http://en.wikiped...|28-02-2024|\n",
      "|       60|     riverside|Riverside Interna...|          California|         USA|  33.937| -117.273| 470.0|http://en.wikiped...|29-02-2024|\n",
      "|       61|          avus|                AVUS|              Berlin|     Germany| 52.4806|  13.2514|  53.0|http://en.wikiped...|01-03-2024|\n",
      "|       62|      monsanto|Monsanto Park Cir...|              Lisbon|    Portugal| 38.7197| -9.20306| 158.0|http://en.wikiped...|02-03-2024|\n",
      "|       63|       sebring|Sebring Internati...|             Florida|         USA| 27.4547| -81.3483|  18.0|http://en.wikiped...|03-03-2024|\n",
      "|       64|      ain-diab|            Ain Diab|          Casablanca|     Morocco| 33.5786|  -7.6875|  19.0|http://en.wikiped...|04-03-2024|\n",
      "|       65|       pescara|     Pescara Circuit|             Pescara|       Italy|  42.475|  14.1508| 129.0|http://en.wikiped...|05-03-2024|\n",
      "|       66|    bremgarten|  Circuit Bremgarten|                Bern| Switzerland| 46.9589|  7.40194| 551.0|http://en.wikiped...|06-03-2024|\n",
      "|       67|     pedralbes|Circuit de Pedralbes|           Barcelona|       Spain| 41.3903|  2.11667|  85.0|http://en.wikiped...|07-03-2024|\n",
      "|       68|         buddh|Buddh Internation...|       Uttar Pradesh|       India| 28.3487|  77.5331| 194.0|http://en.wikiped...|08-03-2024|\n",
      "|       69|      americas|Circuit of the Am...|              Austin|         USA| 30.1328| -97.6411| 161.0|http://en.wikiped...|09-03-2024|\n",
      "|       70| red_bull_ring|       Red Bull Ring|           Spielburg|     Austria| 47.2197|  14.7647| 678.0|http://en.wikiped...|10-03-2024|\n",
      "|       71|         sochi|      Sochi Autodrom|               Sochi|      Russia| 43.4057|  39.9578|   2.0|http://en.wikiped...|11-03-2024|\n",
      "|       72| port_imperial|Port Imperial Str...|          New Jersey|         USA| 40.7769| -74.0111|   4.0|http://en.wikiped...|12-03-2024|\n",
      "|       73|           BAK|   Baku City Circuit|                Baku|  Azerbaijan| 40.3725|  49.8533|  -7.0|http://en.wikiped...|13-03-2024|\n",
      "|       74|         hanoi|Hanoi Street Circuit|               Hanoi|     Vietnam| 21.0166|  105.766|   9.0|http://en.wikiped...|14-03-2024|\n",
      "|       75|      portimao|Autódromo Interna...|            Portimão|    Portugal|  37.227|  -8.6267| 108.0|http://en.wikiped...|15-03-2024|\n",
      "|       76|       mugello|Autodromo Interna...|             Mugello|       Italy| 43.9975|  11.3719| 255.0|http://en.wikiped...|16-03-2024|\n",
      "|       77|        jeddah|Jeddah Street Cir...|              Jeddah|Saudi Arabia| 21.5433|  39.1728|  15.0|http://en.wikiped...|17-03-2024|\n",
      "|       78|  indianapolis|        indianapolis|                   0|           0|     0.0|      0.0|   0.0|                   0|         0|\n",
      "+---------+--------------+--------------------+--------------------+------------+--------+---------+------+--------------------+----------+\n",
      "only showing top 78 rows\n",
      "\n"
     ]
    }
   ],
   "source": [
    "df.show(78)"
   ]
  },
  {
   "cell_type": "code",
   "execution_count": 108,
   "metadata": {},
   "outputs": [],
   "source": [
    "avg_lat = df.select(avg(\"lat\")).first()[0]"
   ]
  },
  {
   "cell_type": "code",
   "execution_count": 140,
   "metadata": {},
   "outputs": [
    {
     "name": "stdout",
     "output_type": "stream",
     "text": [
      "+---------+--------------+--------------------+--------------------+------------+--------+---------+------+--------------------+----------+\n",
      "|circuitId|    circuitRef|                name|            location|     country|     lat|      lng|   alt|                 url|      date|\n",
      "+---------+--------------+--------------------+--------------------+------------+--------+---------+------+--------------------+----------+\n",
      "|        1|   albert_park|Albert Park Grand...|           Melbourne|   Australia|-37.8497|  144.968|  10.0|http://en.wikiped...|01-01-2024|\n",
      "|        2|        sepang|Sepang Internatio...|        Kuala Lumpur|    Malaysia| 2.76083|  101.738|  18.0|http://en.wikiped...|02-01-2024|\n",
      "|        3|       bahrain|Bahrain Internati...|              Sakhir|     Bahrain| 26.0325|  50.5106|   7.0|http://en.wikiped...|03-01-2024|\n",
      "|        4|     catalunya|Circuit de Barcel...|            Montmeló|       Spain|   41.57|  2.26111| 109.0|http://en.wikiped...|04-01-2024|\n",
      "|        5|      istanbul|       Istanbul Park|            Istanbul|      Turkey| 40.9517|   29.405| 130.0|http://en.wikiped...|05-01-2024|\n",
      "|        6|        monaco|   Circuit de Monaco|         Monte-Carlo|      Monaco| 43.7347|  7.42056|   7.0|http://en.wikiped...|06-01-2024|\n",
      "|        7|    villeneuve|Circuit Gilles Vi...|            Montreal|      Canada|    45.5| -73.5228|  13.0|http://en.wikiped...|07-01-2024|\n",
      "|        8|   magny_cours|Circuit de Nevers...|         Magny Cours|      France| 46.8642|  3.16361| 228.0|http://en.wikiped...|08-01-2024|\n",
      "|        9|   silverstone| Silverstone Circuit|         Silverstone|          UK| 52.0786| -1.01694| 153.0|http://en.wikiped...|09-01-2024|\n",
      "|       10|hockenheimring|      Hockenheimring|          Hockenheim|     Germany| 49.3278|  8.56583| 103.0|http://en.wikiped...|10-01-2024|\n",
      "|       11|   hungaroring|         Hungaroring|            Budapest|     Hungary| 47.5789|  19.2486| 264.0|http://en.wikiped...|11-01-2024|\n",
      "|       12|      valencia|Valencia Street C...|            Valencia|       Spain| 39.4589|-0.331667|   4.0|http://en.wikiped...|12-01-2024|\n",
      "|       13|           spa|Circuit de Spa-Fr...|                 Spa|     Belgium| 50.4372|  5.97139| 401.0|http://en.wikiped...|13-01-2024|\n",
      "|       14|         monza|Autodromo Naziona...|               Monza|       Italy| 45.6156|  9.28111| 162.0|http://en.wikiped...|14-01-2024|\n",
      "|       15|    marina_bay|Marina Bay Street...|          Marina Bay|   Singapore|  1.2914|  103.864|  18.0|http://en.wikiped...|15-01-2024|\n",
      "|       16|          fuji|       Fuji Speedway|               Oyama|       Japan| 35.3717|  138.927| 583.0|http://en.wikiped...|16-01-2024|\n",
      "|       17|      shanghai|Shanghai Internat...|            Shanghai|       China| 31.3389|   121.22|   5.0|http://en.wikiped...|17-01-2024|\n",
      "|       18|    interlagos|Autódromo José Ca...|           São Paulo|      Brazil|-23.7036| -46.6997| 785.0|http://en.wikiped...|18-01-2024|\n",
      "|       19|  indianapolis|Indianapolis Moto...|        Indianapolis|         USA|  39.795| -86.2347| 223.0|http://en.wikiped...|19-01-2024|\n",
      "|       20|   nurburgring|         Nürburgring|             Nürburg|     Germany| 50.3356|   6.9475| 578.0|http://en.wikiped...|20-01-2024|\n",
      "|       21|         imola|Autodromo Enzo e ...|               Imola|       Italy| 44.3439|  11.7167|  37.0|http://en.wikiped...|21-01-2024|\n",
      "|       22|        suzuka|      Suzuka Circuit|              Suzuka|       Japan| 34.8431|  136.541|  45.0|http://en.wikiped...|22-01-2024|\n",
      "|       23|osterreichring|             A1-Ring|           Spielburg|     Austria| 47.2197|  14.7647| 678.0|http://en.wikiped...|23-01-2024|\n",
      "|       24|    yas_marina|  Yas Marina Circuit|           Abu Dhabi|         UAE| 24.4672|  54.6031|   3.0|http://en.wikiped...|24-01-2024|\n",
      "|       25|        galvez|Autódromo Juan y ...|        Buenos Aires|   Argentina|-34.6943| -58.4593|   8.0|http://en.wikiped...|25-01-2024|\n",
      "|       26|         jerez|   Circuito de Jerez|Jerez de la Frontera|       Spain| 36.7083| -6.03417|  37.0|http://en.wikiped...|26-01-2024|\n",
      "|       27|       estoril|Autódromo do Estoril|             Estoril|    Portugal| 38.7506| -9.39417| 130.0|http://en.wikiped...|27-01-2024|\n",
      "|       28|       okayama|Okayama Internati...|             Okayama|       Japan|  34.915|  134.221| 266.0|http://en.wikiped...|28-01-2024|\n",
      "|       29|      adelaide|Adelaide Street C...|            Adelaide|   Australia|-34.9272|  138.617|  58.0|http://en.wikiped...|29-01-2024|\n",
      "|       30|       kyalami|             Kyalami|             Midrand|South Africa|-25.9894|  28.0767|1460.0|http://en.wikiped...|30-01-2024|\n",
      "|       31|     donington|      Donington Park|    Castle Donington|          UK| 52.8306| -1.37528|  88.0|http://en.wikiped...|31-01-2024|\n",
      "|       32|     rodriguez|Autódromo Hermano...|         Mexico City|      Mexico| 19.4042| -99.0907|2227.0|http://en.wikiped...|01-02-2024|\n",
      "|       33|       phoenix|Phoenix street ci...|             Phoenix|         USA| 33.4479| -112.075| 345.0|http://en.wikiped...|02-02-2024|\n",
      "|       34|        ricard| Circuit Paul Ricard|        Le Castellet|      France| 43.2506|  5.79167| 432.0|http://en.wikiped...|03-02-2024|\n",
      "|       35|       yeongam|Korean Internatio...|      Yeongam County|       Korea| 34.7333|  126.417|   0.0|http://en.wikiped...|04-02-2024|\n",
      "|       36|   jacarepagua|Autódromo Interna...|      Rio de Janeiro|      Brazil|-22.9756|  -43.395|1126.0|http://en.wikiped...|05-02-2024|\n",
      "|       37|       detroit|Detroit Street Ci...|             Detroit|         USA| 42.3298| -83.0401| 177.0|http://en.wikiped...|06-02-2024|\n",
      "|       38|  brands_hatch|        Brands Hatch|                Kent|          UK| 51.3569| 0.263056| 145.0|http://en.wikiped...|07-02-2024|\n",
      "|       39|     zandvoort|Circuit Park Zand...|           Zandvoort| Netherlands| 52.3888|  4.54092|   6.0|http://en.wikiped...|08-02-2024|\n",
      "|       40|        zolder|              Zolder|      Heusden-Zolder|     Belgium| 50.9894|  5.25694|  36.0|http://en.wikiped...|09-02-2024|\n",
      "|       41|         dijon|       Dijon-Prenois|               Dijon|      France| 47.3625|  4.89913| 484.0|http://en.wikiped...|10-02-2024|\n",
      "|       42|        dallas|           Fair Park|              Dallas|         USA| 32.7774| -96.7587| 139.0|http://en.wikiped...|11-02-2024|\n",
      "|       43|    long_beach|          Long Beach|          California|         USA| 33.7651| -118.189|  12.0|http://en.wikiped...|12-02-2024|\n",
      "|       44|     las_vegas|Las Vegas Street ...|              Nevada|         USA| 36.1162| -115.174| 639.0|http://en.wikiped...|13-02-2024|\n",
      "|       45|        jarama|              Jarama|              Madrid|       Spain| 40.6171| -3.58558| 609.0|http://en.wikiped...|14-02-2024|\n",
      "|       46|  watkins_glen|        Watkins Glen|      New York State|         USA| 42.3369| -76.9272| 485.0|http://en.wikiped...|15-02-2024|\n",
      "|       47|    anderstorp|Scandinavian Raceway|          Anderstorp|      Sweden| 57.2653|  13.6042| 153.0|http://en.wikiped...|16-02-2024|\n",
      "|       48|       mosport|Mosport Internati...|             Ontario|      Canada| 44.0481| -78.6756| 332.0|http://en.wikiped...|17-02-2024|\n",
      "|       49|      montjuic|            Montjuïc|           Barcelona|       Spain| 41.3664|  2.15167|  79.0|http://en.wikiped...|18-02-2024|\n",
      "|       50|      nivelles|    Nivelles-Baulers|            Brussels|     Belgium| 50.6211|  4.32694| 139.0|http://en.wikiped...|19-02-2024|\n",
      "|       51|       charade|     Charade Circuit|    Clermont-Ferrand|      France| 45.7472|  3.03889| 790.0|http://en.wikiped...|20-02-2024|\n",
      "|       52|     tremblant|Circuit Mont-Trem...|              Quebec|      Canada| 46.1877| -74.6099| 214.0|http://en.wikiped...|21-02-2024|\n",
      "|       53|       essarts|   Rouen-Les-Essarts|               Rouen|      France| 49.3306|  1.00458|  81.0|http://en.wikiped...|22-02-2024|\n",
      "|       54|        lemans|             Le Mans|             Le Mans|      France|   47.95| 0.224231|  67.0|http://en.wikiped...|23-02-2024|\n",
      "|       55|         reims|         Reims-Gueux|               Reims|      France| 49.2542|  3.93083|  88.0|http://en.wikiped...|24-02-2024|\n",
      "|       56|        george|Prince George Cir...|Eastern Cape Prov...|South Africa|-33.0486|  27.8736|  15.0|http://en.wikiped...|25-02-2024|\n",
      "|       57|       zeltweg|             Zeltweg|              Styria|     Austria| 47.2039|  14.7478| 676.0|http://en.wikiped...|26-02-2024|\n",
      "|       58|       aintree|             Aintree|           Liverpool|          UK| 53.4769| -2.94056|  20.0|http://en.wikiped...|27-02-2024|\n",
      "|       59|      boavista|Circuito da Boavista|              Oporto|    Portugal| 41.1705| -8.67325|  28.0|http://en.wikiped...|28-02-2024|\n",
      "|       60|     riverside|Riverside Interna...|          California|         USA|  33.937| -117.273| 470.0|http://en.wikiped...|29-02-2024|\n",
      "|       61|          avus|                AVUS|              Berlin|     Germany| 52.4806|  13.2514|  53.0|http://en.wikiped...|01-03-2024|\n",
      "|       62|      monsanto|Monsanto Park Cir...|              Lisbon|    Portugal| 38.7197| -9.20306| 158.0|http://en.wikiped...|02-03-2024|\n",
      "|       63|       sebring|Sebring Internati...|             Florida|         USA| 27.4547| -81.3483|  18.0|http://en.wikiped...|03-03-2024|\n",
      "|       64|      ain-diab|            Ain Diab|          Casablanca|     Morocco| 33.5786|  -7.6875|  19.0|http://en.wikiped...|04-03-2024|\n",
      "|       65|       pescara|     Pescara Circuit|             Pescara|       Italy|  42.475|  14.1508| 129.0|http://en.wikiped...|05-03-2024|\n",
      "|       66|    bremgarten|  Circuit Bremgarten|                Bern| Switzerland| 46.9589|  7.40194| 551.0|http://en.wikiped...|06-03-2024|\n",
      "|       67|     pedralbes|Circuit de Pedralbes|           Barcelona|       Spain| 41.3903|  2.11667|  85.0|http://en.wikiped...|07-03-2024|\n",
      "|       68|         buddh|Buddh Internation...|       Uttar Pradesh|       India| 28.3487|  77.5331| 194.0|http://en.wikiped...|08-03-2024|\n",
      "|       69|      americas|Circuit of the Am...|              Austin|         USA| 30.1328| -97.6411| 161.0|http://en.wikiped...|09-03-2024|\n",
      "|       70| red_bull_ring|       Red Bull Ring|           Spielburg|     Austria| 47.2197|  14.7647| 678.0|http://en.wikiped...|10-03-2024|\n",
      "|       71|         sochi|      Sochi Autodrom|               Sochi|      Russia| 43.4057|  39.9578|   2.0|http://en.wikiped...|11-03-2024|\n",
      "|       72| port_imperial|Port Imperial Str...|          New Jersey|         USA| 40.7769| -74.0111|   4.0|http://en.wikiped...|12-03-2024|\n",
      "|       73|           BAK|   Baku City Circuit|                Baku|  Azerbaijan| 40.3725|  49.8533|  -7.0|http://en.wikiped...|13-03-2024|\n",
      "|       74|         hanoi|Hanoi Street Circuit|               Hanoi|     Vietnam| 21.0166|  105.766|   9.0|http://en.wikiped...|14-03-2024|\n",
      "|       75|      portimao|Autódromo Interna...|            Portimão|    Portugal|  37.227|  -8.6267| 108.0|http://en.wikiped...|15-03-2024|\n",
      "|       76|       mugello|Autodromo Interna...|             Mugello|       Italy| 43.9975|  11.3719| 255.0|http://en.wikiped...|16-03-2024|\n",
      "|       77|        jeddah|Jeddah Street Cir...|              Jeddah|Saudi Arabia| 21.5433|  39.1728|  15.0|http://en.wikiped...|17-03-2024|\n",
      "|       78|  indianapolis|        indianapolis|                   0|           0|     0.0|      0.0|   0.0|                   0|         0|\n",
      "+---------+--------------+--------------------+--------------------+------------+--------+---------+------+--------------------+----------+\n",
      "only showing top 78 rows\n",
      "\n"
     ]
    }
   ],
   "source": [
    "df.na.fill(avg_lat, subset=[\"lat\"]).show(78)"
   ]
  },
  {
   "cell_type": "code",
   "execution_count": 145,
   "metadata": {},
   "outputs": [
    {
     "name": "stdout",
     "output_type": "stream",
     "text": [
      "+-------------+\n",
      "|(lat IS NULL)|\n",
      "+-------------+\n",
      "|        false|\n",
      "|        false|\n",
      "|        false|\n",
      "|        false|\n",
      "|        false|\n",
      "|        false|\n",
      "|        false|\n",
      "|        false|\n",
      "|        false|\n",
      "|        false|\n",
      "|        false|\n",
      "|        false|\n",
      "|        false|\n",
      "|        false|\n",
      "|        false|\n",
      "|        false|\n",
      "|        false|\n",
      "|        false|\n",
      "|        false|\n",
      "|        false|\n",
      "|        false|\n",
      "|        false|\n",
      "|        false|\n",
      "|        false|\n",
      "|        false|\n",
      "|        false|\n",
      "|        false|\n",
      "|        false|\n",
      "|        false|\n",
      "|        false|\n",
      "|        false|\n",
      "|        false|\n",
      "|        false|\n",
      "|        false|\n",
      "|        false|\n",
      "|        false|\n",
      "|        false|\n",
      "|        false|\n",
      "|        false|\n",
      "|        false|\n",
      "|        false|\n",
      "|        false|\n",
      "|        false|\n",
      "|        false|\n",
      "|        false|\n",
      "|        false|\n",
      "|        false|\n",
      "|        false|\n",
      "|        false|\n",
      "|        false|\n",
      "|        false|\n",
      "|        false|\n",
      "|        false|\n",
      "|        false|\n",
      "|        false|\n",
      "|        false|\n",
      "|        false|\n",
      "|        false|\n",
      "|        false|\n",
      "|        false|\n",
      "|        false|\n",
      "|        false|\n",
      "|        false|\n",
      "|        false|\n",
      "|        false|\n",
      "|        false|\n",
      "|        false|\n",
      "|        false|\n",
      "|        false|\n",
      "|        false|\n",
      "|        false|\n",
      "|        false|\n",
      "|        false|\n",
      "|        false|\n",
      "|        false|\n",
      "|        false|\n",
      "|        false|\n",
      "|        false|\n",
      "+-------------+\n",
      "only showing top 78 rows\n",
      "\n"
     ]
    }
   ],
   "source": [
    "df.select(col(\"lat\").isNull()).show(78)"
   ]
  },
  {
   "cell_type": "code",
   "execution_count": 147,
   "metadata": {},
   "outputs": [
    {
     "name": "stdout",
     "output_type": "stream",
     "text": [
      "+---------+--------------+--------------------+------------+---------+--------+---------+-----+--------------------+----------+\n",
      "|circuitId|    circuitRef|                name|    location|  country|     lat|      lng|  alt|                 url|      date|\n",
      "+---------+--------------+--------------------+------------+---------+--------+---------+-----+--------------------+----------+\n",
      "|        1|   albert_park|Albert Park Grand...|   Melbourne|Australia|-37.8497|  144.968| 10.0|http://en.wikiped...|01-01-2024|\n",
      "|        2|        sepang|Sepang Internatio...|Kuala Lumpur| Malaysia| 2.76083|  101.738| 18.0|http://en.wikiped...|02-01-2024|\n",
      "|        3|       bahrain|Bahrain Internati...|      Sakhir|  Bahrain| 26.0325|  50.5106|  7.0|http://en.wikiped...|03-01-2024|\n",
      "|        4|     catalunya|Circuit de Barcel...|    Montmeló|    Spain|   41.57|  2.26111|109.0|http://en.wikiped...|04-01-2024|\n",
      "|        5|      istanbul|       Istanbul Park|    Istanbul|   Turkey| 40.9517|   29.405|130.0|http://en.wikiped...|05-01-2024|\n",
      "|        6|        monaco|   Circuit de Monaco| Monte-Carlo|   Monaco| 43.7347|  7.42056|  7.0|http://en.wikiped...|06-01-2024|\n",
      "|        7|    villeneuve|Circuit Gilles Vi...|    Montreal|   Canada|    45.5| -73.5228| 13.0|http://en.wikiped...|07-01-2024|\n",
      "|        8|   magny_cours|Circuit de Nevers...| Magny Cours|   France| 46.8642|  3.16361|228.0|http://en.wikiped...|08-01-2024|\n",
      "|        9|   silverstone| Silverstone Circuit| Silverstone|       UK| 52.0786| -1.01694|153.0|http://en.wikiped...|09-01-2024|\n",
      "|       10|hockenheimring|      Hockenheimring|  Hockenheim|  Germany| 49.3278|  8.56583|103.0|http://en.wikiped...|10-01-2024|\n",
      "|       11|   hungaroring|         Hungaroring|    Budapest|  Hungary| 47.5789|  19.2486|264.0|http://en.wikiped...|11-01-2024|\n",
      "|       12|      valencia|Valencia Street C...|    Valencia|    Spain| 39.4589|-0.331667|  4.0|http://en.wikiped...|12-01-2024|\n",
      "|       13|           spa|Circuit de Spa-Fr...|         Spa|  Belgium| 50.4372|  5.97139|401.0|http://en.wikiped...|13-01-2024|\n",
      "|       14|         monza|Autodromo Naziona...|       Monza|    Italy| 45.6156|  9.28111|162.0|http://en.wikiped...|14-01-2024|\n",
      "|       15|    marina_bay|Marina Bay Street...|  Marina Bay|Singapore|  1.2914|  103.864| 18.0|http://en.wikiped...|15-01-2024|\n",
      "|       16|          fuji|       Fuji Speedway|       Oyama|    Japan| 35.3717|  138.927|583.0|http://en.wikiped...|16-01-2024|\n",
      "|       17|      shanghai|Shanghai Internat...|    Shanghai|    China| 31.3389|   121.22|  5.0|http://en.wikiped...|17-01-2024|\n",
      "|       18|    interlagos|Autódromo José Ca...|   São Paulo|   Brazil|-23.7036| -46.6997|785.0|http://en.wikiped...|18-01-2024|\n",
      "|       19|  indianapolis|Indianapolis Moto...|Indianapolis|      USA|  39.795| -86.2347|223.0|http://en.wikiped...|19-01-2024|\n",
      "|       20|   nurburgring|         Nürburgring|     Nürburg|  Germany| 50.3356|   6.9475|578.0|http://en.wikiped...|20-01-2024|\n",
      "+---------+--------------+--------------------+------------+---------+--------+---------+-----+--------------------+----------+\n",
      "only showing top 20 rows\n",
      "\n"
     ]
    }
   ],
   "source": [
    "df.show()"
   ]
  },
  {
   "cell_type": "code",
   "execution_count": 149,
   "metadata": {},
   "outputs": [
    {
     "name": "stdout",
     "output_type": "stream",
     "text": [
      "+------------+------------------+\n",
      "|     country|          avg(lat)|\n",
      "+------------+------------------+\n",
      "|      Russia|           43.4057|\n",
      "|      Sweden|           57.2653|\n",
      "|    Malaysia|           2.76083|\n",
      "|   Singapore|            1.2914|\n",
      "|      Turkey|           40.9517|\n",
      "|     Germany|50.714666666666666|\n",
      "|      France|47.108471428571434|\n",
      "|   Argentina|          -34.6943|\n",
      "|     Belgium| 50.68256666666667|\n",
      "|       China|           31.3389|\n",
      "|       India|           28.3487|\n",
      "|       Italy|            44.108|\n",
      "|       Spain| 40.18516666666667|\n",
      "|      Monaco|           43.7347|\n",
      "|     Morocco|           33.5786|\n",
      "|         USA| 35.71542727272727|\n",
      "|      Mexico|           19.4042|\n",
      "|  Azerbaijan|           40.3725|\n",
      "|          UK|          52.43575|\n",
      "|Saudi Arabia|           21.5433|\n",
      "+------------+------------------+\n",
      "only showing top 20 rows\n",
      "\n"
     ]
    }
   ],
   "source": [
    "df.groupBy(\"country\").agg(mean(\"lat\")).show()"
   ]
  },
  {
   "cell_type": "code",
   "execution_count": 151,
   "metadata": {},
   "outputs": [
    {
     "name": "stdout",
     "output_type": "stream",
     "text": [
      "+------------+-----------+\n",
      "|     country|country_lat|\n",
      "+------------+-----------+\n",
      "|      Russia|        2.0|\n",
      "|      Sweden|      153.0|\n",
      "|    Malaysia|       18.0|\n",
      "|   Singapore|       18.0|\n",
      "|      Turkey|      130.0|\n",
      "|     Germany|      734.0|\n",
      "|      France|     2170.0|\n",
      "|   Argentina|        8.0|\n",
      "|     Belgium|      576.0|\n",
      "|       China|        5.0|\n",
      "|       India|      194.0|\n",
      "|       Italy|      583.0|\n",
      "|       Spain|      923.0|\n",
      "|      Monaco|        7.0|\n",
      "|     Morocco|       19.0|\n",
      "|         USA|     2673.0|\n",
      "|      Mexico|     2227.0|\n",
      "|  Azerbaijan|       -7.0|\n",
      "|          UK|      406.0|\n",
      "|Saudi Arabia|       15.0|\n",
      "+------------+-----------+\n",
      "only showing top 20 rows\n",
      "\n"
     ]
    }
   ],
   "source": [
    "df.groupBy(\"country\").agg(sum(\"alt\").alias(\"country_lat\")).show()"
   ]
  },
  {
   "cell_type": "code",
   "execution_count": 155,
   "metadata": {},
   "outputs": [
    {
     "name": "stdout",
     "output_type": "stream",
     "text": [
      "+----+\n",
      "| alt|\n",
      "+----+\n",
      "|-7.0|\n",
      "| 0.0|\n",
      "| 0.0|\n",
      "| 2.0|\n",
      "| 3.0|\n",
      "| 4.0|\n",
      "| 4.0|\n",
      "| 5.0|\n",
      "| 6.0|\n",
      "| 7.0|\n",
      "| 7.0|\n",
      "| 8.0|\n",
      "| 9.0|\n",
      "|10.0|\n",
      "|12.0|\n",
      "|13.0|\n",
      "|15.0|\n",
      "|15.0|\n",
      "|18.0|\n",
      "|18.0|\n",
      "+----+\n",
      "only showing top 20 rows\n",
      "\n"
     ]
    }
   ],
   "source": [
    "df.select(\"alt\").sort(\"alt\").show()"
   ]
  },
  {
   "cell_type": "code",
   "execution_count": 158,
   "metadata": {},
   "outputs": [
    {
     "name": "stdout",
     "output_type": "stream",
     "text": [
      "+---------+-------------+--------------------+--------------------+------------+--------+---------+----+--------------------+----------+\n",
      "|circuitId|   circuitRef|                name|            location|     country|     lat|      lng| alt|                 url|      date|\n",
      "+---------+-------------+--------------------+--------------------+------------+--------+---------+----+--------------------+----------+\n",
      "|       73|          BAK|   Baku City Circuit|                Baku|  Azerbaijan| 40.3725|  49.8533|-7.0|http://en.wikiped...|13-03-2024|\n",
      "|       35|      yeongam|Korean Internatio...|      Yeongam County|       Korea| 34.7333|  126.417| 0.0|http://en.wikiped...|04-02-2024|\n",
      "|       78| indianapolis|        indianapolis|                   0|           0|     0.0|      0.0| 0.0|                   0|         0|\n",
      "|       71|        sochi|      Sochi Autodrom|               Sochi|      Russia| 43.4057|  39.9578| 2.0|http://en.wikiped...|11-03-2024|\n",
      "|       24|   yas_marina|  Yas Marina Circuit|           Abu Dhabi|         UAE| 24.4672|  54.6031| 3.0|http://en.wikiped...|24-01-2024|\n",
      "|       12|     valencia|Valencia Street C...|            Valencia|       Spain| 39.4589|-0.331667| 4.0|http://en.wikiped...|12-01-2024|\n",
      "|       72|port_imperial|Port Imperial Str...|          New Jersey|         USA| 40.7769| -74.0111| 4.0|http://en.wikiped...|12-03-2024|\n",
      "|       17|     shanghai|Shanghai Internat...|            Shanghai|       China| 31.3389|   121.22| 5.0|http://en.wikiped...|17-01-2024|\n",
      "|       39|    zandvoort|Circuit Park Zand...|           Zandvoort| Netherlands| 52.3888|  4.54092| 6.0|http://en.wikiped...|08-02-2024|\n",
      "|        3|      bahrain|Bahrain Internati...|              Sakhir|     Bahrain| 26.0325|  50.5106| 7.0|http://en.wikiped...|03-01-2024|\n",
      "|        6|       monaco|   Circuit de Monaco|         Monte-Carlo|      Monaco| 43.7347|  7.42056| 7.0|http://en.wikiped...|06-01-2024|\n",
      "|       25|       galvez|Autódromo Juan y ...|        Buenos Aires|   Argentina|-34.6943| -58.4593| 8.0|http://en.wikiped...|25-01-2024|\n",
      "|       74|        hanoi|Hanoi Street Circuit|               Hanoi|     Vietnam| 21.0166|  105.766| 9.0|http://en.wikiped...|14-03-2024|\n",
      "|        1|  albert_park|Albert Park Grand...|           Melbourne|   Australia|-37.8497|  144.968|10.0|http://en.wikiped...|01-01-2024|\n",
      "|       43|   long_beach|          Long Beach|          California|         USA| 33.7651| -118.189|12.0|http://en.wikiped...|12-02-2024|\n",
      "|        7|   villeneuve|Circuit Gilles Vi...|            Montreal|      Canada|    45.5| -73.5228|13.0|http://en.wikiped...|07-01-2024|\n",
      "|       56|       george|Prince George Cir...|Eastern Cape Prov...|South Africa|-33.0486|  27.8736|15.0|http://en.wikiped...|25-02-2024|\n",
      "|       77|       jeddah|Jeddah Street Cir...|              Jeddah|Saudi Arabia| 21.5433|  39.1728|15.0|http://en.wikiped...|17-03-2024|\n",
      "|        2|       sepang|Sepang Internatio...|        Kuala Lumpur|    Malaysia| 2.76083|  101.738|18.0|http://en.wikiped...|02-01-2024|\n",
      "|       15|   marina_bay|Marina Bay Street...|          Marina Bay|   Singapore|  1.2914|  103.864|18.0|http://en.wikiped...|15-01-2024|\n",
      "+---------+-------------+--------------------+--------------------+------------+--------+---------+----+--------------------+----------+\n",
      "only showing top 20 rows\n",
      "\n"
     ]
    }
   ],
   "source": [
    "df.orderBy(\"alt\").show()"
   ]
  },
  {
   "cell_type": "code",
   "execution_count": 162,
   "metadata": {},
   "outputs": [],
   "source": [
    "df1 = spark.read.csv(r\"C:\\Users\\2079342\\Downloads\\Holiday_List.csv\", header=True)"
   ]
  },
  {
   "cell_type": "code",
   "execution_count": 163,
   "metadata": {},
   "outputs": [
    {
     "name": "stdout",
     "output_type": "stream",
     "text": [
      "+----------------+----------------------+---------+--------------------+-----------+------------+---------+\n",
      "|HOLIDAY_SCHEDULE|HOLIDAY_SCHEDULE_DESCR|  HOLIDAY|               DESCR|HOLIDAY_HRS|HOLIDAY_TYPE|  country|\n",
      "+----------------+----------------------+---------+--------------------+-----------+------------+---------+\n",
      "|           HESP1|  Cognizant Spain -...|01-Jan-23|      New Year's Day|          8|         NAT|Australia|\n",
      "|           HESP1|  Cognizant Spain -...|06-Jan-23|            Epiphany|          8|         NAT| Malaysia|\n",
      "|           HESP1|  Cognizant Spain -...|20-Mar-23|            San Jose|          8|         REG|  Bahrain|\n",
      "|           HESP1|  Cognizant Spain -...|06-Apr-23|     Maundy Thursday|          8|         REG|    Spain|\n",
      "|           HESP1|  Cognizant Spain -...|07-Apr-23|         Good Friday|          8|         NAT|   Turkey|\n",
      "|           HESP1|  Cognizant Spain -...|01-May-23|          Labour Day|          8|         REG|   Monaco|\n",
      "|           HESP1|  Cognizant Spain -...|02-May-23|Madrid Regional H...|          8|         REG|   Canada|\n",
      "|           HESP1|  Cognizant Spain -...|15-May-23|          San Isidro|          8|         REG|   France|\n",
      "|           HESP1|  Cognizant Spain -...|15-Aug-23|  Assumption of Mary|          8|         NAT|       UK|\n",
      "|           HESP1|  Cognizant Spain -...|12-Oct-23|        Hispanic Day|          8|         NAT|  Germany|\n",
      "|           HESP1|  Cognizant Spain -...|01-Nov-23|     All Saints' Day|          8|         NAT|  Hungary|\n",
      "|           HESP1|  Cognizant Spain -...|09-Nov-23|  Virgin of Almudena|          8|         REG|    Spain|\n",
      "|           HESP1|  Cognizant Spain -...|06-Dec-23|Spanish Constitut...|          8|         NAT|  Belgium|\n",
      "|           HESP1|  Cognizant Spain -...|08-Dec-23|Immaculate Concep...|          8|         NAT|    Italy|\n",
      "|           HESP1|  Cognizant Spain -...|25-Dec-23|           Christmas|          8|         REG|Singapore|\n",
      "|           HESP2|  Cognizant Spain -...|01-Jan-23|      New Year's Day|          8|         NAT|    Japan|\n",
      "|           HESP2|  Cognizant Spain -...|06-Jan-23|            Epiphany|          8|         NAT|    China|\n",
      "|           HESP2|  Cognizant Spain -...|06-Apr-23|         Good Friday|          8|         REG|   Brazil|\n",
      "|           HESP2|  Cognizant Spain -...|01-May-23|          Labour Day|          8|         REG|      USA|\n",
      "|           HESP2|  Cognizant Spain -...|29-May-23|Easter Monday Gra...|          8|         REG|  Germany|\n",
      "+----------------+----------------------+---------+--------------------+-----------+------------+---------+\n",
      "only showing top 20 rows\n",
      "\n"
     ]
    }
   ],
   "source": [
    "df1.show()"
   ]
  },
  {
   "cell_type": "code",
   "execution_count": 212,
   "metadata": {},
   "outputs": [],
   "source": [
    "df2 = spark.read.csv(r\"C:\\Users\\2079342\\Downloads\\circuits.csv\", header=True)"
   ]
  },
  {
   "cell_type": "code",
   "execution_count": 213,
   "metadata": {},
   "outputs": [
    {
     "name": "stdout",
     "output_type": "stream",
     "text": [
      "+---------+--------------+--------------------+------------+---------+--------+---------+---+--------------------+----------+\n",
      "|circuitId|    circuitRef|                name|    location|  country|     lat|      lng|alt|                 url|      date|\n",
      "+---------+--------------+--------------------+------------+---------+--------+---------+---+--------------------+----------+\n",
      "|        1|   albert_park|Albert Park Grand...|   Melbourne|Australia|-37.8497|  144.968| 10|http://en.wikiped...|01-01-2024|\n",
      "|        2|        sepang|Sepang Internatio...|Kuala Lumpur| Malaysia| 2.76083|  101.738| 18|http://en.wikiped...|02-01-2024|\n",
      "|        3|       bahrain|Bahrain Internati...|      Sakhir|  Bahrain| 26.0325|  50.5106|  7|http://en.wikiped...|03-01-2024|\n",
      "|        4|     catalunya|Circuit de Barcel...|    Montmeló|    Spain|   41.57|  2.26111|109|http://en.wikiped...|04-01-2024|\n",
      "|        5|      istanbul|       Istanbul Park|    Istanbul|   Turkey| 40.9517|   29.405|130|http://en.wikiped...|05-01-2024|\n",
      "|        6|        monaco|   Circuit de Monaco| Monte-Carlo|   Monaco| 43.7347|  7.42056|  7|http://en.wikiped...|06-01-2024|\n",
      "|        7|    villeneuve|Circuit Gilles Vi...|    Montreal|   Canada|    45.5| -73.5228| 13|http://en.wikiped...|07-01-2024|\n",
      "|        8|   magny_cours|Circuit de Nevers...| Magny Cours|   France| 46.8642|  3.16361|228|http://en.wikiped...|08-01-2024|\n",
      "|        9|   silverstone| Silverstone Circuit| Silverstone|       UK| 52.0786| -1.01694|153|http://en.wikiped...|09-01-2024|\n",
      "|       10|hockenheimring|      Hockenheimring|  Hockenheim|  Germany| 49.3278|  8.56583|103|http://en.wikiped...|10-01-2024|\n",
      "|       11|   hungaroring|         Hungaroring|    Budapest|  Hungary| 47.5789|  19.2486|264|http://en.wikiped...|11-01-2024|\n",
      "|       12|      valencia|Valencia Street C...|    Valencia|    Spain| 39.4589|-0.331667|  4|http://en.wikiped...|12-01-2024|\n",
      "|       13|           spa|Circuit de Spa-Fr...|         Spa|  Belgium| 50.4372|  5.97139|401|http://en.wikiped...|13-01-2024|\n",
      "|       14|         monza|Autodromo Naziona...|       Monza|    Italy| 45.6156|  9.28111|162|http://en.wikiped...|14-01-2024|\n",
      "|       15|    marina_bay|Marina Bay Street...|  Marina Bay|Singapore|  1.2914|  103.864| 18|http://en.wikiped...|15-01-2024|\n",
      "|       16|          fuji|       Fuji Speedway|       Oyama|    Japan| 35.3717|  138.927|583|http://en.wikiped...|16-01-2024|\n",
      "|       17|      shanghai|Shanghai Internat...|    Shanghai|    China| 31.3389|   121.22|  5|http://en.wikiped...|17-01-2024|\n",
      "|       18|    interlagos|Autódromo José Ca...|   São Paulo|   Brazil|-23.7036| -46.6997|785|http://en.wikiped...|18-01-2024|\n",
      "|       19|  indianapolis|Indianapolis Moto...|Indianapolis|      USA|  39.795| -86.2347|223|http://en.wikiped...|19-01-2024|\n",
      "|       20|   nurburgring|         Nürburgring|     Nürburg|  Germany| 50.3356|   6.9475|578|http://en.wikiped...|20-01-2024|\n",
      "+---------+--------------+--------------------+------------+---------+--------+---------+---+--------------------+----------+\n",
      "only showing top 20 rows\n",
      "\n"
     ]
    }
   ],
   "source": [
    "df2.show()"
   ]
  },
  {
   "cell_type": "code",
   "execution_count": 171,
   "metadata": {},
   "outputs": [
    {
     "data": {
      "text/plain": [
       "4142"
      ]
     },
     "execution_count": 171,
     "metadata": {},
     "output_type": "execute_result"
    }
   ],
   "source": [
    "df1.join(df2, on=\"country\", how=\"left\").count()"
   ]
  },
  {
   "cell_type": "code",
   "execution_count": 181,
   "metadata": {},
   "outputs": [
    {
     "name": "stdout",
     "output_type": "stream",
     "text": [
      "+-----------------+\n",
      "|(country IS NULL)|\n",
      "+-----------------+\n",
      "|            false|\n",
      "|            false|\n",
      "|            false|\n",
      "|            false|\n",
      "|            false|\n",
      "|            false|\n",
      "|            false|\n",
      "|            false|\n",
      "|            false|\n",
      "|            false|\n",
      "|            false|\n",
      "|            false|\n",
      "|            false|\n",
      "|            false|\n",
      "|            false|\n",
      "|            false|\n",
      "|            false|\n",
      "|            false|\n",
      "|            false|\n",
      "|            false|\n",
      "|            false|\n",
      "|            false|\n",
      "|            false|\n",
      "|            false|\n",
      "|            false|\n",
      "|             true|\n",
      "|             true|\n",
      "|             true|\n",
      "|             true|\n",
      "|             true|\n",
      "|             true|\n",
      "|             true|\n",
      "|             true|\n",
      "|             true|\n",
      "|             true|\n",
      "|             true|\n",
      "|             true|\n",
      "|             true|\n",
      "|             true|\n",
      "|             true|\n",
      "|             true|\n",
      "|             true|\n",
      "|             true|\n",
      "|             true|\n",
      "|             true|\n",
      "|             true|\n",
      "|             true|\n",
      "|             true|\n",
      "|             true|\n",
      "|             true|\n",
      "|             true|\n",
      "|             true|\n",
      "|             true|\n",
      "|             true|\n",
      "|             true|\n",
      "|             true|\n",
      "|             true|\n",
      "|             true|\n",
      "|             true|\n",
      "|             true|\n",
      "|             true|\n",
      "|             true|\n",
      "|             true|\n",
      "|             true|\n",
      "|             true|\n",
      "|             true|\n",
      "|             true|\n",
      "|             true|\n",
      "|             true|\n",
      "|             true|\n",
      "|             true|\n",
      "|             true|\n",
      "|             true|\n",
      "|             true|\n",
      "|             true|\n",
      "|             true|\n",
      "|             true|\n",
      "|             true|\n",
      "|             true|\n",
      "|             true|\n",
      "|             true|\n",
      "|             true|\n",
      "|             true|\n",
      "|             true|\n",
      "|             true|\n",
      "|             true|\n",
      "|             true|\n",
      "|             true|\n",
      "|             true|\n",
      "|             true|\n",
      "|             true|\n",
      "|             true|\n",
      "|             true|\n",
      "|             true|\n",
      "|             true|\n",
      "|             true|\n",
      "|             true|\n",
      "|             true|\n",
      "|             true|\n",
      "|             true|\n",
      "|             true|\n",
      "|             true|\n",
      "|             true|\n",
      "|             true|\n",
      "|             true|\n",
      "|             true|\n",
      "|             true|\n",
      "|             true|\n",
      "|             true|\n",
      "|             true|\n",
      "|             true|\n",
      "|             true|\n",
      "|             true|\n",
      "|             true|\n",
      "|             true|\n",
      "|             true|\n",
      "|             true|\n",
      "|             true|\n",
      "|             true|\n",
      "|             true|\n",
      "|             true|\n",
      "|             true|\n",
      "|             true|\n",
      "|             true|\n",
      "|             true|\n",
      "|             true|\n",
      "|             true|\n",
      "|             true|\n",
      "|             true|\n",
      "|             true|\n",
      "|             true|\n",
      "|             true|\n",
      "|             true|\n",
      "|             true|\n",
      "|             true|\n",
      "|             true|\n",
      "|             true|\n",
      "|             true|\n",
      "|             true|\n",
      "|             true|\n",
      "|             true|\n",
      "|             true|\n",
      "|             true|\n",
      "|             true|\n",
      "|             true|\n",
      "|             true|\n",
      "|             true|\n",
      "|             true|\n",
      "|             true|\n",
      "|             true|\n",
      "|             true|\n",
      "|             true|\n",
      "|             true|\n",
      "|             true|\n",
      "|             true|\n",
      "|             true|\n",
      "|             true|\n",
      "|             true|\n",
      "|             true|\n",
      "|             true|\n",
      "|             true|\n",
      "|             true|\n",
      "|             true|\n",
      "|             true|\n",
      "|             true|\n",
      "|             true|\n",
      "|             true|\n",
      "|             true|\n",
      "|             true|\n",
      "|             true|\n",
      "|             true|\n",
      "|             true|\n",
      "|             true|\n",
      "|             true|\n",
      "|             true|\n",
      "|             true|\n",
      "|             true|\n",
      "|             true|\n",
      "|             true|\n",
      "|             true|\n",
      "|             true|\n",
      "|             true|\n",
      "|             true|\n",
      "|             true|\n",
      "|             true|\n",
      "|             true|\n",
      "|             true|\n",
      "|             true|\n",
      "|             true|\n",
      "|             true|\n",
      "|             true|\n",
      "|             true|\n",
      "|             true|\n",
      "|             true|\n",
      "|             true|\n",
      "|             true|\n",
      "|             true|\n",
      "|             true|\n",
      "|             true|\n",
      "|             true|\n",
      "|             true|\n",
      "|             true|\n",
      "|             true|\n",
      "|             true|\n",
      "|             true|\n",
      "|             true|\n",
      "|             true|\n",
      "|             true|\n",
      "|             true|\n",
      "|             true|\n",
      "|             true|\n",
      "|             true|\n",
      "|             true|\n",
      "|             true|\n",
      "|             true|\n",
      "|             true|\n",
      "|             true|\n",
      "|             true|\n",
      "|             true|\n",
      "|             true|\n",
      "|             true|\n",
      "|             true|\n",
      "|             true|\n",
      "|             true|\n",
      "|             true|\n",
      "|             true|\n",
      "|             true|\n",
      "|             true|\n",
      "|             true|\n",
      "|             true|\n",
      "|             true|\n",
      "|             true|\n",
      "|             true|\n",
      "|             true|\n",
      "|             true|\n",
      "|             true|\n",
      "|             true|\n",
      "|             true|\n",
      "|             true|\n",
      "|             true|\n",
      "|             true|\n",
      "|             true|\n",
      "|             true|\n",
      "|             true|\n",
      "|             true|\n",
      "|             true|\n",
      "|             true|\n",
      "|             true|\n",
      "|             true|\n",
      "|             true|\n",
      "|             true|\n",
      "|             true|\n",
      "|             true|\n",
      "|             true|\n",
      "|             true|\n",
      "|             true|\n",
      "|             true|\n",
      "|             true|\n",
      "|             true|\n",
      "|             true|\n",
      "|             true|\n",
      "|             true|\n",
      "|             true|\n",
      "|             true|\n",
      "|             true|\n",
      "|             true|\n",
      "|             true|\n",
      "|             true|\n",
      "|             true|\n",
      "|             true|\n",
      "|             true|\n",
      "|             true|\n",
      "|             true|\n",
      "|             true|\n",
      "|             true|\n",
      "|             true|\n",
      "|             true|\n",
      "|             true|\n",
      "|             true|\n",
      "|             true|\n",
      "|             true|\n",
      "|             true|\n",
      "|             true|\n",
      "|             true|\n",
      "|             true|\n",
      "|             true|\n",
      "|             true|\n",
      "|             true|\n",
      "|             true|\n",
      "|             true|\n",
      "|             true|\n",
      "|             true|\n",
      "|             true|\n",
      "|             true|\n",
      "|             true|\n",
      "|             true|\n",
      "|             true|\n",
      "|             true|\n",
      "|             true|\n",
      "|             true|\n",
      "|             true|\n",
      "|             true|\n",
      "|             true|\n",
      "|             true|\n",
      "|             true|\n",
      "|             true|\n",
      "|             true|\n",
      "|             true|\n",
      "|             true|\n",
      "|             true|\n",
      "|             true|\n",
      "|             true|\n",
      "|             true|\n",
      "|             true|\n",
      "|             true|\n",
      "|             true|\n",
      "|             true|\n",
      "|             true|\n",
      "|             true|\n",
      "|             true|\n",
      "|             true|\n",
      "|             true|\n",
      "|             true|\n",
      "|             true|\n",
      "|             true|\n",
      "|             true|\n",
      "|             true|\n",
      "|             true|\n",
      "|             true|\n",
      "|             true|\n",
      "|             true|\n",
      "|             true|\n",
      "|             true|\n",
      "|             true|\n",
      "|             true|\n",
      "|             true|\n",
      "|             true|\n",
      "|             true|\n",
      "|             true|\n",
      "|             true|\n",
      "|             true|\n",
      "|             true|\n",
      "|             true|\n",
      "|             true|\n",
      "|             true|\n",
      "|             true|\n",
      "|             true|\n",
      "|             true|\n",
      "|             true|\n",
      "|             true|\n",
      "|             true|\n",
      "|             true|\n",
      "|             true|\n",
      "|             true|\n",
      "|             true|\n",
      "|             true|\n",
      "|             true|\n",
      "|             true|\n",
      "|             true|\n",
      "|             true|\n",
      "|             true|\n",
      "|             true|\n",
      "|             true|\n",
      "|             true|\n",
      "|             true|\n",
      "|             true|\n",
      "|             true|\n",
      "|             true|\n",
      "|             true|\n",
      "|             true|\n",
      "|             true|\n",
      "|             true|\n",
      "|             true|\n",
      "|             true|\n",
      "|             true|\n",
      "|             true|\n",
      "|             true|\n",
      "|             true|\n",
      "|             true|\n",
      "|             true|\n",
      "|             true|\n",
      "|             true|\n",
      "|             true|\n",
      "|             true|\n",
      "|             true|\n",
      "|             true|\n",
      "|             true|\n",
      "|             true|\n",
      "|             true|\n",
      "|             true|\n",
      "|             true|\n",
      "|             true|\n",
      "|             true|\n",
      "|             true|\n",
      "|             true|\n",
      "|             true|\n",
      "|             true|\n",
      "|             true|\n",
      "|             true|\n",
      "|             true|\n",
      "|             true|\n",
      "|             true|\n",
      "|             true|\n",
      "|             true|\n",
      "|             true|\n",
      "|             true|\n",
      "|             true|\n",
      "|             true|\n",
      "|             true|\n",
      "|             true|\n",
      "|             true|\n",
      "|             true|\n",
      "|             true|\n",
      "|             true|\n",
      "|             true|\n",
      "|             true|\n",
      "|             true|\n",
      "|             true|\n",
      "|             true|\n",
      "|             true|\n",
      "|             true|\n",
      "|             true|\n",
      "|             true|\n",
      "|             true|\n",
      "|             true|\n",
      "|             true|\n",
      "|             true|\n",
      "|             true|\n",
      "|             true|\n",
      "|             true|\n",
      "|             true|\n",
      "|             true|\n",
      "|             true|\n",
      "|             true|\n",
      "|             true|\n",
      "|             true|\n",
      "|             true|\n",
      "|             true|\n",
      "|             true|\n",
      "|             true|\n",
      "|             true|\n",
      "|             true|\n",
      "|             true|\n",
      "|             true|\n",
      "|            false|\n",
      "|            false|\n",
      "|            false|\n",
      "|            false|\n",
      "|            false|\n",
      "|            false|\n",
      "|            false|\n",
      "|            false|\n",
      "|            false|\n",
      "|            false|\n",
      "|            false|\n",
      "|            false|\n",
      "|            false|\n",
      "|            false|\n",
      "|            false|\n",
      "|            false|\n",
      "|            false|\n",
      "|            false|\n",
      "|            false|\n",
      "|            false|\n",
      "|            false|\n",
      "|            false|\n",
      "|            false|\n",
      "|            false|\n",
      "|            false|\n",
      "|            false|\n",
      "|            false|\n",
      "|            false|\n",
      "|            false|\n",
      "|            false|\n",
      "|            false|\n",
      "|            false|\n",
      "|            false|\n",
      "|            false|\n",
      "|            false|\n",
      "|            false|\n",
      "|            false|\n",
      "|            false|\n",
      "|            false|\n",
      "|            false|\n",
      "|            false|\n",
      "|            false|\n",
      "|            false|\n",
      "|            false|\n",
      "|            false|\n",
      "|            false|\n",
      "|            false|\n",
      "|            false|\n",
      "|            false|\n",
      "|            false|\n",
      "|            false|\n",
      "|            false|\n",
      "|            false|\n",
      "|            false|\n",
      "|            false|\n",
      "|            false|\n",
      "|            false|\n",
      "|            false|\n",
      "|            false|\n",
      "|            false|\n",
      "|            false|\n",
      "|            false|\n",
      "|            false|\n",
      "|            false|\n",
      "|            false|\n",
      "|            false|\n",
      "|            false|\n",
      "|            false|\n",
      "|            false|\n",
      "|            false|\n",
      "|            false|\n",
      "|            false|\n",
      "|            false|\n",
      "|            false|\n",
      "|            false|\n",
      "|            false|\n",
      "|            false|\n",
      "|            false|\n",
      "|            false|\n",
      "|            false|\n",
      "|            false|\n",
      "|            false|\n",
      "|            false|\n",
      "|            false|\n",
      "|            false|\n",
      "|            false|\n",
      "|            false|\n",
      "|            false|\n",
      "|            false|\n",
      "|            false|\n",
      "|            false|\n",
      "|            false|\n",
      "|            false|\n",
      "|            false|\n",
      "|            false|\n",
      "|            false|\n",
      "|            false|\n",
      "|            false|\n",
      "|            false|\n",
      "|            false|\n",
      "|             true|\n",
      "|             true|\n",
      "|             true|\n",
      "|             true|\n",
      "|             true|\n",
      "|             true|\n",
      "|             true|\n",
      "|             true|\n",
      "|             true|\n",
      "|             true|\n",
      "|             true|\n",
      "|             true|\n",
      "|             true|\n",
      "|             true|\n",
      "|             true|\n",
      "|             true|\n",
      "|             true|\n",
      "|             true|\n",
      "|             true|\n",
      "|             true|\n",
      "|             true|\n",
      "|             true|\n",
      "|             true|\n",
      "|             true|\n",
      "|             true|\n",
      "|             true|\n",
      "|             true|\n",
      "|             true|\n",
      "|             true|\n",
      "|             true|\n",
      "|             true|\n",
      "|             true|\n",
      "|             true|\n",
      "|             true|\n",
      "|             true|\n",
      "|             true|\n",
      "|             true|\n",
      "|             true|\n",
      "|             true|\n",
      "|             true|\n",
      "|             true|\n",
      "|             true|\n",
      "|             true|\n",
      "|             true|\n",
      "|             true|\n",
      "|             true|\n",
      "|             true|\n",
      "|             true|\n",
      "|             true|\n",
      "|             true|\n",
      "|             true|\n",
      "|             true|\n",
      "|             true|\n",
      "|             true|\n",
      "|             true|\n",
      "|             true|\n",
      "|             true|\n",
      "|             true|\n",
      "|             true|\n",
      "|             true|\n",
      "|             true|\n",
      "|             true|\n",
      "|             true|\n",
      "|             true|\n",
      "|             true|\n",
      "|             true|\n",
      "|             true|\n",
      "|             true|\n",
      "|             true|\n",
      "|             true|\n",
      "|             true|\n",
      "|             true|\n",
      "|             true|\n",
      "|             true|\n",
      "|             true|\n",
      "|             true|\n",
      "|             true|\n",
      "|             true|\n",
      "|             true|\n",
      "|             true|\n",
      "|             true|\n",
      "|             true|\n",
      "|             true|\n",
      "|             true|\n",
      "|             true|\n",
      "|             true|\n",
      "|             true|\n",
      "|             true|\n",
      "|             true|\n",
      "|             true|\n",
      "|             true|\n",
      "|             true|\n",
      "|             true|\n",
      "|             true|\n",
      "|             true|\n",
      "|             true|\n",
      "|             true|\n",
      "|             true|\n",
      "|             true|\n",
      "|             true|\n",
      "|             true|\n",
      "|             true|\n",
      "|             true|\n",
      "|             true|\n",
      "|             true|\n",
      "|             true|\n",
      "|             true|\n",
      "|             true|\n",
      "|             true|\n",
      "|             true|\n",
      "|             true|\n",
      "|             true|\n",
      "|             true|\n",
      "|             true|\n",
      "|             true|\n",
      "|             true|\n",
      "|             true|\n",
      "|             true|\n",
      "|             true|\n",
      "|             true|\n",
      "|             true|\n",
      "|             true|\n",
      "|             true|\n",
      "|             true|\n",
      "|             true|\n",
      "|             true|\n",
      "|             true|\n",
      "|             true|\n",
      "|             true|\n",
      "|             true|\n",
      "|             true|\n",
      "|             true|\n",
      "|             true|\n",
      "|             true|\n",
      "|             true|\n",
      "|             true|\n",
      "|             true|\n",
      "|             true|\n",
      "|             true|\n",
      "|             true|\n",
      "|             true|\n",
      "|             true|\n",
      "|             true|\n",
      "|             true|\n",
      "|             true|\n",
      "|             true|\n",
      "|             true|\n",
      "|             true|\n",
      "|             true|\n",
      "|             true|\n",
      "|             true|\n",
      "|             true|\n",
      "|             true|\n",
      "|             true|\n",
      "|             true|\n",
      "|             true|\n",
      "|             true|\n",
      "|             true|\n",
      "|             true|\n",
      "|             true|\n",
      "|             true|\n",
      "|             true|\n",
      "|             true|\n",
      "|             true|\n",
      "|             true|\n",
      "|             true|\n",
      "|             true|\n",
      "|             true|\n",
      "|             true|\n",
      "|             true|\n",
      "|             true|\n",
      "|             true|\n",
      "|             true|\n",
      "|             true|\n",
      "|             true|\n",
      "|             true|\n",
      "|             true|\n",
      "|             true|\n",
      "|             true|\n",
      "|             true|\n",
      "|             true|\n",
      "|             true|\n",
      "|             true|\n",
      "|             true|\n",
      "|             true|\n",
      "|             true|\n",
      "|             true|\n",
      "|             true|\n",
      "|             true|\n",
      "|             true|\n",
      "|             true|\n",
      "|             true|\n",
      "|             true|\n",
      "|             true|\n",
      "|             true|\n",
      "|             true|\n",
      "|             true|\n",
      "|             true|\n",
      "|             true|\n",
      "|             true|\n",
      "|             true|\n",
      "|             true|\n",
      "|             true|\n",
      "|             true|\n",
      "|             true|\n",
      "|             true|\n",
      "|             true|\n",
      "|             true|\n",
      "|             true|\n",
      "|             true|\n",
      "|             true|\n",
      "|             true|\n",
      "|             true|\n",
      "|             true|\n",
      "|             true|\n",
      "|             true|\n",
      "|             true|\n",
      "|             true|\n",
      "|             true|\n",
      "|             true|\n",
      "|             true|\n",
      "|             true|\n",
      "|             true|\n",
      "|             true|\n",
      "|             true|\n",
      "|             true|\n",
      "|             true|\n",
      "|             true|\n",
      "|             true|\n",
      "|             true|\n",
      "|             true|\n",
      "|             true|\n",
      "|             true|\n",
      "|             true|\n",
      "|             true|\n",
      "|             true|\n",
      "|             true|\n",
      "|             true|\n",
      "|             true|\n",
      "|             true|\n",
      "|             true|\n",
      "|             true|\n",
      "|             true|\n",
      "|             true|\n",
      "|             true|\n",
      "|             true|\n",
      "|             true|\n",
      "|             true|\n",
      "|             true|\n",
      "|             true|\n",
      "|             true|\n",
      "|             true|\n",
      "|             true|\n",
      "|             true|\n",
      "|             true|\n",
      "|             true|\n",
      "|             true|\n",
      "|             true|\n",
      "|             true|\n",
      "|             true|\n",
      "|             true|\n",
      "|             true|\n",
      "|             true|\n",
      "|             true|\n",
      "|             true|\n",
      "|             true|\n",
      "|             true|\n",
      "|             true|\n",
      "|             true|\n",
      "|             true|\n",
      "|             true|\n",
      "|             true|\n",
      "|             true|\n",
      "|             true|\n",
      "|             true|\n",
      "|             true|\n",
      "|             true|\n",
      "|             true|\n",
      "|             true|\n",
      "|             true|\n",
      "|             true|\n",
      "|             true|\n",
      "|             true|\n",
      "|             true|\n",
      "|             true|\n",
      "|             true|\n",
      "|             true|\n",
      "|             true|\n",
      "|             true|\n",
      "|             true|\n",
      "|             true|\n",
      "|             true|\n",
      "|             true|\n",
      "|             true|\n",
      "|             true|\n",
      "|             true|\n",
      "|             true|\n",
      "|             true|\n",
      "|             true|\n",
      "|             true|\n",
      "|             true|\n",
      "|             true|\n",
      "|             true|\n",
      "|             true|\n",
      "|             true|\n",
      "|             true|\n",
      "|             true|\n",
      "|             true|\n",
      "|             true|\n",
      "|             true|\n",
      "|             true|\n",
      "|             true|\n",
      "|             true|\n",
      "|             true|\n",
      "|             true|\n",
      "|             true|\n",
      "|             true|\n",
      "|             true|\n",
      "|             true|\n",
      "|             true|\n",
      "|             true|\n",
      "|             true|\n",
      "|             true|\n",
      "|             true|\n",
      "|             true|\n",
      "|             true|\n",
      "|             true|\n",
      "|             true|\n",
      "|             true|\n",
      "|             true|\n",
      "|             true|\n",
      "|             true|\n",
      "|             true|\n",
      "|             true|\n",
      "|             true|\n",
      "|             true|\n",
      "|             true|\n",
      "|             true|\n",
      "|             true|\n",
      "|             true|\n",
      "|             true|\n",
      "|             true|\n",
      "|             true|\n",
      "|             true|\n",
      "|             true|\n",
      "|             true|\n",
      "|             true|\n",
      "|             true|\n",
      "|             true|\n",
      "|             true|\n",
      "|             true|\n",
      "|             true|\n",
      "|             true|\n",
      "|             true|\n",
      "|             true|\n",
      "|             true|\n",
      "|             true|\n",
      "|             true|\n",
      "|             true|\n",
      "|             true|\n",
      "|             true|\n",
      "|             true|\n",
      "|             true|\n",
      "|             true|\n",
      "|             true|\n",
      "|             true|\n",
      "|             true|\n",
      "|             true|\n",
      "|             true|\n",
      "|             true|\n",
      "|             true|\n",
      "|             true|\n",
      "|             true|\n",
      "|             true|\n",
      "|             true|\n",
      "|             true|\n",
      "|             true|\n",
      "|             true|\n",
      "|             true|\n",
      "|             true|\n",
      "|             true|\n",
      "|             true|\n",
      "|             true|\n",
      "|             true|\n",
      "|             true|\n",
      "|             true|\n",
      "|             true|\n",
      "|             true|\n",
      "|             true|\n",
      "|             true|\n",
      "|             true|\n",
      "|             true|\n",
      "|             true|\n",
      "|             true|\n",
      "|             true|\n",
      "|             true|\n",
      "|             true|\n",
      "|             true|\n",
      "|             true|\n",
      "|             true|\n",
      "|             true|\n",
      "|             true|\n",
      "|             true|\n",
      "|             true|\n",
      "|             true|\n",
      "|             true|\n",
      "|             true|\n",
      "|             true|\n",
      "|             true|\n",
      "|             true|\n",
      "|             true|\n",
      "|             true|\n",
      "|             true|\n",
      "|             true|\n",
      "|             true|\n",
      "|             true|\n",
      "|             true|\n",
      "|             true|\n",
      "|             true|\n",
      "|            false|\n",
      "|            false|\n",
      "|            false|\n",
      "|            false|\n",
      "|            false|\n",
      "|            false|\n",
      "|            false|\n",
      "|            false|\n",
      "|            false|\n",
      "|            false|\n",
      "|            false|\n",
      "|            false|\n",
      "|            false|\n",
      "|            false|\n",
      "|            false|\n",
      "|            false|\n",
      "|            false|\n",
      "|            false|\n",
      "|            false|\n",
      "|            false|\n",
      "|            false|\n",
      "|            false|\n",
      "|            false|\n",
      "|            false|\n",
      "|            false|\n",
      "|            false|\n",
      "|            false|\n",
      "|            false|\n",
      "|            false|\n",
      "|            false|\n",
      "|            false|\n",
      "|            false|\n",
      "|            false|\n",
      "|            false|\n",
      "|            false|\n",
      "|            false|\n",
      "|            false|\n",
      "|            false|\n",
      "|            false|\n",
      "|            false|\n",
      "|            false|\n",
      "|            false|\n",
      "|            false|\n",
      "|            false|\n",
      "|            false|\n",
      "|            false|\n",
      "|            false|\n",
      "|            false|\n",
      "|            false|\n",
      "|            false|\n",
      "|            false|\n",
      "|            false|\n",
      "|            false|\n",
      "|            false|\n",
      "|            false|\n",
      "|            false|\n",
      "|            false|\n",
      "|            false|\n",
      "|            false|\n",
      "|            false|\n",
      "|            false|\n",
      "|            false|\n",
      "|            false|\n",
      "|            false|\n",
      "|            false|\n",
      "|            false|\n",
      "|            false|\n",
      "|            false|\n",
      "|            false|\n",
      "|            false|\n",
      "|            false|\n",
      "|            false|\n",
      "|            false|\n",
      "|            false|\n",
      "|            false|\n",
      "|            false|\n",
      "|            false|\n",
      "|            false|\n",
      "|            false|\n",
      "|            false|\n",
      "|            false|\n",
      "|            false|\n",
      "|            false|\n",
      "|            false|\n",
      "|            false|\n",
      "|            false|\n",
      "|            false|\n",
      "|            false|\n",
      "|            false|\n",
      "|            false|\n",
      "|            false|\n",
      "|            false|\n",
      "|            false|\n",
      "|            false|\n",
      "|            false|\n",
      "|            false|\n",
      "|            false|\n",
      "|            false|\n",
      "|            false|\n",
      "|            false|\n",
      "|             true|\n",
      "|             true|\n",
      "|             true|\n",
      "|             true|\n",
      "|             true|\n",
      "|             true|\n",
      "|             true|\n",
      "|             true|\n",
      "|             true|\n",
      "|             true|\n",
      "|             true|\n",
      "|             true|\n",
      "|             true|\n",
      "|             true|\n",
      "|             true|\n",
      "|             true|\n",
      "|             true|\n",
      "|             true|\n",
      "|             true|\n",
      "|             true|\n",
      "|             true|\n",
      "|             true|\n",
      "|             true|\n",
      "|             true|\n",
      "|             true|\n",
      "|             true|\n",
      "|             true|\n",
      "|             true|\n",
      "|             true|\n",
      "|             true|\n",
      "|             true|\n",
      "|             true|\n",
      "|             true|\n",
      "|             true|\n",
      "|             true|\n",
      "|             true|\n",
      "|             true|\n",
      "|             true|\n",
      "|             true|\n",
      "|             true|\n",
      "|             true|\n",
      "|             true|\n",
      "|             true|\n",
      "|             true|\n",
      "|             true|\n",
      "|             true|\n",
      "|             true|\n",
      "|             true|\n",
      "|             true|\n",
      "|             true|\n",
      "|             true|\n",
      "|             true|\n",
      "|             true|\n",
      "|             true|\n",
      "|             true|\n",
      "|             true|\n",
      "|             true|\n",
      "|             true|\n",
      "|             true|\n",
      "|             true|\n",
      "|             true|\n",
      "|             true|\n",
      "|             true|\n",
      "|             true|\n",
      "|             true|\n",
      "|             true|\n",
      "|             true|\n",
      "|             true|\n",
      "|             true|\n",
      "|             true|\n",
      "|             true|\n",
      "|             true|\n",
      "|             true|\n",
      "|             true|\n",
      "|             true|\n",
      "|             true|\n",
      "|             true|\n",
      "|             true|\n",
      "|             true|\n",
      "|             true|\n",
      "|             true|\n",
      "|             true|\n",
      "|             true|\n",
      "|             true|\n",
      "|             true|\n",
      "|             true|\n",
      "|             true|\n",
      "|             true|\n",
      "|             true|\n",
      "|             true|\n",
      "|             true|\n",
      "|             true|\n",
      "|             true|\n",
      "|             true|\n",
      "|             true|\n",
      "|             true|\n",
      "|             true|\n",
      "|             true|\n",
      "|             true|\n",
      "|             true|\n",
      "|             true|\n",
      "|             true|\n",
      "|             true|\n",
      "|             true|\n",
      "|             true|\n",
      "|             true|\n",
      "|             true|\n",
      "|             true|\n",
      "|             true|\n",
      "|             true|\n",
      "|             true|\n",
      "|             true|\n",
      "|             true|\n",
      "|             true|\n",
      "|             true|\n",
      "|             true|\n",
      "|             true|\n",
      "|             true|\n",
      "|             true|\n",
      "|             true|\n",
      "|             true|\n",
      "|             true|\n",
      "|             true|\n",
      "|             true|\n",
      "|             true|\n",
      "|             true|\n",
      "|             true|\n",
      "|             true|\n",
      "|             true|\n",
      "|             true|\n",
      "|             true|\n",
      "|             true|\n",
      "|             true|\n",
      "|             true|\n",
      "|             true|\n",
      "|             true|\n",
      "|             true|\n",
      "|             true|\n",
      "|             true|\n",
      "|             true|\n",
      "|             true|\n",
      "|             true|\n",
      "|             true|\n",
      "|             true|\n",
      "|             true|\n",
      "|             true|\n",
      "|             true|\n",
      "|             true|\n",
      "|             true|\n",
      "|             true|\n",
      "|             true|\n",
      "|             true|\n",
      "|             true|\n",
      "|             true|\n",
      "|             true|\n",
      "|             true|\n",
      "|             true|\n",
      "|             true|\n",
      "|             true|\n",
      "|             true|\n",
      "|             true|\n",
      "|             true|\n",
      "|             true|\n",
      "|             true|\n",
      "|             true|\n",
      "|             true|\n",
      "|             true|\n",
      "|             true|\n",
      "|             true|\n",
      "|             true|\n",
      "|             true|\n",
      "|             true|\n",
      "|             true|\n",
      "|             true|\n",
      "|             true|\n",
      "|             true|\n",
      "|             true|\n",
      "|             true|\n",
      "|             true|\n",
      "|             true|\n",
      "|             true|\n",
      "|             true|\n",
      "|             true|\n",
      "|             true|\n",
      "|             true|\n",
      "|             true|\n",
      "|             true|\n",
      "|             true|\n",
      "|             true|\n",
      "|             true|\n",
      "|             true|\n",
      "|             true|\n",
      "|             true|\n",
      "|             true|\n",
      "|             true|\n",
      "|             true|\n",
      "|             true|\n",
      "|             true|\n",
      "|             true|\n",
      "|             true|\n",
      "|             true|\n",
      "|             true|\n",
      "|             true|\n",
      "|             true|\n",
      "|             true|\n",
      "|             true|\n",
      "|             true|\n",
      "|             true|\n",
      "|             true|\n",
      "|             true|\n",
      "|             true|\n",
      "|             true|\n",
      "|             true|\n",
      "|             true|\n",
      "|             true|\n",
      "|             true|\n",
      "|             true|\n",
      "|             true|\n",
      "|             true|\n",
      "|             true|\n",
      "|             true|\n",
      "|             true|\n",
      "|             true|\n",
      "|             true|\n",
      "|             true|\n",
      "|             true|\n",
      "|             true|\n",
      "|             true|\n",
      "|             true|\n",
      "|             true|\n",
      "|             true|\n",
      "|             true|\n",
      "|             true|\n",
      "|             true|\n",
      "|             true|\n",
      "|             true|\n",
      "|             true|\n",
      "|             true|\n",
      "|             true|\n",
      "|             true|\n",
      "|             true|\n",
      "|             true|\n",
      "|             true|\n",
      "|             true|\n",
      "|             true|\n",
      "|             true|\n",
      "|             true|\n",
      "|             true|\n",
      "|             true|\n",
      "|             true|\n",
      "|             true|\n",
      "|             true|\n",
      "|             true|\n",
      "|             true|\n",
      "|             true|\n",
      "|             true|\n",
      "|             true|\n",
      "|             true|\n",
      "|             true|\n",
      "|             true|\n",
      "|             true|\n",
      "|             true|\n",
      "|             true|\n",
      "|             true|\n",
      "|             true|\n",
      "|             true|\n",
      "|             true|\n",
      "|             true|\n",
      "|             true|\n",
      "|             true|\n",
      "|             true|\n",
      "|             true|\n",
      "|             true|\n",
      "|             true|\n",
      "|             true|\n",
      "|             true|\n",
      "|             true|\n",
      "|             true|\n",
      "|             true|\n",
      "|             true|\n",
      "|             true|\n",
      "|             true|\n",
      "|             true|\n",
      "|             true|\n",
      "|             true|\n",
      "|             true|\n",
      "|             true|\n",
      "|             true|\n",
      "|             true|\n",
      "|             true|\n",
      "|             true|\n",
      "|             true|\n",
      "|             true|\n",
      "|             true|\n",
      "|             true|\n",
      "|             true|\n",
      "|             true|\n",
      "|             true|\n",
      "|             true|\n",
      "|             true|\n",
      "|             true|\n",
      "|             true|\n",
      "|             true|\n",
      "|             true|\n",
      "|             true|\n",
      "|             true|\n",
      "|             true|\n",
      "|             true|\n",
      "|             true|\n",
      "|             true|\n",
      "|             true|\n",
      "|             true|\n",
      "|             true|\n",
      "|             true|\n",
      "|             true|\n",
      "|             true|\n",
      "|             true|\n",
      "|             true|\n",
      "|             true|\n",
      "|             true|\n",
      "|             true|\n",
      "|             true|\n",
      "|             true|\n",
      "|             true|\n",
      "|             true|\n",
      "|             true|\n",
      "|             true|\n",
      "|             true|\n",
      "|             true|\n",
      "|             true|\n",
      "|             true|\n",
      "|             true|\n",
      "|             true|\n",
      "|             true|\n",
      "|             true|\n",
      "|             true|\n",
      "|             true|\n",
      "|             true|\n",
      "|             true|\n",
      "|             true|\n",
      "|             true|\n",
      "|             true|\n",
      "|             true|\n",
      "|             true|\n",
      "|             true|\n",
      "|             true|\n",
      "|             true|\n",
      "|             true|\n",
      "|             true|\n",
      "|             true|\n",
      "|             true|\n",
      "|             true|\n",
      "|             true|\n",
      "|             true|\n",
      "|             true|\n",
      "|             true|\n",
      "|             true|\n",
      "|             true|\n",
      "|             true|\n",
      "|             true|\n",
      "|             true|\n",
      "|             true|\n",
      "|             true|\n",
      "|             true|\n",
      "|             true|\n",
      "|             true|\n",
      "|             true|\n",
      "|             true|\n",
      "|             true|\n",
      "|             true|\n",
      "|             true|\n",
      "|             true|\n",
      "|             true|\n",
      "|             true|\n",
      "|             true|\n",
      "|             true|\n",
      "|             true|\n",
      "|             true|\n",
      "|             true|\n",
      "|             true|\n",
      "|             true|\n",
      "|             true|\n",
      "|             true|\n",
      "|             true|\n",
      "|             true|\n",
      "|             true|\n",
      "|             true|\n",
      "|             true|\n",
      "|             true|\n",
      "|             true|\n",
      "|             true|\n",
      "|             true|\n",
      "|             true|\n",
      "|             true|\n",
      "|             true|\n",
      "|             true|\n",
      "|             true|\n",
      "|             true|\n",
      "|             true|\n",
      "|             true|\n",
      "|             true|\n",
      "|             true|\n",
      "|             true|\n",
      "|             true|\n",
      "|             true|\n",
      "|             true|\n",
      "|             true|\n",
      "|             true|\n",
      "|             true|\n",
      "|             true|\n",
      "|             true|\n",
      "|             true|\n",
      "|             true|\n",
      "|             true|\n",
      "|             true|\n",
      "|             true|\n",
      "|             true|\n",
      "|             true|\n",
      "|            false|\n",
      "|            false|\n",
      "|            false|\n",
      "|            false|\n",
      "|            false|\n",
      "|            false|\n",
      "|            false|\n",
      "|            false|\n",
      "|            false|\n",
      "|            false|\n",
      "|            false|\n",
      "|            false|\n",
      "|            false|\n",
      "|            false|\n",
      "|            false|\n",
      "|            false|\n",
      "|            false|\n",
      "|            false|\n",
      "|            false|\n",
      "|            false|\n",
      "|            false|\n",
      "|            false|\n",
      "|            false|\n",
      "|            false|\n",
      "|            false|\n",
      "|            false|\n",
      "|            false|\n",
      "|            false|\n",
      "|            false|\n",
      "|            false|\n",
      "|            false|\n",
      "|            false|\n",
      "|            false|\n",
      "|            false|\n",
      "|            false|\n",
      "|            false|\n",
      "|            false|\n",
      "|            false|\n",
      "|            false|\n",
      "|            false|\n",
      "|            false|\n",
      "|            false|\n",
      "|            false|\n",
      "|            false|\n",
      "|            false|\n",
      "|            false|\n",
      "|            false|\n",
      "|            false|\n",
      "|            false|\n",
      "|            false|\n",
      "|            false|\n",
      "|            false|\n",
      "|            false|\n",
      "|            false|\n",
      "|            false|\n",
      "|            false|\n",
      "|            false|\n",
      "|            false|\n",
      "|            false|\n",
      "|            false|\n",
      "|            false|\n",
      "|            false|\n",
      "|            false|\n",
      "|            false|\n",
      "|            false|\n",
      "|            false|\n",
      "|            false|\n",
      "|            false|\n",
      "|            false|\n",
      "|            false|\n",
      "|            false|\n",
      "|            false|\n",
      "|            false|\n",
      "|            false|\n",
      "|            false|\n",
      "|            false|\n",
      "|            false|\n",
      "|            false|\n",
      "|            false|\n",
      "|            false|\n",
      "|            false|\n",
      "|            false|\n",
      "|            false|\n",
      "|            false|\n",
      "|            false|\n",
      "|            false|\n",
      "|            false|\n",
      "|            false|\n",
      "|            false|\n",
      "|            false|\n",
      "|            false|\n",
      "|            false|\n",
      "|            false|\n",
      "|            false|\n",
      "|            false|\n",
      "|            false|\n",
      "|            false|\n",
      "|            false|\n",
      "|            false|\n",
      "|            false|\n",
      "|             true|\n",
      "|             true|\n",
      "|             true|\n",
      "|             true|\n",
      "|             true|\n",
      "|             true|\n",
      "|             true|\n",
      "|             true|\n",
      "|             true|\n",
      "|             true|\n",
      "|             true|\n",
      "|             true|\n",
      "|             true|\n",
      "|             true|\n",
      "|             true|\n",
      "|             true|\n",
      "|             true|\n",
      "|             true|\n",
      "|             true|\n",
      "|             true|\n",
      "|             true|\n",
      "|             true|\n",
      "|             true|\n",
      "|             true|\n",
      "|             true|\n",
      "|             true|\n",
      "|             true|\n",
      "|             true|\n",
      "|             true|\n",
      "|             true|\n",
      "|             true|\n",
      "|             true|\n",
      "|             true|\n",
      "|             true|\n",
      "|             true|\n",
      "|             true|\n",
      "|             true|\n",
      "|             true|\n",
      "|             true|\n",
      "|             true|\n",
      "|             true|\n",
      "|             true|\n",
      "|             true|\n",
      "|             true|\n",
      "|             true|\n",
      "|             true|\n",
      "|             true|\n",
      "|             true|\n",
      "|             true|\n",
      "|             true|\n",
      "|             true|\n",
      "|             true|\n",
      "|             true|\n",
      "|             true|\n",
      "|             true|\n",
      "|             true|\n",
      "|             true|\n",
      "|             true|\n",
      "|             true|\n",
      "|             true|\n",
      "|             true|\n",
      "|             true|\n",
      "|             true|\n",
      "|             true|\n",
      "|             true|\n",
      "|             true|\n",
      "|             true|\n",
      "|             true|\n",
      "|             true|\n",
      "|             true|\n",
      "|             true|\n",
      "|             true|\n",
      "|             true|\n",
      "|             true|\n",
      "|             true|\n",
      "|             true|\n",
      "|             true|\n",
      "|             true|\n",
      "|             true|\n",
      "|             true|\n",
      "|             true|\n",
      "|             true|\n",
      "|             true|\n",
      "|             true|\n",
      "|             true|\n",
      "|             true|\n",
      "|             true|\n",
      "|             true|\n",
      "|             true|\n",
      "|             true|\n",
      "|             true|\n",
      "|             true|\n",
      "|             true|\n",
      "|             true|\n",
      "|             true|\n",
      "|             true|\n",
      "|             true|\n",
      "|             true|\n",
      "|             true|\n",
      "|             true|\n",
      "|             true|\n",
      "|             true|\n",
      "|             true|\n",
      "|             true|\n",
      "|             true|\n",
      "|             true|\n",
      "|             true|\n",
      "|             true|\n",
      "|             true|\n",
      "|             true|\n",
      "|             true|\n",
      "|             true|\n",
      "|             true|\n",
      "|             true|\n",
      "|             true|\n",
      "|             true|\n",
      "|             true|\n",
      "|             true|\n",
      "|             true|\n",
      "|             true|\n",
      "|             true|\n",
      "|             true|\n",
      "|             true|\n",
      "|             true|\n",
      "|             true|\n",
      "|             true|\n",
      "|             true|\n",
      "|             true|\n",
      "|             true|\n",
      "|             true|\n",
      "|             true|\n",
      "|             true|\n",
      "|             true|\n",
      "|             true|\n",
      "|             true|\n",
      "|             true|\n",
      "|             true|\n",
      "|             true|\n",
      "|             true|\n",
      "|             true|\n",
      "|             true|\n",
      "|             true|\n",
      "|             true|\n",
      "|             true|\n",
      "|             true|\n",
      "|             true|\n",
      "|             true|\n",
      "|             true|\n",
      "|             true|\n",
      "|             true|\n",
      "|             true|\n",
      "|             true|\n",
      "|             true|\n",
      "|             true|\n",
      "|             true|\n",
      "|             true|\n",
      "|             true|\n",
      "|             true|\n",
      "|             true|\n",
      "|             true|\n",
      "|             true|\n",
      "|             true|\n",
      "|             true|\n",
      "|             true|\n",
      "|             true|\n",
      "|             true|\n",
      "|             true|\n",
      "|             true|\n",
      "|             true|\n",
      "|             true|\n",
      "|             true|\n",
      "|             true|\n",
      "|             true|\n",
      "|             true|\n",
      "|             true|\n",
      "|             true|\n",
      "|             true|\n",
      "|             true|\n",
      "|             true|\n",
      "|             true|\n",
      "|             true|\n",
      "|             true|\n",
      "|             true|\n",
      "|             true|\n",
      "|             true|\n",
      "|             true|\n",
      "|             true|\n",
      "|             true|\n",
      "|             true|\n",
      "|             true|\n",
      "|             true|\n",
      "|             true|\n",
      "|             true|\n",
      "|             true|\n",
      "|             true|\n",
      "|             true|\n",
      "|             true|\n",
      "|             true|\n",
      "|             true|\n",
      "|             true|\n",
      "|             true|\n",
      "|             true|\n",
      "|             true|\n",
      "|             true|\n",
      "|             true|\n",
      "|             true|\n",
      "|             true|\n",
      "|             true|\n",
      "|             true|\n",
      "|             true|\n",
      "|             true|\n",
      "|             true|\n",
      "|             true|\n",
      "|             true|\n",
      "|             true|\n",
      "|             true|\n",
      "|             true|\n",
      "|             true|\n",
      "|             true|\n",
      "|             true|\n",
      "|             true|\n",
      "|             true|\n",
      "|             true|\n",
      "|             true|\n",
      "|             true|\n",
      "|             true|\n",
      "|             true|\n",
      "|             true|\n",
      "|             true|\n",
      "|             true|\n",
      "|             true|\n",
      "|             true|\n",
      "|             true|\n",
      "|             true|\n",
      "|             true|\n",
      "|             true|\n",
      "|             true|\n",
      "|             true|\n",
      "|             true|\n",
      "|             true|\n",
      "|             true|\n",
      "|             true|\n",
      "|             true|\n",
      "|             true|\n",
      "|             true|\n",
      "|             true|\n",
      "|             true|\n",
      "|             true|\n",
      "|             true|\n",
      "|             true|\n",
      "|             true|\n",
      "|             true|\n",
      "|             true|\n",
      "|             true|\n",
      "|             true|\n",
      "|             true|\n",
      "|             true|\n",
      "|             true|\n",
      "|             true|\n",
      "|             true|\n",
      "|             true|\n",
      "|             true|\n",
      "|             true|\n",
      "|             true|\n",
      "|             true|\n",
      "|             true|\n",
      "|             true|\n",
      "|             true|\n",
      "|             true|\n",
      "|             true|\n",
      "|             true|\n",
      "|             true|\n",
      "|             true|\n",
      "|             true|\n",
      "|             true|\n",
      "|             true|\n",
      "|             true|\n",
      "|             true|\n",
      "|             true|\n",
      "|             true|\n",
      "|             true|\n",
      "|             true|\n",
      "|             true|\n",
      "|             true|\n",
      "|             true|\n",
      "|             true|\n",
      "|             true|\n",
      "|             true|\n",
      "|             true|\n",
      "|             true|\n",
      "|             true|\n",
      "|             true|\n",
      "|             true|\n",
      "|             true|\n",
      "|             true|\n",
      "|             true|\n",
      "|             true|\n",
      "|             true|\n",
      "|             true|\n",
      "|             true|\n",
      "|             true|\n",
      "|             true|\n",
      "|             true|\n",
      "|             true|\n",
      "|             true|\n",
      "|             true|\n",
      "|             true|\n",
      "|             true|\n",
      "|             true|\n",
      "|             true|\n",
      "|             true|\n",
      "|             true|\n",
      "|             true|\n",
      "|             true|\n",
      "|             true|\n",
      "|             true|\n",
      "|             true|\n",
      "|             true|\n",
      "|             true|\n",
      "|             true|\n",
      "|             true|\n",
      "|             true|\n",
      "|             true|\n",
      "|             true|\n",
      "|             true|\n",
      "|             true|\n",
      "|             true|\n",
      "|             true|\n",
      "|             true|\n",
      "|             true|\n",
      "|             true|\n",
      "|             true|\n",
      "|             true|\n",
      "|             true|\n",
      "|             true|\n",
      "|             true|\n",
      "|             true|\n",
      "|             true|\n",
      "|             true|\n",
      "|             true|\n",
      "|             true|\n",
      "|             true|\n",
      "|             true|\n",
      "|             true|\n",
      "|             true|\n",
      "|             true|\n",
      "|             true|\n",
      "|             true|\n",
      "|             true|\n",
      "|             true|\n",
      "|             true|\n",
      "|             true|\n",
      "|             true|\n",
      "|             true|\n",
      "|             true|\n",
      "|             true|\n",
      "|             true|\n",
      "|             true|\n",
      "|             true|\n",
      "|             true|\n",
      "|             true|\n",
      "|             true|\n",
      "|             true|\n",
      "|             true|\n",
      "|             true|\n",
      "|             true|\n",
      "|             true|\n",
      "|             true|\n",
      "|             true|\n",
      "|             true|\n",
      "|             true|\n",
      "|             true|\n",
      "|             true|\n",
      "|             true|\n",
      "|             true|\n",
      "|             true|\n",
      "|             true|\n",
      "|             true|\n",
      "|             true|\n",
      "|             true|\n",
      "|             true|\n",
      "|             true|\n",
      "|             true|\n",
      "|             true|\n",
      "|             true|\n",
      "|             true|\n",
      "|             true|\n",
      "|             true|\n",
      "|             true|\n",
      "|             true|\n",
      "|             true|\n",
      "|             true|\n",
      "|             true|\n",
      "|             true|\n",
      "|             true|\n",
      "|             true|\n",
      "|             true|\n",
      "|             true|\n",
      "|             true|\n",
      "|             true|\n",
      "|             true|\n",
      "|             true|\n",
      "|             true|\n",
      "|             true|\n",
      "|             true|\n",
      "|             true|\n",
      "|             true|\n",
      "|             true|\n",
      "|             true|\n",
      "|             true|\n",
      "|             true|\n",
      "|             true|\n",
      "|             true|\n",
      "|             true|\n",
      "|             true|\n",
      "|             true|\n",
      "|             true|\n",
      "|             true|\n",
      "|             true|\n",
      "|            false|\n",
      "|            false|\n",
      "|            false|\n",
      "|            false|\n",
      "|            false|\n",
      "|            false|\n",
      "|            false|\n",
      "|            false|\n",
      "|            false|\n",
      "|            false|\n",
      "|            false|\n",
      "|            false|\n",
      "|            false|\n",
      "|            false|\n",
      "|            false|\n",
      "|            false|\n",
      "|            false|\n",
      "|            false|\n",
      "|            false|\n",
      "|            false|\n",
      "|            false|\n",
      "|            false|\n",
      "|            false|\n",
      "|            false|\n",
      "|            false|\n",
      "|            false|\n",
      "|            false|\n",
      "|            false|\n",
      "|            false|\n",
      "|            false|\n",
      "|            false|\n",
      "|            false|\n",
      "|            false|\n",
      "|            false|\n",
      "|            false|\n",
      "|            false|\n",
      "|            false|\n",
      "|            false|\n",
      "|            false|\n",
      "|            false|\n",
      "|            false|\n",
      "|            false|\n",
      "|            false|\n",
      "|            false|\n",
      "|            false|\n",
      "|            false|\n",
      "|            false|\n",
      "|            false|\n",
      "|            false|\n",
      "|            false|\n",
      "|            false|\n",
      "|            false|\n",
      "|            false|\n",
      "|            false|\n",
      "|            false|\n",
      "|            false|\n",
      "|            false|\n",
      "|            false|\n",
      "|            false|\n",
      "|            false|\n",
      "|            false|\n",
      "|            false|\n",
      "|            false|\n",
      "|            false|\n",
      "|            false|\n",
      "|            false|\n",
      "|            false|\n",
      "|            false|\n",
      "|            false|\n",
      "|            false|\n",
      "|            false|\n",
      "|            false|\n",
      "|            false|\n",
      "|            false|\n",
      "|            false|\n",
      "|            false|\n",
      "|            false|\n",
      "|            false|\n",
      "|            false|\n",
      "|            false|\n",
      "|            false|\n",
      "|            false|\n",
      "|            false|\n",
      "|            false|\n",
      "|            false|\n",
      "|            false|\n",
      "|            false|\n",
      "|            false|\n",
      "|            false|\n",
      "|            false|\n",
      "|            false|\n",
      "|            false|\n",
      "|            false|\n",
      "|            false|\n",
      "|            false|\n",
      "|            false|\n",
      "|            false|\n",
      "|            false|\n",
      "|            false|\n",
      "|            false|\n",
      "|             true|\n",
      "|             true|\n",
      "|             true|\n",
      "|             true|\n",
      "|             true|\n",
      "|             true|\n",
      "|             true|\n",
      "|             true|\n",
      "|             true|\n",
      "|             true|\n",
      "|             true|\n",
      "|             true|\n",
      "|             true|\n",
      "|             true|\n",
      "|             true|\n",
      "|             true|\n",
      "|             true|\n",
      "|             true|\n",
      "|             true|\n",
      "|             true|\n",
      "|             true|\n",
      "|             true|\n",
      "|             true|\n",
      "|             true|\n",
      "|             true|\n",
      "|             true|\n",
      "|             true|\n",
      "|             true|\n",
      "|             true|\n",
      "|             true|\n",
      "|             true|\n",
      "|             true|\n",
      "|             true|\n",
      "|             true|\n",
      "|             true|\n",
      "|             true|\n",
      "|             true|\n",
      "|             true|\n",
      "|             true|\n",
      "|             true|\n",
      "|             true|\n",
      "|             true|\n",
      "|             true|\n",
      "|             true|\n",
      "|             true|\n",
      "|             true|\n",
      "|             true|\n",
      "|             true|\n",
      "|             true|\n",
      "|             true|\n",
      "|             true|\n",
      "|             true|\n",
      "|             true|\n",
      "|             true|\n",
      "|             true|\n",
      "|             true|\n",
      "|             true|\n",
      "|             true|\n",
      "|             true|\n",
      "|             true|\n",
      "|             true|\n",
      "|             true|\n",
      "|             true|\n",
      "|             true|\n",
      "|             true|\n",
      "|             true|\n",
      "|             true|\n",
      "|             true|\n",
      "|             true|\n",
      "|             true|\n",
      "|             true|\n",
      "|             true|\n",
      "|             true|\n",
      "|             true|\n",
      "|             true|\n",
      "|             true|\n",
      "|             true|\n",
      "|             true|\n",
      "|             true|\n",
      "|             true|\n",
      "|             true|\n",
      "|             true|\n",
      "|             true|\n",
      "|             true|\n",
      "|             true|\n",
      "|             true|\n",
      "|             true|\n",
      "|             true|\n",
      "|             true|\n",
      "|             true|\n",
      "|             true|\n",
      "|             true|\n",
      "|             true|\n",
      "|             true|\n",
      "|             true|\n",
      "|             true|\n",
      "|             true|\n",
      "|             true|\n",
      "|             true|\n",
      "|             true|\n",
      "|             true|\n",
      "|             true|\n",
      "|             true|\n",
      "|             true|\n",
      "|             true|\n",
      "|             true|\n",
      "|             true|\n",
      "|             true|\n",
      "|             true|\n",
      "|             true|\n",
      "|             true|\n",
      "|             true|\n",
      "|             true|\n",
      "|             true|\n",
      "|             true|\n",
      "|             true|\n",
      "|             true|\n",
      "|             true|\n",
      "|             true|\n",
      "|             true|\n",
      "|             true|\n",
      "|             true|\n",
      "|             true|\n",
      "|             true|\n",
      "|             true|\n",
      "|             true|\n",
      "|             true|\n",
      "|             true|\n",
      "|             true|\n",
      "|             true|\n",
      "|             true|\n",
      "|             true|\n",
      "|             true|\n",
      "|             true|\n",
      "|             true|\n",
      "|             true|\n",
      "|             true|\n",
      "|             true|\n",
      "|             true|\n",
      "|             true|\n",
      "|             true|\n",
      "|             true|\n",
      "|             true|\n",
      "|             true|\n",
      "|             true|\n",
      "|             true|\n",
      "|             true|\n",
      "|             true|\n",
      "|             true|\n",
      "|             true|\n",
      "|             true|\n",
      "|             true|\n",
      "|             true|\n",
      "|             true|\n",
      "|             true|\n",
      "|             true|\n",
      "|             true|\n",
      "|             true|\n",
      "|             true|\n",
      "|             true|\n",
      "|             true|\n",
      "|             true|\n",
      "|             true|\n",
      "|             true|\n",
      "|             true|\n",
      "|             true|\n",
      "|             true|\n",
      "|             true|\n",
      "|             true|\n",
      "|             true|\n",
      "|             true|\n",
      "|             true|\n",
      "|             true|\n",
      "|             true|\n",
      "|             true|\n",
      "|             true|\n",
      "|             true|\n",
      "|             true|\n",
      "|             true|\n",
      "|             true|\n",
      "|             true|\n",
      "|             true|\n",
      "|             true|\n",
      "|             true|\n",
      "|             true|\n",
      "|             true|\n",
      "|             true|\n",
      "|             true|\n",
      "|             true|\n",
      "|             true|\n",
      "|             true|\n",
      "|             true|\n",
      "|             true|\n",
      "|             true|\n",
      "|             true|\n",
      "|             true|\n",
      "|             true|\n",
      "|             true|\n",
      "|             true|\n",
      "|             true|\n",
      "|             true|\n",
      "|             true|\n",
      "|             true|\n",
      "|             true|\n",
      "|             true|\n",
      "|             true|\n",
      "|             true|\n",
      "|             true|\n",
      "|             true|\n",
      "|             true|\n",
      "|             true|\n",
      "|             true|\n",
      "|             true|\n",
      "|             true|\n",
      "|             true|\n",
      "|             true|\n",
      "|             true|\n",
      "|             true|\n",
      "|             true|\n",
      "|             true|\n",
      "|             true|\n",
      "|             true|\n",
      "|             true|\n",
      "|             true|\n",
      "|             true|\n",
      "|             true|\n",
      "|             true|\n",
      "|             true|\n",
      "|             true|\n",
      "|             true|\n",
      "|             true|\n",
      "|             true|\n",
      "|             true|\n",
      "|             true|\n",
      "|             true|\n",
      "|             true|\n",
      "|             true|\n",
      "|             true|\n",
      "|             true|\n",
      "|             true|\n",
      "|             true|\n",
      "|             true|\n",
      "|             true|\n",
      "|             true|\n",
      "|             true|\n",
      "|             true|\n",
      "|             true|\n",
      "|             true|\n",
      "|             true|\n",
      "|             true|\n",
      "|             true|\n",
      "|             true|\n",
      "|             true|\n",
      "|             true|\n",
      "|             true|\n",
      "|             true|\n",
      "|             true|\n",
      "|             true|\n",
      "|             true|\n",
      "|             true|\n",
      "|             true|\n",
      "|             true|\n",
      "|             true|\n",
      "|             true|\n",
      "|             true|\n",
      "|             true|\n",
      "|             true|\n",
      "|             true|\n",
      "|             true|\n",
      "|             true|\n",
      "|             true|\n",
      "|             true|\n",
      "|             true|\n",
      "|             true|\n",
      "|             true|\n",
      "|             true|\n",
      "|             true|\n",
      "|             true|\n",
      "|             true|\n",
      "|             true|\n",
      "|             true|\n",
      "|             true|\n",
      "|             true|\n",
      "|             true|\n",
      "|             true|\n",
      "|             true|\n",
      "|             true|\n",
      "|             true|\n",
      "|             true|\n",
      "|             true|\n",
      "|             true|\n",
      "|             true|\n",
      "|             true|\n",
      "|             true|\n",
      "|             true|\n",
      "|             true|\n",
      "|             true|\n",
      "|             true|\n",
      "|             true|\n",
      "|             true|\n",
      "|             true|\n",
      "|             true|\n",
      "|             true|\n",
      "|             true|\n",
      "|             true|\n",
      "|             true|\n",
      "|             true|\n",
      "|             true|\n",
      "|             true|\n",
      "|             true|\n",
      "|             true|\n",
      "|             true|\n",
      "|             true|\n",
      "|             true|\n",
      "|             true|\n",
      "|             true|\n",
      "|             true|\n",
      "|             true|\n",
      "|             true|\n",
      "|             true|\n",
      "|             true|\n",
      "|             true|\n",
      "|             true|\n",
      "|             true|\n",
      "|             true|\n",
      "|             true|\n",
      "|             true|\n",
      "|             true|\n",
      "|             true|\n",
      "|             true|\n",
      "|             true|\n",
      "|             true|\n",
      "|             true|\n",
      "|             true|\n",
      "|             true|\n",
      "|             true|\n",
      "|             true|\n",
      "|             true|\n",
      "|             true|\n",
      "|             true|\n",
      "|             true|\n",
      "|             true|\n",
      "|             true|\n",
      "|             true|\n",
      "|             true|\n",
      "|             true|\n",
      "|             true|\n",
      "|             true|\n",
      "|             true|\n",
      "|             true|\n",
      "|             true|\n",
      "|             true|\n",
      "|             true|\n",
      "|             true|\n",
      "|             true|\n",
      "|             true|\n",
      "|             true|\n",
      "|             true|\n",
      "|             true|\n",
      "|             true|\n",
      "|             true|\n",
      "|             true|\n",
      "|             true|\n",
      "|             true|\n",
      "|             true|\n",
      "|             true|\n",
      "|             true|\n",
      "|             true|\n",
      "|             true|\n",
      "|             true|\n",
      "|             true|\n",
      "|             true|\n",
      "|             true|\n",
      "|             true|\n",
      "|             true|\n",
      "|             true|\n",
      "|             true|\n",
      "|             true|\n",
      "|             true|\n",
      "|             true|\n",
      "|             true|\n",
      "|             true|\n",
      "|             true|\n",
      "|             true|\n",
      "|             true|\n",
      "|             true|\n",
      "|             true|\n",
      "|             true|\n",
      "|             true|\n",
      "|             true|\n",
      "|             true|\n",
      "|             true|\n",
      "|             true|\n",
      "|             true|\n",
      "|             true|\n",
      "|             true|\n",
      "|             true|\n",
      "|             true|\n",
      "|             true|\n",
      "|             true|\n",
      "|             true|\n",
      "|             true|\n",
      "|             true|\n",
      "|             true|\n",
      "|             true|\n",
      "|             true|\n",
      "|             true|\n",
      "|             true|\n",
      "|             true|\n",
      "|             true|\n",
      "|             true|\n",
      "|             true|\n",
      "|             true|\n",
      "|             true|\n",
      "|             true|\n",
      "|             true|\n",
      "|             true|\n",
      "|             true|\n",
      "|             true|\n",
      "|            false|\n",
      "|            false|\n",
      "|            false|\n",
      "|            false|\n",
      "|            false|\n",
      "|            false|\n",
      "|            false|\n",
      "|            false|\n",
      "|            false|\n",
      "|            false|\n",
      "|            false|\n",
      "|            false|\n",
      "|            false|\n",
      "|            false|\n",
      "|            false|\n",
      "|            false|\n",
      "|            false|\n",
      "|            false|\n",
      "|            false|\n",
      "|            false|\n",
      "|            false|\n",
      "|            false|\n",
      "|            false|\n",
      "|            false|\n",
      "|            false|\n",
      "|            false|\n",
      "|            false|\n",
      "|            false|\n",
      "|            false|\n",
      "|            false|\n",
      "|            false|\n",
      "|            false|\n",
      "|            false|\n",
      "|            false|\n",
      "|            false|\n",
      "|            false|\n",
      "|            false|\n",
      "|            false|\n",
      "|            false|\n",
      "|            false|\n",
      "|            false|\n",
      "|            false|\n",
      "|            false|\n",
      "|            false|\n",
      "|            false|\n",
      "|            false|\n",
      "|            false|\n",
      "|            false|\n",
      "|            false|\n",
      "|            false|\n",
      "|            false|\n",
      "|            false|\n",
      "|            false|\n",
      "|            false|\n",
      "|            false|\n",
      "|            false|\n",
      "|            false|\n",
      "|            false|\n",
      "|            false|\n",
      "|            false|\n",
      "|            false|\n",
      "|            false|\n",
      "|            false|\n",
      "|            false|\n",
      "|            false|\n",
      "|            false|\n",
      "|            false|\n",
      "|            false|\n",
      "|            false|\n",
      "|            false|\n",
      "|            false|\n",
      "|            false|\n",
      "|            false|\n",
      "|            false|\n",
      "+-----------------+\n",
      "\n"
     ]
    }
   ],
   "source": [
    "df1.repartition(5).select(col(\"country\").isNull()).show(2593)"
   ]
  },
  {
   "cell_type": "code",
   "execution_count": 183,
   "metadata": {},
   "outputs": [
    {
     "name": "stdout",
     "output_type": "stream",
     "text": [
      "+---------+--------------+--------------------+------------+---------+--------+---------+---+--------------------+----------+\n",
      "|circuitId|    circuitRef|                name|    location|  country|     lat|      lng|alt|                 url|      date|\n",
      "+---------+--------------+--------------------+------------+---------+--------+---------+---+--------------------+----------+\n",
      "|        1|   albert_park|Albert Park Grand...|   Melbourne|Australia|-37.8497|  144.968| 10|http://en.wikiped...|01-01-2024|\n",
      "|        2|        sepang|Sepang Internatio...|Kuala Lumpur| Malaysia| 2.76083|  101.738| 18|http://en.wikiped...|02-01-2024|\n",
      "|        3|       bahrain|Bahrain Internati...|      Sakhir|  Bahrain| 26.0325|  50.5106|  7|http://en.wikiped...|03-01-2024|\n",
      "|        4|     catalunya|Circuit de Barcel...|    Montmeló|    Spain|   41.57|  2.26111|109|http://en.wikiped...|04-01-2024|\n",
      "|        5|      istanbul|       Istanbul Park|    Istanbul|   Turkey| 40.9517|   29.405|130|http://en.wikiped...|05-01-2024|\n",
      "|        6|        monaco|   Circuit de Monaco| Monte-Carlo|   Monaco| 43.7347|  7.42056|  7|http://en.wikiped...|06-01-2024|\n",
      "|        7|    villeneuve|Circuit Gilles Vi...|    Montreal|   Canada|    45.5| -73.5228| 13|http://en.wikiped...|07-01-2024|\n",
      "|        8|   magny_cours|Circuit de Nevers...| Magny Cours|   France| 46.8642|  3.16361|228|http://en.wikiped...|08-01-2024|\n",
      "|        9|   silverstone| Silverstone Circuit| Silverstone|       UK| 52.0786| -1.01694|153|http://en.wikiped...|09-01-2024|\n",
      "|       10|hockenheimring|      Hockenheimring|  Hockenheim|  Germany| 49.3278|  8.56583|103|http://en.wikiped...|10-01-2024|\n",
      "|       11|   hungaroring|         Hungaroring|    Budapest|  Hungary| 47.5789|  19.2486|264|http://en.wikiped...|11-01-2024|\n",
      "|       12|      valencia|Valencia Street C...|    Valencia|    Spain| 39.4589|-0.331667|  4|http://en.wikiped...|12-01-2024|\n",
      "|       13|           spa|Circuit de Spa-Fr...|         Spa|  Belgium| 50.4372|  5.97139|401|http://en.wikiped...|13-01-2024|\n",
      "|       14|         monza|Autodromo Naziona...|       Monza|    Italy| 45.6156|  9.28111|162|http://en.wikiped...|14-01-2024|\n",
      "|       15|    marina_bay|Marina Bay Street...|  Marina Bay|Singapore|  1.2914|  103.864| 18|http://en.wikiped...|15-01-2024|\n",
      "|       16|          fuji|       Fuji Speedway|       Oyama|    Japan| 35.3717|  138.927|583|http://en.wikiped...|16-01-2024|\n",
      "|       17|      shanghai|Shanghai Internat...|    Shanghai|    China| 31.3389|   121.22|  5|http://en.wikiped...|17-01-2024|\n",
      "|       18|    interlagos|Autódromo José Ca...|   São Paulo|   Brazil|-23.7036| -46.6997|785|http://en.wikiped...|18-01-2024|\n",
      "|       19|  indianapolis|Indianapolis Moto...|Indianapolis|      USA|  39.795| -86.2347|223|http://en.wikiped...|19-01-2024|\n",
      "|       20|   nurburgring|         Nürburgring|     Nürburg|  Germany| 50.3356|   6.9475|578|http://en.wikiped...|20-01-2024|\n",
      "+---------+--------------+--------------------+------------+---------+--------+---------+---+--------------------+----------+\n",
      "only showing top 20 rows\n",
      "\n"
     ]
    }
   ],
   "source": [
    "df2.show()"
   ]
  },
  {
   "cell_type": "code",
   "execution_count": 184,
   "metadata": {},
   "outputs": [
    {
     "data": {
      "text/plain": [
       "DataFrame[alt: string]"
      ]
     },
     "execution_count": 184,
     "metadata": {},
     "output_type": "execute_result"
    }
   ],
   "source": [
    "df2.select(col(\"alt\"))"
   ]
  },
  {
   "cell_type": "code",
   "execution_count": 185,
   "metadata": {},
   "outputs": [],
   "source": [
    "from pyspark.sql import *"
   ]
  },
  {
   "cell_type": "code",
   "execution_count": 193,
   "metadata": {},
   "outputs": [],
   "source": [
    "window_spec = Window.partitionBy(\"country\").orderBy(df2[\"alt\"].asc())"
   ]
  },
  {
   "cell_type": "code",
   "execution_count": 194,
   "metadata": {},
   "outputs": [
    {
     "name": "stdout",
     "output_type": "stream",
     "text": [
      "+---------+--------------+--------------------+--------------+----------+--------+--------+----+--------------------+----------+--------+\n",
      "|circuitId|    circuitRef|                name|      location|   country|     lat|     lng| alt|                 url|      date|alt_rank|\n",
      "+---------+--------------+--------------------+--------------+----------+--------+--------+----+--------------------+----------+--------+\n",
      "|       25|        galvez|Autódromo Juan y ...|  Buenos Aires| Argentina|-34.6943|-58.4593|   8|http://en.wikiped...|25-01-2024|       1|\n",
      "|        1|   albert_park|Albert Park Grand...|     Melbourne| Australia|-37.8497| 144.968|  10|http://en.wikiped...|01-01-2024|       1|\n",
      "|       29|      adelaide|Adelaide Street C...|      Adelaide| Australia|-34.9272| 138.617|  58|http://en.wikiped...|29-01-2024|       2|\n",
      "|       57|       zeltweg|             Zeltweg|        Styria|   Austria| 47.2039| 14.7478| 676|http://en.wikiped...|26-02-2024|       1|\n",
      "|       23|osterreichring|             A1-Ring|     Spielburg|   Austria| 47.2197| 14.7647| 678|http://en.wikiped...|23-01-2024|       2|\n",
      "|       70| red_bull_ring|       Red Bull Ring|     Spielburg|   Austria| 47.2197| 14.7647| 678|http://en.wikiped...|10-03-2024|       2|\n",
      "|       73|           BAK|   Baku City Circuit|          Baku|Azerbaijan| 40.3725| 49.8533|  -7|http://en.wikiped...|13-03-2024|       1|\n",
      "|        3|       bahrain|Bahrain Internati...|        Sakhir|   Bahrain| 26.0325| 50.5106|   7|http://en.wikiped...|03-01-2024|       1|\n",
      "|       50|      nivelles|    Nivelles-Baulers|      Brussels|   Belgium| 50.6211| 4.32694| 139|http://en.wikiped...|19-02-2024|       1|\n",
      "|       40|        zolder|              Zolder|Heusden-Zolder|   Belgium| 50.9894| 5.25694|  36|http://en.wikiped...|09-02-2024|       2|\n",
      "|       13|           spa|Circuit de Spa-Fr...|           Spa|   Belgium| 50.4372| 5.97139| 401|http://en.wikiped...|13-01-2024|       3|\n",
      "|       36|   jacarepagua|Autódromo Interna...|Rio de Janeiro|    Brazil|-22.9756| -43.395|1126|http://en.wikiped...|05-02-2024|       1|\n",
      "|       18|    interlagos|Autódromo José Ca...|     São Paulo|    Brazil|-23.7036|-46.6997| 785|http://en.wikiped...|18-01-2024|       2|\n",
      "|        7|    villeneuve|Circuit Gilles Vi...|      Montreal|    Canada|    45.5|-73.5228|  13|http://en.wikiped...|07-01-2024|       1|\n",
      "|       52|     tremblant|Circuit Mont-Trem...|        Quebec|    Canada| 46.1877|-74.6099| 214|http://en.wikiped...|21-02-2024|       2|\n",
      "|       48|       mosport|Mosport Internati...|       Ontario|    Canada| 44.0481|-78.6756| 332|http://en.wikiped...|17-02-2024|       3|\n",
      "|       17|      shanghai|Shanghai Internat...|      Shanghai|     China| 31.3389|  121.22|   5|http://en.wikiped...|17-01-2024|       1|\n",
      "|        8|   magny_cours|Circuit de Nevers...|   Magny Cours|    France| 46.8642| 3.16361| 228|http://en.wikiped...|08-01-2024|       1|\n",
      "|       34|        ricard| Circuit Paul Ricard|  Le Castellet|    France| 43.2506| 5.79167| 432|http://en.wikiped...|03-02-2024|       2|\n",
      "|       41|         dijon|       Dijon-Prenois|         Dijon|    France| 47.3625| 4.89913| 484|http://en.wikiped...|10-02-2024|       3|\n",
      "+---------+--------------+--------------------+--------------+----------+--------+--------+----+--------------------+----------+--------+\n",
      "only showing top 20 rows\n",
      "\n"
     ]
    }
   ],
   "source": [
    "df2.withColumn(\"alt_rank\", rank().over(window_spec)).show()"
   ]
  },
  {
   "cell_type": "code",
   "execution_count": 195,
   "metadata": {},
   "outputs": [],
   "source": [
    "df2.createOrReplaceTempView(\"data\")"
   ]
  },
  {
   "cell_type": "code",
   "execution_count": 198,
   "metadata": {},
   "outputs": [
    {
     "name": "stdout",
     "output_type": "stream",
     "text": [
      "+---------+-----------+--------------------+--------------+------------+--------+--------+----+--------------------+----------+\n",
      "|circuitId| circuitRef|                name|      location|     country|     lat|     lng| alt|                 url|      date|\n",
      "+---------+-----------+--------------------+--------------+------------+--------+--------+----+--------------------+----------+\n",
      "|       30|    kyalami|             Kyalami|       Midrand|South Africa|-25.9894| 28.0767|1460|http://en.wikiped...|30-01-2024|\n",
      "|       32|  rodriguez|Autódromo Hermano...|   Mexico City|      Mexico| 19.4042|-99.0907|2227|http://en.wikiped...|01-02-2024|\n",
      "|       36|jacarepagua|Autódromo Interna...|Rio de Janeiro|      Brazil|-22.9756| -43.395|1126|http://en.wikiped...|05-02-2024|\n",
      "+---------+-----------+--------------------+--------------+------------+--------+--------+----+--------------------+----------+\n",
      "\n"
     ]
    }
   ],
   "source": [
    "spark.sql(\"select * from data where alt > 1000\").show()"
   ]
  },
  {
   "cell_type": "code",
   "execution_count": 205,
   "metadata": {},
   "outputs": [
    {
     "ename": "AnalysisException",
     "evalue": "\"circuitId\" is not a numeric column. Aggregation function can only be applied on a numeric column.",
     "output_type": "error",
     "traceback": [
      "\u001b[1;31m---------------------------------------------------------------------------\u001b[0m",
      "\u001b[1;31mAnalysisException\u001b[0m                         Traceback (most recent call last)",
      "\u001b[1;32m<ipython-input-205-cd3a554d25fe>\u001b[0m in \u001b[0;36m<module>\u001b[1;34m\u001b[0m\n\u001b[1;32m----> 1\u001b[1;33m \u001b[0mdf2\u001b[0m\u001b[1;33m.\u001b[0m\u001b[0mgroupBy\u001b[0m\u001b[1;33m(\u001b[0m\u001b[1;34m\"country\"\u001b[0m\u001b[1;33m)\u001b[0m\u001b[1;33m.\u001b[0m\u001b[0mpivot\u001b[0m\u001b[1;33m(\u001b[0m\u001b[1;34m\"location\"\u001b[0m\u001b[1;33m)\u001b[0m\u001b[1;33m.\u001b[0m\u001b[0mavg\u001b[0m\u001b[1;33m(\u001b[0m\u001b[1;34m\"circuitId\"\u001b[0m\u001b[1;33m)\u001b[0m\u001b[1;33m\u001b[0m\u001b[1;33m\u001b[0m\u001b[0m\n\u001b[0m",
      "\u001b[1;32mC:\\ProgramData\\Anaconda3\\lib\\site-packages\\pyspark\\sql\\group.py\u001b[0m in \u001b[0;36m_api\u001b[1;34m(self, *cols)\u001b[0m\n\u001b[0;32m     39\u001b[0m     \u001b[1;32mdef\u001b[0m \u001b[0m_api\u001b[0m\u001b[1;33m(\u001b[0m\u001b[0mself\u001b[0m\u001b[1;33m,\u001b[0m \u001b[1;33m*\u001b[0m\u001b[0mcols\u001b[0m\u001b[1;33m)\u001b[0m\u001b[1;33m:\u001b[0m\u001b[1;33m\u001b[0m\u001b[1;33m\u001b[0m\u001b[0m\n\u001b[0;32m     40\u001b[0m         \u001b[0mname\u001b[0m \u001b[1;33m=\u001b[0m \u001b[0mf\u001b[0m\u001b[1;33m.\u001b[0m\u001b[0m__name__\u001b[0m\u001b[1;33m\u001b[0m\u001b[1;33m\u001b[0m\u001b[0m\n\u001b[1;32m---> 41\u001b[1;33m         \u001b[0mjdf\u001b[0m \u001b[1;33m=\u001b[0m \u001b[0mgetattr\u001b[0m\u001b[1;33m(\u001b[0m\u001b[0mself\u001b[0m\u001b[1;33m.\u001b[0m\u001b[0m_jgd\u001b[0m\u001b[1;33m,\u001b[0m \u001b[0mname\u001b[0m\u001b[1;33m)\u001b[0m\u001b[1;33m(\u001b[0m\u001b[0m_to_seq\u001b[0m\u001b[1;33m(\u001b[0m\u001b[0mself\u001b[0m\u001b[1;33m.\u001b[0m\u001b[0msql_ctx\u001b[0m\u001b[1;33m.\u001b[0m\u001b[0m_sc\u001b[0m\u001b[1;33m,\u001b[0m \u001b[0mcols\u001b[0m\u001b[1;33m)\u001b[0m\u001b[1;33m)\u001b[0m\u001b[1;33m\u001b[0m\u001b[1;33m\u001b[0m\u001b[0m\n\u001b[0m\u001b[0;32m     42\u001b[0m         \u001b[1;32mreturn\u001b[0m \u001b[0mDataFrame\u001b[0m\u001b[1;33m(\u001b[0m\u001b[0mjdf\u001b[0m\u001b[1;33m,\u001b[0m \u001b[0mself\u001b[0m\u001b[1;33m.\u001b[0m\u001b[0msql_ctx\u001b[0m\u001b[1;33m)\u001b[0m\u001b[1;33m\u001b[0m\u001b[1;33m\u001b[0m\u001b[0m\n\u001b[0;32m     43\u001b[0m     \u001b[0m_api\u001b[0m\u001b[1;33m.\u001b[0m\u001b[0m__name__\u001b[0m \u001b[1;33m=\u001b[0m \u001b[0mf\u001b[0m\u001b[1;33m.\u001b[0m\u001b[0m__name__\u001b[0m\u001b[1;33m\u001b[0m\u001b[1;33m\u001b[0m\u001b[0m\n",
      "\u001b[1;32mC:\\ProgramData\\Anaconda3\\lib\\site-packages\\py4j\\java_gateway.py\u001b[0m in \u001b[0;36m__call__\u001b[1;34m(self, *args)\u001b[0m\n\u001b[0;32m   1307\u001b[0m \u001b[1;33m\u001b[0m\u001b[0m\n\u001b[0;32m   1308\u001b[0m         \u001b[0manswer\u001b[0m \u001b[1;33m=\u001b[0m \u001b[0mself\u001b[0m\u001b[1;33m.\u001b[0m\u001b[0mgateway_client\u001b[0m\u001b[1;33m.\u001b[0m\u001b[0msend_command\u001b[0m\u001b[1;33m(\u001b[0m\u001b[0mcommand\u001b[0m\u001b[1;33m)\u001b[0m\u001b[1;33m\u001b[0m\u001b[1;33m\u001b[0m\u001b[0m\n\u001b[1;32m-> 1309\u001b[1;33m         return_value = get_return_value(\n\u001b[0m\u001b[0;32m   1310\u001b[0m             answer, self.gateway_client, self.target_id, self.name)\n\u001b[0;32m   1311\u001b[0m \u001b[1;33m\u001b[0m\u001b[0m\n",
      "\u001b[1;32mC:\\ProgramData\\Anaconda3\\lib\\site-packages\\pyspark\\sql\\utils.py\u001b[0m in \u001b[0;36mdeco\u001b[1;34m(*a, **kw)\u001b[0m\n\u001b[0;32m    115\u001b[0m                 \u001b[1;31m# Hide where the exception came from that shows a non-Pythonic\u001b[0m\u001b[1;33m\u001b[0m\u001b[1;33m\u001b[0m\u001b[1;33m\u001b[0m\u001b[0m\n\u001b[0;32m    116\u001b[0m                 \u001b[1;31m# JVM exception message.\u001b[0m\u001b[1;33m\u001b[0m\u001b[1;33m\u001b[0m\u001b[1;33m\u001b[0m\u001b[0m\n\u001b[1;32m--> 117\u001b[1;33m                 \u001b[1;32mraise\u001b[0m \u001b[0mconverted\u001b[0m \u001b[1;32mfrom\u001b[0m \u001b[1;32mNone\u001b[0m\u001b[1;33m\u001b[0m\u001b[1;33m\u001b[0m\u001b[0m\n\u001b[0m\u001b[0;32m    118\u001b[0m             \u001b[1;32melse\u001b[0m\u001b[1;33m:\u001b[0m\u001b[1;33m\u001b[0m\u001b[1;33m\u001b[0m\u001b[0m\n\u001b[0;32m    119\u001b[0m                 \u001b[1;32mraise\u001b[0m\u001b[1;33m\u001b[0m\u001b[1;33m\u001b[0m\u001b[0m\n",
      "\u001b[1;31mAnalysisException\u001b[0m: \"circuitId\" is not a numeric column. Aggregation function can only be applied on a numeric column."
     ]
    }
   ],
   "source": [
    "df2.groupBy(\"country\").pivot(\"location\").avg(\"circuitId\")"
   ]
  },
  {
   "cell_type": "code",
   "execution_count": 206,
   "metadata": {},
   "outputs": [
    {
     "name": "stdout",
     "output_type": "stream",
     "text": [
      "root\n",
      " |-- circuitId: string (nullable = true)\n",
      " |-- circuitRef: string (nullable = true)\n",
      " |-- name: string (nullable = true)\n",
      " |-- location: string (nullable = true)\n",
      " |-- country: string (nullable = true)\n",
      " |-- lat: string (nullable = true)\n",
      " |-- lng: string (nullable = true)\n",
      " |-- alt: string (nullable = true)\n",
      " |-- url: string (nullable = true)\n",
      " |-- date: string (nullable = true)\n",
      "\n"
     ]
    }
   ],
   "source": [
    "df2.printSchema()"
   ]
  },
  {
   "cell_type": "code",
   "execution_count": 215,
   "metadata": {},
   "outputs": [],
   "source": [
    "df3 = df2.select(col(\"alt\").cast(\"int\"))\n",
    "df3 = df2.withColumn(\"alt\", df2.alt.cast('int'))\n",
    "#.groupBy(\"country\").pivot(\"location\").avg(\"alt\")"
   ]
  },
  {
   "cell_type": "code",
   "execution_count": 218,
   "metadata": {},
   "outputs": [
    {
     "name": "stdout",
     "output_type": "stream",
     "text": [
      "root\n",
      " |-- circuitId: string (nullable = true)\n",
      " |-- circuitRef: string (nullable = true)\n",
      " |-- name: string (nullable = true)\n",
      " |-- location: string (nullable = true)\n",
      " |-- country: string (nullable = true)\n",
      " |-- lat: string (nullable = true)\n",
      " |-- lng: string (nullable = true)\n",
      " |-- alt: integer (nullable = true)\n",
      " |-- url: string (nullable = true)\n",
      " |-- date: string (nullable = true)\n",
      "\n"
     ]
    }
   ],
   "source": [
    "df3.printSchema()"
   ]
  },
  {
   "cell_type": "code",
   "execution_count": 222,
   "metadata": {},
   "outputs": [
    {
     "name": "stdout",
     "output_type": "stream",
     "text": [
      "+------------+---------+--------+----------+------+----+---------+------+----+--------+--------+------------+----------+----------+----------------+----------------+------+-------+-----+---------------------+-------+-------+-----+--------------+----------+-----+------------+--------+------+--------------------+-----+------------+------------+-------+------+---------+------+-----------+----------+---------+-----------+-------+-----------+--------+--------+-----+-------+------+----------+--------------+-------+-------+-------+------+-----+-------+-------+--------+------+-----+--------------+-----+------+--------+-----------+-----+-----+---------+------+------+---------+-------------+--------+--------------+---------+\n",
      "|     country|Abu Dhabi|Adelaide|Anderstorp|Austin|Baku|Barcelona|Berlin|Bern|Brussels|Budapest|Buenos Aires|California|Casablanca|Castle Donington|Clermont-Ferrand|Dallas|Detroit|Dijon|Eastern Cape Province|Estoril|Florida|Hanoi|Heusden-Zolder|Hockenheim|Imola|Indianapolis|Istanbul|Jeddah|Jerez de la Frontera| Kent|Kuala Lumpur|Le Castellet|Le Mans|Lisbon|Liverpool|Madrid|Magny Cours|Marina Bay|Melbourne|Mexico City|Midrand|Monte-Carlo|Montmeló|Montreal|Monza|Mugello|Nevada|New Jersey|New York State|Nürburg|Okayama|Ontario|Oporto|Oyama|Pescara|Phoenix|Portimão|Quebec|Reims|Rio de Janeiro|Rouen|Sakhir|Shanghai|Silverstone|Sochi|  Spa|Spielburg|Styria|Suzuka|São Paulo|Uttar Pradesh|Valencia|Yeongam County|Zandvoort|\n",
      "+------------+---------+--------+----------+------+----+---------+------+----+--------+--------+------------+----------+----------+----------------+----------------+------+-------+-----+---------------------+-------+-------+-----+--------------+----------+-----+------------+--------+------+--------------------+-----+------------+------------+-------+------+---------+------+-----------+----------+---------+-----------+-------+-----------+--------+--------+-----+-------+------+----------+--------------+-------+-------+-------+------+-----+-------+-------+--------+------+-----+--------------+-----+------+--------+-----------+-----+-----+---------+------+------+---------+-------------+--------+--------------+---------+\n",
      "|      Russia|     null|    null|      null|  null|null|     null|  null|null|    null|    null|        null|      null|      null|            null|            null|  null|   null| null|                 null|   null|   null| null|          null|      null| null|        null|    null|  null|                null| null|        null|        null|   null|  null|     null|  null|       null|      null|     null|       null|   null|       null|    null|    null| null|   null|  null|      null|          null|   null|   null|   null|  null| null|   null|   null|    null|  null| null|          null| null|  null|    null|       null|  2.0| null|     null|  null|  null|     null|         null|    null|          null|     null|\n",
      "|      Sweden|     null|    null|     153.0|  null|null|     null|  null|null|    null|    null|        null|      null|      null|            null|            null|  null|   null| null|                 null|   null|   null| null|          null|      null| null|        null|    null|  null|                null| null|        null|        null|   null|  null|     null|  null|       null|      null|     null|       null|   null|       null|    null|    null| null|   null|  null|      null|          null|   null|   null|   null|  null| null|   null|   null|    null|  null| null|          null| null|  null|    null|       null| null| null|     null|  null|  null|     null|         null|    null|          null|     null|\n",
      "|   Singapore|     null|    null|      null|  null|null|     null|  null|null|    null|    null|        null|      null|      null|            null|            null|  null|   null| null|                 null|   null|   null| null|          null|      null| null|        null|    null|  null|                null| null|        null|        null|   null|  null|     null|  null|       null|      18.0|     null|       null|   null|       null|    null|    null| null|   null|  null|      null|          null|   null|   null|   null|  null| null|   null|   null|    null|  null| null|          null| null|  null|    null|       null| null| null|     null|  null|  null|     null|         null|    null|          null|     null|\n",
      "|    Malaysia|     null|    null|      null|  null|null|     null|  null|null|    null|    null|        null|      null|      null|            null|            null|  null|   null| null|                 null|   null|   null| null|          null|      null| null|        null|    null|  null|                null| null|        18.0|        null|   null|  null|     null|  null|       null|      null|     null|       null|   null|       null|    null|    null| null|   null|  null|      null|          null|   null|   null|   null|  null| null|   null|   null|    null|  null| null|          null| null|  null|    null|       null| null| null|     null|  null|  null|     null|         null|    null|          null|     null|\n",
      "|      Turkey|     null|    null|      null|  null|null|     null|  null|null|    null|    null|        null|      null|      null|            null|            null|  null|   null| null|                 null|   null|   null| null|          null|      null| null|        null|   130.0|  null|                null| null|        null|        null|   null|  null|     null|  null|       null|      null|     null|       null|   null|       null|    null|    null| null|   null|  null|      null|          null|   null|   null|   null|  null| null|   null|   null|    null|  null| null|          null| null|  null|    null|       null| null| null|     null|  null|  null|     null|         null|    null|          null|     null|\n",
      "|     Germany|     null|    null|      null|  null|null|     null|  53.0|null|    null|    null|        null|      null|      null|            null|            null|  null|   null| null|                 null|   null|   null| null|          null|     103.0| null|        null|    null|  null|                null| null|        null|        null|   null|  null|     null|  null|       null|      null|     null|       null|   null|       null|    null|    null| null|   null|  null|      null|          null|  578.0|   null|   null|  null| null|   null|   null|    null|  null| null|          null| null|  null|    null|       null| null| null|     null|  null|  null|     null|         null|    null|          null|     null|\n",
      "|      France|     null|    null|      null|  null|null|     null|  null|null|    null|    null|        null|      null|      null|            null|           790.0|  null|   null|484.0|                 null|   null|   null| null|          null|      null| null|        null|    null|  null|                null| null|        null|       432.0|   67.0|  null|     null|  null|      228.0|      null|     null|       null|   null|       null|    null|    null| null|   null|  null|      null|          null|   null|   null|   null|  null| null|   null|   null|    null|  null| 88.0|          null| 81.0|  null|    null|       null| null| null|     null|  null|  null|     null|         null|    null|          null|     null|\n",
      "|   Argentina|     null|    null|      null|  null|null|     null|  null|null|    null|    null|         8.0|      null|      null|            null|            null|  null|   null| null|                 null|   null|   null| null|          null|      null| null|        null|    null|  null|                null| null|        null|        null|   null|  null|     null|  null|       null|      null|     null|       null|   null|       null|    null|    null| null|   null|  null|      null|          null|   null|   null|   null|  null| null|   null|   null|    null|  null| null|          null| null|  null|    null|       null| null| null|     null|  null|  null|     null|         null|    null|          null|     null|\n",
      "|     Belgium|     null|    null|      null|  null|null|     null|  null|null|   139.0|    null|        null|      null|      null|            null|            null|  null|   null| null|                 null|   null|   null| null|          36.0|      null| null|        null|    null|  null|                null| null|        null|        null|   null|  null|     null|  null|       null|      null|     null|       null|   null|       null|    null|    null| null|   null|  null|      null|          null|   null|   null|   null|  null| null|   null|   null|    null|  null| null|          null| null|  null|    null|       null| null|401.0|     null|  null|  null|     null|         null|    null|          null|     null|\n",
      "|       India|     null|    null|      null|  null|null|     null|  null|null|    null|    null|        null|      null|      null|            null|            null|  null|   null| null|                 null|   null|   null| null|          null|      null| null|        null|    null|  null|                null| null|        null|        null|   null|  null|     null|  null|       null|      null|     null|       null|   null|       null|    null|    null| null|   null|  null|      null|          null|   null|   null|   null|  null| null|   null|   null|    null|  null| null|          null| null|  null|    null|       null| null| null|     null|  null|  null|     null|        194.0|    null|          null|     null|\n",
      "|       China|     null|    null|      null|  null|null|     null|  null|null|    null|    null|        null|      null|      null|            null|            null|  null|   null| null|                 null|   null|   null| null|          null|      null| null|        null|    null|  null|                null| null|        null|        null|   null|  null|     null|  null|       null|      null|     null|       null|   null|       null|    null|    null| null|   null|  null|      null|          null|   null|   null|   null|  null| null|   null|   null|    null|  null| null|          null| null|  null|     5.0|       null| null| null|     null|  null|  null|     null|         null|    null|          null|     null|\n",
      "|       Italy|     null|    null|      null|  null|null|     null|  null|null|    null|    null|        null|      null|      null|            null|            null|  null|   null| null|                 null|   null|   null| null|          null|      null| 37.0|        null|    null|  null|                null| null|        null|        null|   null|  null|     null|  null|       null|      null|     null|       null|   null|       null|    null|    null|162.0|  255.0|  null|      null|          null|   null|   null|   null|  null| null|  129.0|   null|    null|  null| null|          null| null|  null|    null|       null| null| null|     null|  null|  null|     null|         null|    null|          null|     null|\n",
      "|       Spain|     null|    null|      null|  null|null|     82.0|  null|null|    null|    null|        null|      null|      null|            null|            null|  null|   null| null|                 null|   null|   null| null|          null|      null| null|        null|    null|  null|                37.0| null|        null|        null|   null|  null|     null| 609.0|       null|      null|     null|       null|   null|       null|   109.0|    null| null|   null|  null|      null|          null|   null|   null|   null|  null| null|   null|   null|    null|  null| null|          null| null|  null|    null|       null| null| null|     null|  null|  null|     null|         null|     4.0|          null|     null|\n",
      "|     Morocco|     null|    null|      null|  null|null|     null|  null|null|    null|    null|        null|      null|      19.0|            null|            null|  null|   null| null|                 null|   null|   null| null|          null|      null| null|        null|    null|  null|                null| null|        null|        null|   null|  null|     null|  null|       null|      null|     null|       null|   null|       null|    null|    null| null|   null|  null|      null|          null|   null|   null|   null|  null| null|   null|   null|    null|  null| null|          null| null|  null|    null|       null| null| null|     null|  null|  null|     null|         null|    null|          null|     null|\n",
      "|      Monaco|     null|    null|      null|  null|null|     null|  null|null|    null|    null|        null|      null|      null|            null|            null|  null|   null| null|                 null|   null|   null| null|          null|      null| null|        null|    null|  null|                null| null|        null|        null|   null|  null|     null|  null|       null|      null|     null|       null|   null|        7.0|    null|    null| null|   null|  null|      null|          null|   null|   null|   null|  null| null|   null|   null|    null|  null| null|          null| null|  null|    null|       null| null| null|     null|  null|  null|     null|         null|    null|          null|     null|\n",
      "|         USA|     null|    null|      null| 161.0|null|     null|  null|null|    null|    null|        null|     241.0|      null|            null|            null| 139.0|  177.0| null|                 null|   null|   18.0| null|          null|      null| null|       223.0|    null|  null|                null| null|        null|        null|   null|  null|     null|  null|       null|      null|     null|       null|   null|       null|    null|    null| null|   null| 639.0|       4.0|         485.0|   null|   null|   null|  null| null|   null|  345.0|    null|  null| null|          null| null|  null|    null|       null| null| null|     null|  null|  null|     null|         null|    null|          null|     null|\n",
      "|      Mexico|     null|    null|      null|  null|null|     null|  null|null|    null|    null|        null|      null|      null|            null|            null|  null|   null| null|                 null|   null|   null| null|          null|      null| null|        null|    null|  null|                null| null|        null|        null|   null|  null|     null|  null|       null|      null|     null|     2227.0|   null|       null|    null|    null| null|   null|  null|      null|          null|   null|   null|   null|  null| null|   null|   null|    null|  null| null|          null| null|  null|    null|       null| null| null|     null|  null|  null|     null|         null|    null|          null|     null|\n",
      "|  Azerbaijan|     null|    null|      null|  null|-7.0|     null|  null|null|    null|    null|        null|      null|      null|            null|            null|  null|   null| null|                 null|   null|   null| null|          null|      null| null|        null|    null|  null|                null| null|        null|        null|   null|  null|     null|  null|       null|      null|     null|       null|   null|       null|    null|    null| null|   null|  null|      null|          null|   null|   null|   null|  null| null|   null|   null|    null|  null| null|          null| null|  null|    null|       null| null| null|     null|  null|  null|     null|         null|    null|          null|     null|\n",
      "|          UK|     null|    null|      null|  null|null|     null|  null|null|    null|    null|        null|      null|      null|            88.0|            null|  null|   null| null|                 null|   null|   null| null|          null|      null| null|        null|    null|  null|                null|145.0|        null|        null|   null|  null|     20.0|  null|       null|      null|     null|       null|   null|       null|    null|    null| null|   null|  null|      null|          null|   null|   null|   null|  null| null|   null|   null|    null|  null| null|          null| null|  null|    null|      153.0| null| null|     null|  null|  null|     null|         null|    null|          null|     null|\n",
      "|Saudi Arabia|     null|    null|      null|  null|null|     null|  null|null|    null|    null|        null|      null|      null|            null|            null|  null|   null| null|                 null|   null|   null| null|          null|      null| null|        null|    null|  15.0|                null| null|        null|        null|   null|  null|     null|  null|       null|      null|     null|       null|   null|       null|    null|    null| null|   null|  null|      null|          null|   null|   null|   null|  null| null|   null|   null|    null|  null| null|          null| null|  null|    null|       null| null| null|     null|  null|  null|     null|         null|    null|          null|     null|\n",
      "+------------+---------+--------+----------+------+----+---------+------+----+--------+--------+------------+----------+----------+----------------+----------------+------+-------+-----+---------------------+-------+-------+-----+--------------+----------+-----+------------+--------+------+--------------------+-----+------------+------------+-------+------+---------+------+-----------+----------+---------+-----------+-------+-----------+--------+--------+-----+-------+------+----------+--------------+-------+-------+-------+------+-----+-------+-------+--------+------+-----+--------------+-----+------+--------+-----------+-----+-----+---------+------+------+---------+-------------+--------+--------------+---------+\n",
      "only showing top 20 rows\n",
      "\n"
     ]
    }
   ],
   "source": [
    "df3.groupBy(\"country\").pivot(\"location\").avg(\"alt\").show()"
   ]
  },
  {
   "cell_type": "code",
   "execution_count": 227,
   "metadata": {},
   "outputs": [
    {
     "name": "stdout",
     "output_type": "stream",
     "text": [
      "+------------+--------+--------+--------+--------+--------+--------+--------+------+-------+-------+-------+-------+-------+-------+-------+-------+-------+-------+-------+-------+-------+-------+------+-------+-------+------+-------+-------+-------+------+-------+-------+-------+------+-------+-------+-------+-------+-------+-------+-------+-----+-------+-------+------+-------+-------+-------+-------+-------+-------+----+-------+-------+-------+-------+-------+-------+-------+-------+-------+-----+-------+-------+-------+-------+-------+-------+-------+-------+-------+-------+-------+-------+-------+-------+\n",
      "|     country|-22.9756|-23.7036|-25.9894|-33.0486|-34.6943|-34.9272|-37.8497|1.2914|19.4042|2.76083|21.0166|21.5433|24.4672|26.0325|27.4547|28.3487|30.1328|31.3389|32.7774|33.4479|33.5786|33.7651|33.937|34.7333|34.8431|34.915|35.3717|36.1162|36.7083|37.227|38.7197|38.7506|39.4589|39.795|40.3725|40.6171|40.7769|40.9517|41.1705|41.3664|41.3903|41.57|42.3298|42.3369|42.475|43.2506|43.4057|43.7347|43.9975|44.0481|44.3439|45.5|45.6156|45.7472|46.1877|46.8642|46.9589|47.2039|47.2197|47.3625|47.5789|47.95|49.2542|49.3278|49.3306|50.3356|50.4372|50.6211|50.9894|51.3569|52.0786|52.3888|52.4806|52.8306|53.4769|57.2653|\n",
      "+------------+--------+--------+--------+--------+--------+--------+--------+------+-------+-------+-------+-------+-------+-------+-------+-------+-------+-------+-------+-------+-------+-------+------+-------+-------+------+-------+-------+-------+------+-------+-------+-------+------+-------+-------+-------+-------+-------+-------+-------+-----+-------+-------+------+-------+-------+-------+-------+-------+-------+----+-------+-------+-------+-------+-------+-------+-------+-------+-------+-----+-------+-------+-------+-------+-------+-------+-------+-------+-------+-------+-------+-------+-------+-------+\n",
      "|      Russia|    null|    null|    null|    null|    null|    null|    null|  null|   null|   null|   null|   null|   null|   null|   null|   null|   null|   null|   null|   null|   null|   null|  null|   null|   null|  null|   null|   null|   null|  null|   null|   null|   null|  null|   null|   null|   null|   null|   null|   null|   null| null|   null|   null|  null|   null|    2.0|   null|   null|   null|   null|null|   null|   null|   null|   null|   null|   null|   null|   null|   null| null|   null|   null|   null|   null|   null|   null|   null|   null|   null|   null|   null|   null|   null|   null|\n",
      "|      Sweden|    null|    null|    null|    null|    null|    null|    null|  null|   null|   null|   null|   null|   null|   null|   null|   null|   null|   null|   null|   null|   null|   null|  null|   null|   null|  null|   null|   null|   null|  null|   null|   null|   null|  null|   null|   null|   null|   null|   null|   null|   null| null|   null|   null|  null|   null|   null|   null|   null|   null|   null|null|   null|   null|   null|   null|   null|   null|   null|   null|   null| null|   null|   null|   null|   null|   null|   null|   null|   null|   null|   null|   null|   null|   null|  153.0|\n",
      "|    Malaysia|    null|    null|    null|    null|    null|    null|    null|  null|   null|   18.0|   null|   null|   null|   null|   null|   null|   null|   null|   null|   null|   null|   null|  null|   null|   null|  null|   null|   null|   null|  null|   null|   null|   null|  null|   null|   null|   null|   null|   null|   null|   null| null|   null|   null|  null|   null|   null|   null|   null|   null|   null|null|   null|   null|   null|   null|   null|   null|   null|   null|   null| null|   null|   null|   null|   null|   null|   null|   null|   null|   null|   null|   null|   null|   null|   null|\n",
      "|   Singapore|    null|    null|    null|    null|    null|    null|    null|  18.0|   null|   null|   null|   null|   null|   null|   null|   null|   null|   null|   null|   null|   null|   null|  null|   null|   null|  null|   null|   null|   null|  null|   null|   null|   null|  null|   null|   null|   null|   null|   null|   null|   null| null|   null|   null|  null|   null|   null|   null|   null|   null|   null|null|   null|   null|   null|   null|   null|   null|   null|   null|   null| null|   null|   null|   null|   null|   null|   null|   null|   null|   null|   null|   null|   null|   null|   null|\n",
      "|      Turkey|    null|    null|    null|    null|    null|    null|    null|  null|   null|   null|   null|   null|   null|   null|   null|   null|   null|   null|   null|   null|   null|   null|  null|   null|   null|  null|   null|   null|   null|  null|   null|   null|   null|  null|   null|   null|   null|  130.0|   null|   null|   null| null|   null|   null|  null|   null|   null|   null|   null|   null|   null|null|   null|   null|   null|   null|   null|   null|   null|   null|   null| null|   null|   null|   null|   null|   null|   null|   null|   null|   null|   null|   null|   null|   null|   null|\n",
      "|     Germany|    null|    null|    null|    null|    null|    null|    null|  null|   null|   null|   null|   null|   null|   null|   null|   null|   null|   null|   null|   null|   null|   null|  null|   null|   null|  null|   null|   null|   null|  null|   null|   null|   null|  null|   null|   null|   null|   null|   null|   null|   null| null|   null|   null|  null|   null|   null|   null|   null|   null|   null|null|   null|   null|   null|   null|   null|   null|   null|   null|   null| null|   null|  103.0|   null|  578.0|   null|   null|   null|   null|   null|   null|   53.0|   null|   null|   null|\n",
      "|      France|    null|    null|    null|    null|    null|    null|    null|  null|   null|   null|   null|   null|   null|   null|   null|   null|   null|   null|   null|   null|   null|   null|  null|   null|   null|  null|   null|   null|   null|  null|   null|   null|   null|  null|   null|   null|   null|   null|   null|   null|   null| null|   null|   null|  null|  432.0|   null|   null|   null|   null|   null|null|   null|  790.0|   null|  228.0|   null|   null|   null|  484.0|   null| 67.0|   88.0|   null|   81.0|   null|   null|   null|   null|   null|   null|   null|   null|   null|   null|   null|\n",
      "|   Argentina|    null|    null|    null|    null|     8.0|    null|    null|  null|   null|   null|   null|   null|   null|   null|   null|   null|   null|   null|   null|   null|   null|   null|  null|   null|   null|  null|   null|   null|   null|  null|   null|   null|   null|  null|   null|   null|   null|   null|   null|   null|   null| null|   null|   null|  null|   null|   null|   null|   null|   null|   null|null|   null|   null|   null|   null|   null|   null|   null|   null|   null| null|   null|   null|   null|   null|   null|   null|   null|   null|   null|   null|   null|   null|   null|   null|\n",
      "|     Belgium|    null|    null|    null|    null|    null|    null|    null|  null|   null|   null|   null|   null|   null|   null|   null|   null|   null|   null|   null|   null|   null|   null|  null|   null|   null|  null|   null|   null|   null|  null|   null|   null|   null|  null|   null|   null|   null|   null|   null|   null|   null| null|   null|   null|  null|   null|   null|   null|   null|   null|   null|null|   null|   null|   null|   null|   null|   null|   null|   null|   null| null|   null|   null|   null|   null|  401.0|  139.0|   36.0|   null|   null|   null|   null|   null|   null|   null|\n",
      "|       India|    null|    null|    null|    null|    null|    null|    null|  null|   null|   null|   null|   null|   null|   null|   null|  194.0|   null|   null|   null|   null|   null|   null|  null|   null|   null|  null|   null|   null|   null|  null|   null|   null|   null|  null|   null|   null|   null|   null|   null|   null|   null| null|   null|   null|  null|   null|   null|   null|   null|   null|   null|null|   null|   null|   null|   null|   null|   null|   null|   null|   null| null|   null|   null|   null|   null|   null|   null|   null|   null|   null|   null|   null|   null|   null|   null|\n",
      "|       China|    null|    null|    null|    null|    null|    null|    null|  null|   null|   null|   null|   null|   null|   null|   null|   null|   null|    5.0|   null|   null|   null|   null|  null|   null|   null|  null|   null|   null|   null|  null|   null|   null|   null|  null|   null|   null|   null|   null|   null|   null|   null| null|   null|   null|  null|   null|   null|   null|   null|   null|   null|null|   null|   null|   null|   null|   null|   null|   null|   null|   null| null|   null|   null|   null|   null|   null|   null|   null|   null|   null|   null|   null|   null|   null|   null|\n",
      "|       Italy|    null|    null|    null|    null|    null|    null|    null|  null|   null|   null|   null|   null|   null|   null|   null|   null|   null|   null|   null|   null|   null|   null|  null|   null|   null|  null|   null|   null|   null|  null|   null|   null|   null|  null|   null|   null|   null|   null|   null|   null|   null| null|   null|   null| 129.0|   null|   null|   null|  255.0|   null|   37.0|null|  162.0|   null|   null|   null|   null|   null|   null|   null|   null| null|   null|   null|   null|   null|   null|   null|   null|   null|   null|   null|   null|   null|   null|   null|\n",
      "|       Spain|    null|    null|    null|    null|    null|    null|    null|  null|   null|   null|   null|   null|   null|   null|   null|   null|   null|   null|   null|   null|   null|   null|  null|   null|   null|  null|   null|   null|   37.0|  null|   null|   null|    4.0|  null|   null|  609.0|   null|   null|   null|   79.0|   85.0|109.0|   null|   null|  null|   null|   null|   null|   null|   null|   null|null|   null|   null|   null|   null|   null|   null|   null|   null|   null| null|   null|   null|   null|   null|   null|   null|   null|   null|   null|   null|   null|   null|   null|   null|\n",
      "|     Morocco|    null|    null|    null|    null|    null|    null|    null|  null|   null|   null|   null|   null|   null|   null|   null|   null|   null|   null|   null|   null|   19.0|   null|  null|   null|   null|  null|   null|   null|   null|  null|   null|   null|   null|  null|   null|   null|   null|   null|   null|   null|   null| null|   null|   null|  null|   null|   null|   null|   null|   null|   null|null|   null|   null|   null|   null|   null|   null|   null|   null|   null| null|   null|   null|   null|   null|   null|   null|   null|   null|   null|   null|   null|   null|   null|   null|\n",
      "|      Monaco|    null|    null|    null|    null|    null|    null|    null|  null|   null|   null|   null|   null|   null|   null|   null|   null|   null|   null|   null|   null|   null|   null|  null|   null|   null|  null|   null|   null|   null|  null|   null|   null|   null|  null|   null|   null|   null|   null|   null|   null|   null| null|   null|   null|  null|   null|   null|    7.0|   null|   null|   null|null|   null|   null|   null|   null|   null|   null|   null|   null|   null| null|   null|   null|   null|   null|   null|   null|   null|   null|   null|   null|   null|   null|   null|   null|\n",
      "|         USA|    null|    null|    null|    null|    null|    null|    null|  null|   null|   null|   null|   null|   null|   null|   18.0|   null|  161.0|   null|  139.0|  345.0|   null|   12.0| 470.0|   null|   null|  null|   null|  639.0|   null|  null|   null|   null|   null| 223.0|   null|   null|    4.0|   null|   null|   null|   null| null|  177.0|  485.0|  null|   null|   null|   null|   null|   null|   null|null|   null|   null|   null|   null|   null|   null|   null|   null|   null| null|   null|   null|   null|   null|   null|   null|   null|   null|   null|   null|   null|   null|   null|   null|\n",
      "|      Mexico|    null|    null|    null|    null|    null|    null|    null|  null| 2227.0|   null|   null|   null|   null|   null|   null|   null|   null|   null|   null|   null|   null|   null|  null|   null|   null|  null|   null|   null|   null|  null|   null|   null|   null|  null|   null|   null|   null|   null|   null|   null|   null| null|   null|   null|  null|   null|   null|   null|   null|   null|   null|null|   null|   null|   null|   null|   null|   null|   null|   null|   null| null|   null|   null|   null|   null|   null|   null|   null|   null|   null|   null|   null|   null|   null|   null|\n",
      "|  Azerbaijan|    null|    null|    null|    null|    null|    null|    null|  null|   null|   null|   null|   null|   null|   null|   null|   null|   null|   null|   null|   null|   null|   null|  null|   null|   null|  null|   null|   null|   null|  null|   null|   null|   null|  null|   -7.0|   null|   null|   null|   null|   null|   null| null|   null|   null|  null|   null|   null|   null|   null|   null|   null|null|   null|   null|   null|   null|   null|   null|   null|   null|   null| null|   null|   null|   null|   null|   null|   null|   null|   null|   null|   null|   null|   null|   null|   null|\n",
      "|          UK|    null|    null|    null|    null|    null|    null|    null|  null|   null|   null|   null|   null|   null|   null|   null|   null|   null|   null|   null|   null|   null|   null|  null|   null|   null|  null|   null|   null|   null|  null|   null|   null|   null|  null|   null|   null|   null|   null|   null|   null|   null| null|   null|   null|  null|   null|   null|   null|   null|   null|   null|null|   null|   null|   null|   null|   null|   null|   null|   null|   null| null|   null|   null|   null|   null|   null|   null|   null|  145.0|  153.0|   null|   null|   88.0|   20.0|   null|\n",
      "|Saudi Arabia|    null|    null|    null|    null|    null|    null|    null|  null|   null|   null|   null|   15.0|   null|   null|   null|   null|   null|   null|   null|   null|   null|   null|  null|   null|   null|  null|   null|   null|   null|  null|   null|   null|   null|  null|   null|   null|   null|   null|   null|   null|   null| null|   null|   null|  null|   null|   null|   null|   null|   null|   null|null|   null|   null|   null|   null|   null|   null|   null|   null|   null| null|   null|   null|   null|   null|   null|   null|   null|   null|   null|   null|   null|   null|   null|   null|\n",
      "+------------+--------+--------+--------+--------+--------+--------+--------+------+-------+-------+-------+-------+-------+-------+-------+-------+-------+-------+-------+-------+-------+-------+------+-------+-------+------+-------+-------+-------+------+-------+-------+-------+------+-------+-------+-------+-------+-------+-------+-------+-----+-------+-------+------+-------+-------+-------+-------+-------+-------+----+-------+-------+-------+-------+-------+-------+-------+-------+-------+-----+-------+-------+-------+-------+-------+-------+-------+-------+-------+-------+-------+-------+-------+-------+\n",
      "only showing top 20 rows\n",
      "\n"
     ]
    }
   ],
   "source": [
    "df3.groupBy(\"country\").pivot(\"lat\").avg(\"alt\").show()"
   ]
  },
  {
   "cell_type": "code",
   "execution_count": 233,
   "metadata": {},
   "outputs": [
    {
     "name": "stdout",
     "output_type": "stream",
     "text": [
      "+---------+----------------+----------------------+---------+--------------------+-----------+------------+---------+-----------+--------------------+--------------------+--------+---------+---+--------------------+----------+\n",
      "|  country|HOLIDAY_SCHEDULE|HOLIDAY_SCHEDULE_DESCR|  HOLIDAY|               DESCR|HOLIDAY_HRS|HOLIDAY_TYPE|circuitId| circuitRef|                name|            location|     lat|      lng|alt|                 url|      date|\n",
      "+---------+----------------+----------------------+---------+--------------------+-----------+------------+---------+-----------+--------------------+--------------------+--------+---------+---+--------------------+----------+\n",
      "|Australia|           HESP1|  Cognizant Spain -...|01-Jan-23|      New Year's Day|          8|         NAT|       29|   adelaide|Adelaide Street C...|            Adelaide|-34.9272|  138.617| 58|http://en.wikiped...|29-01-2024|\n",
      "|Australia|           HESP1|  Cognizant Spain -...|01-Jan-23|      New Year's Day|          8|         NAT|        1|albert_park|Albert Park Grand...|           Melbourne|-37.8497|  144.968| 10|http://en.wikiped...|01-01-2024|\n",
      "| Malaysia|           HESP1|  Cognizant Spain -...|06-Jan-23|            Epiphany|          8|         NAT|        2|     sepang|Sepang Internatio...|        Kuala Lumpur| 2.76083|  101.738| 18|http://en.wikiped...|02-01-2024|\n",
      "|  Bahrain|           HESP1|  Cognizant Spain -...|20-Mar-23|            San Jose|          8|         REG|        3|    bahrain|Bahrain Internati...|              Sakhir| 26.0325|  50.5106|  7|http://en.wikiped...|03-01-2024|\n",
      "|    Spain|           HESP1|  Cognizant Spain -...|06-Apr-23|     Maundy Thursday|          8|         REG|       67|  pedralbes|Circuit de Pedralbes|           Barcelona| 41.3903|  2.11667| 85|http://en.wikiped...|07-03-2024|\n",
      "|    Spain|           HESP1|  Cognizant Spain -...|06-Apr-23|     Maundy Thursday|          8|         REG|       49|   montjuic|            Montjuïc|           Barcelona| 41.3664|  2.15167| 79|http://en.wikiped...|18-02-2024|\n",
      "|    Spain|           HESP1|  Cognizant Spain -...|06-Apr-23|     Maundy Thursday|          8|         REG|       45|     jarama|              Jarama|              Madrid| 40.6171| -3.58558|609|http://en.wikiped...|14-02-2024|\n",
      "|    Spain|           HESP1|  Cognizant Spain -...|06-Apr-23|     Maundy Thursday|          8|         REG|       26|      jerez|   Circuito de Jerez|Jerez de la Frontera| 36.7083| -6.03417| 37|http://en.wikiped...|26-01-2024|\n",
      "|    Spain|           HESP1|  Cognizant Spain -...|06-Apr-23|     Maundy Thursday|          8|         REG|       12|   valencia|Valencia Street C...|            Valencia| 39.4589|-0.331667|  4|http://en.wikiped...|12-01-2024|\n",
      "|    Spain|           HESP1|  Cognizant Spain -...|06-Apr-23|     Maundy Thursday|          8|         REG|        4|  catalunya|Circuit de Barcel...|            Montmeló|   41.57|  2.26111|109|http://en.wikiped...|04-01-2024|\n",
      "|   Turkey|           HESP1|  Cognizant Spain -...|07-Apr-23|         Good Friday|          8|         NAT|        5|   istanbul|       Istanbul Park|            Istanbul| 40.9517|   29.405|130|http://en.wikiped...|05-01-2024|\n",
      "|   Monaco|           HESP1|  Cognizant Spain -...|01-May-23|          Labour Day|          8|         REG|        6|     monaco|   Circuit de Monaco|         Monte-Carlo| 43.7347|  7.42056|  7|http://en.wikiped...|06-01-2024|\n",
      "|   Canada|           HESP1|  Cognizant Spain -...|02-May-23|Madrid Regional H...|          8|         REG|       52|  tremblant|Circuit Mont-Trem...|              Quebec| 46.1877| -74.6099|214|http://en.wikiped...|21-02-2024|\n",
      "|   Canada|           HESP1|  Cognizant Spain -...|02-May-23|Madrid Regional H...|          8|         REG|       48|    mosport|Mosport Internati...|             Ontario| 44.0481| -78.6756|332|http://en.wikiped...|17-02-2024|\n",
      "|   Canada|           HESP1|  Cognizant Spain -...|02-May-23|Madrid Regional H...|          8|         REG|        7| villeneuve|Circuit Gilles Vi...|            Montreal|    45.5| -73.5228| 13|http://en.wikiped...|07-01-2024|\n",
      "|   France|           HESP1|  Cognizant Spain -...|15-May-23|          San Isidro|          8|         REG|       55|      reims|         Reims-Gueux|               Reims| 49.2542|  3.93083| 88|http://en.wikiped...|24-02-2024|\n",
      "|   France|           HESP1|  Cognizant Spain -...|15-May-23|          San Isidro|          8|         REG|       54|     lemans|             Le Mans|             Le Mans|   47.95| 0.224231| 67|http://en.wikiped...|23-02-2024|\n",
      "|   France|           HESP1|  Cognizant Spain -...|15-May-23|          San Isidro|          8|         REG|       53|    essarts|   Rouen-Les-Essarts|               Rouen| 49.3306|  1.00458| 81|http://en.wikiped...|22-02-2024|\n",
      "|   France|           HESP1|  Cognizant Spain -...|15-May-23|          San Isidro|          8|         REG|       51|    charade|     Charade Circuit|    Clermont-Ferrand| 45.7472|  3.03889|790|http://en.wikiped...|20-02-2024|\n",
      "|   France|           HESP1|  Cognizant Spain -...|15-May-23|          San Isidro|          8|         REG|       41|      dijon|       Dijon-Prenois|               Dijon| 47.3625|  4.89913|484|http://en.wikiped...|10-02-2024|\n",
      "+---------+----------------+----------------------+---------+--------------------+-----------+------------+---------+-----------+--------------------+--------------------+--------+---------+---+--------------------+----------+\n",
      "only showing top 20 rows\n",
      "\n"
     ]
    }
   ],
   "source": [
    "df1.join(df2, on=\"country\", how=\"inner\").show()"
   ]
  },
  {
   "cell_type": "code",
   "execution_count": 234,
   "metadata": {},
   "outputs": [
    {
     "name": "stdout",
     "output_type": "stream",
     "text": [
      "+---------+--------------+--------------------+------------+---------+--------+---------+---+--------------------+----------+\n",
      "|circuitId|    circuitRef|                name|    location|  country|     lat|      lng|alt|                 url|      date|\n",
      "+---------+--------------+--------------------+------------+---------+--------+---------+---+--------------------+----------+\n",
      "|        1|   albert_park|Albert Park Grand...|   Melbourne|Australia|-37.8497|  144.968| 10|http://en.wikiped...|01-01-2024|\n",
      "|        2|        sepang|Sepang Internatio...|Kuala Lumpur| Malaysia| 2.76083|  101.738| 18|http://en.wikiped...|02-01-2024|\n",
      "|        3|       bahrain|Bahrain Internati...|      Sakhir|  Bahrain| 26.0325|  50.5106|  7|http://en.wikiped...|03-01-2024|\n",
      "|        4|     catalunya|Circuit de Barcel...|    Montmeló|    Spain|   41.57|  2.26111|109|http://en.wikiped...|04-01-2024|\n",
      "|        5|      istanbul|       Istanbul Park|    Istanbul|   Turkey| 40.9517|   29.405|130|http://en.wikiped...|05-01-2024|\n",
      "|        6|        monaco|   Circuit de Monaco| Monte-Carlo|   Monaco| 43.7347|  7.42056|  7|http://en.wikiped...|06-01-2024|\n",
      "|        7|    villeneuve|Circuit Gilles Vi...|    Montreal|   Canada|    45.5| -73.5228| 13|http://en.wikiped...|07-01-2024|\n",
      "|        8|   magny_cours|Circuit de Nevers...| Magny Cours|   France| 46.8642|  3.16361|228|http://en.wikiped...|08-01-2024|\n",
      "|        9|   silverstone| Silverstone Circuit| Silverstone|       UK| 52.0786| -1.01694|153|http://en.wikiped...|09-01-2024|\n",
      "|       10|hockenheimring|      Hockenheimring|  Hockenheim|  Germany| 49.3278|  8.56583|103|http://en.wikiped...|10-01-2024|\n",
      "|       11|   hungaroring|         Hungaroring|    Budapest|  Hungary| 47.5789|  19.2486|264|http://en.wikiped...|11-01-2024|\n",
      "|       12|      valencia|Valencia Street C...|    Valencia|    Spain| 39.4589|-0.331667|  4|http://en.wikiped...|12-01-2024|\n",
      "|       13|           spa|Circuit de Spa-Fr...|         Spa|  Belgium| 50.4372|  5.97139|401|http://en.wikiped...|13-01-2024|\n",
      "|       14|         monza|Autodromo Naziona...|       Monza|    Italy| 45.6156|  9.28111|162|http://en.wikiped...|14-01-2024|\n",
      "|       15|    marina_bay|Marina Bay Street...|  Marina Bay|Singapore|  1.2914|  103.864| 18|http://en.wikiped...|15-01-2024|\n",
      "|       16|          fuji|       Fuji Speedway|       Oyama|    Japan| 35.3717|  138.927|583|http://en.wikiped...|16-01-2024|\n",
      "|       17|      shanghai|Shanghai Internat...|    Shanghai|    China| 31.3389|   121.22|  5|http://en.wikiped...|17-01-2024|\n",
      "|       18|    interlagos|Autódromo José Ca...|   São Paulo|   Brazil|-23.7036| -46.6997|785|http://en.wikiped...|18-01-2024|\n",
      "|       19|  indianapolis|Indianapolis Moto...|Indianapolis|      USA|  39.795| -86.2347|223|http://en.wikiped...|19-01-2024|\n",
      "|       20|   nurburgring|         Nürburgring|     Nürburg|  Germany| 50.3356|   6.9475|578|http://en.wikiped...|20-01-2024|\n",
      "+---------+--------------+--------------------+------------+---------+--------+---------+---+--------------------+----------+\n",
      "only showing top 20 rows\n",
      "\n"
     ]
    }
   ],
   "source": [
    "df2.show()"
   ]
  },
  {
   "cell_type": "code",
   "execution_count": 241,
   "metadata": {},
   "outputs": [
    {
     "name": "stdout",
     "output_type": "stream",
     "text": [
      "+---------+--------------+--------------------+------------+---------+--------+---------+---+--------------------+----------+--------------------+\n",
      "|circuitId|    circuitRef|                name|    location|  country|     lat|      lng|alt|                 url|      date|           full_name|\n",
      "+---------+--------------+--------------------+------------+---------+--------+---------+---+--------------------+----------+--------------------+\n",
      "|        1|   albert_park|Albert Park Grand...|   Melbourne|Australia|-37.8497|  144.968| 10|http://en.wikiped...|01-01-2024|Australia Albert ...|\n",
      "|        2|        sepang|Sepang Internatio...|Kuala Lumpur| Malaysia| 2.76083|  101.738| 18|http://en.wikiped...|02-01-2024|Malaysia Sepang I...|\n",
      "|        3|       bahrain|Bahrain Internati...|      Sakhir|  Bahrain| 26.0325|  50.5106|  7|http://en.wikiped...|03-01-2024|Bahrain Bahrain I...|\n",
      "|        4|     catalunya|Circuit de Barcel...|    Montmeló|    Spain|   41.57|  2.26111|109|http://en.wikiped...|04-01-2024|Spain Circuit de ...|\n",
      "|        5|      istanbul|       Istanbul Park|    Istanbul|   Turkey| 40.9517|   29.405|130|http://en.wikiped...|05-01-2024|Turkey Istanbul Park|\n",
      "|        6|        monaco|   Circuit de Monaco| Monte-Carlo|   Monaco| 43.7347|  7.42056|  7|http://en.wikiped...|06-01-2024|Monaco Circuit de...|\n",
      "|        7|    villeneuve|Circuit Gilles Vi...|    Montreal|   Canada|    45.5| -73.5228| 13|http://en.wikiped...|07-01-2024|Canada Circuit Gi...|\n",
      "|        8|   magny_cours|Circuit de Nevers...| Magny Cours|   France| 46.8642|  3.16361|228|http://en.wikiped...|08-01-2024|France Circuit de...|\n",
      "|        9|   silverstone| Silverstone Circuit| Silverstone|       UK| 52.0786| -1.01694|153|http://en.wikiped...|09-01-2024|UK Silverstone Ci...|\n",
      "|       10|hockenheimring|      Hockenheimring|  Hockenheim|  Germany| 49.3278|  8.56583|103|http://en.wikiped...|10-01-2024|Germany Hockenhei...|\n",
      "|       11|   hungaroring|         Hungaroring|    Budapest|  Hungary| 47.5789|  19.2486|264|http://en.wikiped...|11-01-2024| Hungary Hungaroring|\n",
      "|       12|      valencia|Valencia Street C...|    Valencia|    Spain| 39.4589|-0.331667|  4|http://en.wikiped...|12-01-2024|Spain Valencia St...|\n",
      "|       13|           spa|Circuit de Spa-Fr...|         Spa|  Belgium| 50.4372|  5.97139|401|http://en.wikiped...|13-01-2024|Belgium Circuit d...|\n",
      "|       14|         monza|Autodromo Naziona...|       Monza|    Italy| 45.6156|  9.28111|162|http://en.wikiped...|14-01-2024|Italy Autodromo N...|\n",
      "|       15|    marina_bay|Marina Bay Street...|  Marina Bay|Singapore|  1.2914|  103.864| 18|http://en.wikiped...|15-01-2024|Singapore Marina ...|\n",
      "|       16|          fuji|       Fuji Speedway|       Oyama|    Japan| 35.3717|  138.927|583|http://en.wikiped...|16-01-2024| Japan Fuji Speedway|\n",
      "|       17|      shanghai|Shanghai Internat...|    Shanghai|    China| 31.3389|   121.22|  5|http://en.wikiped...|17-01-2024|China Shanghai In...|\n",
      "|       18|    interlagos|Autódromo José Ca...|   São Paulo|   Brazil|-23.7036| -46.6997|785|http://en.wikiped...|18-01-2024|Brazil Autódromo ...|\n",
      "|       19|  indianapolis|Indianapolis Moto...|Indianapolis|      USA|  39.795| -86.2347|223|http://en.wikiped...|19-01-2024|USA Indianapolis ...|\n",
      "|       20|   nurburgring|         Nürburgring|     Nürburg|  Germany| 50.3356|   6.9475|578|http://en.wikiped...|20-01-2024| Germany Nürburgring|\n",
      "+---------+--------------+--------------------+------------+---------+--------+---------+---+--------------------+----------+--------------------+\n",
      "only showing top 20 rows\n",
      "\n"
     ]
    }
   ],
   "source": [
    "df2.withColumn(\"full_name\", concat(\"country\", lit(\" \"),\"name\")).show()"
   ]
  },
  {
   "cell_type": "code",
   "execution_count": 245,
   "metadata": {},
   "outputs": [
    {
     "name": "stdout",
     "output_type": "stream",
     "text": [
      "+------------+--------+\n",
      "|     country|sum(alt)|\n",
      "+------------+--------+\n",
      "|      Russia|     2.0|\n",
      "|      Sweden|   153.0|\n",
      "|    Malaysia|    18.0|\n",
      "|   Singapore|    18.0|\n",
      "|      Turkey|   130.0|\n",
      "|     Germany|   734.0|\n",
      "|      France|  2170.0|\n",
      "|   Argentina|     8.0|\n",
      "|     Belgium|   576.0|\n",
      "|       China|     5.0|\n",
      "|       India|   194.0|\n",
      "|       Italy|   583.0|\n",
      "|       Spain|   923.0|\n",
      "|      Monaco|     7.0|\n",
      "|     Morocco|    19.0|\n",
      "|         USA|  2673.0|\n",
      "|      Mexico|  2227.0|\n",
      "|  Azerbaijan|    -7.0|\n",
      "|          UK|   406.0|\n",
      "|Saudi Arabia|    15.0|\n",
      "+------------+--------+\n",
      "only showing top 20 rows\n",
      "\n"
     ]
    }
   ],
   "source": [
    "df2.groupBy(\"country\").agg(sum(\"alt\")).show()"
   ]
  },
  {
   "cell_type": "code",
   "execution_count": 249,
   "metadata": {},
   "outputs": [
    {
     "name": "stdout",
     "output_type": "stream",
     "text": [
      "+------------+-----+\n",
      "|     country|count|\n",
      "+------------+-----+\n",
      "|      Russia|    1|\n",
      "|      Sweden|    1|\n",
      "|    Malaysia|    1|\n",
      "|   Singapore|    1|\n",
      "|      Turkey|    1|\n",
      "|     Germany|    3|\n",
      "|      France|    7|\n",
      "|   Argentina|    1|\n",
      "|     Belgium|    3|\n",
      "|       China|    1|\n",
      "|       India|    1|\n",
      "|       Italy|    4|\n",
      "|       Spain|    6|\n",
      "|      Monaco|    1|\n",
      "|     Morocco|    1|\n",
      "|         USA|   11|\n",
      "|      Mexico|    1|\n",
      "|  Azerbaijan|    1|\n",
      "|          UK|    4|\n",
      "|Saudi Arabia|    1|\n",
      "+------------+-----+\n",
      "only showing top 20 rows\n",
      "\n"
     ]
    }
   ],
   "source": [
    "df2.groupBy(\"country\").count().show()"
   ]
  },
  {
   "cell_type": "code",
   "execution_count": 254,
   "metadata": {},
   "outputs": [
    {
     "name": "stdout",
     "output_type": "stream",
     "text": [
      "+---------+------------+--------------------+----------------+---------+--------+---------+----+--------------------+----------+\n",
      "|circuitId|  circuitRef|                name|        location|  country|     lat|      lng| alt|                 url|      date|\n",
      "+---------+------------+--------------------+----------------+---------+--------+---------+----+--------------------+----------+\n",
      "|        2|      sepang|Sepang Internatio...|    Kuala Lumpur| Malaysia| 2.76083|  101.738|  18|http://en.wikiped...|02-01-2024|\n",
      "|        6|      monaco|   Circuit de Monaco|     Monte-Carlo|   Monaco| 43.7347|  7.42056|   7|http://en.wikiped...|06-01-2024|\n",
      "|        7|  villeneuve|Circuit Gilles Vi...|        Montreal|   Canada|    45.5| -73.5228|  13|http://en.wikiped...|07-01-2024|\n",
      "|       11| hungaroring|         Hungaroring|        Budapest|  Hungary| 47.5789|  19.2486| 264|http://en.wikiped...|11-01-2024|\n",
      "|       12|    valencia|Valencia Street C...|        Valencia|    Spain| 39.4589|-0.331667|   4|http://en.wikiped...|12-01-2024|\n",
      "|       19|indianapolis|Indianapolis Moto...|    Indianapolis|      USA|  39.795| -86.2347| 223|http://en.wikiped...|19-01-2024|\n",
      "|       20| nurburgring|         Nürburgring|         Nürburg|  Germany| 50.3356|   6.9475| 578|http://en.wikiped...|20-01-2024|\n",
      "|       22|      suzuka|      Suzuka Circuit|          Suzuka|    Japan| 34.8431|  136.541|  45|http://en.wikiped...|22-01-2024|\n",
      "|       28|     okayama|Okayama Internati...|         Okayama|    Japan|  34.915|  134.221| 266|http://en.wikiped...|28-01-2024|\n",
      "|       29|    adelaide|Adelaide Street C...|        Adelaide|Australia|-34.9272|  138.617|  58|http://en.wikiped...|29-01-2024|\n",
      "|       31|   donington|      Donington Park|Castle Donington|       UK| 52.8306| -1.37528|  88|http://en.wikiped...|31-01-2024|\n",
      "|       32|   rodriguez|Autódromo Hermano...|     Mexico City|   Mexico| 19.4042| -99.0907|2227|http://en.wikiped...|01-02-2024|\n",
      "|       44|   las_vegas|Las Vegas Street ...|          Nevada|      USA| 36.1162| -115.174| 639|http://en.wikiped...|13-02-2024|\n",
      "|       47|  anderstorp|Scandinavian Raceway|      Anderstorp|   Sweden| 57.2653|  13.6042| 153|http://en.wikiped...|16-02-2024|\n",
      "|       50|    nivelles|    Nivelles-Baulers|        Brussels|  Belgium| 50.6211|  4.32694| 139|http://en.wikiped...|19-02-2024|\n",
      "|       53|     essarts|   Rouen-Les-Essarts|           Rouen|   France| 49.3306|  1.00458|  81|http://en.wikiped...|22-02-2024|\n",
      "|       58|     aintree|             Aintree|       Liverpool|       UK| 53.4769| -2.94056|  20|http://en.wikiped...|27-02-2024|\n",
      "|       60|   riverside|Riverside Interna...|      California|      USA|  33.937| -117.273| 470|http://en.wikiped...|29-02-2024|\n",
      "|       65|     pescara|     Pescara Circuit|         Pescara|    Italy|  42.475|  14.1508| 129|http://en.wikiped...|05-03-2024|\n",
      "+---------+------------+--------------------+----------------+---------+--------+---------+----+--------------------+----------+\n",
      "\n"
     ]
    }
   ],
   "source": [
    "df2.sample(0.2).show()"
   ]
  },
  {
   "cell_type": "code",
   "execution_count": 264,
   "metadata": {},
   "outputs": [],
   "source": [
    "win = Window.partitionBy(\"country\").orderBy(\"circuitId\")"
   ]
  },
  {
   "cell_type": "code",
   "execution_count": 266,
   "metadata": {},
   "outputs": [
    {
     "name": "stdout",
     "output_type": "stream",
     "text": [
      "+---------+--------------+--------------------+----------------+----------+--------+--------+----+--------------------+----------+-------+\n",
      "|circuitId|    circuitRef|                name|        location|   country|     lat|     lng| alt|                 url|      date|lag_alt|\n",
      "+---------+--------------+--------------------+----------------+----------+--------+--------+----+--------------------+----------+-------+\n",
      "|       25|        galvez|Autódromo Juan y ...|    Buenos Aires| Argentina|-34.6943|-58.4593|   8|http://en.wikiped...|25-01-2024|   null|\n",
      "|        1|   albert_park|Albert Park Grand...|       Melbourne| Australia|-37.8497| 144.968|  10|http://en.wikiped...|01-01-2024|   null|\n",
      "|       29|      adelaide|Adelaide Street C...|        Adelaide| Australia|-34.9272| 138.617|  58|http://en.wikiped...|29-01-2024|     10|\n",
      "|       23|osterreichring|             A1-Ring|       Spielburg|   Austria| 47.2197| 14.7647| 678|http://en.wikiped...|23-01-2024|   null|\n",
      "|       57|       zeltweg|             Zeltweg|          Styria|   Austria| 47.2039| 14.7478| 676|http://en.wikiped...|26-02-2024|    678|\n",
      "|       70| red_bull_ring|       Red Bull Ring|       Spielburg|   Austria| 47.2197| 14.7647| 678|http://en.wikiped...|10-03-2024|    676|\n",
      "|       73|           BAK|   Baku City Circuit|            Baku|Azerbaijan| 40.3725| 49.8533|  -7|http://en.wikiped...|13-03-2024|   null|\n",
      "|        3|       bahrain|Bahrain Internati...|          Sakhir|   Bahrain| 26.0325| 50.5106|   7|http://en.wikiped...|03-01-2024|   null|\n",
      "|       13|           spa|Circuit de Spa-Fr...|             Spa|   Belgium| 50.4372| 5.97139| 401|http://en.wikiped...|13-01-2024|   null|\n",
      "|       40|        zolder|              Zolder|  Heusden-Zolder|   Belgium| 50.9894| 5.25694|  36|http://en.wikiped...|09-02-2024|    401|\n",
      "|       50|      nivelles|    Nivelles-Baulers|        Brussels|   Belgium| 50.6211| 4.32694| 139|http://en.wikiped...|19-02-2024|     36|\n",
      "|       18|    interlagos|Autódromo José Ca...|       São Paulo|    Brazil|-23.7036|-46.6997| 785|http://en.wikiped...|18-01-2024|   null|\n",
      "|       36|   jacarepagua|Autódromo Interna...|  Rio de Janeiro|    Brazil|-22.9756| -43.395|1126|http://en.wikiped...|05-02-2024|    785|\n",
      "|       48|       mosport|Mosport Internati...|         Ontario|    Canada| 44.0481|-78.6756| 332|http://en.wikiped...|17-02-2024|   null|\n",
      "|       52|     tremblant|Circuit Mont-Trem...|          Quebec|    Canada| 46.1877|-74.6099| 214|http://en.wikiped...|21-02-2024|    332|\n",
      "|        7|    villeneuve|Circuit Gilles Vi...|        Montreal|    Canada|    45.5|-73.5228|  13|http://en.wikiped...|07-01-2024|    214|\n",
      "|       17|      shanghai|Shanghai Internat...|        Shanghai|     China| 31.3389|  121.22|   5|http://en.wikiped...|17-01-2024|   null|\n",
      "|       34|        ricard| Circuit Paul Ricard|    Le Castellet|    France| 43.2506| 5.79167| 432|http://en.wikiped...|03-02-2024|   null|\n",
      "|       41|         dijon|       Dijon-Prenois|           Dijon|    France| 47.3625| 4.89913| 484|http://en.wikiped...|10-02-2024|    432|\n",
      "|       51|       charade|     Charade Circuit|Clermont-Ferrand|    France| 45.7472| 3.03889| 790|http://en.wikiped...|20-02-2024|    484|\n",
      "+---------+--------------+--------------------+----------------+----------+--------+--------+----+--------------------+----------+-------+\n",
      "only showing top 20 rows\n",
      "\n"
     ]
    }
   ],
   "source": [
    "df2.withColumn(\"lag_alt\", lag(\"alt\").over(win)).show()"
   ]
  },
  {
   "cell_type": "code",
   "execution_count": 267,
   "metadata": {},
   "outputs": [],
   "source": [
    "from pyspark.sql.functions import udf\n",
    "from pyspark.sql.types import StringType"
   ]
  },
  {
   "cell_type": "code",
   "execution_count": 274,
   "metadata": {},
   "outputs": [],
   "source": [
    "def cat_alt(alt):\n",
    "    if alt > 1000:\n",
    "        return \"High\"\n",
    "    elif alt <= 1000 & alt > 500:\n",
    "        return \"Medium\"\n",
    "    else:\n",
    "        return \"Low\""
   ]
  },
  {
   "cell_type": "code",
   "execution_count": 275,
   "metadata": {},
   "outputs": [
    {
     "data": {
      "text/plain": [
       "<function __main__.cat_alt(alt)>"
      ]
     },
     "execution_count": 275,
     "metadata": {},
     "output_type": "execute_result"
    }
   ],
   "source": [
    "udf(cat_alt, StringType())"
   ]
  },
  {
   "cell_type": "code",
   "execution_count": 277,
   "metadata": {},
   "outputs": [],
   "source": [
    "df2 = df2.withColumn(\"alt\", df2.alt.cast('int'))"
   ]
  },
  {
   "cell_type": "code",
   "execution_count": 280,
   "metadata": {},
   "outputs": [
    {
     "name": "stdout",
     "output_type": "stream",
     "text": [
      "+---------+--------------+--------------------+--------------------+------------+--------+---------+----+--------------------+----------+-------+\n",
      "|circuitId|    circuitRef|                name|            location|     country|     lat|      lng| alt|                 url|      date|cat_alt|\n",
      "+---------+--------------+--------------------+--------------------+------------+--------+---------+----+--------------------+----------+-------+\n",
      "|       73|           BAK|   Baku City Circuit|                Baku|  Azerbaijan| 40.3725|  49.8533|  -7|http://en.wikiped...|13-03-2024| Medium|\n",
      "|       35|       yeongam|Korean Internatio...|      Yeongam County|       Korea| 34.7333|  126.417|   0|http://en.wikiped...|04-02-2024|    Low|\n",
      "|       71|         sochi|      Sochi Autodrom|               Sochi|      Russia| 43.4057|  39.9578|   2|http://en.wikiped...|11-03-2024|    Low|\n",
      "|       24|    yas_marina|  Yas Marina Circuit|           Abu Dhabi|         UAE| 24.4672|  54.6031|   3|http://en.wikiped...|24-01-2024|    Low|\n",
      "|       12|      valencia|Valencia Street C...|            Valencia|       Spain| 39.4589|-0.331667|   4|http://en.wikiped...|12-01-2024|    Low|\n",
      "|       72| port_imperial|Port Imperial Str...|          New Jersey|         USA| 40.7769| -74.0111|   4|http://en.wikiped...|12-03-2024|    Low|\n",
      "|       17|      shanghai|Shanghai Internat...|            Shanghai|       China| 31.3389|   121.22|   5|http://en.wikiped...|17-01-2024|    Low|\n",
      "|       39|     zandvoort|Circuit Park Zand...|           Zandvoort| Netherlands| 52.3888|  4.54092|   6|http://en.wikiped...|08-02-2024|    Low|\n",
      "|        6|        monaco|   Circuit de Monaco|         Monte-Carlo|      Monaco| 43.7347|  7.42056|   7|http://en.wikiped...|06-01-2024|    Low|\n",
      "|        3|       bahrain|Bahrain Internati...|              Sakhir|     Bahrain| 26.0325|  50.5106|   7|http://en.wikiped...|03-01-2024|    Low|\n",
      "|       25|        galvez|Autódromo Juan y ...|        Buenos Aires|   Argentina|-34.6943| -58.4593|   8|http://en.wikiped...|25-01-2024|    Low|\n",
      "|       74|         hanoi|Hanoi Street Circuit|               Hanoi|     Vietnam| 21.0166|  105.766|   9|http://en.wikiped...|14-03-2024|    Low|\n",
      "|        1|   albert_park|Albert Park Grand...|           Melbourne|   Australia|-37.8497|  144.968|  10|http://en.wikiped...|01-01-2024|    Low|\n",
      "|       43|    long_beach|          Long Beach|          California|         USA| 33.7651| -118.189|  12|http://en.wikiped...|12-02-2024|    Low|\n",
      "|        7|    villeneuve|Circuit Gilles Vi...|            Montreal|      Canada|    45.5| -73.5228|  13|http://en.wikiped...|07-01-2024|    Low|\n",
      "|       56|        george|Prince George Cir...|Eastern Cape Prov...|South Africa|-33.0486|  27.8736|  15|http://en.wikiped...|25-02-2024|    Low|\n",
      "|       77|        jeddah|Jeddah Street Cir...|              Jeddah|Saudi Arabia| 21.5433|  39.1728|  15|http://en.wikiped...|17-03-2024|    Low|\n",
      "|       63|       sebring|Sebring Internati...|             Florida|         USA| 27.4547| -81.3483|  18|http://en.wikiped...|03-03-2024|    Low|\n",
      "|        2|        sepang|Sepang Internatio...|        Kuala Lumpur|    Malaysia| 2.76083|  101.738|  18|http://en.wikiped...|02-01-2024|    Low|\n",
      "|       15|    marina_bay|Marina Bay Street...|          Marina Bay|   Singapore|  1.2914|  103.864|  18|http://en.wikiped...|15-01-2024|    Low|\n",
      "|       64|      ain-diab|            Ain Diab|          Casablanca|     Morocco| 33.5786|  -7.6875|  19|http://en.wikiped...|04-03-2024|    Low|\n",
      "|       58|       aintree|             Aintree|           Liverpool|          UK| 53.4769| -2.94056|  20|http://en.wikiped...|27-02-2024|    Low|\n",
      "|       59|      boavista|Circuito da Boavista|              Oporto|    Portugal| 41.1705| -8.67325|  28|http://en.wikiped...|28-02-2024|    Low|\n",
      "|       40|        zolder|              Zolder|      Heusden-Zolder|     Belgium| 50.9894|  5.25694|  36|http://en.wikiped...|09-02-2024|    Low|\n",
      "|       26|         jerez|   Circuito de Jerez|Jerez de la Frontera|       Spain| 36.7083| -6.03417|  37|http://en.wikiped...|26-01-2024|    Low|\n",
      "|       21|         imola|Autodromo Enzo e ...|               Imola|       Italy| 44.3439|  11.7167|  37|http://en.wikiped...|21-01-2024|    Low|\n",
      "|       22|        suzuka|      Suzuka Circuit|              Suzuka|       Japan| 34.8431|  136.541|  45|http://en.wikiped...|22-01-2024|    Low|\n",
      "|       61|          avus|                AVUS|              Berlin|     Germany| 52.4806|  13.2514|  53|http://en.wikiped...|01-03-2024|    Low|\n",
      "|       29|      adelaide|Adelaide Street C...|            Adelaide|   Australia|-34.9272|  138.617|  58|http://en.wikiped...|29-01-2024|    Low|\n",
      "|       54|        lemans|             Le Mans|             Le Mans|      France|   47.95| 0.224231|  67|http://en.wikiped...|23-02-2024|    Low|\n",
      "|       49|      montjuic|            Montjuïc|           Barcelona|       Spain| 41.3664|  2.15167|  79|http://en.wikiped...|18-02-2024|    Low|\n",
      "|       53|       essarts|   Rouen-Les-Essarts|               Rouen|      France| 49.3306|  1.00458|  81|http://en.wikiped...|22-02-2024|    Low|\n",
      "|       67|     pedralbes|Circuit de Pedralbes|           Barcelona|       Spain| 41.3903|  2.11667|  85|http://en.wikiped...|07-03-2024|    Low|\n",
      "|       55|         reims|         Reims-Gueux|               Reims|      France| 49.2542|  3.93083|  88|http://en.wikiped...|24-02-2024|    Low|\n",
      "|       31|     donington|      Donington Park|    Castle Donington|          UK| 52.8306| -1.37528|  88|http://en.wikiped...|31-01-2024|    Low|\n",
      "|       10|hockenheimring|      Hockenheimring|          Hockenheim|     Germany| 49.3278|  8.56583| 103|http://en.wikiped...|10-01-2024|    Low|\n",
      "|       75|      portimao|Autódromo Interna...|            Portimão|    Portugal|  37.227|  -8.6267| 108|http://en.wikiped...|15-03-2024|    Low|\n",
      "|        4|     catalunya|Circuit de Barcel...|            Montmeló|       Spain|   41.57|  2.26111| 109|http://en.wikiped...|04-01-2024|    Low|\n",
      "|       65|       pescara|     Pescara Circuit|             Pescara|       Italy|  42.475|  14.1508| 129|http://en.wikiped...|05-03-2024|    Low|\n",
      "|       27|       estoril|Autódromo do Estoril|             Estoril|    Portugal| 38.7506| -9.39417| 130|http://en.wikiped...|27-01-2024|    Low|\n",
      "|        5|      istanbul|       Istanbul Park|            Istanbul|      Turkey| 40.9517|   29.405| 130|http://en.wikiped...|05-01-2024|    Low|\n",
      "|       42|        dallas|           Fair Park|              Dallas|         USA| 32.7774| -96.7587| 139|http://en.wikiped...|11-02-2024|    Low|\n",
      "|       50|      nivelles|    Nivelles-Baulers|            Brussels|     Belgium| 50.6211|  4.32694| 139|http://en.wikiped...|19-02-2024|    Low|\n",
      "|       38|  brands_hatch|        Brands Hatch|                Kent|          UK| 51.3569| 0.263056| 145|http://en.wikiped...|07-02-2024|    Low|\n",
      "|       47|    anderstorp|Scandinavian Raceway|          Anderstorp|      Sweden| 57.2653|  13.6042| 153|http://en.wikiped...|16-02-2024|    Low|\n",
      "|        9|   silverstone| Silverstone Circuit|         Silverstone|          UK| 52.0786| -1.01694| 153|http://en.wikiped...|09-01-2024|    Low|\n",
      "|       62|      monsanto|Monsanto Park Cir...|              Lisbon|    Portugal| 38.7197| -9.20306| 158|http://en.wikiped...|02-03-2024|    Low|\n",
      "|       69|      americas|Circuit of the Am...|              Austin|         USA| 30.1328| -97.6411| 161|http://en.wikiped...|09-03-2024|    Low|\n",
      "|       14|         monza|Autodromo Naziona...|               Monza|       Italy| 45.6156|  9.28111| 162|http://en.wikiped...|14-01-2024|    Low|\n",
      "|       37|       detroit|Detroit Street Ci...|             Detroit|         USA| 42.3298| -83.0401| 177|http://en.wikiped...|06-02-2024|    Low|\n",
      "|       68|         buddh|Buddh Internation...|       Uttar Pradesh|       India| 28.3487|  77.5331| 194|http://en.wikiped...|08-03-2024|    Low|\n",
      "|       52|     tremblant|Circuit Mont-Trem...|              Quebec|      Canada| 46.1877| -74.6099| 214|http://en.wikiped...|21-02-2024|    Low|\n",
      "|       19|  indianapolis|Indianapolis Moto...|        Indianapolis|         USA|  39.795| -86.2347| 223|http://en.wikiped...|19-01-2024|    Low|\n",
      "|        8|   magny_cours|Circuit de Nevers...|         Magny Cours|      France| 46.8642|  3.16361| 228|http://en.wikiped...|08-01-2024|    Low|\n",
      "|       76|       mugello|Autodromo Interna...|             Mugello|       Italy| 43.9975|  11.3719| 255|http://en.wikiped...|16-03-2024|    Low|\n",
      "|       11|   hungaroring|         Hungaroring|            Budapest|     Hungary| 47.5789|  19.2486| 264|http://en.wikiped...|11-01-2024|    Low|\n",
      "|       28|       okayama|Okayama Internati...|             Okayama|       Japan|  34.915|  134.221| 266|http://en.wikiped...|28-01-2024|    Low|\n",
      "|       48|       mosport|Mosport Internati...|             Ontario|      Canada| 44.0481| -78.6756| 332|http://en.wikiped...|17-02-2024|    Low|\n",
      "|       33|       phoenix|Phoenix street ci...|             Phoenix|         USA| 33.4479| -112.075| 345|http://en.wikiped...|02-02-2024|    Low|\n",
      "|       13|           spa|Circuit de Spa-Fr...|                 Spa|     Belgium| 50.4372|  5.97139| 401|http://en.wikiped...|13-01-2024|    Low|\n",
      "|       34|        ricard| Circuit Paul Ricard|        Le Castellet|      France| 43.2506|  5.79167| 432|http://en.wikiped...|03-02-2024|    Low|\n",
      "|       60|     riverside|Riverside Interna...|          California|         USA|  33.937| -117.273| 470|http://en.wikiped...|29-02-2024|    Low|\n",
      "|       41|         dijon|       Dijon-Prenois|               Dijon|      France| 47.3625|  4.89913| 484|http://en.wikiped...|10-02-2024|    Low|\n",
      "|       46|  watkins_glen|        Watkins Glen|      New York State|         USA| 42.3369| -76.9272| 485|http://en.wikiped...|15-02-2024|    Low|\n",
      "|       66|    bremgarten|  Circuit Bremgarten|                Bern| Switzerland| 46.9589|  7.40194| 551|http://en.wikiped...|06-03-2024|    Low|\n",
      "|       20|   nurburgring|         Nürburgring|             Nürburg|     Germany| 50.3356|   6.9475| 578|http://en.wikiped...|20-01-2024|    Low|\n",
      "|       16|          fuji|       Fuji Speedway|               Oyama|       Japan| 35.3717|  138.927| 583|http://en.wikiped...|16-01-2024|    Low|\n",
      "|       45|        jarama|              Jarama|              Madrid|       Spain| 40.6171| -3.58558| 609|http://en.wikiped...|14-02-2024|    Low|\n",
      "|       44|     las_vegas|Las Vegas Street ...|              Nevada|         USA| 36.1162| -115.174| 639|http://en.wikiped...|13-02-2024|    Low|\n",
      "|       57|       zeltweg|             Zeltweg|              Styria|     Austria| 47.2039|  14.7478| 676|http://en.wikiped...|26-02-2024|    Low|\n",
      "|       70| red_bull_ring|       Red Bull Ring|           Spielburg|     Austria| 47.2197|  14.7647| 678|http://en.wikiped...|10-03-2024|    Low|\n",
      "|       23|osterreichring|             A1-Ring|           Spielburg|     Austria| 47.2197|  14.7647| 678|http://en.wikiped...|23-01-2024|    Low|\n",
      "|       18|    interlagos|Autódromo José Ca...|           São Paulo|      Brazil|-23.7036| -46.6997| 785|http://en.wikiped...|18-01-2024|    Low|\n",
      "|       51|       charade|     Charade Circuit|    Clermont-Ferrand|      France| 45.7472|  3.03889| 790|http://en.wikiped...|20-02-2024|    Low|\n",
      "|       36|   jacarepagua|Autódromo Interna...|      Rio de Janeiro|      Brazil|-22.9756|  -43.395|1126|http://en.wikiped...|05-02-2024|   High|\n",
      "|       30|       kyalami|             Kyalami|             Midrand|South Africa|-25.9894|  28.0767|1460|http://en.wikiped...|30-01-2024|   High|\n",
      "|       32|     rodriguez|Autódromo Hermano...|         Mexico City|      Mexico| 19.4042| -99.0907|2227|http://en.wikiped...|01-02-2024|   High|\n",
      "+---------+--------------+--------------------+--------------------+------------+--------+---------+----+--------------------+----------+-------+\n",
      "\n"
     ]
    }
   ],
   "source": [
    "df2.withColumn(\"cat_alt\", (udf(cat_alt, StringType()))(\"alt\")).orderBy(\"alt\").show(500)"
   ]
  },
  {
   "cell_type": "code",
   "execution_count": 286,
   "metadata": {},
   "outputs": [
    {
     "name": "stdout",
     "output_type": "stream",
     "text": [
      "+---------+-----------+--------------------+---------+---------+--------+-------+---+--------------------+----------+\n",
      "|circuitId| circuitRef|                name| location|  country|     lat|    lng|alt|                 url|      date|\n",
      "+---------+-----------+--------------------+---------+---------+--------+-------+---+--------------------+----------+\n",
      "|        1|albert_park|Albert Park Grand...|Melbourne|Australia|-37.8497|144.968| 10|http://en.wikiped...|01-01-2024|\n",
      "|       29|   adelaide|Adelaide Street C...| Adelaide|Australia|-34.9272|138.617| 58|http://en.wikiped...|29-01-2024|\n",
      "+---------+-----------+--------------------+---------+---------+--------+-------+---+--------------------+----------+\n",
      "\n"
     ]
    }
   ],
   "source": [
    "df2.filter((col(\"country\") == \"Australia\") & (col(\"alt\") >= 10)).show()"
   ]
  },
  {
   "cell_type": "code",
   "execution_count": 296,
   "metadata": {},
   "outputs": [
    {
     "data": {
      "text/plain": [
       "2227"
      ]
     },
     "execution_count": 296,
     "metadata": {},
     "output_type": "execute_result"
    }
   ],
   "source": [
    "df2.agg(max(col(\"alt\"))).collect()[0][0]"
   ]
  },
  {
   "cell_type": "code",
   "execution_count": 298,
   "metadata": {},
   "outputs": [
    {
     "name": "stdout",
     "output_type": "stream",
     "text": [
      "+---------+------------+--------------------+--------------+---------+--------+---------+---+--------------------+----------+\n",
      "|circuitId|  circuitRef|                name|      location|  country|     lat|      lng|alt|                 url|      date|\n",
      "+---------+------------+--------------------+--------------+---------+--------+---------+---+--------------------+----------+\n",
      "|        1| albert_park|Albert Park Grand...|     Melbourne|Australia|-37.8497|  144.968| 10|http://en.wikiped...|01-01-2024|\n",
      "|        4|   catalunya|Circuit de Barcel...|      Montmeló|    Spain|   41.57|  2.26111|109|http://en.wikiped...|04-01-2024|\n",
      "|        7|  villeneuve|Circuit Gilles Vi...|      Montreal|   Canada|    45.5| -73.5228| 13|http://en.wikiped...|07-01-2024|\n",
      "|        8| magny_cours|Circuit de Nevers...|   Magny Cours|   France| 46.8642|  3.16361|228|http://en.wikiped...|08-01-2024|\n",
      "|        9| silverstone| Silverstone Circuit|   Silverstone|       UK| 52.0786| -1.01694|153|http://en.wikiped...|09-01-2024|\n",
      "|       12|    valencia|Valencia Street C...|      Valencia|    Spain| 39.4589|-0.331667|  4|http://en.wikiped...|12-01-2024|\n",
      "|       15|  marina_bay|Marina Bay Street...|    Marina Bay|Singapore|  1.2914|  103.864| 18|http://en.wikiped...|15-01-2024|\n",
      "|       19|indianapolis|Indianapolis Moto...|  Indianapolis|      USA|  39.795| -86.2347|223|http://en.wikiped...|19-01-2024|\n",
      "|       24|  yas_marina|  Yas Marina Circuit|     Abu Dhabi|      UAE| 24.4672|  54.6031|  3|http://en.wikiped...|24-01-2024|\n",
      "|       29|    adelaide|Adelaide Street C...|      Adelaide|Australia|-34.9272|  138.617| 58|http://en.wikiped...|29-01-2024|\n",
      "|       35|     yeongam|Korean Internatio...|Yeongam County|    Korea| 34.7333|  126.417|  0|http://en.wikiped...|04-02-2024|\n",
      "|       45|      jarama|              Jarama|        Madrid|    Spain| 40.6171| -3.58558|609|http://en.wikiped...|14-02-2024|\n",
      "|       49|    montjuic|            Montjuïc|     Barcelona|    Spain| 41.3664|  2.15167| 79|http://en.wikiped...|18-02-2024|\n",
      "|       50|    nivelles|    Nivelles-Baulers|      Brussels|  Belgium| 50.6211|  4.32694|139|http://en.wikiped...|19-02-2024|\n",
      "|       58|     aintree|             Aintree|     Liverpool|       UK| 53.4769| -2.94056| 20|http://en.wikiped...|27-02-2024|\n",
      "|       67|   pedralbes|Circuit de Pedralbes|     Barcelona|    Spain| 41.3903|  2.11667| 85|http://en.wikiped...|07-03-2024|\n",
      "|       68|       buddh|Buddh Internation...| Uttar Pradesh|    India| 28.3487|  77.5331|194|http://en.wikiped...|08-03-2024|\n",
      "|       74|       hanoi|Hanoi Street Circuit|         Hanoi|  Vietnam| 21.0166|  105.766|  9|http://en.wikiped...|14-03-2024|\n",
      "+---------+------------+--------------------+--------------+---------+--------+---------+---+--------------------+----------+\n",
      "\n"
     ]
    }
   ],
   "source": [
    "df2.sample(0.2).show()"
   ]
  },
  {
   "cell_type": "code",
   "execution_count": 305,
   "metadata": {},
   "outputs": [
    {
     "name": "stdout",
     "output_type": "stream",
     "text": [
      "+---------+----------+----+--------+-------+---+---+---+---+----+\n",
      "|circuitId|circuitRef|name|location|country|lat|lng|alt|url|date|\n",
      "+---------+----------+----+--------+-------+---+---+---+---+----+\n",
      "+---------+----------+----+--------+-------+---+---+---+---+----+\n",
      "\n"
     ]
    }
   ],
   "source": [
    "df2.sampleBy(\"country\", fractions={\"alt\" : 1, \"lat\": 1, \"lng\": 1}).show()"
   ]
  },
  {
   "cell_type": "code",
   "execution_count": 307,
   "metadata": {},
   "outputs": [
    {
     "name": "stdout",
     "output_type": "stream",
     "text": [
      "+---------+--------------+--------------------+------------+---------+--------+---------+---+--------------------+----------+\n",
      "|circuitId|    circuitRef|                name|    location|  country|     lat|      lng|alt|                 url|      date|\n",
      "+---------+--------------+--------------------+------------+---------+--------+---------+---+--------------------+----------+\n",
      "|        1|   albert_park|Albert Park Grand...|   Melbourne|Australia|-37.8497|  144.968| 10|http://en.wikiped...|01-01-2024|\n",
      "|        2|        sepang|Sepang Internatio...|Kuala Lumpur| Malaysia| 2.76083|  101.738| 18|http://en.wikiped...|02-01-2024|\n",
      "|        3|       bahrain|Bahrain Internati...|      Sakhir|  Bahrain| 26.0325|  50.5106|  7|http://en.wikiped...|03-01-2024|\n",
      "|        4|     catalunya|Circuit de Barcel...|    Montmeló|    Spain|   41.57|  2.26111|109|http://en.wikiped...|04-01-2024|\n",
      "|        5|      istanbul|       Istanbul Park|    Istanbul|   Turkey| 40.9517|   29.405|130|http://en.wikiped...|05-01-2024|\n",
      "|        6|        monaco|   Circuit de Monaco| Monte-Carlo|   Monaco| 43.7347|  7.42056|  7|http://en.wikiped...|06-01-2024|\n",
      "|        7|    villeneuve|Circuit Gilles Vi...|    Montreal|   Canada|    45.5| -73.5228| 13|http://en.wikiped...|07-01-2024|\n",
      "|        8|   magny_cours|Circuit de Nevers...| Magny Cours|   France| 46.8642|  3.16361|228|http://en.wikiped...|08-01-2024|\n",
      "|        9|   silverstone| Silverstone Circuit| Silverstone|       UK| 52.0786| -1.01694|153|http://en.wikiped...|09-01-2024|\n",
      "|       10|hockenheimring|      Hockenheimring|  Hockenheim|  Germany| 49.3278|  8.56583|103|http://en.wikiped...|10-01-2024|\n",
      "|       11|   hungaroring|         Hungaroring|    Budapest|  Hungary| 47.5789|  19.2486|264|http://en.wikiped...|11-01-2024|\n",
      "|       12|      valencia|Valencia Street C...|    Valencia|    Spain| 39.4589|-0.331667|  4|http://en.wikiped...|12-01-2024|\n",
      "|       13|           spa|Circuit de Spa-Fr...|         Spa|  Belgium| 50.4372|  5.97139|401|http://en.wikiped...|13-01-2024|\n",
      "|       14|         monza|Autodromo Naziona...|       Monza|    Italy| 45.6156|  9.28111|162|http://en.wikiped...|14-01-2024|\n",
      "|       15|    marina_bay|Marina Bay Street...|  Marina Bay|Singapore|  1.2914|  103.864| 18|http://en.wikiped...|15-01-2024|\n",
      "|       16|          fuji|       Fuji Speedway|       Oyama|    Japan| 35.3717|  138.927|583|http://en.wikiped...|16-01-2024|\n",
      "|       17|      shanghai|Shanghai Internat...|    Shanghai|    China| 31.3389|   121.22|  5|http://en.wikiped...|17-01-2024|\n",
      "|       18|    interlagos|Autódromo José Ca...|   São Paulo|   Brazil|-23.7036| -46.6997|785|http://en.wikiped...|18-01-2024|\n",
      "|       19|  indianapolis|Indianapolis Moto...|Indianapolis|      USA|  39.795| -86.2347|223|http://en.wikiped...|19-01-2024|\n",
      "|       20|   nurburgring|         Nürburgring|     Nürburg|  Germany| 50.3356|   6.9475|578|http://en.wikiped...|20-01-2024|\n",
      "+---------+--------------+--------------------+------------+---------+--------+---------+---+--------------------+----------+\n",
      "only showing top 20 rows\n",
      "\n"
     ]
    }
   ],
   "source": [
    "df2.show()"
   ]
  },
  {
   "cell_type": "code",
   "execution_count": 308,
   "metadata": {},
   "outputs": [],
   "source": [
    "tup = (\"Arun\", 6, 5.5, \"Name\")"
   ]
  },
  {
   "cell_type": "code",
   "execution_count": 309,
   "metadata": {},
   "outputs": [],
   "source": [
    "lis = [\"Arun\", 6, 5.5, \"Name\"]"
   ]
  },
  {
   "cell_type": "code",
   "execution_count": 312,
   "metadata": {},
   "outputs": [
    {
     "ename": "TypeError",
     "evalue": "'tuple' object does not support item assignment",
     "output_type": "error",
     "traceback": [
      "\u001b[1;31m---------------------------------------------------------------------------\u001b[0m",
      "\u001b[1;31mTypeError\u001b[0m                                 Traceback (most recent call last)",
      "\u001b[1;32m<ipython-input-312-1730319120b9>\u001b[0m in \u001b[0;36m<module>\u001b[1;34m\u001b[0m\n\u001b[1;32m----> 1\u001b[1;33m \u001b[0mtup\u001b[0m\u001b[1;33m[\u001b[0m\u001b[1;36m0\u001b[0m\u001b[1;33m]\u001b[0m \u001b[1;33m=\u001b[0m \u001b[1;34m\"Arun Vignesh\"\u001b[0m\u001b[1;33m\u001b[0m\u001b[1;33m\u001b[0m\u001b[0m\n\u001b[0m",
      "\u001b[1;31mTypeError\u001b[0m: 'tuple' object does not support item assignment"
     ]
    }
   ],
   "source": [
    "tup[0] = \"Arun Vignesh\""
   ]
  },
  {
   "cell_type": "code",
   "execution_count": 313,
   "metadata": {},
   "outputs": [],
   "source": [
    "lis[0] = \"Arun Vignesh\""
   ]
  },
  {
   "cell_type": "code",
   "execution_count": 314,
   "metadata": {},
   "outputs": [
    {
     "data": {
      "text/plain": [
       "['Arun Vignesh', 6, 5.5, 'Name']"
      ]
     },
     "execution_count": 314,
     "metadata": {},
     "output_type": "execute_result"
    }
   ],
   "source": [
    "lis"
   ]
  },
  {
   "cell_type": "code",
   "execution_count": 315,
   "metadata": {},
   "outputs": [
    {
     "data": {
      "text/plain": [
       "str"
      ]
     },
     "execution_count": 315,
     "metadata": {},
     "output_type": "execute_result"
    }
   ],
   "source": [
    "type(\"Arun Vignesh\")"
   ]
  },
  {
   "cell_type": "code",
   "execution_count": 316,
   "metadata": {},
   "outputs": [
    {
     "data": {
      "text/plain": [
       "int"
      ]
     },
     "execution_count": 316,
     "metadata": {},
     "output_type": "execute_result"
    }
   ],
   "source": [
    "type(1)"
   ]
  },
  {
   "cell_type": "code",
   "execution_count": 317,
   "metadata": {},
   "outputs": [
    {
     "data": {
      "text/plain": [
       "float"
      ]
     },
     "execution_count": 317,
     "metadata": {},
     "output_type": "execute_result"
    }
   ],
   "source": [
    "type(1.1)"
   ]
  },
  {
   "cell_type": "code",
   "execution_count": 318,
   "metadata": {},
   "outputs": [
    {
     "data": {
      "text/plain": [
       "str"
      ]
     },
     "execution_count": 318,
     "metadata": {},
     "output_type": "execute_result"
    }
   ],
   "source": [
    "type(\"1\")"
   ]
  },
  {
   "cell_type": "code",
   "execution_count": 322,
   "metadata": {},
   "outputs": [
    {
     "data": {
      "text/plain": [
       "False"
      ]
     },
     "execution_count": 322,
     "metadata": {},
     "output_type": "execute_result"
    }
   ],
   "source": [
    "isinstance(\"Arun Vignesh\", float)"
   ]
  },
  {
   "cell_type": "code",
   "execution_count": 325,
   "metadata": {},
   "outputs": [
    {
     "data": {
      "text/plain": [
       "tuple"
      ]
     },
     "execution_count": 325,
     "metadata": {},
     "output_type": "execute_result"
    }
   ],
   "source": [
    "type(tup)"
   ]
  },
  {
   "cell_type": "code",
   "execution_count": 326,
   "metadata": {},
   "outputs": [
    {
     "data": {
      "text/plain": [
       "range(1, 10)"
      ]
     },
     "execution_count": 326,
     "metadata": {},
     "output_type": "execute_result"
    }
   ],
   "source": [
    "range(1,10)"
   ]
  },
  {
   "cell_type": "code",
   "execution_count": 327,
   "metadata": {},
   "outputs": [
    {
     "data": {
      "text/plain": [
       "range"
      ]
     },
     "execution_count": 327,
     "metadata": {},
     "output_type": "execute_result"
    }
   ],
   "source": [
    "type(range(1,10))"
   ]
  },
  {
   "cell_type": "code",
   "execution_count": 328,
   "metadata": {},
   "outputs": [],
   "source": [
    "a = {\"a\":\"Arun Vignesh\"} "
   ]
  },
  {
   "cell_type": "code",
   "execution_count": 329,
   "metadata": {},
   "outputs": [
    {
     "data": {
      "text/plain": [
       "dict"
      ]
     },
     "execution_count": 329,
     "metadata": {},
     "output_type": "execute_result"
    }
   ],
   "source": [
    "type(a)"
   ]
  },
  {
   "cell_type": "code",
   "execution_count": 332,
   "metadata": {},
   "outputs": [
    {
     "data": {
      "text/plain": [
       "set"
      ]
     },
     "execution_count": 332,
     "metadata": {},
     "output_type": "execute_result"
    }
   ],
   "source": [
    "type(set((1,2,3,4)))"
   ]
  },
  {
   "cell_type": "code",
   "execution_count": 334,
   "metadata": {},
   "outputs": [],
   "source": [
    "a[\"a\"] = \"Arun\""
   ]
  },
  {
   "cell_type": "code",
   "execution_count": 336,
   "metadata": {},
   "outputs": [
    {
     "data": {
      "text/plain": [
       "dict"
      ]
     },
     "execution_count": 336,
     "metadata": {},
     "output_type": "execute_result"
    }
   ],
   "source": [
    "type(a)"
   ]
  },
  {
   "cell_type": "code",
   "execution_count": 337,
   "metadata": {},
   "outputs": [
    {
     "data": {
      "text/plain": [
       "frozenset"
      ]
     },
     "execution_count": 337,
     "metadata": {},
     "output_type": "execute_result"
    }
   ],
   "source": [
    "type(frozenset((1,2,3,4)))"
   ]
  },
  {
   "cell_type": "code",
   "execution_count": 345,
   "metadata": {},
   "outputs": [],
   "source": [
    "b = frozenset(((1,2,3,4)))"
   ]
  },
  {
   "cell_type": "code",
   "execution_count": 350,
   "metadata": {},
   "outputs": [
    {
     "data": {
      "text/plain": [
       "frozenset({1, 2, 3, 4})"
      ]
     },
     "execution_count": 350,
     "metadata": {},
     "output_type": "execute_result"
    }
   ],
   "source": [
    "b"
   ]
  },
  {
   "cell_type": "code",
   "execution_count": 352,
   "metadata": {},
   "outputs": [],
   "source": [
    "def a():\n",
    "    pass"
   ]
  },
  {
   "cell_type": "code",
   "execution_count": 354,
   "metadata": {},
   "outputs": [
    {
     "data": {
      "text/plain": [
       "NoneType"
      ]
     },
     "execution_count": 354,
     "metadata": {},
     "output_type": "execute_result"
    }
   ],
   "source": [
    "type(a())"
   ]
  },
  {
   "cell_type": "code",
   "execution_count": 358,
   "metadata": {},
   "outputs": [
    {
     "name": "stdout",
     "output_type": "stream",
     "text": [
      "1\n",
      "3\n",
      "2\n",
      "1\n",
      "2\n",
      "3\n",
      "1\n",
      "0\n",
      "1\n",
      "3\n"
     ]
    }
   ],
   "source": [
    "pat = [1, 3, 2, 1, 2, 3, 1, 0, 1, 3]\n",
    "for p in pat:\n",
    "    if p%2==0:\n",
    "        pass\n",
    "    print(p)"
   ]
  },
  {
   "cell_type": "code",
   "execution_count": 361,
   "metadata": {},
   "outputs": [
    {
     "data": {
      "text/plain": [
       "'A '"
      ]
     },
     "execution_count": 361,
     "metadata": {},
     "output_type": "execute_result"
    }
   ],
   "source": [
    "a = \"Arun Vignesh\"\n",
    "a[0:7:4]"
   ]
  },
  {
   "cell_type": "code",
   "execution_count": 362,
   "metadata": {},
   "outputs": [],
   "source": [
    "import array"
   ]
  },
  {
   "cell_type": "code",
   "execution_count": 365,
   "metadata": {},
   "outputs": [],
   "source": [
    "a = array.array('i',[1,2,3])"
   ]
  },
  {
   "cell_type": "code",
   "execution_count": 367,
   "metadata": {},
   "outputs": [
    {
     "name": "stdout",
     "output_type": "stream",
     "text": [
      "123"
     ]
    }
   ],
   "source": [
    "for i in a:\n",
    "    print(i, end='')"
   ]
  },
  {
   "cell_type": "code",
   "execution_count": 378,
   "metadata": {},
   "outputs": [
    {
     "ename": "TypeError",
     "evalue": "an integer is required (got type str)",
     "output_type": "error",
     "traceback": [
      "\u001b[1;31m---------------------------------------------------------------------------\u001b[0m",
      "\u001b[1;31mTypeError\u001b[0m                                 Traceback (most recent call last)",
      "\u001b[1;32m<ipython-input-378-276c42d76f17>\u001b[0m in \u001b[0;36m<module>\u001b[1;34m\u001b[0m\n\u001b[1;32m----> 1\u001b[1;33m \u001b[0mb\u001b[0m \u001b[1;33m=\u001b[0m \u001b[0marray\u001b[0m\u001b[1;33m.\u001b[0m\u001b[0marray\u001b[0m\u001b[1;33m(\u001b[0m\u001b[1;34m'i'\u001b[0m\u001b[1;33m,\u001b[0m\u001b[1;33m[\u001b[0m\u001b[1;34m'Arun Vignesh'\u001b[0m\u001b[1;33m]\u001b[0m\u001b[1;33m)\u001b[0m\u001b[1;33m\u001b[0m\u001b[1;33m\u001b[0m\u001b[0m\n\u001b[0m",
      "\u001b[1;31mTypeError\u001b[0m: an integer is required (got type str)"
     ]
    }
   ],
   "source": [
    "b = array.array('i',['Arun Vignesh'])"
   ]
  },
  {
   "cell_type": "code",
   "execution_count": 371,
   "metadata": {},
   "outputs": [],
   "source": [
    "a = [1,2,'string']"
   ]
  },
  {
   "cell_type": "code",
   "execution_count": 373,
   "metadata": {},
   "outputs": [
    {
     "name": "stdout",
     "output_type": "stream",
     "text": [
      "12string"
     ]
    }
   ],
   "source": [
    "for i in a:\n",
    "    print(i, end='')"
   ]
  },
  {
   "cell_type": "code",
   "execution_count": 380,
   "metadata": {},
   "outputs": [
    {
     "name": "stdout",
     "output_type": "stream",
     "text": [
      "10\n",
      "20\n",
      "10\n"
     ]
    }
   ],
   "source": [
    "temp = 10\n",
    "def func():\n",
    "    temp = 20\n",
    "    print(temp)\n",
    "print(temp)\n",
    "func()\n",
    "print(temp)"
   ]
  },
  {
   "cell_type": "code",
   "execution_count": 382,
   "metadata": {},
   "outputs": [
    {
     "name": "stdout",
     "output_type": "stream",
     "text": [
      "10\n",
      "20\n",
      "20\n"
     ]
    }
   ],
   "source": [
    "temp = 10\n",
    "def func():\n",
    "    global temp\n",
    "    temp = 20\n",
    "    print(temp)\n",
    "print(temp)\n",
    "func()\n",
    "print(temp)"
   ]
  },
  {
   "cell_type": "code",
   "execution_count": 391,
   "metadata": {},
   "outputs": [],
   "source": [
    "def lower_dec(function):\n",
    "    def new():\n",
    "        func = function()\n",
    "        low = func.lower()\n",
    "        return low\n",
    "    return new"
   ]
  },
  {
   "cell_type": "code",
   "execution_count": 392,
   "metadata": {},
   "outputs": [
    {
     "data": {
      "text/plain": [
       "<function __main__.lower_dec.<locals>.new()>"
      ]
     },
     "execution_count": 392,
     "metadata": {},
     "output_type": "execute_result"
    }
   ],
   "source": [
    "lower_dec(\"HELLO WORLD!\")"
   ]
  },
  {
   "cell_type": "code",
   "execution_count": 393,
   "metadata": {},
   "outputs": [],
   "source": [
    "def split_dec(function):\n",
    "    def new():\n",
    "        func = function()\n",
    "        split = func.split()\n",
    "        return split\n",
    "    return new"
   ]
  },
  {
   "cell_type": "code",
   "execution_count": 394,
   "metadata": {},
   "outputs": [
    {
     "data": {
      "text/plain": [
       "<function __main__.split_dec.<locals>.new()>"
      ]
     },
     "execution_count": 394,
     "metadata": {},
     "output_type": "execute_result"
    }
   ],
   "source": [
    "split_dec(\"HELLO WORLD!\")"
   ]
  },
  {
   "cell_type": "code",
   "execution_count": 395,
   "metadata": {},
   "outputs": [],
   "source": [
    "@split_dec\n",
    "@lower_dec\n",
    "def hello():\n",
    "    return \"HELLO WORLD!\""
   ]
  },
  {
   "cell_type": "code",
   "execution_count": 396,
   "metadata": {},
   "outputs": [
    {
     "data": {
      "text/plain": [
       "['hello', 'world!']"
      ]
     },
     "execution_count": 396,
     "metadata": {},
     "output_type": "execute_result"
    }
   ],
   "source": [
    "hello()"
   ]
  },
  {
   "cell_type": "code",
   "execution_count": 400,
   "metadata": {},
   "outputs": [
    {
     "data": {
      "text/plain": [
       "20"
      ]
     },
     "execution_count": 400,
     "metadata": {},
     "output_type": "execute_result"
    }
   ],
   "source": [
    "lam = lambda a:a*2\n",
    "lam(10)"
   ]
  },
  {
   "cell_type": "code",
   "execution_count": 406,
   "metadata": {},
   "outputs": [],
   "source": [
    "def new(a):\n",
    "    return (lambda a:a*2)"
   ]
  },
  {
   "cell_type": "code",
   "execution_count": 413,
   "metadata": {},
   "outputs": [
    {
     "data": {
      "text/plain": [
       "28"
      ]
     },
     "execution_count": 413,
     "metadata": {},
     "output_type": "execute_result"
    }
   ],
   "source": [
    "test = new(a)\n",
    "test(14)"
   ]
  },
  {
   "cell_type": "code",
   "execution_count": 426,
   "metadata": {},
   "outputs": [],
   "source": [
    "from copy import copy, deepcopy\n",
    "list_a = [1,2,[3,5],4]"
   ]
  },
  {
   "cell_type": "code",
   "execution_count": 427,
   "metadata": {},
   "outputs": [],
   "source": [
    "list_b = copy(list_a)"
   ]
  },
  {
   "cell_type": "code",
   "execution_count": 428,
   "metadata": {},
   "outputs": [
    {
     "data": {
      "text/plain": [
       "[1, 2, [3, 5], 4]"
      ]
     },
     "execution_count": 428,
     "metadata": {},
     "output_type": "execute_result"
    }
   ],
   "source": [
    "list_b"
   ]
  },
  {
   "cell_type": "code",
   "execution_count": 429,
   "metadata": {},
   "outputs": [],
   "source": [
    "list_b[3] = 7"
   ]
  },
  {
   "cell_type": "code",
   "execution_count": 430,
   "metadata": {},
   "outputs": [
    {
     "data": {
      "text/plain": [
       "[1, 2, [3, 5], 7]"
      ]
     },
     "execution_count": 430,
     "metadata": {},
     "output_type": "execute_result"
    }
   ],
   "source": [
    "list_b"
   ]
  },
  {
   "cell_type": "code",
   "execution_count": 431,
   "metadata": {},
   "outputs": [
    {
     "data": {
      "text/plain": [
       "[1, 2, [3, 5], 4]"
      ]
     },
     "execution_count": 431,
     "metadata": {},
     "output_type": "execute_result"
    }
   ],
   "source": [
    "list_a"
   ]
  },
  {
   "cell_type": "code",
   "execution_count": 432,
   "metadata": {},
   "outputs": [],
   "source": [
    "list_c = [1,2,[3,5],4]\n",
    "list_d = deepcopy(list_a)"
   ]
  },
  {
   "cell_type": "code",
   "execution_count": 433,
   "metadata": {},
   "outputs": [
    {
     "data": {
      "text/plain": [
       "[1, 2, [3, 5], 4]"
      ]
     },
     "execution_count": 433,
     "metadata": {},
     "output_type": "execute_result"
    }
   ],
   "source": [
    "list_d"
   ]
  },
  {
   "cell_type": "code",
   "execution_count": 434,
   "metadata": {},
   "outputs": [],
   "source": [
    "list_d[3] = 7"
   ]
  },
  {
   "cell_type": "code",
   "execution_count": 435,
   "metadata": {},
   "outputs": [
    {
     "data": {
      "text/plain": [
       "[1, 2, [3, 5], 7]"
      ]
     },
     "execution_count": 435,
     "metadata": {},
     "output_type": "execute_result"
    }
   ],
   "source": [
    "list_d"
   ]
  },
  {
   "cell_type": "code",
   "execution_count": 436,
   "metadata": {},
   "outputs": [
    {
     "data": {
      "text/plain": [
       "[1, 2, [3, 5], 4]"
      ]
     },
     "execution_count": 436,
     "metadata": {},
     "output_type": "execute_result"
    }
   ],
   "source": [
    "list_c"
   ]
  },
  {
   "cell_type": "code",
   "execution_count": 437,
   "metadata": {},
   "outputs": [],
   "source": [
    "list_b[2].append(6)"
   ]
  },
  {
   "cell_type": "code",
   "execution_count": 445,
   "metadata": {},
   "outputs": [],
   "source": [
    "list_b[2].append(10)"
   ]
  },
  {
   "cell_type": "code",
   "execution_count": 446,
   "metadata": {},
   "outputs": [
    {
     "data": {
      "text/plain": [
       "[1, 2, [3, 5, 6, 10], 7, 10]"
      ]
     },
     "execution_count": 446,
     "metadata": {},
     "output_type": "execute_result"
    }
   ],
   "source": [
    "list_b"
   ]
  },
  {
   "cell_type": "code",
   "execution_count": 447,
   "metadata": {},
   "outputs": [
    {
     "data": {
      "text/plain": [
       "[1, 2, [3, 5, 6, 10], 4]"
      ]
     },
     "execution_count": 447,
     "metadata": {},
     "output_type": "execute_result"
    }
   ],
   "source": [
    "list_a"
   ]
  },
  {
   "cell_type": "code",
   "execution_count": 451,
   "metadata": {},
   "outputs": [],
   "source": [
    "list_d[3] = 8\n",
    "list_d[2].append(7)"
   ]
  },
  {
   "cell_type": "code",
   "execution_count": 452,
   "metadata": {},
   "outputs": [
    {
     "data": {
      "text/plain": [
       "[1, 2, [3, 5, 7], 8]"
      ]
     },
     "execution_count": 452,
     "metadata": {},
     "output_type": "execute_result"
    }
   ],
   "source": [
    "list_d"
   ]
  },
  {
   "cell_type": "code",
   "execution_count": 453,
   "metadata": {},
   "outputs": [
    {
     "data": {
      "text/plain": [
       "[1, 2, [3, 5], 4]"
      ]
     },
     "execution_count": 453,
     "metadata": {},
     "output_type": "execute_result"
    }
   ],
   "source": [
    "list_c"
   ]
  },
  {
   "cell_type": "code",
   "execution_count": 454,
   "metadata": {},
   "outputs": [
    {
     "name": "stdout",
     "output_type": "stream",
     "text": [
      "1\n",
      "2\n",
      "3\n",
      "4\n",
      "5\n",
      "6\n",
      "7\n",
      "8\n",
      "9\n"
     ]
    }
   ],
   "source": [
    "for i in range(1,10):\n",
    "    print(i)"
   ]
  },
  {
   "cell_type": "code",
   "execution_count": 457,
   "metadata": {},
   "outputs": [],
   "source": [
    "def fib(n):\n",
    "    p,q = 0,1\n",
    "    while(p<n):\n",
    "        yield p\n",
    "        p,q = q, p+q"
   ]
  },
  {
   "cell_type": "code",
   "execution_count": 458,
   "metadata": {},
   "outputs": [],
   "source": [
    "x = fib(10)"
   ]
  },
  {
   "cell_type": "code",
   "execution_count": 467,
   "metadata": {},
   "outputs": [
    {
     "ename": "StopIteration",
     "evalue": "",
     "output_type": "error",
     "traceback": [
      "\u001b[1;31m---------------------------------------------------------------------------\u001b[0m",
      "\u001b[1;31mStopIteration\u001b[0m                             Traceback (most recent call last)",
      "\u001b[1;32m<ipython-input-467-e717e1c1f535>\u001b[0m in \u001b[0;36m<module>\u001b[1;34m\u001b[0m\n\u001b[1;32m----> 1\u001b[1;33m \u001b[0mx\u001b[0m\u001b[1;33m.\u001b[0m\u001b[0m__next__\u001b[0m\u001b[1;33m(\u001b[0m\u001b[1;33m)\u001b[0m\u001b[1;33m\u001b[0m\u001b[1;33m\u001b[0m\u001b[0m\n\u001b[0m",
      "\u001b[1;31mStopIteration\u001b[0m: "
     ]
    }
   ],
   "source": [
    "x.__next__()"
   ]
  },
  {
   "cell_type": "code",
   "execution_count": 474,
   "metadata": {},
   "outputs": [],
   "source": [
    "from pyspark.context import SparkContext\n",
    "from pyspark.serializers import MarshalSerializer"
   ]
  },
  {
   "cell_type": "code",
   "execution_count": 477,
   "metadata": {},
   "outputs": [
    {
     "ename": "AttributeError",
     "evalue": "'str' object has no attribute '_jsc'",
     "output_type": "error",
     "traceback": [
      "\u001b[1;31m---------------------------------------------------------------------------\u001b[0m",
      "\u001b[1;31mAttributeError\u001b[0m                            Traceback (most recent call last)",
      "\u001b[1;32m<ipython-input-477-edf039665131>\u001b[0m in \u001b[0;36m<module>\u001b[1;34m\u001b[0m\n\u001b[1;32m----> 1\u001b[1;33m \u001b[0msc\u001b[0m \u001b[1;33m=\u001b[0m \u001b[0mSparkSession\u001b[0m\u001b[1;33m(\u001b[0m\u001b[1;34m\"local\"\u001b[0m\u001b[1;33m,\u001b[0m \u001b[1;34m\"Marshal Serializer\"\u001b[0m\u001b[1;33m)\u001b[0m\u001b[1;33m\u001b[0m\u001b[1;33m\u001b[0m\u001b[0m\n\u001b[0m",
      "\u001b[1;32mC:\\ProgramData\\Anaconda3\\lib\\site-packages\\pyspark\\sql\\session.py\u001b[0m in \u001b[0;36m__init__\u001b[1;34m(self, sparkContext, jsparkSession)\u001b[0m\n\u001b[0;32m    243\u001b[0m         \u001b[1;32mfrom\u001b[0m \u001b[0mpyspark\u001b[0m\u001b[1;33m.\u001b[0m\u001b[0msql\u001b[0m\u001b[1;33m.\u001b[0m\u001b[0mcontext\u001b[0m \u001b[1;32mimport\u001b[0m \u001b[0mSQLContext\u001b[0m\u001b[1;33m\u001b[0m\u001b[1;33m\u001b[0m\u001b[0m\n\u001b[0;32m    244\u001b[0m         \u001b[0mself\u001b[0m\u001b[1;33m.\u001b[0m\u001b[0m_sc\u001b[0m \u001b[1;33m=\u001b[0m \u001b[0msparkContext\u001b[0m\u001b[1;33m\u001b[0m\u001b[1;33m\u001b[0m\u001b[0m\n\u001b[1;32m--> 245\u001b[1;33m         \u001b[0mself\u001b[0m\u001b[1;33m.\u001b[0m\u001b[0m_jsc\u001b[0m \u001b[1;33m=\u001b[0m \u001b[0mself\u001b[0m\u001b[1;33m.\u001b[0m\u001b[0m_sc\u001b[0m\u001b[1;33m.\u001b[0m\u001b[0m_jsc\u001b[0m\u001b[1;33m\u001b[0m\u001b[1;33m\u001b[0m\u001b[0m\n\u001b[0m\u001b[0;32m    246\u001b[0m         \u001b[0mself\u001b[0m\u001b[1;33m.\u001b[0m\u001b[0m_jvm\u001b[0m \u001b[1;33m=\u001b[0m \u001b[0mself\u001b[0m\u001b[1;33m.\u001b[0m\u001b[0m_sc\u001b[0m\u001b[1;33m.\u001b[0m\u001b[0m_jvm\u001b[0m\u001b[1;33m\u001b[0m\u001b[1;33m\u001b[0m\u001b[0m\n\u001b[0;32m    247\u001b[0m         \u001b[1;32mif\u001b[0m \u001b[0mjsparkSession\u001b[0m \u001b[1;32mis\u001b[0m \u001b[1;32mNone\u001b[0m\u001b[1;33m:\u001b[0m\u001b[1;33m\u001b[0m\u001b[1;33m\u001b[0m\u001b[0m\n",
      "\u001b[1;31mAttributeError\u001b[0m: 'str' object has no attribute '_jsc'"
     ]
    }
   ],
   "source": [
    "sc = SparkSession(\"local\", \"Marshal Serializer\")"
   ]
  },
  {
   "cell_type": "code",
   "execution_count": 479,
   "metadata": {},
   "outputs": [],
   "source": [
    "spark.stop()"
   ]
  },
  {
   "cell_type": "code",
   "execution_count": 480,
   "metadata": {},
   "outputs": [],
   "source": [
    "sc = SparkContext(\"local\", \"Marshal Serializer\", serializer=MarshalSerializer())"
   ]
  },
  {
   "cell_type": "code",
   "execution_count": 494,
   "metadata": {},
   "outputs": [
    {
     "data": {
      "text/plain": [
       "[0, 3, 6, 9, 12, 15, 18, 21, 24, 27]"
      ]
     },
     "execution_count": 494,
     "metadata": {},
     "output_type": "execute_result"
    }
   ],
   "source": [
    "sc.parallelize(list(range(1000))).map(lambda x:3*x).take(10)"
   ]
  },
  {
   "cell_type": "code",
   "execution_count": 484,
   "metadata": {},
   "outputs": [
    {
     "data": {
      "text/plain": [
       "<function __main__.<lambda>(x)>"
      ]
     },
     "execution_count": 484,
     "metadata": {},
     "output_type": "execute_result"
    }
   ],
   "source": [
    "lambda x:3*x"
   ]
  },
  {
   "cell_type": "code",
   "execution_count": 498,
   "metadata": {},
   "outputs": [],
   "source": [
    "words_list = sc.parallelize([\"pyspark\",\"interview\",\"questions\",\"at\",\"interviewbit\"])"
   ]
  },
  {
   "cell_type": "code",
   "execution_count": 501,
   "metadata": {},
   "outputs": [],
   "source": [
    "new = words_list.filter(lambda x: 'interview' in x).collect()"
   ]
  },
  {
   "cell_type": "code",
   "execution_count": 503,
   "metadata": {},
   "outputs": [
    {
     "data": {
      "text/plain": [
       "5"
      ]
     },
     "execution_count": 503,
     "metadata": {},
     "output_type": "execute_result"
    }
   ],
   "source": [
    "words_list.count()"
   ]
  },
  {
   "cell_type": "code",
   "execution_count": 507,
   "metadata": {},
   "outputs": [],
   "source": [
    "def test():\n",
    "    for i in range(0,100):\n",
    "        try:\n",
    "            if (i % 5):\n",
    "                print(\"Its modulo 5\")\n",
    "                return i\n",
    "            else:\n",
    "                print(\"Its not\")\n",
    "        except:\n",
    "            print(\"Its except\")"
   ]
  },
  {
   "cell_type": "code",
   "execution_count": 508,
   "metadata": {},
   "outputs": [
    {
     "name": "stdout",
     "output_type": "stream",
     "text": [
      "Its not\n",
      "Its modulo 5\n"
     ]
    },
    {
     "data": {
      "text/plain": [
       "1"
      ]
     },
     "execution_count": 508,
     "metadata": {},
     "output_type": "execute_result"
    }
   ],
   "source": [
    "test()"
   ]
  },
  {
   "cell_type": "code",
   "execution_count": 512,
   "metadata": {},
   "outputs": [
    {
     "data": {
      "text/plain": [
       "{'a': 1}"
      ]
     },
     "execution_count": 512,
     "metadata": {},
     "output_type": "execute_result"
    }
   ],
   "source": [
    "import json\n",
    "json.loads(b'{\"a\":1}')"
   ]
  },
  {
   "cell_type": "code",
   "execution_count": 516,
   "metadata": {},
   "outputs": [
    {
     "ename": "JSONDecodeError",
     "evalue": "Expecting value: line 1 column 2 (char 1)",
     "output_type": "error",
     "traceback": [
      "\u001b[1;31m---------------------------------------------------------------------------\u001b[0m",
      "\u001b[1;31mJSONDecodeError\u001b[0m                           Traceback (most recent call last)",
      "\u001b[1;32m<ipython-input-516-9cab06416cb9>\u001b[0m in \u001b[0;36m<module>\u001b[1;34m\u001b[0m\n\u001b[0;32m      1\u001b[0m \u001b[0ms\u001b[0m\u001b[1;33m=\u001b[0m\u001b[1;34m\" \"\u001b[0m\u001b[1;33m\u001b[0m\u001b[1;33m\u001b[0m\u001b[0m\n\u001b[1;32m----> 2\u001b[1;33m \u001b[0mjson\u001b[0m\u001b[1;33m.\u001b[0m\u001b[0mloads\u001b[0m\u001b[1;33m(\u001b[0m\u001b[0ms\u001b[0m\u001b[1;33m)\u001b[0m\u001b[1;33m\u001b[0m\u001b[1;33m\u001b[0m\u001b[0m\n\u001b[0m",
      "\u001b[1;32mC:\\ProgramData\\Anaconda3\\lib\\json\\__init__.py\u001b[0m in \u001b[0;36mloads\u001b[1;34m(s, cls, object_hook, parse_float, parse_int, parse_constant, object_pairs_hook, **kw)\u001b[0m\n\u001b[0;32m    355\u001b[0m             \u001b[0mparse_int\u001b[0m \u001b[1;32mis\u001b[0m \u001b[1;32mNone\u001b[0m \u001b[1;32mand\u001b[0m \u001b[0mparse_float\u001b[0m \u001b[1;32mis\u001b[0m \u001b[1;32mNone\u001b[0m \u001b[1;32mand\u001b[0m\u001b[1;33m\u001b[0m\u001b[1;33m\u001b[0m\u001b[0m\n\u001b[0;32m    356\u001b[0m             parse_constant is None and object_pairs_hook is None and not kw):\n\u001b[1;32m--> 357\u001b[1;33m         \u001b[1;32mreturn\u001b[0m \u001b[0m_default_decoder\u001b[0m\u001b[1;33m.\u001b[0m\u001b[0mdecode\u001b[0m\u001b[1;33m(\u001b[0m\u001b[0ms\u001b[0m\u001b[1;33m)\u001b[0m\u001b[1;33m\u001b[0m\u001b[1;33m\u001b[0m\u001b[0m\n\u001b[0m\u001b[0;32m    358\u001b[0m     \u001b[1;32mif\u001b[0m \u001b[0mcls\u001b[0m \u001b[1;32mis\u001b[0m \u001b[1;32mNone\u001b[0m\u001b[1;33m:\u001b[0m\u001b[1;33m\u001b[0m\u001b[1;33m\u001b[0m\u001b[0m\n\u001b[0;32m    359\u001b[0m         \u001b[0mcls\u001b[0m \u001b[1;33m=\u001b[0m \u001b[0mJSONDecoder\u001b[0m\u001b[1;33m\u001b[0m\u001b[1;33m\u001b[0m\u001b[0m\n",
      "\u001b[1;32mC:\\ProgramData\\Anaconda3\\lib\\json\\decoder.py\u001b[0m in \u001b[0;36mdecode\u001b[1;34m(self, s, _w)\u001b[0m\n\u001b[0;32m    335\u001b[0m \u001b[1;33m\u001b[0m\u001b[0m\n\u001b[0;32m    336\u001b[0m         \"\"\"\n\u001b[1;32m--> 337\u001b[1;33m         \u001b[0mobj\u001b[0m\u001b[1;33m,\u001b[0m \u001b[0mend\u001b[0m \u001b[1;33m=\u001b[0m \u001b[0mself\u001b[0m\u001b[1;33m.\u001b[0m\u001b[0mraw_decode\u001b[0m\u001b[1;33m(\u001b[0m\u001b[0ms\u001b[0m\u001b[1;33m,\u001b[0m \u001b[0midx\u001b[0m\u001b[1;33m=\u001b[0m\u001b[0m_w\u001b[0m\u001b[1;33m(\u001b[0m\u001b[0ms\u001b[0m\u001b[1;33m,\u001b[0m \u001b[1;36m0\u001b[0m\u001b[1;33m)\u001b[0m\u001b[1;33m.\u001b[0m\u001b[0mend\u001b[0m\u001b[1;33m(\u001b[0m\u001b[1;33m)\u001b[0m\u001b[1;33m)\u001b[0m\u001b[1;33m\u001b[0m\u001b[1;33m\u001b[0m\u001b[0m\n\u001b[0m\u001b[0;32m    338\u001b[0m         \u001b[0mend\u001b[0m \u001b[1;33m=\u001b[0m \u001b[0m_w\u001b[0m\u001b[1;33m(\u001b[0m\u001b[0ms\u001b[0m\u001b[1;33m,\u001b[0m \u001b[0mend\u001b[0m\u001b[1;33m)\u001b[0m\u001b[1;33m.\u001b[0m\u001b[0mend\u001b[0m\u001b[1;33m(\u001b[0m\u001b[1;33m)\u001b[0m\u001b[1;33m\u001b[0m\u001b[1;33m\u001b[0m\u001b[0m\n\u001b[0;32m    339\u001b[0m         \u001b[1;32mif\u001b[0m \u001b[0mend\u001b[0m \u001b[1;33m!=\u001b[0m \u001b[0mlen\u001b[0m\u001b[1;33m(\u001b[0m\u001b[0ms\u001b[0m\u001b[1;33m)\u001b[0m\u001b[1;33m:\u001b[0m\u001b[1;33m\u001b[0m\u001b[1;33m\u001b[0m\u001b[0m\n",
      "\u001b[1;32mC:\\ProgramData\\Anaconda3\\lib\\json\\decoder.py\u001b[0m in \u001b[0;36mraw_decode\u001b[1;34m(self, s, idx)\u001b[0m\n\u001b[0;32m    353\u001b[0m             \u001b[0mobj\u001b[0m\u001b[1;33m,\u001b[0m \u001b[0mend\u001b[0m \u001b[1;33m=\u001b[0m \u001b[0mself\u001b[0m\u001b[1;33m.\u001b[0m\u001b[0mscan_once\u001b[0m\u001b[1;33m(\u001b[0m\u001b[0ms\u001b[0m\u001b[1;33m,\u001b[0m \u001b[0midx\u001b[0m\u001b[1;33m)\u001b[0m\u001b[1;33m\u001b[0m\u001b[1;33m\u001b[0m\u001b[0m\n\u001b[0;32m    354\u001b[0m         \u001b[1;32mexcept\u001b[0m \u001b[0mStopIteration\u001b[0m \u001b[1;32mas\u001b[0m \u001b[0merr\u001b[0m\u001b[1;33m:\u001b[0m\u001b[1;33m\u001b[0m\u001b[1;33m\u001b[0m\u001b[0m\n\u001b[1;32m--> 355\u001b[1;33m             \u001b[1;32mraise\u001b[0m \u001b[0mJSONDecodeError\u001b[0m\u001b[1;33m(\u001b[0m\u001b[1;34m\"Expecting value\"\u001b[0m\u001b[1;33m,\u001b[0m \u001b[0ms\u001b[0m\u001b[1;33m,\u001b[0m \u001b[0merr\u001b[0m\u001b[1;33m.\u001b[0m\u001b[0mvalue\u001b[0m\u001b[1;33m)\u001b[0m \u001b[1;32mfrom\u001b[0m \u001b[1;32mNone\u001b[0m\u001b[1;33m\u001b[0m\u001b[1;33m\u001b[0m\u001b[0m\n\u001b[0m\u001b[0;32m    356\u001b[0m         \u001b[1;32mreturn\u001b[0m \u001b[0mobj\u001b[0m\u001b[1;33m,\u001b[0m \u001b[0mend\u001b[0m\u001b[1;33m\u001b[0m\u001b[1;33m\u001b[0m\u001b[0m\n",
      "\u001b[1;31mJSONDecodeError\u001b[0m: Expecting value: line 1 column 2 (char 1)"
     ]
    }
   ],
   "source": [
    "s=\" \"\n",
    "json.loads(s)"
   ]
  },
  {
   "cell_type": "code",
   "execution_count": 10,
   "metadata": {},
   "outputs": [],
   "source": [
    "a = (1,2,3,4,[11,12,13, (1,2,3)],6,7)"
   ]
  },
  {
   "cell_type": "code",
   "execution_count": 11,
   "metadata": {},
   "outputs": [
    {
     "data": {
      "text/plain": [
       "(1, 2, 3, 4, [11, 12, 13, (1, 2, 3)], 6, 7)"
      ]
     },
     "execution_count": 11,
     "metadata": {},
     "output_type": "execute_result"
    }
   ],
   "source": [
    "a"
   ]
  },
  {
   "cell_type": "code",
   "execution_count": 12,
   "metadata": {},
   "outputs": [
    {
     "data": {
      "text/plain": [
       "[11, 12, 13, (1, 2, 3)]"
      ]
     },
     "execution_count": 12,
     "metadata": {},
     "output_type": "execute_result"
    }
   ],
   "source": [
    "a[4]"
   ]
  },
  {
   "cell_type": "code",
   "execution_count": 16,
   "metadata": {},
   "outputs": [
    {
     "ename": "TypeError",
     "evalue": "'tuple' object does not support item assignment",
     "output_type": "error",
     "traceback": [
      "\u001b[1;31m---------------------------------------------------------------------------\u001b[0m",
      "\u001b[1;31mTypeError\u001b[0m                                 Traceback (most recent call last)",
      "\u001b[1;32m<ipython-input-16-d435329e05bd>\u001b[0m in \u001b[0;36m<module>\u001b[1;34m\u001b[0m\n\u001b[1;32m----> 1\u001b[1;33m \u001b[0ma\u001b[0m\u001b[1;33m[\u001b[0m\u001b[1;36m4\u001b[0m\u001b[1;33m]\u001b[0m\u001b[1;33m[\u001b[0m\u001b[1;36m3\u001b[0m\u001b[1;33m]\u001b[0m\u001b[1;33m[\u001b[0m\u001b[1;36m0\u001b[0m\u001b[1;33m]\u001b[0m \u001b[1;33m=\u001b[0m \u001b[1;36m2\u001b[0m\u001b[1;33m\u001b[0m\u001b[1;33m\u001b[0m\u001b[0m\n\u001b[0m",
      "\u001b[1;31mTypeError\u001b[0m: 'tuple' object does not support item assignment"
     ]
    }
   ],
   "source": [
    "a[4][3][0] = 2"
   ]
  },
  {
   "cell_type": "code",
   "execution_count": 6,
   "metadata": {},
   "outputs": [
    {
     "data": {
      "text/plain": [
       "(1, 2, 3, 4, [14, 12, 13], 6, 7)"
      ]
     },
     "execution_count": 6,
     "metadata": {},
     "output_type": "execute_result"
    }
   ],
   "source": [
    "a"
   ]
  },
  {
   "cell_type": "code",
   "execution_count": 7,
   "metadata": {},
   "outputs": [],
   "source": [
    "a = (1,2,3,4,6,7)"
   ]
  },
  {
   "cell_type": "code",
   "execution_count": 9,
   "metadata": {},
   "outputs": [
    {
     "ename": "TypeError",
     "evalue": "'tuple' object does not support item assignment",
     "output_type": "error",
     "traceback": [
      "\u001b[1;31m---------------------------------------------------------------------------\u001b[0m",
      "\u001b[1;31mTypeError\u001b[0m                                 Traceback (most recent call last)",
      "\u001b[1;32m<ipython-input-9-33872b7931e7>\u001b[0m in \u001b[0;36m<module>\u001b[1;34m\u001b[0m\n\u001b[1;32m----> 1\u001b[1;33m \u001b[0ma\u001b[0m\u001b[1;33m[\u001b[0m\u001b[1;36m0\u001b[0m\u001b[1;33m]\u001b[0m \u001b[1;33m=\u001b[0m \u001b[1;36m5\u001b[0m\u001b[1;33m\u001b[0m\u001b[1;33m\u001b[0m\u001b[0m\n\u001b[0m",
      "\u001b[1;31mTypeError\u001b[0m: 'tuple' object does not support item assignment"
     ]
    }
   ],
   "source": [
    "a[0] = 5"
   ]
  },
  {
   "cell_type": "code",
   "execution_count": null,
   "metadata": {},
   "outputs": [],
   "source": []
  }
 ],
 "metadata": {
  "kernelspec": {
   "display_name": "Python 3",
   "language": "python",
   "name": "python3"
  },
  "language_info": {
   "codemirror_mode": {
    "name": "ipython",
    "version": 3
   },
   "file_extension": ".py",
   "mimetype": "text/x-python",
   "name": "python",
   "nbconvert_exporter": "python",
   "pygments_lexer": "ipython3",
   "version": "3.8.3"
  }
 },
 "nbformat": 4,
 "nbformat_minor": 4
}
